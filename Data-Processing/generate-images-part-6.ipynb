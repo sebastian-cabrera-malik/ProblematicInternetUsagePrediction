{
 "cells": [
  {
   "cell_type": "markdown",
   "id": "20131978",
   "metadata": {
    "papermill": {
     "duration": 0.007516,
     "end_time": "2024-11-24T13:39:03.865549",
     "exception": false,
     "start_time": "2024-11-24T13:39:03.858033",
     "status": "completed"
    },
    "tags": []
   },
   "source": [
    "# Libraries"
   ]
  },
  {
   "cell_type": "code",
   "execution_count": 1,
   "id": "e0dfec5a",
   "metadata": {
    "_cell_guid": "b1076dfc-b9ad-4769-8c92-a6c4dae69d19",
    "_uuid": "8f2839f25d086af736a60e9eeb907d3b93b6e0e5",
    "execution": {
     "iopub.execute_input": "2024-11-24T13:39:03.879401Z",
     "iopub.status.busy": "2024-11-24T13:39:03.879014Z",
     "iopub.status.idle": "2024-11-24T13:39:07.406901Z",
     "shell.execute_reply": "2024-11-24T13:39:07.406017Z"
    },
    "papermill": {
     "duration": 3.537424,
     "end_time": "2024-11-24T13:39:07.409171",
     "exception": false,
     "start_time": "2024-11-24T13:39:03.871747",
     "status": "completed"
    },
    "tags": []
   },
   "outputs": [],
   "source": [
    "import gc\n",
    "import pandas as pd\n",
    "import numpy as np\n",
    "import datetime as dt\n",
    "\n",
    "import matplotlib.pyplot as plt\n",
    "import matplotlib.cm as cm\n",
    "import seaborn as sns\n",
    "\n",
    "import plotly.graph_objects as go\n",
    "from plotly.subplots import make_subplots\n",
    "import plotly.express as px\n",
    "import plotly.offline\n",
    "\n",
    "from colorama import Fore, Style, init\n",
    "from pprint import pprint\n",
    "\n",
    "# 🚫 Suppressing warnings 🚫\n",
    "import warnings\n",
    "warnings.filterwarnings('ignore')"
   ]
  },
  {
   "cell_type": "code",
   "execution_count": 2,
   "id": "825f5802",
   "metadata": {
    "execution": {
     "iopub.execute_input": "2024-11-24T13:39:07.423462Z",
     "iopub.status.busy": "2024-11-24T13:39:07.422802Z",
     "iopub.status.idle": "2024-11-24T13:39:09.796931Z",
     "shell.execute_reply": "2024-11-24T13:39:09.795327Z"
    },
    "papermill": {
     "duration": 2.383952,
     "end_time": "2024-11-24T13:39:09.799398",
     "exception": false,
     "start_time": "2024-11-24T13:39:07.415446",
     "status": "completed"
    },
    "tags": []
   },
   "outputs": [],
   "source": [
    "import numpy as np\n",
    "import pandas as pd\n",
    "import lightgbm as lgb\n",
    "import optuna\n",
    "from sklearn.metrics import cohen_kappa_score, make_scorer, confusion_matrix\n",
    "from sklearn.model_selection import StratifiedKFold, cross_val_score\n",
    "from sklearn.pipeline import Pipeline\n",
    "from sklearn.impute import SimpleImputer\n",
    "from sklearn.preprocessing import StandardScaler, OneHotEncoder\n",
    "from sklearn.compose import ColumnTransformer\n",
    "from sklearn.linear_model import LogisticRegression\n",
    "from sklearn.tree import DecisionTreeClassifier\n",
    "from sklearn.ensemble import RandomForestClassifier\n",
    "from sklearn.neural_network import MLPClassifier\n",
    "from imblearn.over_sampling import SMOTE\n",
    "import seaborn as sns\n",
    "import matplotlib.pyplot as plt\n",
    "from scipy.optimize import minimize\n",
    "import xgboost as xgb\n",
    "from sklearn.model_selection import train_test_split"
   ]
  },
  {
   "cell_type": "code",
   "execution_count": 3,
   "id": "1019733c",
   "metadata": {
    "execution": {
     "iopub.execute_input": "2024-11-24T13:39:09.816078Z",
     "iopub.status.busy": "2024-11-24T13:39:09.815305Z",
     "iopub.status.idle": "2024-11-24T13:39:10.167511Z",
     "shell.execute_reply": "2024-11-24T13:39:10.166647Z"
    },
    "papermill": {
     "duration": 0.362652,
     "end_time": "2024-11-24T13:39:10.170162",
     "exception": false,
     "start_time": "2024-11-24T13:39:09.807510",
     "status": "completed"
    },
    "tags": []
   },
   "outputs": [],
   "source": [
    "import os\n",
    "from tqdm.auto import tqdm \n",
    "from concurrent.futures import ThreadPoolExecutor\n",
    "from joblib import Parallel, delayed\n",
    "from time import sleep, time\n",
    "from multiprocessing import cpu_count\n",
    "import polars as pl\n",
    "from sklearn.preprocessing import MinMaxScaler\n",
    "import concurrent.futures\n",
    "\n",
    "from datetime import datetime, timezone, timedelta"
   ]
  },
  {
   "cell_type": "markdown",
   "id": "662e15b3",
   "metadata": {
    "papermill": {
     "duration": 0.005731,
     "end_time": "2024-11-24T13:39:10.183203",
     "exception": false,
     "start_time": "2024-11-24T13:39:10.177472",
     "status": "completed"
    },
    "tags": []
   },
   "source": [
    "# Load the data"
   ]
  },
  {
   "cell_type": "code",
   "execution_count": 4,
   "id": "f9ada5e6",
   "metadata": {
    "execution": {
     "iopub.execute_input": "2024-11-24T13:39:10.196883Z",
     "iopub.status.busy": "2024-11-24T13:39:10.196479Z",
     "iopub.status.idle": "2024-11-24T13:39:10.215853Z",
     "shell.execute_reply": "2024-11-24T13:39:10.214646Z"
    },
    "papermill": {
     "duration": 0.028952,
     "end_time": "2024-11-24T13:39:10.218225",
     "exception": false,
     "start_time": "2024-11-24T13:39:10.189273",
     "status": "completed"
    },
    "tags": []
   },
   "outputs": [
    {
     "data": {
      "text/plain": [
       "20"
      ]
     },
     "execution_count": 4,
     "metadata": {},
     "output_type": "execute_result"
    }
   ],
   "source": [
    "df_test = pd.read_csv('/kaggle/input/child-mind-institute-problematic-internet-use/test.csv')\n",
    "len(df_test)"
   ]
  },
  {
   "cell_type": "code",
   "execution_count": 5,
   "id": "65f80533",
   "metadata": {
    "execution": {
     "iopub.execute_input": "2024-11-24T13:39:10.233673Z",
     "iopub.status.busy": "2024-11-24T13:39:10.232763Z",
     "iopub.status.idle": "2024-11-24T13:39:10.240519Z",
     "shell.execute_reply": "2024-11-24T13:39:10.239332Z"
    },
    "papermill": {
     "duration": 0.017663,
     "end_time": "2024-11-24T13:39:10.242497",
     "exception": false,
     "start_time": "2024-11-24T13:39:10.224834",
     "status": "completed"
    },
    "tags": []
   },
   "outputs": [],
   "source": [
    "def process_file(filename, dirname):\n",
    "    df = pd.read_parquet(os.path.join(dirname, filename, 'part-0.parquet'))\n",
    "    df.drop('step', axis=1, inplace=True)\n",
    "    return df.describe().values.reshape(-1), filename.split('=')[1]\n",
    "\n",
    "def load_time_series(dirname) -> pd.DataFrame:\n",
    "    ids = os.listdir(dirname)\n",
    "    \n",
    "    with ThreadPoolExecutor() as executor:\n",
    "        results = list(tqdm(executor.map(lambda fname: process_file(fname, dirname), ids), total=len(ids)))\n",
    "    \n",
    "    stats, indexes = zip(*results)\n",
    "    \n",
    "    df = pd.DataFrame(stats, columns=[f\"stat_{i}\" for i in range(len(stats[0]))])\n",
    "    df['id'] = indexes\n",
    "    return df"
   ]
  },
  {
   "cell_type": "code",
   "execution_count": 6,
   "id": "6ab814a2",
   "metadata": {
    "execution": {
     "iopub.execute_input": "2024-11-24T13:39:10.257150Z",
     "iopub.status.busy": "2024-11-24T13:39:10.256368Z",
     "iopub.status.idle": "2024-11-24T13:39:10.602571Z",
     "shell.execute_reply": "2024-11-24T13:39:10.601619Z"
    },
    "papermill": {
     "duration": 0.355803,
     "end_time": "2024-11-24T13:39:10.604676",
     "exception": false,
     "start_time": "2024-11-24T13:39:10.248873",
     "status": "completed"
    },
    "tags": []
   },
   "outputs": [
    {
     "data": {
      "application/vnd.jupyter.widget-view+json": {
       "model_id": "4cb026dc469d401cad67c4bd49f7c078",
       "version_major": 2,
       "version_minor": 0
      },
      "text/plain": [
       "  0%|          | 0/2 [00:00<?, ?it/s]"
      ]
     },
     "metadata": {},
     "output_type": "display_data"
    },
    {
     "data": {
      "text/plain": [
       "2"
      ]
     },
     "execution_count": 6,
     "metadata": {},
     "output_type": "execute_result"
    }
   ],
   "source": [
    "test_ts = load_time_series(\"/kaggle/input/child-mind-institute-problematic-internet-use/series_test.parquet\")\n",
    "len(test_ts)"
   ]
  },
  {
   "cell_type": "code",
   "execution_count": 7,
   "id": "7d848612",
   "metadata": {
    "execution": {
     "iopub.execute_input": "2024-11-24T13:39:10.619685Z",
     "iopub.status.busy": "2024-11-24T13:39:10.619247Z",
     "iopub.status.idle": "2024-11-24T13:39:10.630496Z",
     "shell.execute_reply": "2024-11-24T13:39:10.629400Z"
    },
    "papermill": {
     "duration": 0.02118,
     "end_time": "2024-11-24T13:39:10.632531",
     "exception": false,
     "start_time": "2024-11-24T13:39:10.611351",
     "status": "completed"
    },
    "tags": []
   },
   "outputs": [
    {
     "data": {
      "text/plain": [
       "array(['00115b9f', '001f3379'], dtype=object)"
      ]
     },
     "execution_count": 7,
     "metadata": {},
     "output_type": "execute_result"
    }
   ],
   "source": [
    "test_ts['id'].unique()"
   ]
  },
  {
   "cell_type": "code",
   "execution_count": 8,
   "id": "c23036bb",
   "metadata": {
    "execution": {
     "iopub.execute_input": "2024-11-24T13:39:10.647344Z",
     "iopub.status.busy": "2024-11-24T13:39:10.646953Z",
     "iopub.status.idle": "2024-11-24T13:39:10.730208Z",
     "shell.execute_reply": "2024-11-24T13:39:10.729210Z"
    },
    "papermill": {
     "duration": 0.093209,
     "end_time": "2024-11-24T13:39:10.732408",
     "exception": false,
     "start_time": "2024-11-24T13:39:10.639199",
     "status": "completed"
    },
    "tags": []
   },
   "outputs": [
    {
     "data": {
      "text/plain": [
       "3960"
      ]
     },
     "execution_count": 8,
     "metadata": {},
     "output_type": "execute_result"
    }
   ],
   "source": [
    "df = pd.read_csv('/kaggle/input/colombian-frenchteam-problematicinternetusage/Dataset_problematic_internet_usage.csv')\n",
    "len(df)"
   ]
  },
  {
   "cell_type": "code",
   "execution_count": 9,
   "id": "9ac93780",
   "metadata": {
    "execution": {
     "iopub.execute_input": "2024-11-24T13:39:10.747007Z",
     "iopub.status.busy": "2024-11-24T13:39:10.746643Z",
     "iopub.status.idle": "2024-11-24T13:39:10.756239Z",
     "shell.execute_reply": "2024-11-24T13:39:10.755152Z"
    },
    "papermill": {
     "duration": 0.019574,
     "end_time": "2024-11-24T13:39:10.758499",
     "exception": false,
     "start_time": "2024-11-24T13:39:10.738925",
     "status": "completed"
    },
    "tags": []
   },
   "outputs": [
    {
     "data": {
      "text/plain": [
       "Train_Test_Label\n",
       "isnotintrainset    2964\n",
       "test                200\n",
       "train               796\n",
       "dtype: int64"
      ]
     },
     "execution_count": 9,
     "metadata": {},
     "output_type": "execute_result"
    }
   ],
   "source": [
    "df.groupby('Train_Test_Label').size()"
   ]
  },
  {
   "cell_type": "code",
   "execution_count": 10,
   "id": "427adafa",
   "metadata": {
    "execution": {
     "iopub.execute_input": "2024-11-24T13:39:10.773835Z",
     "iopub.status.busy": "2024-11-24T13:39:10.773118Z",
     "iopub.status.idle": "2024-11-24T13:39:10.783373Z",
     "shell.execute_reply": "2024-11-24T13:39:10.782152Z"
    },
    "papermill": {
     "duration": 0.020197,
     "end_time": "2024-11-24T13:39:10.785545",
     "exception": false,
     "start_time": "2024-11-24T13:39:10.765348",
     "status": "completed"
    },
    "tags": []
   },
   "outputs": [
    {
     "data": {
      "text/plain": [
       "996"
      ]
     },
     "execution_count": 10,
     "metadata": {},
     "output_type": "execute_result"
    }
   ],
   "source": [
    "df = df[(df['Train_Test_Label']=='test') | (df['Train_Test_Label']=='train') ]\n",
    "len(df)"
   ]
  },
  {
   "cell_type": "code",
   "execution_count": 11,
   "id": "32a0fb15",
   "metadata": {
    "execution": {
     "iopub.execute_input": "2024-11-24T13:39:10.801954Z",
     "iopub.status.busy": "2024-11-24T13:39:10.800434Z",
     "iopub.status.idle": "2024-11-24T13:39:10.831101Z",
     "shell.execute_reply": "2024-11-24T13:39:10.829930Z"
    },
    "papermill": {
     "duration": 0.040992,
     "end_time": "2024-11-24T13:39:10.833359",
     "exception": false,
     "start_time": "2024-11-24T13:39:10.792367",
     "status": "completed"
    },
    "tags": []
   },
   "outputs": [
    {
     "data": {
      "text/html": [
       "<div>\n",
       "<style scoped>\n",
       "    .dataframe tbody tr th:only-of-type {\n",
       "        vertical-align: middle;\n",
       "    }\n",
       "\n",
       "    .dataframe tbody tr th {\n",
       "        vertical-align: top;\n",
       "    }\n",
       "\n",
       "    .dataframe thead th {\n",
       "        text-align: right;\n",
       "    }\n",
       "</style>\n",
       "<table border=\"1\" class=\"dataframe\">\n",
       "  <thead>\n",
       "    <tr style=\"text-align: right;\">\n",
       "      <th></th>\n",
       "      <th>Unnamed: 0</th>\n",
       "      <th>id</th>\n",
       "      <th>Basic_Demos-Enroll_Season</th>\n",
       "      <th>Basic_Demos-Age</th>\n",
       "      <th>Basic_Demos-Sex</th>\n",
       "      <th>CGAS-Season</th>\n",
       "      <th>CGAS-CGAS_Score</th>\n",
       "      <th>Physical-Season</th>\n",
       "      <th>Physical-BMI</th>\n",
       "      <th>Physical-Height</th>\n",
       "      <th>...</th>\n",
       "      <th>PCIAT-PCIAT_20</th>\n",
       "      <th>PCIAT-PCIAT_Total</th>\n",
       "      <th>SDS-Season</th>\n",
       "      <th>SDS-SDS_Total_Raw</th>\n",
       "      <th>SDS-SDS_Total_T</th>\n",
       "      <th>PreInt_EduHx-Season</th>\n",
       "      <th>PreInt_EduHx-computerinternet_hoursday</th>\n",
       "      <th>sii</th>\n",
       "      <th>Has_actigraphy_data</th>\n",
       "      <th>Train_Test_Label</th>\n",
       "    </tr>\n",
       "  </thead>\n",
       "  <tbody>\n",
       "    <tr>\n",
       "      <th>894</th>\n",
       "      <td>894</td>\n",
       "      <td>35fa2ebf</td>\n",
       "      <td>Summer</td>\n",
       "      <td>13</td>\n",
       "      <td>0</td>\n",
       "      <td>Fall</td>\n",
       "      <td>70.0</td>\n",
       "      <td>Fall</td>\n",
       "      <td>20.404192</td>\n",
       "      <td>61.00</td>\n",
       "      <td>...</td>\n",
       "      <td>5.0</td>\n",
       "      <td>89.0</td>\n",
       "      <td>Fall</td>\n",
       "      <td>37.0</td>\n",
       "      <td>53.0</td>\n",
       "      <td>Summer</td>\n",
       "      <td>3.0</td>\n",
       "      <td>3.0</td>\n",
       "      <td>Yes</td>\n",
       "      <td>train</td>\n",
       "    </tr>\n",
       "    <tr>\n",
       "      <th>1502</th>\n",
       "      <td>1502</td>\n",
       "      <td>5e55e9fd</td>\n",
       "      <td>Spring</td>\n",
       "      <td>14</td>\n",
       "      <td>1</td>\n",
       "      <td>NaN</td>\n",
       "      <td>NaN</td>\n",
       "      <td>Spring</td>\n",
       "      <td>18.934295</td>\n",
       "      <td>60.75</td>\n",
       "      <td>...</td>\n",
       "      <td>5.0</td>\n",
       "      <td>81.0</td>\n",
       "      <td>Spring</td>\n",
       "      <td>44.0</td>\n",
       "      <td>62.0</td>\n",
       "      <td>Spring</td>\n",
       "      <td>3.0</td>\n",
       "      <td>3.0</td>\n",
       "      <td>Yes</td>\n",
       "      <td>train</td>\n",
       "    </tr>\n",
       "    <tr>\n",
       "      <th>2002</th>\n",
       "      <td>2002</td>\n",
       "      <td>7f44236f</td>\n",
       "      <td>Fall</td>\n",
       "      <td>13</td>\n",
       "      <td>0</td>\n",
       "      <td>Winter</td>\n",
       "      <td>70.0</td>\n",
       "      <td>Winter</td>\n",
       "      <td>25.370016</td>\n",
       "      <td>67.00</td>\n",
       "      <td>...</td>\n",
       "      <td>5.0</td>\n",
       "      <td>87.0</td>\n",
       "      <td>Winter</td>\n",
       "      <td>47.0</td>\n",
       "      <td>66.0</td>\n",
       "      <td>Fall</td>\n",
       "      <td>0.0</td>\n",
       "      <td>3.0</td>\n",
       "      <td>Yes</td>\n",
       "      <td>train</td>\n",
       "    </tr>\n",
       "  </tbody>\n",
       "</table>\n",
       "<p>3 rows × 85 columns</p>\n",
       "</div>"
      ],
      "text/plain": [
       "      Unnamed: 0        id Basic_Demos-Enroll_Season  Basic_Demos-Age  \\\n",
       "894          894  35fa2ebf                    Summer               13   \n",
       "1502        1502  5e55e9fd                    Spring               14   \n",
       "2002        2002  7f44236f                      Fall               13   \n",
       "\n",
       "      Basic_Demos-Sex CGAS-Season  CGAS-CGAS_Score Physical-Season  \\\n",
       "894                 0        Fall             70.0            Fall   \n",
       "1502                1         NaN              NaN          Spring   \n",
       "2002                0      Winter             70.0          Winter   \n",
       "\n",
       "      Physical-BMI  Physical-Height  ...  PCIAT-PCIAT_20  PCIAT-PCIAT_Total  \\\n",
       "894      20.404192            61.00  ...             5.0               89.0   \n",
       "1502     18.934295            60.75  ...             5.0               81.0   \n",
       "2002     25.370016            67.00  ...             5.0               87.0   \n",
       "\n",
       "      SDS-Season  SDS-SDS_Total_Raw  SDS-SDS_Total_T PreInt_EduHx-Season  \\\n",
       "894         Fall               37.0             53.0              Summer   \n",
       "1502      Spring               44.0             62.0              Spring   \n",
       "2002      Winter               47.0             66.0                Fall   \n",
       "\n",
       "      PreInt_EduHx-computerinternet_hoursday  sii  Has_actigraphy_data  \\\n",
       "894                                      3.0  3.0                  Yes   \n",
       "1502                                     3.0  3.0                  Yes   \n",
       "2002                                     0.0  3.0                  Yes   \n",
       "\n",
       "     Train_Test_Label  \n",
       "894             train  \n",
       "1502            train  \n",
       "2002            train  \n",
       "\n",
       "[3 rows x 85 columns]"
      ]
     },
     "execution_count": 11,
     "metadata": {},
     "output_type": "execute_result"
    }
   ],
   "source": [
    "df[df['sii']==3].head(3)"
   ]
  },
  {
   "cell_type": "code",
   "execution_count": 12,
   "id": "e9b0a642",
   "metadata": {
    "execution": {
     "iopub.execute_input": "2024-11-24T13:39:10.849227Z",
     "iopub.status.busy": "2024-11-24T13:39:10.848830Z",
     "iopub.status.idle": "2024-11-24T13:39:10.872235Z",
     "shell.execute_reply": "2024-11-24T13:39:10.871043Z"
    },
    "papermill": {
     "duration": 0.034344,
     "end_time": "2024-11-24T13:39:10.874876",
     "exception": false,
     "start_time": "2024-11-24T13:39:10.840532",
     "status": "completed"
    },
    "tags": []
   },
   "outputs": [
    {
     "data": {
      "text/html": [
       "<div>\n",
       "<style scoped>\n",
       "    .dataframe tbody tr th:only-of-type {\n",
       "        vertical-align: middle;\n",
       "    }\n",
       "\n",
       "    .dataframe tbody tr th {\n",
       "        vertical-align: top;\n",
       "    }\n",
       "\n",
       "    .dataframe thead th {\n",
       "        text-align: right;\n",
       "    }\n",
       "</style>\n",
       "<table border=\"1\" class=\"dataframe\">\n",
       "  <thead>\n",
       "    <tr style=\"text-align: right;\">\n",
       "      <th></th>\n",
       "      <th>Unnamed: 0</th>\n",
       "      <th>id</th>\n",
       "      <th>Basic_Demos-Enroll_Season</th>\n",
       "      <th>Basic_Demos-Age</th>\n",
       "      <th>Basic_Demos-Sex</th>\n",
       "      <th>CGAS-Season</th>\n",
       "      <th>CGAS-CGAS_Score</th>\n",
       "      <th>Physical-Season</th>\n",
       "      <th>Physical-BMI</th>\n",
       "      <th>Physical-Height</th>\n",
       "      <th>...</th>\n",
       "      <th>PCIAT-PCIAT_20</th>\n",
       "      <th>PCIAT-PCIAT_Total</th>\n",
       "      <th>SDS-Season</th>\n",
       "      <th>SDS-SDS_Total_Raw</th>\n",
       "      <th>SDS-SDS_Total_T</th>\n",
       "      <th>PreInt_EduHx-Season</th>\n",
       "      <th>PreInt_EduHx-computerinternet_hoursday</th>\n",
       "      <th>sii</th>\n",
       "      <th>Has_actigraphy_data</th>\n",
       "      <th>Train_Test_Label</th>\n",
       "    </tr>\n",
       "  </thead>\n",
       "  <tbody>\n",
       "    <tr>\n",
       "      <th>22</th>\n",
       "      <td>22</td>\n",
       "      <td>01085eb3</td>\n",
       "      <td>Fall</td>\n",
       "      <td>12</td>\n",
       "      <td>0</td>\n",
       "      <td>Winter</td>\n",
       "      <td>58.0</td>\n",
       "      <td>Fall</td>\n",
       "      <td>34.187282</td>\n",
       "      <td>60.5</td>\n",
       "      <td>...</td>\n",
       "      <td>0.0</td>\n",
       "      <td>30.0</td>\n",
       "      <td>Fall</td>\n",
       "      <td>53.0</td>\n",
       "      <td>73.0</td>\n",
       "      <td>Fall</td>\n",
       "      <td>0.0</td>\n",
       "      <td>0.0</td>\n",
       "      <td>Yes</td>\n",
       "      <td>train</td>\n",
       "    </tr>\n",
       "    <tr>\n",
       "      <th>25</th>\n",
       "      <td>25</td>\n",
       "      <td>012cadd8</td>\n",
       "      <td>Spring</td>\n",
       "      <td>9</td>\n",
       "      <td>0</td>\n",
       "      <td>Winter</td>\n",
       "      <td>60.0</td>\n",
       "      <td>Fall</td>\n",
       "      <td>17.089151</td>\n",
       "      <td>53.2</td>\n",
       "      <td>...</td>\n",
       "      <td>0.0</td>\n",
       "      <td>9.0</td>\n",
       "      <td>Summer</td>\n",
       "      <td>27.0</td>\n",
       "      <td>40.0</td>\n",
       "      <td>Spring</td>\n",
       "      <td>0.0</td>\n",
       "      <td>0.0</td>\n",
       "      <td>Yes</td>\n",
       "      <td>train</td>\n",
       "    </tr>\n",
       "    <tr>\n",
       "      <th>26</th>\n",
       "      <td>26</td>\n",
       "      <td>012e3869</td>\n",
       "      <td>Summer</td>\n",
       "      <td>6</td>\n",
       "      <td>0</td>\n",
       "      <td>Winter</td>\n",
       "      <td>60.0</td>\n",
       "      <td>Summer</td>\n",
       "      <td>NaN</td>\n",
       "      <td>NaN</td>\n",
       "      <td>...</td>\n",
       "      <td>0.0</td>\n",
       "      <td>0.0</td>\n",
       "      <td>NaN</td>\n",
       "      <td>NaN</td>\n",
       "      <td>NaN</td>\n",
       "      <td>Summer</td>\n",
       "      <td>0.0</td>\n",
       "      <td>0.0</td>\n",
       "      <td>Yes</td>\n",
       "      <td>train</td>\n",
       "    </tr>\n",
       "  </tbody>\n",
       "</table>\n",
       "<p>3 rows × 85 columns</p>\n",
       "</div>"
      ],
      "text/plain": [
       "    Unnamed: 0        id Basic_Demos-Enroll_Season  Basic_Demos-Age  \\\n",
       "22          22  01085eb3                      Fall               12   \n",
       "25          25  012cadd8                    Spring                9   \n",
       "26          26  012e3869                    Summer                6   \n",
       "\n",
       "    Basic_Demos-Sex CGAS-Season  CGAS-CGAS_Score Physical-Season  \\\n",
       "22                0      Winter             58.0            Fall   \n",
       "25                0      Winter             60.0            Fall   \n",
       "26                0      Winter             60.0          Summer   \n",
       "\n",
       "    Physical-BMI  Physical-Height  ...  PCIAT-PCIAT_20  PCIAT-PCIAT_Total  \\\n",
       "22     34.187282             60.5  ...             0.0               30.0   \n",
       "25     17.089151             53.2  ...             0.0                9.0   \n",
       "26           NaN              NaN  ...             0.0                0.0   \n",
       "\n",
       "    SDS-Season  SDS-SDS_Total_Raw  SDS-SDS_Total_T PreInt_EduHx-Season  \\\n",
       "22        Fall               53.0             73.0                Fall   \n",
       "25      Summer               27.0             40.0              Spring   \n",
       "26         NaN                NaN              NaN              Summer   \n",
       "\n",
       "    PreInt_EduHx-computerinternet_hoursday  sii  Has_actigraphy_data  \\\n",
       "22                                     0.0  0.0                  Yes   \n",
       "25                                     0.0  0.0                  Yes   \n",
       "26                                     0.0  0.0                  Yes   \n",
       "\n",
       "   Train_Test_Label  \n",
       "22            train  \n",
       "25            train  \n",
       "26            train  \n",
       "\n",
       "[3 rows x 85 columns]"
      ]
     },
     "execution_count": 12,
     "metadata": {},
     "output_type": "execute_result"
    }
   ],
   "source": [
    "df[df['sii']==0].head(3)"
   ]
  },
  {
   "cell_type": "markdown",
   "id": "d357eda9",
   "metadata": {
    "papermill": {
     "duration": 0.007298,
     "end_time": "2024-11-24T13:39:10.889952",
     "exception": false,
     "start_time": "2024-11-24T13:39:10.882654",
     "status": "completed"
    },
    "tags": []
   },
   "source": [
    "# Plot functions 2"
   ]
  },
  {
   "cell_type": "code",
   "execution_count": 13,
   "id": "190d66ce",
   "metadata": {
    "execution": {
     "iopub.execute_input": "2024-11-24T13:39:10.906647Z",
     "iopub.status.busy": "2024-11-24T13:39:10.906201Z",
     "iopub.status.idle": "2024-11-24T13:39:10.910772Z",
     "shell.execute_reply": "2024-11-24T13:39:10.909750Z"
    },
    "papermill": {
     "duration": 0.015448,
     "end_time": "2024-11-24T13:39:10.912836",
     "exception": false,
     "start_time": "2024-11-24T13:39:10.897388",
     "status": "completed"
    },
    "tags": []
   },
   "outputs": [],
   "source": [
    "kid_id = '71ee31f8'"
   ]
  },
  {
   "cell_type": "code",
   "execution_count": 14,
   "id": "8d8c3265",
   "metadata": {
    "execution": {
     "iopub.execute_input": "2024-11-24T13:39:10.929863Z",
     "iopub.status.busy": "2024-11-24T13:39:10.929422Z",
     "iopub.status.idle": "2024-11-24T13:39:10.943063Z",
     "shell.execute_reply": "2024-11-24T13:39:10.941908Z"
    },
    "papermill": {
     "duration": 0.024887,
     "end_time": "2024-11-24T13:39:10.945215",
     "exception": false,
     "start_time": "2024-11-24T13:39:10.920328",
     "status": "completed"
    },
    "tags": []
   },
   "outputs": [],
   "source": [
    "def feat_eng(df):\n",
    "\n",
    "    df['time_of_day_hours'] = (df['time_of_day'] / 1e9 / 3600)  # nanoseconds to hours\n",
    "    df['time_of_day_half_hours'] = (df['time_of_day'] / 1e9 / 1800)  # nanoseconds to half-hours\n",
    "    df['time_of_day_half_half_hours'] = (df['time_of_day'] / 1e9 / 900)  # nanoseconds to 15 minutes interval\n",
    "    df['time_of_day_fivemin_hours'] = (df['time_of_day'] / 1e9 / 300)  # nanoseconds to 5 minutes interval\n",
    "    df['day_time'] = df['relative_date_PCIAT'] + (df['time_of_day_hours'] / 24)\n",
    "    \n",
    "    # Day period assignment\n",
    "    day_start_hour = 8\n",
    "    day_end_hour = 21\n",
    "    df['day_period'] = np.where(\n",
    "            (df['time_of_day_hours'] >= day_start_hour) &\n",
    "            (df['time_of_day_hours'] < day_end_hour),\n",
    "            'day', 'night'\n",
    "        )\n",
    "    \n",
    "    # Initialize the 'which_day' column and day change detection\n",
    "    df['which_day'] = 0\n",
    "    day_change = (\n",
    "            (df['weekday'] != df['weekday'].shift(1)) |\n",
    "            (df['hour'] < df['hour'].shift(1)) |\n",
    "            ((df['hour'] == df['hour'].shift(1)) & (df['minute'] < df['minute'].shift(1))) |\n",
    "            ((df['hour'] == df['hour'].shift(1)) & (df['minute'] == df['minute'].shift(1)) & (df['second'] < df['second'].shift(1)))\n",
    "        )\n",
    "    df['which_day'] = day_change.cumsum() + 1\n",
    "    df['day_period_b'] = np.where(df['day_period'] == 'day', 1, 0)\n",
    "    df['time_of_day'] = pd.to_timedelta(df['time_of_day'], unit='ns')\n",
    "    base_date = pd.to_datetime('2024-01-01')\n",
    "    df['date'] = base_date + pd.to_timedelta(df['which_day'] - 1, unit='D')\n",
    "    df['timestamp'] = df['date'] + df['time_of_day']\n",
    "    df['timestamp'] = df['timestamp'].apply(lambda t: t.tz_localize(None))\n",
    "    df['timestamp_2'] = pd.to_datetime(df['timestamp']).apply(lambda t: t.tz_localize(None))\n",
    "    df.sort_values(['timestamp_2'], inplace=True)\n",
    "    df.set_index('timestamp_2', inplace=True)\n",
    "    \n",
    "    df[\"anglez\"] = df[\"anglez\"].astype(np.float32)\n",
    "    df[\"anglezdiffabs\"] = df[\"anglez\"].diff().abs().astype(np.float32)\n",
    "        \n",
    "    for col in ['anglezdiffabs']:\n",
    "            \n",
    "        # periods in seconds        \n",
    "        periods = [60] \n",
    "            \n",
    "        for n in periods:\n",
    "                \n",
    "            rol_args = {'window':f'{n+5}s', 'min_periods':10, 'center':True}\n",
    "                \n",
    "            for agg in ['median']:\n",
    "                df[f'{col}_{agg}_{n}'] = df[col].rolling(**rol_args).agg(agg).astype(np.float32).values\n",
    "                gc.collect()\n",
    "                \n",
    "            gc.collect()\n",
    "    \n",
    "    df.reset_index(inplace=True)\n",
    "    df.dropna(inplace=True)\n",
    "    df['large_enmo'] = df['enmo'] > 0.1509000062942505\n",
    "    df['anglezdiffabs_median_60_norm'] = (df['anglezdiffabs_median_60'] - np.min(df['anglezdiffabs_median_60'])) / (max(df['anglezdiffabs_median_60']) - min(df['anglezdiffabs_median_60']))\n",
    "\n",
    "    return df"
   ]
  },
  {
   "cell_type": "code",
   "execution_count": 15,
   "id": "a34c77af",
   "metadata": {
    "execution": {
     "iopub.execute_input": "2024-11-24T13:39:10.961794Z",
     "iopub.status.busy": "2024-11-24T13:39:10.961382Z",
     "iopub.status.idle": "2024-11-24T13:39:10.968432Z",
     "shell.execute_reply": "2024-11-24T13:39:10.967224Z"
    },
    "papermill": {
     "duration": 0.017552,
     "end_time": "2024-11-24T13:39:10.970388",
     "exception": false,
     "start_time": "2024-11-24T13:39:10.952836",
     "status": "completed"
    },
    "tags": []
   },
   "outputs": [],
   "source": [
    "def feat_eng_by_id(idx):\n",
    "    \n",
    "    from warnings import simplefilter \n",
    "    simplefilter(action=\"ignore\", category=pd.errors.PerformanceWarning)\n",
    "    \n",
    "    df = (\n",
    "        pl.scan_parquet(f'/kaggle/input/child-mind-institute-problematic-internet-use/series_train.parquet/id={idx}/part-0.parquet')\n",
    "        .with_columns(\n",
    "            (pl.col(\"time_of_day\").cast(pl.Int64) / 1_000_000_000).alias(\"total_seconds\")\n",
    "        )\n",
    "        .with_columns(\n",
    "            [\n",
    "                (pl.col(\"total_seconds\") // 3600).alias(\"hour\"),\n",
    "                ((pl.col(\"total_seconds\") % 3600) // 60).alias(\"minute\"),\n",
    "                (pl.col(\"total_seconds\") % 60).alias(\"second\"),\n",
    "            ]\n",
    "        )\n",
    "        .collect()\n",
    "        .to_pandas()\n",
    "    )\n",
    "\n",
    "    df = feat_eng(df)\n",
    "    \n",
    "    return df\n",
    "\n"
   ]
  },
  {
   "cell_type": "code",
   "execution_count": 16,
   "id": "41b7995b",
   "metadata": {
    "execution": {
     "iopub.execute_input": "2024-11-24T13:39:10.986770Z",
     "iopub.status.busy": "2024-11-24T13:39:10.986367Z",
     "iopub.status.idle": "2024-11-24T13:39:10.991315Z",
     "shell.execute_reply": "2024-11-24T13:39:10.990272Z"
    },
    "papermill": {
     "duration": 0.01562,
     "end_time": "2024-11-24T13:39:10.993324",
     "exception": false,
     "start_time": "2024-11-24T13:39:10.977704",
     "status": "completed"
    },
    "tags": []
   },
   "outputs": [],
   "source": [
    "from tqdm.auto import tqdm \n",
    "from joblib import Parallel, delayed\n",
    "from time import sleep, time\n",
    "from multiprocessing import cpu_count\n",
    "import gc"
   ]
  },
  {
   "cell_type": "code",
   "execution_count": 17,
   "id": "338e0072",
   "metadata": {
    "execution": {
     "iopub.execute_input": "2024-11-24T13:39:11.009396Z",
     "iopub.status.busy": "2024-11-24T13:39:11.009037Z",
     "iopub.status.idle": "2024-11-24T13:39:11.015211Z",
     "shell.execute_reply": "2024-11-24T13:39:11.014148Z"
    },
    "papermill": {
     "duration": 0.01681,
     "end_time": "2024-11-24T13:39:11.017347",
     "exception": false,
     "start_time": "2024-11-24T13:39:11.000537",
     "status": "completed"
    },
    "tags": []
   },
   "outputs": [],
   "source": [
    "from pathlib import Path\n",
    "working_folder = Path(\"/kaggle/working/\")\n",
    "images_folder = working_folder/\"imagesandannotations\"\n",
    "images_folder.mkdir()\n",
    "\n",
    "window_properties_batch_file = os.path.join(images_folder, \"window_properties.json\")\n",
    "all_events_batch_file = os.path.join(images_folder, \"all_events.json\")"
   ]
  },
  {
   "cell_type": "code",
   "execution_count": 18,
   "id": "be8994a0",
   "metadata": {
    "execution": {
     "iopub.execute_input": "2024-11-24T13:39:11.034168Z",
     "iopub.status.busy": "2024-11-24T13:39:11.033364Z",
     "iopub.status.idle": "2024-11-24T13:39:11.040439Z",
     "shell.execute_reply": "2024-11-24T13:39:11.039334Z"
    },
    "papermill": {
     "duration": 0.0178,
     "end_time": "2024-11-24T13:39:11.042696",
     "exception": false,
     "start_time": "2024-11-24T13:39:11.024896",
     "status": "completed"
    },
    "tags": []
   },
   "outputs": [
    {
     "data": {
      "text/plain": [
       "996"
      ]
     },
     "execution_count": 18,
     "metadata": {},
     "output_type": "execute_result"
    }
   ],
   "source": [
    "series_ids = df['id'].unique()\n",
    "len(series_ids)"
   ]
  },
  {
   "cell_type": "code",
   "execution_count": 19,
   "id": "20d9093d",
   "metadata": {
    "execution": {
     "iopub.execute_input": "2024-11-24T13:39:11.059340Z",
     "iopub.status.busy": "2024-11-24T13:39:11.058958Z",
     "iopub.status.idle": "2024-11-24T13:39:11.066184Z",
     "shell.execute_reply": "2024-11-24T13:39:11.064939Z"
    },
    "papermill": {
     "duration": 0.018234,
     "end_time": "2024-11-24T13:39:11.068419",
     "exception": false,
     "start_time": "2024-11-24T13:39:11.050185",
     "status": "completed"
    },
    "tags": []
   },
   "outputs": [
    {
     "data": {
      "text/plain": [
       "array(['f64ae747', 'f67908e7', 'f6b719ee', 'f6c0e2b7', 'f6c20447',\n",
       "       'f6cc80a9', 'f6d6f400', 'f6d879aa', 'f74eda33', 'f75c957f',\n",
       "       'f7b1374e', 'f7fc97cf', 'f81598bf', 'f8674e15', 'f869d220',\n",
       "       'f8bf4a1c', 'f8ff0bc8', 'f93010a8', 'f9334e08', 'f9384fa2',\n",
       "       'fa34f945', 'fa3e1e21', 'fa633e39', 'fa9a0add', 'fab75c2c',\n",
       "       'fad07fce', 'fb04f7dd', 'fb3c2c87', 'fb9c5a33', 'fc2c2c08',\n",
       "       'fc41be2f', 'fc49ba65', 'fc8e4de4', 'fd028ecc', 'fd0d9bca',\n",
       "       'fd56e059', 'fdb6b48b', 'fdc11b96', 'fdea7d9e', 'fdf4691f',\n",
       "       'fe3cbf02', 'fe9c71d8', 'fecc07d6', 'ff18b749', 'ffcd4dbd',\n",
       "       'ffed1dd5'], dtype=object)"
      ]
     },
     "execution_count": 19,
     "metadata": {},
     "output_type": "execute_result"
    }
   ],
   "source": [
    "series_ids = series_ids[950:]\n",
    "#series_ids = series_ids[0:2]\n",
    "series_ids"
   ]
  },
  {
   "cell_type": "code",
   "execution_count": 20,
   "id": "72294c2c",
   "metadata": {
    "execution": {
     "iopub.execute_input": "2024-11-24T13:39:11.085815Z",
     "iopub.status.busy": "2024-11-24T13:39:11.085390Z",
     "iopub.status.idle": "2024-11-24T13:39:11.109744Z",
     "shell.execute_reply": "2024-11-24T13:39:11.108407Z"
    },
    "papermill": {
     "duration": 0.035978,
     "end_time": "2024-11-24T13:39:11.111993",
     "exception": false,
     "start_time": "2024-11-24T13:39:11.076015",
     "status": "completed"
    },
    "tags": []
   },
   "outputs": [],
   "source": [
    "import json\n",
    "import gc\n",
    "import matplotlib.pyplot as plt\n",
    "from pathlib import Path\n",
    "from tqdm import tqdm\n",
    "import numpy as np  # Ensure np is imported for handling int64 types\n",
    "\n",
    "def process_and_plot(series_ids, images_folder):\n",
    "    \n",
    "    # Initialize main lists to hold all data\n",
    "    window_properties = []\n",
    "    all_events = []\n",
    "    \n",
    "    # Batch tracking lists\n",
    "    batch_size = 50  # Adjust batch size to your memory constraints\n",
    "    batch_window_properties = []\n",
    "    batch_all_events = []\n",
    "    \n",
    "    # Files for saving batches of data\n",
    "    window_properties_batch_file = images_folder / \"window_properties.json\"\n",
    "    all_events_batch_file = images_folder / \"all_events.json\"\n",
    "\n",
    "    # Create files if they don't exist\n",
    "    window_properties_batch_file.touch(exist_ok=True)\n",
    "    all_events_batch_file.touch(exist_ok=True)\n",
    "\n",
    "    # Process the series_ids\n",
    "    for idx in tqdm(series_ids):\n",
    "        \n",
    "        filtered_data = feat_eng_by_id(idx)\n",
    "\n",
    "        series = filtered_data.reset_index(drop=True)\n",
    "        series['color'] = [\"blue\" if large_enmo else \"green\" for large_enmo in series['large_enmo']]\n",
    "        series['timestamp'] = pd.to_datetime(series['timestamp'])\n",
    "        series['timestamp'] = series['timestamp'].apply(lambda x: x if x.tzinfo is not None else x.tz_localize('UTC'))\n",
    "        series['timestamp_utc'] = series['timestamp'].map(lambda timestamp: timestamp.astimezone(timezone.utc))\n",
    "        series['anglez_radians'] = (np.pi / 180) * series['anglez']\n",
    "        series['cos_anglez'] = np.cos(series['anglez_radians'])\n",
    "        series['enmo'] = np.clip(series['enmo'], 0, 1)\n",
    "        min_date_utc = series['timestamp_utc'].dt.date.min()\n",
    "        max_date_utc = series['timestamp_utc'].dt.date.max()\n",
    "        \n",
    "        series_24_hour_windows = {}\n",
    "        upper_bound = datetime(year=min_date_utc.year, month=min_date_utc.month, day=min_date_utc.day, hour=20, minute=30, tzinfo=timezone.utc)\n",
    "        lower_bound = upper_bound + timedelta(hours=-24) # 8:30pm UTC on the previous day.\n",
    "        while lower_bound < series['timestamp_utc'].max():\n",
    "            window_df = series.loc[(series['timestamp_utc'] >= lower_bound) & (series['timestamp_utc'] < upper_bound)].reset_index(drop=True)\n",
    "            if len(window_df) > 0:\n",
    "                series_24_hour_windows[upper_bound.isoformat()[:-6]] = window_df\n",
    "            upper_bound += timedelta(hours=24)\n",
    "            lower_bound += timedelta(hours=24)\n",
    "        \n",
    "        windows = list(series_24_hour_windows.keys())\n",
    "        num_steps_cumulative = 0\n",
    "        \n",
    "        for window_idx, window in enumerate(windows):\n",
    "            \n",
    "             if (series_24_hour_windows[window]['non-wear_flag'].mean()<0.5) & (len(series_24_hour_windows[window]) == 17280): \n",
    "\n",
    "                day = series_24_hour_windows[window]['which_day'].iloc[0]\n",
    "                 \n",
    "                fig = plt.figure(figsize=(14.4, 4))  # (width, height) in inches\n",
    "                #plt.plot(series_24_hour_windows[window]['timestamp_utc'], series_24_hour_windows[window]['cos_anglez'], color=\"red\")\n",
    "                plt.plot(series_24_hour_windows[window]['timestamp_utc'],\n",
    "                             series_24_hour_windows[window]['anglezdiffabs_median_60_norm'],\n",
    "                             color=\"red\")\n",
    "                plt.scatter(\n",
    "                        series_24_hour_windows[window]['timestamp_utc'], \n",
    "                        series_24_hour_windows[window]['enmo'], \n",
    "                        color=series_24_hour_windows[window]['color'], \n",
    "                        s=1\n",
    "                    )\n",
    "                plt.scatter(series_24_hour_windows[window]['timestamp_utc'], series_24_hour_windows[window]['non-wear_flag'], label='non_wear_flag', color='red', alpha=0.7, s=10)\n",
    "        \n",
    "                plt.fill_between(series_24_hour_windows[window]['timestamp_utc'],\n",
    "                                 0, max(1,series_24_hour_windows[window]['anglezdiffabs_median_60_norm'].max()), \n",
    "                                 where=(series_24_hour_windows[window]['non-wear_flag'] == 1), \n",
    "                                 color='red', alpha=0.1, label='Day Period')\n",
    "                 \n",
    "                plt.fill_between(series_24_hour_windows[window]['timestamp_utc'],\n",
    "                                 0, max(1,series_24_hour_windows[window]['anglezdiffabs_median_60_norm'].max()), \n",
    "                                 where=(series_24_hour_windows[window]['day_period_b'] == 1), \n",
    "                                 color='blue', alpha=0.1, label='Day Period')\n",
    "                ax = plt.gca()\n",
    "                ax.spines['top'].set_visible(False)\n",
    "                ax.spines['right'].set_visible(False)\n",
    "                ax.spines['bottom'].set_visible(False)\n",
    "                ax.spines['left'].set_visible(False)\n",
    "                ax.set_xticks([])\n",
    "                ax.set_yticks([])\n",
    "                plt.margins(0, 0)\n",
    "                plt.subplots_adjust(left=0, right=1, top=1, bottom=0)\n",
    "        \n",
    "                # Save image to images_folder\n",
    "                image_path = images_folder / f\"{idx}_{day}.jpg\"\n",
    "                plt.savefig(image_path, dpi=150, bbox_inches=\"tight\", pad_inches=0)\n",
    "                plt.close(fig)\n",
    "\n",
    "                # Store data for batch, safely converting where necessary\n",
    "                window_properties_item = {\n",
    "                        'series_id': str(idx),  # Ensure series_id is stored as string\n",
    "                        'image_name': f\"{idx}_{day}.jpg\", \n",
    "                        'idx_in_series': int(day)  # Convert 'day' to int if it's a number\n",
    "                    }\n",
    "                window_properties.append(window_properties_item)\n",
    "                batch_window_properties.append(window_properties_item)  # Add to batch\n",
    "\n",
    "                # Add to all_events batch\n",
    "                sii_label = df.loc[df['id'] == idx, 'sii'].values.item()\n",
    "\n",
    "                # Ensure sii_label is numeric before converting to int\n",
    "                if isinstance(sii_label, (int, np.integer)):\n",
    "                    sii_label = int(sii_label)\n",
    "                else:\n",
    "                    sii_label = str(sii_label)  # If it's a string, store it as string\n",
    "\n",
    "                all_events_item = {'series_id': str(idx), 'image_name': f\"{idx}_{day}.jpg\", 'label': sii_label}\n",
    "                all_events.append(all_events_item)\n",
    "                batch_all_events.append(all_events_item)  # Add to batch\n",
    "\n",
    "                # Save in batches when batch size is reached\n",
    "                if len(batch_window_properties) >= batch_size:\n",
    "                    # Save window_properties batch to JSON file\n",
    "                    with open(window_properties_batch_file, \"a\") as f:\n",
    "                        json.dump(batch_window_properties, f, indent=4)\n",
    "                    batch_window_properties.clear()  # Clear the batch\n",
    "\n",
    "                    # Save all_events batch to JSON file\n",
    "                    with open(all_events_batch_file, \"a\") as f:\n",
    "                        json.dump(batch_all_events, f, indent=4)\n",
    "                    batch_all_events.clear()  # Clear the batch\n",
    "\n",
    "                gc.collect()  # Clean up memory after each batch\n",
    "\n",
    "    # After the loop, save any remaining data if the final batch wasn't full\n",
    "    if batch_window_properties:\n",
    "        with open(window_properties_batch_file, \"a\") as f:\n",
    "            json.dump(batch_window_properties, f, indent=4)\n",
    "    if batch_all_events:\n",
    "        with open(all_events_batch_file, \"a\") as f:\n",
    "            json.dump(batch_all_events, f, indent=4)\n",
    "\n"
   ]
  },
  {
   "cell_type": "code",
   "execution_count": 21,
   "id": "cc54ce0e",
   "metadata": {
    "execution": {
     "iopub.execute_input": "2024-11-24T13:39:11.129478Z",
     "iopub.status.busy": "2024-11-24T13:39:11.128666Z",
     "iopub.status.idle": "2024-11-24T14:06:04.132644Z",
     "shell.execute_reply": "2024-11-24T14:06:04.131209Z"
    },
    "papermill": {
     "duration": 1613.01524,
     "end_time": "2024-11-24T14:06:04.134967",
     "exception": false,
     "start_time": "2024-11-24T13:39:11.119727",
     "status": "completed"
    },
    "tags": []
   },
   "outputs": [
    {
     "name": "stderr",
     "output_type": "stream",
     "text": [
      "100%|██████████| 46/46 [26:52<00:00, 35.06s/it]\n"
     ]
    }
   ],
   "source": [
    "process_and_plot(series_ids,images_folder)"
   ]
  },
  {
   "cell_type": "code",
   "execution_count": 22,
   "id": "d91b41a7",
   "metadata": {
    "execution": {
     "iopub.execute_input": "2024-11-24T14:06:04.161217Z",
     "iopub.status.busy": "2024-11-24T14:06:04.160174Z",
     "iopub.status.idle": "2024-11-24T14:06:04.165262Z",
     "shell.execute_reply": "2024-11-24T14:06:04.164379Z"
    },
    "papermill": {
     "duration": 0.021409,
     "end_time": "2024-11-24T14:06:04.167509",
     "exception": false,
     "start_time": "2024-11-24T14:06:04.146100",
     "status": "completed"
    },
    "tags": []
   },
   "outputs": [],
   "source": [
    "import glob"
   ]
  },
  {
   "cell_type": "code",
   "execution_count": 23,
   "id": "406792fb",
   "metadata": {
    "execution": {
     "iopub.execute_input": "2024-11-24T14:06:04.190644Z",
     "iopub.status.busy": "2024-11-24T14:06:04.190204Z",
     "iopub.status.idle": "2024-11-24T14:06:04.197034Z",
     "shell.execute_reply": "2024-11-24T14:06:04.195891Z"
    },
    "papermill": {
     "duration": 0.020856,
     "end_time": "2024-11-24T14:06:04.199230",
     "exception": false,
     "start_time": "2024-11-24T14:06:04.178374",
     "status": "completed"
    },
    "tags": []
   },
   "outputs": [],
   "source": [
    "def load_all_data_from_batches(directory_path, file_prefix):\n",
    "    all_data = []\n",
    "    \n",
    "    # Get all filenames matching the prefix and pattern\n",
    "    batch_files = glob.glob(f\"{directory_path}/{file_prefix}*.json\")\n",
    "    \n",
    "    for batch_file in batch_files:\n",
    "        with open(batch_file, 'r') as f:\n",
    "            try:\n",
    "                data = json.load(f)\n",
    "                all_data.extend(data)  # Append data from this batch to the overall list\n",
    "            except json.JSONDecodeError as e:\n",
    "                print(f\"Error loading {batch_file}: {e}\")\n",
    "    \n",
    "    return all_data\n",
    "    "
   ]
  },
  {
   "cell_type": "code",
   "execution_count": 24,
   "id": "76e1a60a",
   "metadata": {
    "execution": {
     "iopub.execute_input": "2024-11-24T14:06:04.221422Z",
     "iopub.status.busy": "2024-11-24T14:06:04.221028Z",
     "iopub.status.idle": "2024-11-24T14:06:04.232973Z",
     "shell.execute_reply": "2024-11-24T14:06:04.231614Z"
    },
    "papermill": {
     "duration": 0.025503,
     "end_time": "2024-11-24T14:06:04.235022",
     "exception": false,
     "start_time": "2024-11-24T14:06:04.209519",
     "status": "completed"
    },
    "tags": []
   },
   "outputs": [
    {
     "name": "stdout",
     "output_type": "stream",
     "text": [
      "Successfully loaded /kaggle/working/imagesandannotations/window_properties.json!\n",
      "Successfully loaded /kaggle/working/imagesandannotations/all_events.json!\n",
      "Sample from window_properties:\n",
      "[{'series_id': 'f64ae747', 'image_name': 'f64ae747_2.jpg', 'idx_in_series': 2}, {'series_id': 'f64ae747', 'image_name': 'f64ae747_3.jpg', 'idx_in_series': 3}, {'series_id': 'f64ae747', 'image_name': 'f64ae747_4.jpg', 'idx_in_series': 4}]\n",
      "\n",
      "Sample from all_events:\n",
      "[{'series_id': 'f64ae747', 'image_name': 'f64ae747_2.jpg', 'label': '2.0'}, {'series_id': 'f64ae747', 'image_name': 'f64ae747_3.jpg', 'label': '2.0'}, {'series_id': 'f64ae747', 'image_name': 'f64ae747_4.jpg', 'label': '2.0'}]\n"
     ]
    }
   ],
   "source": [
    "# Path to your JSON files\n",
    "window_properties_path = '/kaggle/working/imagesandannotations/window_properties.json'\n",
    "all_events_path = '/kaggle/working/imagesandannotations/all_events.json'\n",
    "\n",
    "# Function to load and fix the JSON files if needed\n",
    "def load_json_file(file_path):\n",
    "    with open(file_path, 'r') as file:\n",
    "        content = file.read()\n",
    "\n",
    "    # Remove any invalid '][' and ensure the content is wrapped in square brackets\n",
    "    fixed_content = content.replace(\"][\", \",\")  # Fix '][' by replacing with a comma\n",
    "\n",
    "    # Wrap content in square brackets if it's not already\n",
    "    if not fixed_content.startswith('['):\n",
    "        fixed_content = f\"[{fixed_content}\"\n",
    "    if not fixed_content.endswith(']'):\n",
    "        fixed_content = f\"{fixed_content}]\"\n",
    "\n",
    "    # Try to load the corrected content\n",
    "    try:\n",
    "        data = json.loads(fixed_content)\n",
    "        print(f\"Successfully loaded {file_path}!\")\n",
    "        return data\n",
    "    except json.JSONDecodeError as e:\n",
    "        print(f\"Error decoding JSON in {file_path}: {e}\")\n",
    "        return None\n",
    "\n",
    "# Load both files\n",
    "window_properties_data = load_json_file(window_properties_path)\n",
    "all_events_data = load_json_file(all_events_path)\n",
    "\n",
    "# Print a sample from each to confirm the data is loaded correctly\n",
    "print(\"Sample from window_properties:\")\n",
    "print(window_properties_data[:3])  # Show the first 3 items as a sample\n",
    "\n",
    "print(\"\\nSample from all_events:\")\n",
    "print(all_events_data[:3])  # Show the first 3 items as a sample"
   ]
  },
  {
   "cell_type": "code",
   "execution_count": 25,
   "id": "00c8e64a",
   "metadata": {
    "execution": {
     "iopub.execute_input": "2024-11-24T14:06:04.257109Z",
     "iopub.status.busy": "2024-11-24T14:06:04.256713Z",
     "iopub.status.idle": "2024-11-24T14:06:04.269274Z",
     "shell.execute_reply": "2024-11-24T14:06:04.268044Z"
    },
    "papermill": {
     "duration": 0.026466,
     "end_time": "2024-11-24T14:06:04.271823",
     "exception": false,
     "start_time": "2024-11-24T14:06:04.245357",
     "status": "completed"
    },
    "tags": []
   },
   "outputs": [
    {
     "data": {
      "text/html": [
       "<div>\n",
       "<style scoped>\n",
       "    .dataframe tbody tr th:only-of-type {\n",
       "        vertical-align: middle;\n",
       "    }\n",
       "\n",
       "    .dataframe tbody tr th {\n",
       "        vertical-align: top;\n",
       "    }\n",
       "\n",
       "    .dataframe thead th {\n",
       "        text-align: right;\n",
       "    }\n",
       "</style>\n",
       "<table border=\"1\" class=\"dataframe\">\n",
       "  <thead>\n",
       "    <tr style=\"text-align: right;\">\n",
       "      <th></th>\n",
       "      <th>series_id</th>\n",
       "      <th>image_name</th>\n",
       "      <th>idx_in_series</th>\n",
       "    </tr>\n",
       "  </thead>\n",
       "  <tbody>\n",
       "    <tr>\n",
       "      <th>0</th>\n",
       "      <td>f64ae747</td>\n",
       "      <td>f64ae747_2.jpg</td>\n",
       "      <td>2</td>\n",
       "    </tr>\n",
       "    <tr>\n",
       "      <th>1</th>\n",
       "      <td>f64ae747</td>\n",
       "      <td>f64ae747_3.jpg</td>\n",
       "      <td>3</td>\n",
       "    </tr>\n",
       "    <tr>\n",
       "      <th>2</th>\n",
       "      <td>f64ae747</td>\n",
       "      <td>f64ae747_4.jpg</td>\n",
       "      <td>4</td>\n",
       "    </tr>\n",
       "    <tr>\n",
       "      <th>3</th>\n",
       "      <td>f64ae747</td>\n",
       "      <td>f64ae747_5.jpg</td>\n",
       "      <td>5</td>\n",
       "    </tr>\n",
       "    <tr>\n",
       "      <th>4</th>\n",
       "      <td>f64ae747</td>\n",
       "      <td>f64ae747_12.jpg</td>\n",
       "      <td>12</td>\n",
       "    </tr>\n",
       "  </tbody>\n",
       "</table>\n",
       "</div>"
      ],
      "text/plain": [
       "  series_id       image_name  idx_in_series\n",
       "0  f64ae747   f64ae747_2.jpg              2\n",
       "1  f64ae747   f64ae747_3.jpg              3\n",
       "2  f64ae747   f64ae747_4.jpg              4\n",
       "3  f64ae747   f64ae747_5.jpg              5\n",
       "4  f64ae747  f64ae747_12.jpg             12"
      ]
     },
     "execution_count": 25,
     "metadata": {},
     "output_type": "execute_result"
    }
   ],
   "source": [
    "window_properties_df = pd.DataFrame(window_properties_data)\n",
    "window_properties_df.head(5)"
   ]
  },
  {
   "cell_type": "code",
   "execution_count": 26,
   "id": "5f039fac",
   "metadata": {
    "execution": {
     "iopub.execute_input": "2024-11-24T14:06:04.294667Z",
     "iopub.status.busy": "2024-11-24T14:06:04.294225Z",
     "iopub.status.idle": "2024-11-24T14:06:04.306408Z",
     "shell.execute_reply": "2024-11-24T14:06:04.305260Z"
    },
    "papermill": {
     "duration": 0.025979,
     "end_time": "2024-11-24T14:06:04.308536",
     "exception": false,
     "start_time": "2024-11-24T14:06:04.282557",
     "status": "completed"
    },
    "tags": []
   },
   "outputs": [
    {
     "data": {
      "text/html": [
       "<div>\n",
       "<style scoped>\n",
       "    .dataframe tbody tr th:only-of-type {\n",
       "        vertical-align: middle;\n",
       "    }\n",
       "\n",
       "    .dataframe tbody tr th {\n",
       "        vertical-align: top;\n",
       "    }\n",
       "\n",
       "    .dataframe thead th {\n",
       "        text-align: right;\n",
       "    }\n",
       "</style>\n",
       "<table border=\"1\" class=\"dataframe\">\n",
       "  <thead>\n",
       "    <tr style=\"text-align: right;\">\n",
       "      <th></th>\n",
       "      <th>series_id</th>\n",
       "      <th>image_name</th>\n",
       "      <th>label</th>\n",
       "    </tr>\n",
       "  </thead>\n",
       "  <tbody>\n",
       "    <tr>\n",
       "      <th>0</th>\n",
       "      <td>f64ae747</td>\n",
       "      <td>f64ae747_2.jpg</td>\n",
       "      <td>2.0</td>\n",
       "    </tr>\n",
       "    <tr>\n",
       "      <th>1</th>\n",
       "      <td>f64ae747</td>\n",
       "      <td>f64ae747_3.jpg</td>\n",
       "      <td>2.0</td>\n",
       "    </tr>\n",
       "    <tr>\n",
       "      <th>2</th>\n",
       "      <td>f64ae747</td>\n",
       "      <td>f64ae747_4.jpg</td>\n",
       "      <td>2.0</td>\n",
       "    </tr>\n",
       "    <tr>\n",
       "      <th>3</th>\n",
       "      <td>f64ae747</td>\n",
       "      <td>f64ae747_5.jpg</td>\n",
       "      <td>2.0</td>\n",
       "    </tr>\n",
       "    <tr>\n",
       "      <th>4</th>\n",
       "      <td>f64ae747</td>\n",
       "      <td>f64ae747_12.jpg</td>\n",
       "      <td>2.0</td>\n",
       "    </tr>\n",
       "  </tbody>\n",
       "</table>\n",
       "</div>"
      ],
      "text/plain": [
       "  series_id       image_name label\n",
       "0  f64ae747   f64ae747_2.jpg   2.0\n",
       "1  f64ae747   f64ae747_3.jpg   2.0\n",
       "2  f64ae747   f64ae747_4.jpg   2.0\n",
       "3  f64ae747   f64ae747_5.jpg   2.0\n",
       "4  f64ae747  f64ae747_12.jpg   2.0"
      ]
     },
     "execution_count": 26,
     "metadata": {},
     "output_type": "execute_result"
    }
   ],
   "source": [
    "annotations_df = pd.DataFrame(all_events_data)\n",
    "annotations_df.head(5)"
   ]
  }
 ],
 "metadata": {
  "kaggle": {
   "accelerator": "none",
   "dataSources": [
    {
     "databundleVersionId": 9643020,
     "sourceId": 81933,
     "sourceType": "competition"
    },
    {
     "datasetId": 6047696,
     "sourceId": 9925531,
     "sourceType": "datasetVersion"
    }
   ],
   "isGpuEnabled": false,
   "isInternetEnabled": true,
   "language": "python",
   "sourceType": "notebook"
  },
  "kernelspec": {
   "display_name": "Python 3",
   "language": "python",
   "name": "python3"
  },
  "language_info": {
   "codemirror_mode": {
    "name": "ipython",
    "version": 3
   },
   "file_extension": ".py",
   "mimetype": "text/x-python",
   "name": "python",
   "nbconvert_exporter": "python",
   "pygments_lexer": "ipython3",
   "version": "3.10.14"
  },
  "papermill": {
   "default_parameters": {},
   "duration": 1626.345616,
   "end_time": "2024-11-24T14:06:07.341212",
   "environment_variables": {},
   "exception": null,
   "input_path": "__notebook__.ipynb",
   "output_path": "__notebook__.ipynb",
   "parameters": {},
   "start_time": "2024-11-24T13:39:00.995596",
   "version": "2.6.0"
  },
  "widgets": {
   "application/vnd.jupyter.widget-state+json": {
    "state": {
     "0e3cab9fedc54f609e48b27077d8bb0a": {
      "model_module": "@jupyter-widgets/controls",
      "model_module_version": "1.5.0",
      "model_name": "HTMLModel",
      "state": {
       "_dom_classes": [],
       "_model_module": "@jupyter-widgets/controls",
       "_model_module_version": "1.5.0",
       "_model_name": "HTMLModel",
       "_view_count": null,
       "_view_module": "@jupyter-widgets/controls",
       "_view_module_version": "1.5.0",
       "_view_name": "HTMLView",
       "description": "",
       "description_tooltip": null,
       "layout": "IPY_MODEL_31dee8eb49144680b825046154c0f8e4",
       "placeholder": "​",
       "style": "IPY_MODEL_7377e7afc41e416fb69bbdb245ab1a52",
       "value": " 2/2 [00:00&lt;00:00,  6.31it/s]"
      }
     },
     "31dee8eb49144680b825046154c0f8e4": {
      "model_module": "@jupyter-widgets/base",
      "model_module_version": "1.2.0",
      "model_name": "LayoutModel",
      "state": {
       "_model_module": "@jupyter-widgets/base",
       "_model_module_version": "1.2.0",
       "_model_name": "LayoutModel",
       "_view_count": null,
       "_view_module": "@jupyter-widgets/base",
       "_view_module_version": "1.2.0",
       "_view_name": "LayoutView",
       "align_content": null,
       "align_items": null,
       "align_self": null,
       "border": null,
       "bottom": null,
       "display": null,
       "flex": null,
       "flex_flow": null,
       "grid_area": null,
       "grid_auto_columns": null,
       "grid_auto_flow": null,
       "grid_auto_rows": null,
       "grid_column": null,
       "grid_gap": null,
       "grid_row": null,
       "grid_template_areas": null,
       "grid_template_columns": null,
       "grid_template_rows": null,
       "height": null,
       "justify_content": null,
       "justify_items": null,
       "left": null,
       "margin": null,
       "max_height": null,
       "max_width": null,
       "min_height": null,
       "min_width": null,
       "object_fit": null,
       "object_position": null,
       "order": null,
       "overflow": null,
       "overflow_x": null,
       "overflow_y": null,
       "padding": null,
       "right": null,
       "top": null,
       "visibility": null,
       "width": null
      }
     },
     "365c879c12e04617b655bed3b01309b7": {
      "model_module": "@jupyter-widgets/controls",
      "model_module_version": "1.5.0",
      "model_name": "DescriptionStyleModel",
      "state": {
       "_model_module": "@jupyter-widgets/controls",
       "_model_module_version": "1.5.0",
       "_model_name": "DescriptionStyleModel",
       "_view_count": null,
       "_view_module": "@jupyter-widgets/base",
       "_view_module_version": "1.2.0",
       "_view_name": "StyleView",
       "description_width": ""
      }
     },
     "3a85f2ecfad748e68e4061592d8ed0db": {
      "model_module": "@jupyter-widgets/controls",
      "model_module_version": "1.5.0",
      "model_name": "HTMLModel",
      "state": {
       "_dom_classes": [],
       "_model_module": "@jupyter-widgets/controls",
       "_model_module_version": "1.5.0",
       "_model_name": "HTMLModel",
       "_view_count": null,
       "_view_module": "@jupyter-widgets/controls",
       "_view_module_version": "1.5.0",
       "_view_name": "HTMLView",
       "description": "",
       "description_tooltip": null,
       "layout": "IPY_MODEL_bfb76cee0af74b8981f195f7cbdad29a",
       "placeholder": "​",
       "style": "IPY_MODEL_365c879c12e04617b655bed3b01309b7",
       "value": "100%"
      }
     },
     "4556cd57134d4e6fabc2ec41a5cd3eb3": {
      "model_module": "@jupyter-widgets/base",
      "model_module_version": "1.2.0",
      "model_name": "LayoutModel",
      "state": {
       "_model_module": "@jupyter-widgets/base",
       "_model_module_version": "1.2.0",
       "_model_name": "LayoutModel",
       "_view_count": null,
       "_view_module": "@jupyter-widgets/base",
       "_view_module_version": "1.2.0",
       "_view_name": "LayoutView",
       "align_content": null,
       "align_items": null,
       "align_self": null,
       "border": null,
       "bottom": null,
       "display": null,
       "flex": null,
       "flex_flow": null,
       "grid_area": null,
       "grid_auto_columns": null,
       "grid_auto_flow": null,
       "grid_auto_rows": null,
       "grid_column": null,
       "grid_gap": null,
       "grid_row": null,
       "grid_template_areas": null,
       "grid_template_columns": null,
       "grid_template_rows": null,
       "height": null,
       "justify_content": null,
       "justify_items": null,
       "left": null,
       "margin": null,
       "max_height": null,
       "max_width": null,
       "min_height": null,
       "min_width": null,
       "object_fit": null,
       "object_position": null,
       "order": null,
       "overflow": null,
       "overflow_x": null,
       "overflow_y": null,
       "padding": null,
       "right": null,
       "top": null,
       "visibility": null,
       "width": null
      }
     },
     "4cb026dc469d401cad67c4bd49f7c078": {
      "model_module": "@jupyter-widgets/controls",
      "model_module_version": "1.5.0",
      "model_name": "HBoxModel",
      "state": {
       "_dom_classes": [],
       "_model_module": "@jupyter-widgets/controls",
       "_model_module_version": "1.5.0",
       "_model_name": "HBoxModel",
       "_view_count": null,
       "_view_module": "@jupyter-widgets/controls",
       "_view_module_version": "1.5.0",
       "_view_name": "HBoxView",
       "box_style": "",
       "children": [
        "IPY_MODEL_3a85f2ecfad748e68e4061592d8ed0db",
        "IPY_MODEL_6f170ef0337c416fb685ee6d3a12ab72",
        "IPY_MODEL_0e3cab9fedc54f609e48b27077d8bb0a"
       ],
       "layout": "IPY_MODEL_4556cd57134d4e6fabc2ec41a5cd3eb3"
      }
     },
     "6f170ef0337c416fb685ee6d3a12ab72": {
      "model_module": "@jupyter-widgets/controls",
      "model_module_version": "1.5.0",
      "model_name": "FloatProgressModel",
      "state": {
       "_dom_classes": [],
       "_model_module": "@jupyter-widgets/controls",
       "_model_module_version": "1.5.0",
       "_model_name": "FloatProgressModel",
       "_view_count": null,
       "_view_module": "@jupyter-widgets/controls",
       "_view_module_version": "1.5.0",
       "_view_name": "ProgressView",
       "bar_style": "success",
       "description": "",
       "description_tooltip": null,
       "layout": "IPY_MODEL_bd9238a409dd497cb41a052f3975e5bc",
       "max": 2.0,
       "min": 0.0,
       "orientation": "horizontal",
       "style": "IPY_MODEL_bce4953534444e24a67baa655625650e",
       "value": 2.0
      }
     },
     "7377e7afc41e416fb69bbdb245ab1a52": {
      "model_module": "@jupyter-widgets/controls",
      "model_module_version": "1.5.0",
      "model_name": "DescriptionStyleModel",
      "state": {
       "_model_module": "@jupyter-widgets/controls",
       "_model_module_version": "1.5.0",
       "_model_name": "DescriptionStyleModel",
       "_view_count": null,
       "_view_module": "@jupyter-widgets/base",
       "_view_module_version": "1.2.0",
       "_view_name": "StyleView",
       "description_width": ""
      }
     },
     "bce4953534444e24a67baa655625650e": {
      "model_module": "@jupyter-widgets/controls",
      "model_module_version": "1.5.0",
      "model_name": "ProgressStyleModel",
      "state": {
       "_model_module": "@jupyter-widgets/controls",
       "_model_module_version": "1.5.0",
       "_model_name": "ProgressStyleModel",
       "_view_count": null,
       "_view_module": "@jupyter-widgets/base",
       "_view_module_version": "1.2.0",
       "_view_name": "StyleView",
       "bar_color": null,
       "description_width": ""
      }
     },
     "bd9238a409dd497cb41a052f3975e5bc": {
      "model_module": "@jupyter-widgets/base",
      "model_module_version": "1.2.0",
      "model_name": "LayoutModel",
      "state": {
       "_model_module": "@jupyter-widgets/base",
       "_model_module_version": "1.2.0",
       "_model_name": "LayoutModel",
       "_view_count": null,
       "_view_module": "@jupyter-widgets/base",
       "_view_module_version": "1.2.0",
       "_view_name": "LayoutView",
       "align_content": null,
       "align_items": null,
       "align_self": null,
       "border": null,
       "bottom": null,
       "display": null,
       "flex": null,
       "flex_flow": null,
       "grid_area": null,
       "grid_auto_columns": null,
       "grid_auto_flow": null,
       "grid_auto_rows": null,
       "grid_column": null,
       "grid_gap": null,
       "grid_row": null,
       "grid_template_areas": null,
       "grid_template_columns": null,
       "grid_template_rows": null,
       "height": null,
       "justify_content": null,
       "justify_items": null,
       "left": null,
       "margin": null,
       "max_height": null,
       "max_width": null,
       "min_height": null,
       "min_width": null,
       "object_fit": null,
       "object_position": null,
       "order": null,
       "overflow": null,
       "overflow_x": null,
       "overflow_y": null,
       "padding": null,
       "right": null,
       "top": null,
       "visibility": null,
       "width": null
      }
     },
     "bfb76cee0af74b8981f195f7cbdad29a": {
      "model_module": "@jupyter-widgets/base",
      "model_module_version": "1.2.0",
      "model_name": "LayoutModel",
      "state": {
       "_model_module": "@jupyter-widgets/base",
       "_model_module_version": "1.2.0",
       "_model_name": "LayoutModel",
       "_view_count": null,
       "_view_module": "@jupyter-widgets/base",
       "_view_module_version": "1.2.0",
       "_view_name": "LayoutView",
       "align_content": null,
       "align_items": null,
       "align_self": null,
       "border": null,
       "bottom": null,
       "display": null,
       "flex": null,
       "flex_flow": null,
       "grid_area": null,
       "grid_auto_columns": null,
       "grid_auto_flow": null,
       "grid_auto_rows": null,
       "grid_column": null,
       "grid_gap": null,
       "grid_row": null,
       "grid_template_areas": null,
       "grid_template_columns": null,
       "grid_template_rows": null,
       "height": null,
       "justify_content": null,
       "justify_items": null,
       "left": null,
       "margin": null,
       "max_height": null,
       "max_width": null,
       "min_height": null,
       "min_width": null,
       "object_fit": null,
       "object_position": null,
       "order": null,
       "overflow": null,
       "overflow_x": null,
       "overflow_y": null,
       "padding": null,
       "right": null,
       "top": null,
       "visibility": null,
       "width": null
      }
     }
    },
    "version_major": 2,
    "version_minor": 0
   }
  }
 },
 "nbformat": 4,
 "nbformat_minor": 5
}

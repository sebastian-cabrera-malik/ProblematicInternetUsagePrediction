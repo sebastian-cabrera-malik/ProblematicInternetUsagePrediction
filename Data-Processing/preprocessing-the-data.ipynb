{
 "cells": [
  {
   "cell_type": "markdown",
   "id": "87896f1f",
   "metadata": {
    "papermill": {
     "duration": 0.010457,
     "end_time": "2024-11-09T17:05:08.507338",
     "exception": false,
     "start_time": "2024-11-09T17:05:08.496881",
     "status": "completed"
    },
    "tags": []
   },
   "source": [
    "# Libraries**"
   ]
  },
  {
   "cell_type": "code",
   "execution_count": 1,
   "id": "6eb628bd",
   "metadata": {
    "execution": {
     "iopub.execute_input": "2024-11-09T17:05:08.529294Z",
     "iopub.status.busy": "2024-11-09T17:05:08.528707Z",
     "iopub.status.idle": "2024-11-09T17:05:13.549983Z",
     "shell.execute_reply": "2024-11-09T17:05:13.548662Z"
    },
    "papermill": {
     "duration": 5.035588,
     "end_time": "2024-11-09T17:05:13.552977",
     "exception": false,
     "start_time": "2024-11-09T17:05:08.517389",
     "status": "completed"
    },
    "tags": []
   },
   "outputs": [],
   "source": [
    "import gc\n",
    "import pandas as pd\n",
    "import numpy as np\n",
    "import datetime as dt\n",
    "\n",
    "import matplotlib.pyplot as plt\n",
    "import matplotlib.cm as cm\n",
    "import seaborn as sns\n",
    "\n",
    "import plotly.graph_objects as go\n",
    "from plotly.subplots import make_subplots\n",
    "import plotly.express as px\n",
    "import plotly.offline\n",
    "\n",
    "from colorama import Fore, Style, init\n",
    "from pprint import pprint\n",
    "\n",
    "# 🚫 Suppressing warnings 🚫\n",
    "import warnings\n",
    "warnings.filterwarnings('ignore')"
   ]
  },
  {
   "cell_type": "code",
   "execution_count": 2,
   "id": "969f7dc0",
   "metadata": {
    "execution": {
     "iopub.execute_input": "2024-11-09T17:05:13.576081Z",
     "iopub.status.busy": "2024-11-09T17:05:13.575232Z",
     "iopub.status.idle": "2024-11-09T17:05:13.583568Z",
     "shell.execute_reply": "2024-11-09T17:05:13.582046Z"
    },
    "papermill": {
     "duration": 0.023402,
     "end_time": "2024-11-09T17:05:13.586754",
     "exception": false,
     "start_time": "2024-11-09T17:05:13.563352",
     "status": "completed"
    },
    "tags": []
   },
   "outputs": [],
   "source": [
    "import matplotlib.pyplot as plt\n",
    "import matplotlib.cm as cm\n",
    "import matplotlib.dates as mdates\n",
    "import seaborn as sns\n",
    "\n",
    "import plotly.graph_objects as go\n",
    "from plotly.subplots import make_subplots\n",
    "import plotly.express as px\n",
    "import plotly.offline"
   ]
  },
  {
   "cell_type": "code",
   "execution_count": 3,
   "id": "6c1616d6",
   "metadata": {
    "execution": {
     "iopub.execute_input": "2024-11-09T17:05:13.608888Z",
     "iopub.status.busy": "2024-11-09T17:05:13.608399Z",
     "iopub.status.idle": "2024-11-09T17:05:14.038276Z",
     "shell.execute_reply": "2024-11-09T17:05:14.036848Z"
    },
    "papermill": {
     "duration": 0.444616,
     "end_time": "2024-11-09T17:05:14.041678",
     "exception": false,
     "start_time": "2024-11-09T17:05:13.597062",
     "status": "completed"
    },
    "tags": []
   },
   "outputs": [],
   "source": [
    "from scipy.stats import entropy\n",
    "from collections import Counter\n",
    "import polars as pl"
   ]
  },
  {
   "cell_type": "code",
   "execution_count": 4,
   "id": "ea5dc0bd",
   "metadata": {
    "execution": {
     "iopub.execute_input": "2024-11-09T17:05:14.069242Z",
     "iopub.status.busy": "2024-11-09T17:05:14.068687Z",
     "iopub.status.idle": "2024-11-09T17:05:14.159276Z",
     "shell.execute_reply": "2024-11-09T17:05:14.157904Z"
    },
    "papermill": {
     "duration": 0.107143,
     "end_time": "2024-11-09T17:05:14.162352",
     "exception": false,
     "start_time": "2024-11-09T17:05:14.055209",
     "status": "completed"
    },
    "tags": []
   },
   "outputs": [],
   "source": [
    "from joblib import Parallel, delayed\n",
    "from time import sleep, time\n",
    "from multiprocessing import cpu_count"
   ]
  },
  {
   "cell_type": "code",
   "execution_count": 5,
   "id": "e5d96a9e",
   "metadata": {
    "execution": {
     "iopub.execute_input": "2024-11-09T17:05:14.184451Z",
     "iopub.status.busy": "2024-11-09T17:05:14.183939Z",
     "iopub.status.idle": "2024-11-09T17:05:14.201857Z",
     "shell.execute_reply": "2024-11-09T17:05:14.200406Z"
    },
    "papermill": {
     "duration": 0.032456,
     "end_time": "2024-11-09T17:05:14.204957",
     "exception": false,
     "start_time": "2024-11-09T17:05:14.172501",
     "status": "completed"
    },
    "tags": []
   },
   "outputs": [],
   "source": [
    "from tqdm.auto import tqdm \n",
    "from concurrent.futures import ThreadPoolExecutor"
   ]
  },
  {
   "cell_type": "code",
   "execution_count": 6,
   "id": "99e365e4",
   "metadata": {
    "execution": {
     "iopub.execute_input": "2024-11-09T17:05:14.227908Z",
     "iopub.status.busy": "2024-11-09T17:05:14.227420Z",
     "iopub.status.idle": "2024-11-09T17:05:14.233560Z",
     "shell.execute_reply": "2024-11-09T17:05:14.232115Z"
    },
    "papermill": {
     "duration": 0.021119,
     "end_time": "2024-11-09T17:05:14.236604",
     "exception": false,
     "start_time": "2024-11-09T17:05:14.215485",
     "status": "completed"
    },
    "tags": []
   },
   "outputs": [],
   "source": [
    "import os"
   ]
  },
  {
   "cell_type": "markdown",
   "id": "12ed4d98",
   "metadata": {
    "papermill": {
     "duration": 0.009291,
     "end_time": "2024-11-09T17:05:14.256510",
     "exception": false,
     "start_time": "2024-11-09T17:05:14.247219",
     "status": "completed"
    },
    "tags": []
   },
   "source": [
    "# test data "
   ]
  },
  {
   "cell_type": "code",
   "execution_count": 7,
   "id": "617f44ca",
   "metadata": {
    "execution": {
     "iopub.execute_input": "2024-11-09T17:05:14.277556Z",
     "iopub.status.busy": "2024-11-09T17:05:14.276944Z",
     "iopub.status.idle": "2024-11-09T17:05:14.307248Z",
     "shell.execute_reply": "2024-11-09T17:05:14.305778Z"
    },
    "papermill": {
     "duration": 0.043966,
     "end_time": "2024-11-09T17:05:14.310042",
     "exception": false,
     "start_time": "2024-11-09T17:05:14.266076",
     "status": "completed"
    },
    "tags": []
   },
   "outputs": [
    {
     "data": {
      "text/plain": [
       "20"
      ]
     },
     "execution_count": 7,
     "metadata": {},
     "output_type": "execute_result"
    }
   ],
   "source": [
    "test = pd.read_csv('/kaggle/input/child-mind-institute-problematic-internet-use/test.csv')\n",
    "len(test)"
   ]
  },
  {
   "cell_type": "markdown",
   "id": "8e524265",
   "metadata": {
    "papermill": {
     "duration": 0.009453,
     "end_time": "2024-11-09T17:05:14.329060",
     "exception": false,
     "start_time": "2024-11-09T17:05:14.319607",
     "status": "completed"
    },
    "tags": []
   },
   "source": [
    "# Reading the train tabular data"
   ]
  },
  {
   "cell_type": "code",
   "execution_count": 8,
   "id": "50720fa5",
   "metadata": {
    "execution": {
     "iopub.execute_input": "2024-11-09T17:05:14.350136Z",
     "iopub.status.busy": "2024-11-09T17:05:14.349606Z",
     "iopub.status.idle": "2024-11-09T17:05:14.424625Z",
     "shell.execute_reply": "2024-11-09T17:05:14.423309Z"
    },
    "papermill": {
     "duration": 0.088908,
     "end_time": "2024-11-09T17:05:14.427603",
     "exception": false,
     "start_time": "2024-11-09T17:05:14.338695",
     "status": "completed"
    },
    "tags": []
   },
   "outputs": [
    {
     "data": {
      "text/plain": [
       "3960"
      ]
     },
     "execution_count": 8,
     "metadata": {},
     "output_type": "execute_result"
    }
   ],
   "source": [
    "train = pd.read_csv('/kaggle/input/child-mind-institute-problematic-internet-use/train.csv')\n",
    "len(train)"
   ]
  },
  {
   "cell_type": "code",
   "execution_count": 9,
   "id": "bc01a892",
   "metadata": {
    "execution": {
     "iopub.execute_input": "2024-11-09T17:05:14.449215Z",
     "iopub.status.busy": "2024-11-09T17:05:14.448759Z",
     "iopub.status.idle": "2024-11-09T17:05:14.472669Z",
     "shell.execute_reply": "2024-11-09T17:05:14.470854Z"
    },
    "papermill": {
     "duration": 0.03793,
     "end_time": "2024-11-09T17:05:14.475501",
     "exception": false,
     "start_time": "2024-11-09T17:05:14.437571",
     "status": "completed"
    },
    "tags": []
   },
   "outputs": [
    {
     "name": "stdout",
     "output_type": "stream",
     "text": [
      "sii\n",
      "0.0    1594\n",
      "NaN    1224\n",
      "1.0     730\n",
      "2.0     378\n",
      "3.0      34\n",
      "Name: count, dtype: int64\n"
     ]
    }
   ],
   "source": [
    "# Group by 'sii' and count occurrences, including NaN as a category\n",
    "sii_counts = train['sii'].value_counts(dropna=False)\n",
    "\n",
    "# Display the counts\n",
    "print(sii_counts)"
   ]
  },
  {
   "cell_type": "code",
   "execution_count": 10,
   "id": "4b8ff335",
   "metadata": {
    "execution": {
     "iopub.execute_input": "2024-11-09T17:05:14.503888Z",
     "iopub.status.busy": "2024-11-09T17:05:14.501952Z",
     "iopub.status.idle": "2024-11-09T17:05:14.553641Z",
     "shell.execute_reply": "2024-11-09T17:05:14.551790Z"
    },
    "papermill": {
     "duration": 0.071991,
     "end_time": "2024-11-09T17:05:14.557432",
     "exception": false,
     "start_time": "2024-11-09T17:05:14.485441",
     "status": "completed"
    },
    "tags": []
   },
   "outputs": [
    {
     "data": {
      "text/html": [
       "<div>\n",
       "<style scoped>\n",
       "    .dataframe tbody tr th:only-of-type {\n",
       "        vertical-align: middle;\n",
       "    }\n",
       "\n",
       "    .dataframe tbody tr th {\n",
       "        vertical-align: top;\n",
       "    }\n",
       "\n",
       "    .dataframe thead th {\n",
       "        text-align: right;\n",
       "    }\n",
       "</style>\n",
       "<table border=\"1\" class=\"dataframe\">\n",
       "  <thead>\n",
       "    <tr style=\"text-align: right;\">\n",
       "      <th></th>\n",
       "      <th>id</th>\n",
       "      <th>Basic_Demos-Enroll_Season</th>\n",
       "      <th>Basic_Demos-Age</th>\n",
       "      <th>Basic_Demos-Sex</th>\n",
       "      <th>CGAS-Season</th>\n",
       "      <th>CGAS-CGAS_Score</th>\n",
       "      <th>Physical-Season</th>\n",
       "      <th>Physical-BMI</th>\n",
       "      <th>Physical-Height</th>\n",
       "      <th>Physical-Weight</th>\n",
       "      <th>...</th>\n",
       "      <th>PCIAT-PCIAT_18</th>\n",
       "      <th>PCIAT-PCIAT_19</th>\n",
       "      <th>PCIAT-PCIAT_20</th>\n",
       "      <th>PCIAT-PCIAT_Total</th>\n",
       "      <th>SDS-Season</th>\n",
       "      <th>SDS-SDS_Total_Raw</th>\n",
       "      <th>SDS-SDS_Total_T</th>\n",
       "      <th>PreInt_EduHx-Season</th>\n",
       "      <th>PreInt_EduHx-computerinternet_hoursday</th>\n",
       "      <th>sii</th>\n",
       "    </tr>\n",
       "  </thead>\n",
       "  <tbody>\n",
       "    <tr>\n",
       "      <th>191</th>\n",
       "      <td>0ac521c8</td>\n",
       "      <td>Spring</td>\n",
       "      <td>14</td>\n",
       "      <td>0</td>\n",
       "      <td>Fall</td>\n",
       "      <td>68.0</td>\n",
       "      <td>NaN</td>\n",
       "      <td>NaN</td>\n",
       "      <td>NaN</td>\n",
       "      <td>NaN</td>\n",
       "      <td>...</td>\n",
       "      <td>5.0</td>\n",
       "      <td>5.0</td>\n",
       "      <td>5.0</td>\n",
       "      <td>81.0</td>\n",
       "      <td>Summer</td>\n",
       "      <td>50.0</td>\n",
       "      <td>69.0</td>\n",
       "      <td>Spring</td>\n",
       "      <td>2.0</td>\n",
       "      <td>3.0</td>\n",
       "    </tr>\n",
       "    <tr>\n",
       "      <th>255</th>\n",
       "      <td>0e951124</td>\n",
       "      <td>Summer</td>\n",
       "      <td>14</td>\n",
       "      <td>0</td>\n",
       "      <td>NaN</td>\n",
       "      <td>NaN</td>\n",
       "      <td>Summer</td>\n",
       "      <td>20.371155</td>\n",
       "      <td>61.5</td>\n",
       "      <td>109.6</td>\n",
       "      <td>...</td>\n",
       "      <td>5.0</td>\n",
       "      <td>4.0</td>\n",
       "      <td>3.0</td>\n",
       "      <td>81.0</td>\n",
       "      <td>Summer</td>\n",
       "      <td>35.0</td>\n",
       "      <td>50.0</td>\n",
       "      <td>Summer</td>\n",
       "      <td>3.0</td>\n",
       "      <td>3.0</td>\n",
       "    </tr>\n",
       "    <tr>\n",
       "      <th>306</th>\n",
       "      <td>11f7253c</td>\n",
       "      <td>Fall</td>\n",
       "      <td>16</td>\n",
       "      <td>0</td>\n",
       "      <td>NaN</td>\n",
       "      <td>NaN</td>\n",
       "      <td>Fall</td>\n",
       "      <td>46.102914</td>\n",
       "      <td>67.5</td>\n",
       "      <td>298.8</td>\n",
       "      <td>...</td>\n",
       "      <td>5.0</td>\n",
       "      <td>5.0</td>\n",
       "      <td>5.0</td>\n",
       "      <td>89.0</td>\n",
       "      <td>Fall</td>\n",
       "      <td>67.0</td>\n",
       "      <td>91.0</td>\n",
       "      <td>Fall</td>\n",
       "      <td>3.0</td>\n",
       "      <td>3.0</td>\n",
       "    </tr>\n",
       "    <tr>\n",
       "      <th>370</th>\n",
       "      <td>157b271f</td>\n",
       "      <td>Spring</td>\n",
       "      <td>15</td>\n",
       "      <td>1</td>\n",
       "      <td>Summer</td>\n",
       "      <td>48.0</td>\n",
       "      <td>Spring</td>\n",
       "      <td>20.900479</td>\n",
       "      <td>63.0</td>\n",
       "      <td>118.0</td>\n",
       "      <td>...</td>\n",
       "      <td>5.0</td>\n",
       "      <td>5.0</td>\n",
       "      <td>5.0</td>\n",
       "      <td>92.0</td>\n",
       "      <td>Spring</td>\n",
       "      <td>53.0</td>\n",
       "      <td>73.0</td>\n",
       "      <td>Spring</td>\n",
       "      <td>3.0</td>\n",
       "      <td>3.0</td>\n",
       "    </tr>\n",
       "    <tr>\n",
       "      <th>405</th>\n",
       "      <td>1824417f</td>\n",
       "      <td>Summer</td>\n",
       "      <td>11</td>\n",
       "      <td>0</td>\n",
       "      <td>Spring</td>\n",
       "      <td>60.0</td>\n",
       "      <td>Winter</td>\n",
       "      <td>15.166845</td>\n",
       "      <td>61.5</td>\n",
       "      <td>81.6</td>\n",
       "      <td>...</td>\n",
       "      <td>5.0</td>\n",
       "      <td>4.0</td>\n",
       "      <td>4.0</td>\n",
       "      <td>80.0</td>\n",
       "      <td>Spring</td>\n",
       "      <td>60.0</td>\n",
       "      <td>82.0</td>\n",
       "      <td>Summer</td>\n",
       "      <td>3.0</td>\n",
       "      <td>3.0</td>\n",
       "    </tr>\n",
       "  </tbody>\n",
       "</table>\n",
       "<p>5 rows × 82 columns</p>\n",
       "</div>"
      ],
      "text/plain": [
       "           id Basic_Demos-Enroll_Season  Basic_Demos-Age  Basic_Demos-Sex  \\\n",
       "191  0ac521c8                    Spring               14                0   \n",
       "255  0e951124                    Summer               14                0   \n",
       "306  11f7253c                      Fall               16                0   \n",
       "370  157b271f                    Spring               15                1   \n",
       "405  1824417f                    Summer               11                0   \n",
       "\n",
       "    CGAS-Season  CGAS-CGAS_Score Physical-Season  Physical-BMI  \\\n",
       "191        Fall             68.0             NaN           NaN   \n",
       "255         NaN              NaN          Summer     20.371155   \n",
       "306         NaN              NaN            Fall     46.102914   \n",
       "370      Summer             48.0          Spring     20.900479   \n",
       "405      Spring             60.0          Winter     15.166845   \n",
       "\n",
       "     Physical-Height  Physical-Weight  ...  PCIAT-PCIAT_18  PCIAT-PCIAT_19  \\\n",
       "191              NaN              NaN  ...             5.0             5.0   \n",
       "255             61.5            109.6  ...             5.0             4.0   \n",
       "306             67.5            298.8  ...             5.0             5.0   \n",
       "370             63.0            118.0  ...             5.0             5.0   \n",
       "405             61.5             81.6  ...             5.0             4.0   \n",
       "\n",
       "     PCIAT-PCIAT_20  PCIAT-PCIAT_Total SDS-Season  SDS-SDS_Total_Raw  \\\n",
       "191             5.0               81.0     Summer               50.0   \n",
       "255             3.0               81.0     Summer               35.0   \n",
       "306             5.0               89.0       Fall               67.0   \n",
       "370             5.0               92.0     Spring               53.0   \n",
       "405             4.0               80.0     Spring               60.0   \n",
       "\n",
       "     SDS-SDS_Total_T  PreInt_EduHx-Season  \\\n",
       "191             69.0               Spring   \n",
       "255             50.0               Summer   \n",
       "306             91.0                 Fall   \n",
       "370             73.0               Spring   \n",
       "405             82.0               Summer   \n",
       "\n",
       "    PreInt_EduHx-computerinternet_hoursday  sii  \n",
       "191                                    2.0  3.0  \n",
       "255                                    3.0  3.0  \n",
       "306                                    3.0  3.0  \n",
       "370                                    3.0  3.0  \n",
       "405                                    3.0  3.0  \n",
       "\n",
       "[5 rows x 82 columns]"
      ]
     },
     "execution_count": 10,
     "metadata": {},
     "output_type": "execute_result"
    }
   ],
   "source": [
    "train[(train['sii']==3)].head(5)"
   ]
  },
  {
   "cell_type": "markdown",
   "id": "a79f17f2",
   "metadata": {
    "papermill": {
     "duration": 0.011582,
     "end_time": "2024-11-09T17:05:14.585772",
     "exception": false,
     "start_time": "2024-11-09T17:05:14.574190",
     "status": "completed"
    },
    "tags": []
   },
   "source": [
    "# Reading the train actigraphy data (just loading the mean values of each column instead of all the rows for each id)"
   ]
  },
  {
   "cell_type": "code",
   "execution_count": 11,
   "id": "7f97bf4d",
   "metadata": {
    "execution": {
     "iopub.execute_input": "2024-11-09T17:05:14.609270Z",
     "iopub.status.busy": "2024-11-09T17:05:14.608794Z",
     "iopub.status.idle": "2024-11-09T17:05:14.619980Z",
     "shell.execute_reply": "2024-11-09T17:05:14.618476Z"
    },
    "papermill": {
     "duration": 0.026476,
     "end_time": "2024-11-09T17:05:14.622830",
     "exception": false,
     "start_time": "2024-11-09T17:05:14.596354",
     "status": "completed"
    },
    "tags": []
   },
   "outputs": [],
   "source": [
    "def process_file(filename, dirname):\n",
    "    df = pd.read_parquet(os.path.join(dirname, filename, 'part-0.parquet'))\n",
    "    df.drop('step', axis=1, inplace=True)\n",
    "    return df.describe().values.reshape(-1), filename.split('=')[1]\n",
    "\n",
    "def load_time_series(dirname) -> pd.DataFrame:\n",
    "    ids = os.listdir(dirname)\n",
    "    \n",
    "    with ThreadPoolExecutor() as executor:\n",
    "        results = list(tqdm(executor.map(lambda fname: process_file(fname, dirname), ids), total=len(ids)))\n",
    "    \n",
    "    stats, indexes = zip(*results)\n",
    "    \n",
    "    df = pd.DataFrame(stats, columns=[f\"stat_{i}\" for i in range(len(stats[0]))])\n",
    "    df['id'] = indexes\n",
    "    return df"
   ]
  },
  {
   "cell_type": "code",
   "execution_count": 12,
   "id": "9961bddc",
   "metadata": {
    "execution": {
     "iopub.execute_input": "2024-11-09T17:05:14.647084Z",
     "iopub.status.busy": "2024-11-09T17:05:14.646624Z",
     "iopub.status.idle": "2024-11-09T17:07:02.562832Z",
     "shell.execute_reply": "2024-11-09T17:07:02.561409Z"
    },
    "papermill": {
     "duration": 107.931973,
     "end_time": "2024-11-09T17:07:02.566034",
     "exception": false,
     "start_time": "2024-11-09T17:05:14.634061",
     "status": "completed"
    },
    "tags": []
   },
   "outputs": [
    {
     "data": {
      "application/vnd.jupyter.widget-view+json": {
       "model_id": "af59ecce89c8409fa58d2a2cc2ecb924",
       "version_major": 2,
       "version_minor": 0
      },
      "text/plain": [
       "  0%|          | 0/996 [00:00<?, ?it/s]"
      ]
     },
     "metadata": {},
     "output_type": "display_data"
    },
    {
     "data": {
      "text/plain": [
       "996"
      ]
     },
     "execution_count": 12,
     "metadata": {},
     "output_type": "execute_result"
    }
   ],
   "source": [
    "train_ts = load_time_series(\"/kaggle/input/child-mind-institute-problematic-internet-use/series_train.parquet\")\n",
    "len(train_ts)"
   ]
  },
  {
   "cell_type": "code",
   "execution_count": 13,
   "id": "658d3f0e",
   "metadata": {
    "execution": {
     "iopub.execute_input": "2024-11-09T17:07:02.591369Z",
     "iopub.status.busy": "2024-11-09T17:07:02.590574Z",
     "iopub.status.idle": "2024-11-09T17:07:02.636704Z",
     "shell.execute_reply": "2024-11-09T17:07:02.635175Z"
    },
    "papermill": {
     "duration": 0.062527,
     "end_time": "2024-11-09T17:07:02.639857",
     "exception": false,
     "start_time": "2024-11-09T17:07:02.577330",
     "status": "completed"
    },
    "tags": []
   },
   "outputs": [
    {
     "data": {
      "text/html": [
       "<div>\n",
       "<style scoped>\n",
       "    .dataframe tbody tr th:only-of-type {\n",
       "        vertical-align: middle;\n",
       "    }\n",
       "\n",
       "    .dataframe tbody tr th {\n",
       "        vertical-align: top;\n",
       "    }\n",
       "\n",
       "    .dataframe thead th {\n",
       "        text-align: right;\n",
       "    }\n",
       "</style>\n",
       "<table border=\"1\" class=\"dataframe\">\n",
       "  <thead>\n",
       "    <tr style=\"text-align: right;\">\n",
       "      <th></th>\n",
       "      <th>stat_0</th>\n",
       "      <th>stat_1</th>\n",
       "      <th>stat_2</th>\n",
       "      <th>stat_3</th>\n",
       "      <th>stat_4</th>\n",
       "      <th>stat_5</th>\n",
       "      <th>stat_6</th>\n",
       "      <th>stat_7</th>\n",
       "      <th>stat_8</th>\n",
       "      <th>stat_9</th>\n",
       "      <th>...</th>\n",
       "      <th>stat_87</th>\n",
       "      <th>stat_88</th>\n",
       "      <th>stat_89</th>\n",
       "      <th>stat_90</th>\n",
       "      <th>stat_91</th>\n",
       "      <th>stat_92</th>\n",
       "      <th>stat_93</th>\n",
       "      <th>stat_94</th>\n",
       "      <th>stat_95</th>\n",
       "      <th>id</th>\n",
       "    </tr>\n",
       "  </thead>\n",
       "  <tbody>\n",
       "    <tr>\n",
       "      <th>0</th>\n",
       "      <td>50458.0</td>\n",
       "      <td>50458.0</td>\n",
       "      <td>50458.0</td>\n",
       "      <td>50458.0</td>\n",
       "      <td>50458.0</td>\n",
       "      <td>50458.0</td>\n",
       "      <td>50458.0</td>\n",
       "      <td>50458.0</td>\n",
       "      <td>50458.0</td>\n",
       "      <td>50458.0</td>\n",
       "      <td>...</td>\n",
       "      <td>5.314874</td>\n",
       "      <td>89.422226</td>\n",
       "      <td>0.0</td>\n",
       "      <td>2626.199951</td>\n",
       "      <td>4187.0</td>\n",
       "      <td>8.639500e+13</td>\n",
       "      <td>7.0</td>\n",
       "      <td>2.0</td>\n",
       "      <td>57.0</td>\n",
       "      <td>0745c390</td>\n",
       "    </tr>\n",
       "    <tr>\n",
       "      <th>1</th>\n",
       "      <td>340584.0</td>\n",
       "      <td>340584.0</td>\n",
       "      <td>340584.0</td>\n",
       "      <td>340584.0</td>\n",
       "      <td>340584.0</td>\n",
       "      <td>340584.0</td>\n",
       "      <td>340584.0</td>\n",
       "      <td>340584.0</td>\n",
       "      <td>340584.0</td>\n",
       "      <td>340584.0</td>\n",
       "      <td>...</td>\n",
       "      <td>3.966906</td>\n",
       "      <td>89.080330</td>\n",
       "      <td>1.0</td>\n",
       "      <td>2628.199951</td>\n",
       "      <td>4146.0</td>\n",
       "      <td>8.639500e+13</td>\n",
       "      <td>7.0</td>\n",
       "      <td>2.0</td>\n",
       "      <td>243.0</td>\n",
       "      <td>eaab7a96</td>\n",
       "    </tr>\n",
       "    <tr>\n",
       "      <th>2</th>\n",
       "      <td>40003.0</td>\n",
       "      <td>40003.0</td>\n",
       "      <td>40003.0</td>\n",
       "      <td>40003.0</td>\n",
       "      <td>40003.0</td>\n",
       "      <td>40003.0</td>\n",
       "      <td>40003.0</td>\n",
       "      <td>40003.0</td>\n",
       "      <td>40003.0</td>\n",
       "      <td>40003.0</td>\n",
       "      <td>...</td>\n",
       "      <td>5.066334</td>\n",
       "      <td>86.987267</td>\n",
       "      <td>0.0</td>\n",
       "      <td>2618.199951</td>\n",
       "      <td>4183.0</td>\n",
       "      <td>8.636500e+13</td>\n",
       "      <td>7.0</td>\n",
       "      <td>3.0</td>\n",
       "      <td>134.0</td>\n",
       "      <td>8ec2cc63</td>\n",
       "    </tr>\n",
       "    <tr>\n",
       "      <th>3</th>\n",
       "      <td>223915.0</td>\n",
       "      <td>223915.0</td>\n",
       "      <td>223915.0</td>\n",
       "      <td>223915.0</td>\n",
       "      <td>223915.0</td>\n",
       "      <td>223915.0</td>\n",
       "      <td>223915.0</td>\n",
       "      <td>223915.0</td>\n",
       "      <td>223915.0</td>\n",
       "      <td>223915.0</td>\n",
       "      <td>...</td>\n",
       "      <td>6.134459</td>\n",
       "      <td>89.976074</td>\n",
       "      <td>0.0</td>\n",
       "      <td>2502.000000</td>\n",
       "      <td>6000.0</td>\n",
       "      <td>8.639500e+13</td>\n",
       "      <td>7.0</td>\n",
       "      <td>4.0</td>\n",
       "      <td>72.0</td>\n",
       "      <td>b2987a65</td>\n",
       "    </tr>\n",
       "    <tr>\n",
       "      <th>4</th>\n",
       "      <td>15420.0</td>\n",
       "      <td>15420.0</td>\n",
       "      <td>15420.0</td>\n",
       "      <td>15420.0</td>\n",
       "      <td>15420.0</td>\n",
       "      <td>15420.0</td>\n",
       "      <td>15420.0</td>\n",
       "      <td>15420.0</td>\n",
       "      <td>15420.0</td>\n",
       "      <td>15420.0</td>\n",
       "      <td>...</td>\n",
       "      <td>2.774382</td>\n",
       "      <td>89.300034</td>\n",
       "      <td>0.0</td>\n",
       "      <td>1046.800049</td>\n",
       "      <td>4199.0</td>\n",
       "      <td>8.601500e+13</td>\n",
       "      <td>7.0</td>\n",
       "      <td>4.0</td>\n",
       "      <td>76.0</td>\n",
       "      <td>7b8842c3</td>\n",
       "    </tr>\n",
       "  </tbody>\n",
       "</table>\n",
       "<p>5 rows × 97 columns</p>\n",
       "</div>"
      ],
      "text/plain": [
       "     stat_0    stat_1    stat_2    stat_3    stat_4    stat_5    stat_6  \\\n",
       "0   50458.0   50458.0   50458.0   50458.0   50458.0   50458.0   50458.0   \n",
       "1  340584.0  340584.0  340584.0  340584.0  340584.0  340584.0  340584.0   \n",
       "2   40003.0   40003.0   40003.0   40003.0   40003.0   40003.0   40003.0   \n",
       "3  223915.0  223915.0  223915.0  223915.0  223915.0  223915.0  223915.0   \n",
       "4   15420.0   15420.0   15420.0   15420.0   15420.0   15420.0   15420.0   \n",
       "\n",
       "     stat_7    stat_8    stat_9  ...   stat_87    stat_88  stat_89  \\\n",
       "0   50458.0   50458.0   50458.0  ...  5.314874  89.422226      0.0   \n",
       "1  340584.0  340584.0  340584.0  ...  3.966906  89.080330      1.0   \n",
       "2   40003.0   40003.0   40003.0  ...  5.066334  86.987267      0.0   \n",
       "3  223915.0  223915.0  223915.0  ...  6.134459  89.976074      0.0   \n",
       "4   15420.0   15420.0   15420.0  ...  2.774382  89.300034      0.0   \n",
       "\n",
       "       stat_90  stat_91       stat_92  stat_93  stat_94  stat_95        id  \n",
       "0  2626.199951   4187.0  8.639500e+13      7.0      2.0     57.0  0745c390  \n",
       "1  2628.199951   4146.0  8.639500e+13      7.0      2.0    243.0  eaab7a96  \n",
       "2  2618.199951   4183.0  8.636500e+13      7.0      3.0    134.0  8ec2cc63  \n",
       "3  2502.000000   6000.0  8.639500e+13      7.0      4.0     72.0  b2987a65  \n",
       "4  1046.800049   4199.0  8.601500e+13      7.0      4.0     76.0  7b8842c3  \n",
       "\n",
       "[5 rows x 97 columns]"
      ]
     },
     "execution_count": 13,
     "metadata": {},
     "output_type": "execute_result"
    }
   ],
   "source": [
    "train_ts.head(5)"
   ]
  },
  {
   "cell_type": "markdown",
   "id": "5638457e",
   "metadata": {
    "papermill": {
     "duration": 0.012052,
     "end_time": "2024-11-09T17:07:02.663946",
     "exception": false,
     "start_time": "2024-11-09T17:07:02.651894",
     "status": "completed"
    },
    "tags": []
   },
   "source": [
    "# Counts based on the the different sets \n",
    "* How many data we have to train?\n",
    "* How many ids have both the actigraphy data and the tabular data?\n",
    "* Potentially define our train and test sets size, and a seed for both"
   ]
  },
  {
   "cell_type": "code",
   "execution_count": 14,
   "id": "2d60baf3",
   "metadata": {
    "execution": {
     "iopub.execute_input": "2024-11-09T17:07:02.690180Z",
     "iopub.status.busy": "2024-11-09T17:07:02.689662Z",
     "iopub.status.idle": "2024-11-09T17:07:02.698044Z",
     "shell.execute_reply": "2024-11-09T17:07:02.696702Z"
    },
    "papermill": {
     "duration": 0.025865,
     "end_time": "2024-11-09T17:07:02.701751",
     "exception": false,
     "start_time": "2024-11-09T17:07:02.675886",
     "status": "completed"
    },
    "tags": []
   },
   "outputs": [
    {
     "name": "stdout",
     "output_type": "stream",
     "text": [
      "the ids we have in the training set  3960 the ids we have with actigraphy data  996  a percentage of  0.25\n"
     ]
    }
   ],
   "source": [
    "print(\"the ids we have in the training set \",len(train),\"the ids we have with actigraphy data \",len(train_ts),\" a percentage of \",round(len(train_ts)/len(train),2))"
   ]
  },
  {
   "cell_type": "code",
   "execution_count": 15,
   "id": "a42adb4e",
   "metadata": {
    "execution": {
     "iopub.execute_input": "2024-11-09T17:07:02.727704Z",
     "iopub.status.busy": "2024-11-09T17:07:02.727056Z",
     "iopub.status.idle": "2024-11-09T17:07:02.751209Z",
     "shell.execute_reply": "2024-11-09T17:07:02.749912Z"
    },
    "papermill": {
     "duration": 0.040056,
     "end_time": "2024-11-09T17:07:02.753797",
     "exception": false,
     "start_time": "2024-11-09T17:07:02.713741",
     "status": "completed"
    },
    "tags": []
   },
   "outputs": [
    {
     "data": {
      "text/plain": [
       "996"
      ]
     },
     "execution_count": 15,
     "metadata": {},
     "output_type": "execute_result"
    }
   ],
   "source": [
    "merged_data = train.merge(train_ts[['id']], on='id', how='inner')\n",
    "len(merged_data)"
   ]
  },
  {
   "cell_type": "code",
   "execution_count": 16,
   "id": "3e8e19af",
   "metadata": {
    "execution": {
     "iopub.execute_input": "2024-11-09T17:07:02.780597Z",
     "iopub.status.busy": "2024-11-09T17:07:02.779350Z",
     "iopub.status.idle": "2024-11-09T17:07:02.789701Z",
     "shell.execute_reply": "2024-11-09T17:07:02.788310Z"
    },
    "papermill": {
     "duration": 0.026846,
     "end_time": "2024-11-09T17:07:02.792398",
     "exception": false,
     "start_time": "2024-11-09T17:07:02.765552",
     "status": "completed"
    },
    "tags": []
   },
   "outputs": [
    {
     "name": "stdout",
     "output_type": "stream",
     "text": [
      "sii\n",
      "0.0    583\n",
      "1.0    266\n",
      "2.0    137\n",
      "3.0     10\n",
      "Name: count, dtype: int64\n"
     ]
    }
   ],
   "source": [
    "# Group by 'sii' and count occurrences, including NaN as a category\n",
    "sii_counts = merged_data['sii'].value_counts(dropna=False)\n",
    "\n",
    "# Display the counts\n",
    "print(sii_counts)"
   ]
  },
  {
   "cell_type": "markdown",
   "id": "c048d89d",
   "metadata": {
    "papermill": {
     "duration": 0.012491,
     "end_time": "2024-11-09T17:07:02.816423",
     "exception": false,
     "start_time": "2024-11-09T17:07:02.803932",
     "status": "completed"
    },
    "tags": []
   },
   "source": [
    "# Creates a column to identify if it has or not actigraphy data\n",
    "# saves the data in a new set, so that each time we dont have to load it."
   ]
  },
  {
   "cell_type": "code",
   "execution_count": 17,
   "id": "7118af24",
   "metadata": {
    "execution": {
     "iopub.execute_input": "2024-11-09T17:07:02.841782Z",
     "iopub.status.busy": "2024-11-09T17:07:02.841196Z",
     "iopub.status.idle": "2024-11-09T17:07:02.864214Z",
     "shell.execute_reply": "2024-11-09T17:07:02.862745Z"
    },
    "papermill": {
     "duration": 0.039058,
     "end_time": "2024-11-09T17:07:02.867119",
     "exception": false,
     "start_time": "2024-11-09T17:07:02.828061",
     "status": "completed"
    },
    "tags": []
   },
   "outputs": [
    {
     "data": {
      "text/plain": [
       "3960"
      ]
     },
     "execution_count": 17,
     "metadata": {},
     "output_type": "execute_result"
    }
   ],
   "source": [
    "train_ts['Has_actigraphy_data']='Yes'\n",
    "merged_data = train.merge(train_ts[['id','Has_actigraphy_data']], on='id', how='left') #left join instead of inner\n",
    "len(merged_data)"
   ]
  },
  {
   "cell_type": "code",
   "execution_count": 18,
   "id": "93c075c8",
   "metadata": {
    "execution": {
     "iopub.execute_input": "2024-11-09T17:07:02.894046Z",
     "iopub.status.busy": "2024-11-09T17:07:02.892984Z",
     "iopub.status.idle": "2024-11-09T17:07:02.908868Z",
     "shell.execute_reply": "2024-11-09T17:07:02.907464Z"
    },
    "papermill": {
     "duration": 0.032549,
     "end_time": "2024-11-09T17:07:02.911615",
     "exception": false,
     "start_time": "2024-11-09T17:07:02.879066",
     "status": "completed"
    },
    "tags": []
   },
   "outputs": [
    {
     "data": {
      "text/plain": [
       "Has_actigraphy_data\n",
       "No     2964\n",
       "Yes     996\n",
       "dtype: int64"
      ]
     },
     "execution_count": 18,
     "metadata": {},
     "output_type": "execute_result"
    }
   ],
   "source": [
    "merged_data['Has_actigraphy_data'].fillna('No', inplace=True)\n",
    "merged_data.groupby('Has_actigraphy_data').size()"
   ]
  },
  {
   "cell_type": "code",
   "execution_count": 19,
   "id": "66241c96",
   "metadata": {
    "execution": {
     "iopub.execute_input": "2024-11-09T17:07:02.939218Z",
     "iopub.status.busy": "2024-11-09T17:07:02.938575Z",
     "iopub.status.idle": "2024-11-09T17:07:03.195594Z",
     "shell.execute_reply": "2024-11-09T17:07:03.194496Z"
    },
    "papermill": {
     "duration": 0.274346,
     "end_time": "2024-11-09T17:07:03.198291",
     "exception": false,
     "start_time": "2024-11-09T17:07:02.923945",
     "status": "completed"
    },
    "tags": []
   },
   "outputs": [],
   "source": [
    "from sklearn.model_selection import train_test_split"
   ]
  },
  {
   "cell_type": "code",
   "execution_count": 20,
   "id": "6efacc9d",
   "metadata": {
    "execution": {
     "iopub.execute_input": "2024-11-09T17:07:03.225083Z",
     "iopub.status.busy": "2024-11-09T17:07:03.224605Z",
     "iopub.status.idle": "2024-11-09T17:07:03.261403Z",
     "shell.execute_reply": "2024-11-09T17:07:03.259941Z"
    },
    "papermill": {
     "duration": 0.053404,
     "end_time": "2024-11-09T17:07:03.264574",
     "exception": false,
     "start_time": "2024-11-09T17:07:03.211170",
     "status": "completed"
    },
    "tags": []
   },
   "outputs": [],
   "source": [
    "train_data, test_data = train_test_split(\n",
    "    merged_data[merged_data['Has_actigraphy_data'] == 'Yes'],\n",
    "    test_size=0.2, \n",
    "    random_state=1234\n",
    ")\n",
    "\n",
    "merged_data['Train_Test_Label'] = 'isnotintrainset'\n",
    "\n",
    "merged_data.loc[merged_data['Has_actigraphy_data'] == 'Yes', 'Train_Test_Label'] = \\\n",
    "    merged_data.loc[merged_data['Has_actigraphy_data'] == 'Yes',].apply(\n",
    "        lambda row: 'train' if row.name in train_data.index else 'test', axis=1)"
   ]
  },
  {
   "cell_type": "code",
   "execution_count": 21,
   "id": "85462965",
   "metadata": {
    "execution": {
     "iopub.execute_input": "2024-11-09T17:07:03.291580Z",
     "iopub.status.busy": "2024-11-09T17:07:03.290967Z",
     "iopub.status.idle": "2024-11-09T17:07:03.304253Z",
     "shell.execute_reply": "2024-11-09T17:07:03.303014Z"
    },
    "papermill": {
     "duration": 0.029833,
     "end_time": "2024-11-09T17:07:03.306769",
     "exception": false,
     "start_time": "2024-11-09T17:07:03.276936",
     "status": "completed"
    },
    "tags": []
   },
   "outputs": [
    {
     "data": {
      "text/plain": [
       "Train_Test_Label\n",
       "isnotintrainset    2964\n",
       "test                200\n",
       "train               796\n",
       "dtype: int64"
      ]
     },
     "execution_count": 21,
     "metadata": {},
     "output_type": "execute_result"
    }
   ],
   "source": [
    "merged_data.groupby('Train_Test_Label').size()"
   ]
  },
  {
   "cell_type": "code",
   "execution_count": 22,
   "id": "a8165d3e",
   "metadata": {
    "execution": {
     "iopub.execute_input": "2024-11-09T17:07:03.333194Z",
     "iopub.status.busy": "2024-11-09T17:07:03.332692Z",
     "iopub.status.idle": "2024-11-09T17:07:03.340169Z",
     "shell.execute_reply": "2024-11-09T17:07:03.338696Z"
    },
    "papermill": {
     "duration": 0.02393,
     "end_time": "2024-11-09T17:07:03.343083",
     "exception": false,
     "start_time": "2024-11-09T17:07:03.319153",
     "status": "completed"
    },
    "tags": []
   },
   "outputs": [
    {
     "name": "stdout",
     "output_type": "stream",
     "text": [
      "Training data size: 796\n",
      "Testing data size: 200\n"
     ]
    }
   ],
   "source": [
    "print(f\"Training data size: {len(train_data)}\")\n",
    "print(f\"Testing data size: {len(test_data)}\")"
   ]
  },
  {
   "cell_type": "code",
   "execution_count": 23,
   "id": "004d17a1",
   "metadata": {
    "execution": {
     "iopub.execute_input": "2024-11-09T17:07:03.369952Z",
     "iopub.status.busy": "2024-11-09T17:07:03.369508Z",
     "iopub.status.idle": "2024-11-09T17:07:03.659271Z",
     "shell.execute_reply": "2024-11-09T17:07:03.658201Z"
    },
    "papermill": {
     "duration": 0.306956,
     "end_time": "2024-11-09T17:07:03.662523",
     "exception": false,
     "start_time": "2024-11-09T17:07:03.355567",
     "status": "completed"
    },
    "tags": []
   },
   "outputs": [],
   "source": [
    "merged_data.to_csv('Dataset_problematic_internet_usage.csv')"
   ]
  },
  {
   "cell_type": "code",
   "execution_count": null,
   "id": "51ec34d1",
   "metadata": {
    "papermill": {
     "duration": 0.01174,
     "end_time": "2024-11-09T17:07:03.687634",
     "exception": false,
     "start_time": "2024-11-09T17:07:03.675894",
     "status": "completed"
    },
    "tags": []
   },
   "outputs": [],
   "source": []
  }
 ],
 "metadata": {
  "kaggle": {
   "accelerator": "none",
   "dataSources": [
    {
     "databundleVersionId": 9643020,
     "sourceId": 81933,
     "sourceType": "competition"
    }
   ],
   "dockerImageVersionId": 30786,
   "isGpuEnabled": false,
   "isInternetEnabled": false,
   "language": "python",
   "sourceType": "notebook"
  },
  "kernelspec": {
   "display_name": "Python 3",
   "language": "python",
   "name": "python3"
  },
  "language_info": {
   "codemirror_mode": {
    "name": "ipython",
    "version": 3
   },
   "file_extension": ".py",
   "mimetype": "text/x-python",
   "name": "python",
   "nbconvert_exporter": "python",
   "pygments_lexer": "ipython3",
   "version": "3.10.14"
  },
  "papermill": {
   "default_parameters": {},
   "duration": 119.507074,
   "end_time": "2024-11-09T17:07:04.525912",
   "environment_variables": {},
   "exception": null,
   "input_path": "__notebook__.ipynb",
   "output_path": "__notebook__.ipynb",
   "parameters": {},
   "start_time": "2024-11-09T17:05:05.018838",
   "version": "2.6.0"
  },
  "widgets": {
   "application/vnd.jupyter.widget-state+json": {
    "state": {
     "1b2bc3e6506a47d19bcdd606b8fdbb73": {
      "model_module": "@jupyter-widgets/controls",
      "model_module_version": "1.5.0",
      "model_name": "FloatProgressModel",
      "state": {
       "_dom_classes": [],
       "_model_module": "@jupyter-widgets/controls",
       "_model_module_version": "1.5.0",
       "_model_name": "FloatProgressModel",
       "_view_count": null,
       "_view_module": "@jupyter-widgets/controls",
       "_view_module_version": "1.5.0",
       "_view_name": "ProgressView",
       "bar_style": "success",
       "description": "",
       "description_tooltip": null,
       "layout": "IPY_MODEL_8d427f88d373403494d1162e008f81de",
       "max": 996.0,
       "min": 0.0,
       "orientation": "horizontal",
       "style": "IPY_MODEL_f7bb671fb4914015a7b60fc566266f37",
       "value": 996.0
      }
     },
     "455138e5bd694a5ab2f9cd6eedd30eb8": {
      "model_module": "@jupyter-widgets/base",
      "model_module_version": "1.2.0",
      "model_name": "LayoutModel",
      "state": {
       "_model_module": "@jupyter-widgets/base",
       "_model_module_version": "1.2.0",
       "_model_name": "LayoutModel",
       "_view_count": null,
       "_view_module": "@jupyter-widgets/base",
       "_view_module_version": "1.2.0",
       "_view_name": "LayoutView",
       "align_content": null,
       "align_items": null,
       "align_self": null,
       "border": null,
       "bottom": null,
       "display": null,
       "flex": null,
       "flex_flow": null,
       "grid_area": null,
       "grid_auto_columns": null,
       "grid_auto_flow": null,
       "grid_auto_rows": null,
       "grid_column": null,
       "grid_gap": null,
       "grid_row": null,
       "grid_template_areas": null,
       "grid_template_columns": null,
       "grid_template_rows": null,
       "height": null,
       "justify_content": null,
       "justify_items": null,
       "left": null,
       "margin": null,
       "max_height": null,
       "max_width": null,
       "min_height": null,
       "min_width": null,
       "object_fit": null,
       "object_position": null,
       "order": null,
       "overflow": null,
       "overflow_x": null,
       "overflow_y": null,
       "padding": null,
       "right": null,
       "top": null,
       "visibility": null,
       "width": null
      }
     },
     "7743f554af31403abe2b164862a95683": {
      "model_module": "@jupyter-widgets/controls",
      "model_module_version": "1.5.0",
      "model_name": "HTMLModel",
      "state": {
       "_dom_classes": [],
       "_model_module": "@jupyter-widgets/controls",
       "_model_module_version": "1.5.0",
       "_model_name": "HTMLModel",
       "_view_count": null,
       "_view_module": "@jupyter-widgets/controls",
       "_view_module_version": "1.5.0",
       "_view_name": "HTMLView",
       "description": "",
       "description_tooltip": null,
       "layout": "IPY_MODEL_455138e5bd694a5ab2f9cd6eedd30eb8",
       "placeholder": "​",
       "style": "IPY_MODEL_eb2c3800e17d4eeea3c4ac70366525e1",
       "value": "100%"
      }
     },
     "8d427f88d373403494d1162e008f81de": {
      "model_module": "@jupyter-widgets/base",
      "model_module_version": "1.2.0",
      "model_name": "LayoutModel",
      "state": {
       "_model_module": "@jupyter-widgets/base",
       "_model_module_version": "1.2.0",
       "_model_name": "LayoutModel",
       "_view_count": null,
       "_view_module": "@jupyter-widgets/base",
       "_view_module_version": "1.2.0",
       "_view_name": "LayoutView",
       "align_content": null,
       "align_items": null,
       "align_self": null,
       "border": null,
       "bottom": null,
       "display": null,
       "flex": null,
       "flex_flow": null,
       "grid_area": null,
       "grid_auto_columns": null,
       "grid_auto_flow": null,
       "grid_auto_rows": null,
       "grid_column": null,
       "grid_gap": null,
       "grid_row": null,
       "grid_template_areas": null,
       "grid_template_columns": null,
       "grid_template_rows": null,
       "height": null,
       "justify_content": null,
       "justify_items": null,
       "left": null,
       "margin": null,
       "max_height": null,
       "max_width": null,
       "min_height": null,
       "min_width": null,
       "object_fit": null,
       "object_position": null,
       "order": null,
       "overflow": null,
       "overflow_x": null,
       "overflow_y": null,
       "padding": null,
       "right": null,
       "top": null,
       "visibility": null,
       "width": null
      }
     },
     "ad1f048ecd3c4ac79c224ab49aade6d2": {
      "model_module": "@jupyter-widgets/controls",
      "model_module_version": "1.5.0",
      "model_name": "HTMLModel",
      "state": {
       "_dom_classes": [],
       "_model_module": "@jupyter-widgets/controls",
       "_model_module_version": "1.5.0",
       "_model_name": "HTMLModel",
       "_view_count": null,
       "_view_module": "@jupyter-widgets/controls",
       "_view_module_version": "1.5.0",
       "_view_name": "HTMLView",
       "description": "",
       "description_tooltip": null,
       "layout": "IPY_MODEL_d86d1dd03c3242cb9498dd32d2d3bf80",
       "placeholder": "​",
       "style": "IPY_MODEL_b83fe4a7bb3b4f2c9d38372bce6acf96",
       "value": " 996/996 [01:47&lt;00:00, 16.96it/s]"
      }
     },
     "af59ecce89c8409fa58d2a2cc2ecb924": {
      "model_module": "@jupyter-widgets/controls",
      "model_module_version": "1.5.0",
      "model_name": "HBoxModel",
      "state": {
       "_dom_classes": [],
       "_model_module": "@jupyter-widgets/controls",
       "_model_module_version": "1.5.0",
       "_model_name": "HBoxModel",
       "_view_count": null,
       "_view_module": "@jupyter-widgets/controls",
       "_view_module_version": "1.5.0",
       "_view_name": "HBoxView",
       "box_style": "",
       "children": [
        "IPY_MODEL_7743f554af31403abe2b164862a95683",
        "IPY_MODEL_1b2bc3e6506a47d19bcdd606b8fdbb73",
        "IPY_MODEL_ad1f048ecd3c4ac79c224ab49aade6d2"
       ],
       "layout": "IPY_MODEL_d74ad9f223374b22b922d802aa7d9b59"
      }
     },
     "b83fe4a7bb3b4f2c9d38372bce6acf96": {
      "model_module": "@jupyter-widgets/controls",
      "model_module_version": "1.5.0",
      "model_name": "DescriptionStyleModel",
      "state": {
       "_model_module": "@jupyter-widgets/controls",
       "_model_module_version": "1.5.0",
       "_model_name": "DescriptionStyleModel",
       "_view_count": null,
       "_view_module": "@jupyter-widgets/base",
       "_view_module_version": "1.2.0",
       "_view_name": "StyleView",
       "description_width": ""
      }
     },
     "d74ad9f223374b22b922d802aa7d9b59": {
      "model_module": "@jupyter-widgets/base",
      "model_module_version": "1.2.0",
      "model_name": "LayoutModel",
      "state": {
       "_model_module": "@jupyter-widgets/base",
       "_model_module_version": "1.2.0",
       "_model_name": "LayoutModel",
       "_view_count": null,
       "_view_module": "@jupyter-widgets/base",
       "_view_module_version": "1.2.0",
       "_view_name": "LayoutView",
       "align_content": null,
       "align_items": null,
       "align_self": null,
       "border": null,
       "bottom": null,
       "display": null,
       "flex": null,
       "flex_flow": null,
       "grid_area": null,
       "grid_auto_columns": null,
       "grid_auto_flow": null,
       "grid_auto_rows": null,
       "grid_column": null,
       "grid_gap": null,
       "grid_row": null,
       "grid_template_areas": null,
       "grid_template_columns": null,
       "grid_template_rows": null,
       "height": null,
       "justify_content": null,
       "justify_items": null,
       "left": null,
       "margin": null,
       "max_height": null,
       "max_width": null,
       "min_height": null,
       "min_width": null,
       "object_fit": null,
       "object_position": null,
       "order": null,
       "overflow": null,
       "overflow_x": null,
       "overflow_y": null,
       "padding": null,
       "right": null,
       "top": null,
       "visibility": null,
       "width": null
      }
     },
     "d86d1dd03c3242cb9498dd32d2d3bf80": {
      "model_module": "@jupyter-widgets/base",
      "model_module_version": "1.2.0",
      "model_name": "LayoutModel",
      "state": {
       "_model_module": "@jupyter-widgets/base",
       "_model_module_version": "1.2.0",
       "_model_name": "LayoutModel",
       "_view_count": null,
       "_view_module": "@jupyter-widgets/base",
       "_view_module_version": "1.2.0",
       "_view_name": "LayoutView",
       "align_content": null,
       "align_items": null,
       "align_self": null,
       "border": null,
       "bottom": null,
       "display": null,
       "flex": null,
       "flex_flow": null,
       "grid_area": null,
       "grid_auto_columns": null,
       "grid_auto_flow": null,
       "grid_auto_rows": null,
       "grid_column": null,
       "grid_gap": null,
       "grid_row": null,
       "grid_template_areas": null,
       "grid_template_columns": null,
       "grid_template_rows": null,
       "height": null,
       "justify_content": null,
       "justify_items": null,
       "left": null,
       "margin": null,
       "max_height": null,
       "max_width": null,
       "min_height": null,
       "min_width": null,
       "object_fit": null,
       "object_position": null,
       "order": null,
       "overflow": null,
       "overflow_x": null,
       "overflow_y": null,
       "padding": null,
       "right": null,
       "top": null,
       "visibility": null,
       "width": null
      }
     },
     "eb2c3800e17d4eeea3c4ac70366525e1": {
      "model_module": "@jupyter-widgets/controls",
      "model_module_version": "1.5.0",
      "model_name": "DescriptionStyleModel",
      "state": {
       "_model_module": "@jupyter-widgets/controls",
       "_model_module_version": "1.5.0",
       "_model_name": "DescriptionStyleModel",
       "_view_count": null,
       "_view_module": "@jupyter-widgets/base",
       "_view_module_version": "1.2.0",
       "_view_name": "StyleView",
       "description_width": ""
      }
     },
     "f7bb671fb4914015a7b60fc566266f37": {
      "model_module": "@jupyter-widgets/controls",
      "model_module_version": "1.5.0",
      "model_name": "ProgressStyleModel",
      "state": {
       "_model_module": "@jupyter-widgets/controls",
       "_model_module_version": "1.5.0",
       "_model_name": "ProgressStyleModel",
       "_view_count": null,
       "_view_module": "@jupyter-widgets/base",
       "_view_module_version": "1.2.0",
       "_view_name": "StyleView",
       "bar_color": null,
       "description_width": ""
      }
     }
    },
    "version_major": 2,
    "version_minor": 0
   }
  }
 },
 "nbformat": 4,
 "nbformat_minor": 5
}

{
 "cells": [
  {
   "cell_type": "markdown",
   "id": "b6d0560e",
   "metadata": {
    "papermill": {
     "duration": 0.006899,
     "end_time": "2024-11-24T00:05:37.169600",
     "exception": false,
     "start_time": "2024-11-24T00:05:37.162701",
     "status": "completed"
    },
    "tags": []
   },
   "source": [
    "# Libraries"
   ]
  },
  {
   "cell_type": "code",
   "execution_count": 1,
   "id": "6a160b63",
   "metadata": {
    "_cell_guid": "b1076dfc-b9ad-4769-8c92-a6c4dae69d19",
    "_uuid": "8f2839f25d086af736a60e9eeb907d3b93b6e0e5",
    "execution": {
     "iopub.execute_input": "2024-11-24T00:05:37.183732Z",
     "iopub.status.busy": "2024-11-24T00:05:37.183305Z",
     "iopub.status.idle": "2024-11-24T00:05:40.545138Z",
     "shell.execute_reply": "2024-11-24T00:05:40.544152Z"
    },
    "papermill": {
     "duration": 3.371618,
     "end_time": "2024-11-24T00:05:40.547610",
     "exception": false,
     "start_time": "2024-11-24T00:05:37.175992",
     "status": "completed"
    },
    "tags": []
   },
   "outputs": [],
   "source": [
    "import gc\n",
    "import pandas as pd\n",
    "import numpy as np\n",
    "import datetime as dt\n",
    "\n",
    "import matplotlib.pyplot as plt\n",
    "import matplotlib.cm as cm\n",
    "import seaborn as sns\n",
    "\n",
    "import plotly.graph_objects as go\n",
    "from plotly.subplots import make_subplots\n",
    "import plotly.express as px\n",
    "import plotly.offline\n",
    "\n",
    "from colorama import Fore, Style, init\n",
    "from pprint import pprint\n",
    "\n",
    "# 🚫 Suppressing warnings 🚫\n",
    "import warnings\n",
    "warnings.filterwarnings('ignore')"
   ]
  },
  {
   "cell_type": "code",
   "execution_count": 2,
   "id": "30316669",
   "metadata": {
    "execution": {
     "iopub.execute_input": "2024-11-24T00:05:40.561776Z",
     "iopub.status.busy": "2024-11-24T00:05:40.561202Z",
     "iopub.status.idle": "2024-11-24T00:05:42.647383Z",
     "shell.execute_reply": "2024-11-24T00:05:42.646178Z"
    },
    "papermill": {
     "duration": 2.096105,
     "end_time": "2024-11-24T00:05:42.649973",
     "exception": false,
     "start_time": "2024-11-24T00:05:40.553868",
     "status": "completed"
    },
    "tags": []
   },
   "outputs": [],
   "source": [
    "import numpy as np\n",
    "import pandas as pd\n",
    "import lightgbm as lgb\n",
    "import optuna\n",
    "from sklearn.metrics import cohen_kappa_score, make_scorer, confusion_matrix\n",
    "from sklearn.model_selection import StratifiedKFold, cross_val_score\n",
    "from sklearn.pipeline import Pipeline\n",
    "from sklearn.impute import SimpleImputer\n",
    "from sklearn.preprocessing import StandardScaler, OneHotEncoder\n",
    "from sklearn.compose import ColumnTransformer\n",
    "from sklearn.linear_model import LogisticRegression\n",
    "from sklearn.tree import DecisionTreeClassifier\n",
    "from sklearn.ensemble import RandomForestClassifier\n",
    "from sklearn.neural_network import MLPClassifier\n",
    "from imblearn.over_sampling import SMOTE\n",
    "import seaborn as sns\n",
    "import matplotlib.pyplot as plt\n",
    "from scipy.optimize import minimize\n",
    "import xgboost as xgb\n",
    "from sklearn.model_selection import train_test_split"
   ]
  },
  {
   "cell_type": "code",
   "execution_count": 3,
   "id": "5032a09e",
   "metadata": {
    "execution": {
     "iopub.execute_input": "2024-11-24T00:05:42.664753Z",
     "iopub.status.busy": "2024-11-24T00:05:42.663956Z",
     "iopub.status.idle": "2024-11-24T00:05:42.965607Z",
     "shell.execute_reply": "2024-11-24T00:05:42.964424Z"
    },
    "papermill": {
     "duration": 0.311509,
     "end_time": "2024-11-24T00:05:42.967979",
     "exception": false,
     "start_time": "2024-11-24T00:05:42.656470",
     "status": "completed"
    },
    "tags": []
   },
   "outputs": [],
   "source": [
    "import os\n",
    "from tqdm.auto import tqdm \n",
    "from concurrent.futures import ThreadPoolExecutor\n",
    "from joblib import Parallel, delayed\n",
    "from time import sleep, time\n",
    "from multiprocessing import cpu_count\n",
    "import polars as pl\n",
    "from sklearn.preprocessing import MinMaxScaler\n",
    "import concurrent.futures\n",
    "\n",
    "from datetime import datetime, timezone, timedelta"
   ]
  },
  {
   "cell_type": "markdown",
   "id": "8ee281f1",
   "metadata": {
    "papermill": {
     "duration": 0.005737,
     "end_time": "2024-11-24T00:05:42.980944",
     "exception": false,
     "start_time": "2024-11-24T00:05:42.975207",
     "status": "completed"
    },
    "tags": []
   },
   "source": [
    "# Load the data"
   ]
  },
  {
   "cell_type": "code",
   "execution_count": 4,
   "id": "924c3f66",
   "metadata": {
    "execution": {
     "iopub.execute_input": "2024-11-24T00:05:42.995139Z",
     "iopub.status.busy": "2024-11-24T00:05:42.994275Z",
     "iopub.status.idle": "2024-11-24T00:05:43.012772Z",
     "shell.execute_reply": "2024-11-24T00:05:43.011729Z"
    },
    "papermill": {
     "duration": 0.027985,
     "end_time": "2024-11-24T00:05:43.014952",
     "exception": false,
     "start_time": "2024-11-24T00:05:42.986967",
     "status": "completed"
    },
    "tags": []
   },
   "outputs": [
    {
     "data": {
      "text/plain": [
       "20"
      ]
     },
     "execution_count": 4,
     "metadata": {},
     "output_type": "execute_result"
    }
   ],
   "source": [
    "df_test = pd.read_csv('/kaggle/input/child-mind-institute-problematic-internet-use/test.csv')\n",
    "len(df_test)"
   ]
  },
  {
   "cell_type": "code",
   "execution_count": 5,
   "id": "a0d3e506",
   "metadata": {
    "execution": {
     "iopub.execute_input": "2024-11-24T00:05:43.028911Z",
     "iopub.status.busy": "2024-11-24T00:05:43.028526Z",
     "iopub.status.idle": "2024-11-24T00:05:43.036663Z",
     "shell.execute_reply": "2024-11-24T00:05:43.035447Z"
    },
    "papermill": {
     "duration": 0.017644,
     "end_time": "2024-11-24T00:05:43.038851",
     "exception": false,
     "start_time": "2024-11-24T00:05:43.021207",
     "status": "completed"
    },
    "tags": []
   },
   "outputs": [],
   "source": [
    "def process_file(filename, dirname):\n",
    "    df = pd.read_parquet(os.path.join(dirname, filename, 'part-0.parquet'))\n",
    "    df.drop('step', axis=1, inplace=True)\n",
    "    return df.describe().values.reshape(-1), filename.split('=')[1]\n",
    "\n",
    "def load_time_series(dirname) -> pd.DataFrame:\n",
    "    ids = os.listdir(dirname)\n",
    "    \n",
    "    with ThreadPoolExecutor() as executor:\n",
    "        results = list(tqdm(executor.map(lambda fname: process_file(fname, dirname), ids), total=len(ids)))\n",
    "    \n",
    "    stats, indexes = zip(*results)\n",
    "    \n",
    "    df = pd.DataFrame(stats, columns=[f\"stat_{i}\" for i in range(len(stats[0]))])\n",
    "    df['id'] = indexes\n",
    "    return df"
   ]
  },
  {
   "cell_type": "code",
   "execution_count": 6,
   "id": "5d86766d",
   "metadata": {
    "execution": {
     "iopub.execute_input": "2024-11-24T00:05:43.052853Z",
     "iopub.status.busy": "2024-11-24T00:05:43.052464Z",
     "iopub.status.idle": "2024-11-24T00:05:43.430102Z",
     "shell.execute_reply": "2024-11-24T00:05:43.428855Z"
    },
    "papermill": {
     "duration": 0.387191,
     "end_time": "2024-11-24T00:05:43.432239",
     "exception": false,
     "start_time": "2024-11-24T00:05:43.045048",
     "status": "completed"
    },
    "tags": []
   },
   "outputs": [
    {
     "data": {
      "application/vnd.jupyter.widget-view+json": {
       "model_id": "6b2849633aa647ff91b7cf69c824d147",
       "version_major": 2,
       "version_minor": 0
      },
      "text/plain": [
       "  0%|          | 0/2 [00:00<?, ?it/s]"
      ]
     },
     "metadata": {},
     "output_type": "display_data"
    },
    {
     "data": {
      "text/plain": [
       "2"
      ]
     },
     "execution_count": 6,
     "metadata": {},
     "output_type": "execute_result"
    }
   ],
   "source": [
    "test_ts = load_time_series(\"/kaggle/input/child-mind-institute-problematic-internet-use/series_test.parquet\")\n",
    "len(test_ts)"
   ]
  },
  {
   "cell_type": "code",
   "execution_count": 7,
   "id": "339759c4",
   "metadata": {
    "execution": {
     "iopub.execute_input": "2024-11-24T00:05:43.446706Z",
     "iopub.status.busy": "2024-11-24T00:05:43.446280Z",
     "iopub.status.idle": "2024-11-24T00:05:43.456866Z",
     "shell.execute_reply": "2024-11-24T00:05:43.455583Z"
    },
    "papermill": {
     "duration": 0.02024,
     "end_time": "2024-11-24T00:05:43.458981",
     "exception": false,
     "start_time": "2024-11-24T00:05:43.438741",
     "status": "completed"
    },
    "tags": []
   },
   "outputs": [
    {
     "data": {
      "text/plain": [
       "array(['00115b9f', '001f3379'], dtype=object)"
      ]
     },
     "execution_count": 7,
     "metadata": {},
     "output_type": "execute_result"
    }
   ],
   "source": [
    "test_ts['id'].unique()"
   ]
  },
  {
   "cell_type": "code",
   "execution_count": 8,
   "id": "e4bcd9f6",
   "metadata": {
    "execution": {
     "iopub.execute_input": "2024-11-24T00:05:43.474016Z",
     "iopub.status.busy": "2024-11-24T00:05:43.473062Z",
     "iopub.status.idle": "2024-11-24T00:05:43.544642Z",
     "shell.execute_reply": "2024-11-24T00:05:43.543512Z"
    },
    "papermill": {
     "duration": 0.081858,
     "end_time": "2024-11-24T00:05:43.547200",
     "exception": false,
     "start_time": "2024-11-24T00:05:43.465342",
     "status": "completed"
    },
    "tags": []
   },
   "outputs": [
    {
     "data": {
      "text/plain": [
       "3960"
      ]
     },
     "execution_count": 8,
     "metadata": {},
     "output_type": "execute_result"
    }
   ],
   "source": [
    "df = pd.read_csv('/kaggle/input/colombian-frenchteam-problematicinternetusage/Dataset_problematic_internet_usage.csv')\n",
    "len(df)"
   ]
  },
  {
   "cell_type": "code",
   "execution_count": 9,
   "id": "d3ec1aa2",
   "metadata": {
    "execution": {
     "iopub.execute_input": "2024-11-24T00:05:43.562259Z",
     "iopub.status.busy": "2024-11-24T00:05:43.561584Z",
     "iopub.status.idle": "2024-11-24T00:05:43.571026Z",
     "shell.execute_reply": "2024-11-24T00:05:43.569876Z"
    },
    "papermill": {
     "duration": 0.019708,
     "end_time": "2024-11-24T00:05:43.573556",
     "exception": false,
     "start_time": "2024-11-24T00:05:43.553848",
     "status": "completed"
    },
    "tags": []
   },
   "outputs": [
    {
     "data": {
      "text/plain": [
       "Train_Test_Label\n",
       "isnotintrainset    2964\n",
       "test                200\n",
       "train               796\n",
       "dtype: int64"
      ]
     },
     "execution_count": 9,
     "metadata": {},
     "output_type": "execute_result"
    }
   ],
   "source": [
    "df.groupby('Train_Test_Label').size()"
   ]
  },
  {
   "cell_type": "code",
   "execution_count": 10,
   "id": "085b11fc",
   "metadata": {
    "execution": {
     "iopub.execute_input": "2024-11-24T00:05:43.589311Z",
     "iopub.status.busy": "2024-11-24T00:05:43.588358Z",
     "iopub.status.idle": "2024-11-24T00:05:43.598604Z",
     "shell.execute_reply": "2024-11-24T00:05:43.597519Z"
    },
    "papermill": {
     "duration": 0.020249,
     "end_time": "2024-11-24T00:05:43.600738",
     "exception": false,
     "start_time": "2024-11-24T00:05:43.580489",
     "status": "completed"
    },
    "tags": []
   },
   "outputs": [
    {
     "data": {
      "text/plain": [
       "996"
      ]
     },
     "execution_count": 10,
     "metadata": {},
     "output_type": "execute_result"
    }
   ],
   "source": [
    "df = df[(df['Train_Test_Label']=='test') | (df['Train_Test_Label']=='train') ]\n",
    "len(df)"
   ]
  },
  {
   "cell_type": "code",
   "execution_count": 11,
   "id": "c0ea519d",
   "metadata": {
    "execution": {
     "iopub.execute_input": "2024-11-24T00:05:43.615906Z",
     "iopub.status.busy": "2024-11-24T00:05:43.615505Z",
     "iopub.status.idle": "2024-11-24T00:05:43.645081Z",
     "shell.execute_reply": "2024-11-24T00:05:43.643886Z"
    },
    "papermill": {
     "duration": 0.040011,
     "end_time": "2024-11-24T00:05:43.647523",
     "exception": false,
     "start_time": "2024-11-24T00:05:43.607512",
     "status": "completed"
    },
    "tags": []
   },
   "outputs": [
    {
     "data": {
      "text/html": [
       "<div>\n",
       "<style scoped>\n",
       "    .dataframe tbody tr th:only-of-type {\n",
       "        vertical-align: middle;\n",
       "    }\n",
       "\n",
       "    .dataframe tbody tr th {\n",
       "        vertical-align: top;\n",
       "    }\n",
       "\n",
       "    .dataframe thead th {\n",
       "        text-align: right;\n",
       "    }\n",
       "</style>\n",
       "<table border=\"1\" class=\"dataframe\">\n",
       "  <thead>\n",
       "    <tr style=\"text-align: right;\">\n",
       "      <th></th>\n",
       "      <th>Unnamed: 0</th>\n",
       "      <th>id</th>\n",
       "      <th>Basic_Demos-Enroll_Season</th>\n",
       "      <th>Basic_Demos-Age</th>\n",
       "      <th>Basic_Demos-Sex</th>\n",
       "      <th>CGAS-Season</th>\n",
       "      <th>CGAS-CGAS_Score</th>\n",
       "      <th>Physical-Season</th>\n",
       "      <th>Physical-BMI</th>\n",
       "      <th>Physical-Height</th>\n",
       "      <th>...</th>\n",
       "      <th>PCIAT-PCIAT_20</th>\n",
       "      <th>PCIAT-PCIAT_Total</th>\n",
       "      <th>SDS-Season</th>\n",
       "      <th>SDS-SDS_Total_Raw</th>\n",
       "      <th>SDS-SDS_Total_T</th>\n",
       "      <th>PreInt_EduHx-Season</th>\n",
       "      <th>PreInt_EduHx-computerinternet_hoursday</th>\n",
       "      <th>sii</th>\n",
       "      <th>Has_actigraphy_data</th>\n",
       "      <th>Train_Test_Label</th>\n",
       "    </tr>\n",
       "  </thead>\n",
       "  <tbody>\n",
       "    <tr>\n",
       "      <th>894</th>\n",
       "      <td>894</td>\n",
       "      <td>35fa2ebf</td>\n",
       "      <td>Summer</td>\n",
       "      <td>13</td>\n",
       "      <td>0</td>\n",
       "      <td>Fall</td>\n",
       "      <td>70.0</td>\n",
       "      <td>Fall</td>\n",
       "      <td>20.404192</td>\n",
       "      <td>61.00</td>\n",
       "      <td>...</td>\n",
       "      <td>5.0</td>\n",
       "      <td>89.0</td>\n",
       "      <td>Fall</td>\n",
       "      <td>37.0</td>\n",
       "      <td>53.0</td>\n",
       "      <td>Summer</td>\n",
       "      <td>3.0</td>\n",
       "      <td>3.0</td>\n",
       "      <td>Yes</td>\n",
       "      <td>train</td>\n",
       "    </tr>\n",
       "    <tr>\n",
       "      <th>1502</th>\n",
       "      <td>1502</td>\n",
       "      <td>5e55e9fd</td>\n",
       "      <td>Spring</td>\n",
       "      <td>14</td>\n",
       "      <td>1</td>\n",
       "      <td>NaN</td>\n",
       "      <td>NaN</td>\n",
       "      <td>Spring</td>\n",
       "      <td>18.934295</td>\n",
       "      <td>60.75</td>\n",
       "      <td>...</td>\n",
       "      <td>5.0</td>\n",
       "      <td>81.0</td>\n",
       "      <td>Spring</td>\n",
       "      <td>44.0</td>\n",
       "      <td>62.0</td>\n",
       "      <td>Spring</td>\n",
       "      <td>3.0</td>\n",
       "      <td>3.0</td>\n",
       "      <td>Yes</td>\n",
       "      <td>train</td>\n",
       "    </tr>\n",
       "    <tr>\n",
       "      <th>2002</th>\n",
       "      <td>2002</td>\n",
       "      <td>7f44236f</td>\n",
       "      <td>Fall</td>\n",
       "      <td>13</td>\n",
       "      <td>0</td>\n",
       "      <td>Winter</td>\n",
       "      <td>70.0</td>\n",
       "      <td>Winter</td>\n",
       "      <td>25.370016</td>\n",
       "      <td>67.00</td>\n",
       "      <td>...</td>\n",
       "      <td>5.0</td>\n",
       "      <td>87.0</td>\n",
       "      <td>Winter</td>\n",
       "      <td>47.0</td>\n",
       "      <td>66.0</td>\n",
       "      <td>Fall</td>\n",
       "      <td>0.0</td>\n",
       "      <td>3.0</td>\n",
       "      <td>Yes</td>\n",
       "      <td>train</td>\n",
       "    </tr>\n",
       "  </tbody>\n",
       "</table>\n",
       "<p>3 rows × 85 columns</p>\n",
       "</div>"
      ],
      "text/plain": [
       "      Unnamed: 0        id Basic_Demos-Enroll_Season  Basic_Demos-Age  \\\n",
       "894          894  35fa2ebf                    Summer               13   \n",
       "1502        1502  5e55e9fd                    Spring               14   \n",
       "2002        2002  7f44236f                      Fall               13   \n",
       "\n",
       "      Basic_Demos-Sex CGAS-Season  CGAS-CGAS_Score Physical-Season  \\\n",
       "894                 0        Fall             70.0            Fall   \n",
       "1502                1         NaN              NaN          Spring   \n",
       "2002                0      Winter             70.0          Winter   \n",
       "\n",
       "      Physical-BMI  Physical-Height  ...  PCIAT-PCIAT_20  PCIAT-PCIAT_Total  \\\n",
       "894      20.404192            61.00  ...             5.0               89.0   \n",
       "1502     18.934295            60.75  ...             5.0               81.0   \n",
       "2002     25.370016            67.00  ...             5.0               87.0   \n",
       "\n",
       "      SDS-Season  SDS-SDS_Total_Raw  SDS-SDS_Total_T PreInt_EduHx-Season  \\\n",
       "894         Fall               37.0             53.0              Summer   \n",
       "1502      Spring               44.0             62.0              Spring   \n",
       "2002      Winter               47.0             66.0                Fall   \n",
       "\n",
       "      PreInt_EduHx-computerinternet_hoursday  sii  Has_actigraphy_data  \\\n",
       "894                                      3.0  3.0                  Yes   \n",
       "1502                                     3.0  3.0                  Yes   \n",
       "2002                                     0.0  3.0                  Yes   \n",
       "\n",
       "     Train_Test_Label  \n",
       "894             train  \n",
       "1502            train  \n",
       "2002            train  \n",
       "\n",
       "[3 rows x 85 columns]"
      ]
     },
     "execution_count": 11,
     "metadata": {},
     "output_type": "execute_result"
    }
   ],
   "source": [
    "df[df['sii']==3].head(3)"
   ]
  },
  {
   "cell_type": "code",
   "execution_count": 12,
   "id": "9f8d5ac3",
   "metadata": {
    "execution": {
     "iopub.execute_input": "2024-11-24T00:05:43.665022Z",
     "iopub.status.busy": "2024-11-24T00:05:43.664629Z",
     "iopub.status.idle": "2024-11-24T00:05:43.694659Z",
     "shell.execute_reply": "2024-11-24T00:05:43.693193Z"
    },
    "papermill": {
     "duration": 0.043195,
     "end_time": "2024-11-24T00:05:43.697839",
     "exception": false,
     "start_time": "2024-11-24T00:05:43.654644",
     "status": "completed"
    },
    "tags": []
   },
   "outputs": [
    {
     "data": {
      "text/html": [
       "<div>\n",
       "<style scoped>\n",
       "    .dataframe tbody tr th:only-of-type {\n",
       "        vertical-align: middle;\n",
       "    }\n",
       "\n",
       "    .dataframe tbody tr th {\n",
       "        vertical-align: top;\n",
       "    }\n",
       "\n",
       "    .dataframe thead th {\n",
       "        text-align: right;\n",
       "    }\n",
       "</style>\n",
       "<table border=\"1\" class=\"dataframe\">\n",
       "  <thead>\n",
       "    <tr style=\"text-align: right;\">\n",
       "      <th></th>\n",
       "      <th>Unnamed: 0</th>\n",
       "      <th>id</th>\n",
       "      <th>Basic_Demos-Enroll_Season</th>\n",
       "      <th>Basic_Demos-Age</th>\n",
       "      <th>Basic_Demos-Sex</th>\n",
       "      <th>CGAS-Season</th>\n",
       "      <th>CGAS-CGAS_Score</th>\n",
       "      <th>Physical-Season</th>\n",
       "      <th>Physical-BMI</th>\n",
       "      <th>Physical-Height</th>\n",
       "      <th>...</th>\n",
       "      <th>PCIAT-PCIAT_20</th>\n",
       "      <th>PCIAT-PCIAT_Total</th>\n",
       "      <th>SDS-Season</th>\n",
       "      <th>SDS-SDS_Total_Raw</th>\n",
       "      <th>SDS-SDS_Total_T</th>\n",
       "      <th>PreInt_EduHx-Season</th>\n",
       "      <th>PreInt_EduHx-computerinternet_hoursday</th>\n",
       "      <th>sii</th>\n",
       "      <th>Has_actigraphy_data</th>\n",
       "      <th>Train_Test_Label</th>\n",
       "    </tr>\n",
       "  </thead>\n",
       "  <tbody>\n",
       "    <tr>\n",
       "      <th>22</th>\n",
       "      <td>22</td>\n",
       "      <td>01085eb3</td>\n",
       "      <td>Fall</td>\n",
       "      <td>12</td>\n",
       "      <td>0</td>\n",
       "      <td>Winter</td>\n",
       "      <td>58.0</td>\n",
       "      <td>Fall</td>\n",
       "      <td>34.187282</td>\n",
       "      <td>60.5</td>\n",
       "      <td>...</td>\n",
       "      <td>0.0</td>\n",
       "      <td>30.0</td>\n",
       "      <td>Fall</td>\n",
       "      <td>53.0</td>\n",
       "      <td>73.0</td>\n",
       "      <td>Fall</td>\n",
       "      <td>0.0</td>\n",
       "      <td>0.0</td>\n",
       "      <td>Yes</td>\n",
       "      <td>train</td>\n",
       "    </tr>\n",
       "    <tr>\n",
       "      <th>25</th>\n",
       "      <td>25</td>\n",
       "      <td>012cadd8</td>\n",
       "      <td>Spring</td>\n",
       "      <td>9</td>\n",
       "      <td>0</td>\n",
       "      <td>Winter</td>\n",
       "      <td>60.0</td>\n",
       "      <td>Fall</td>\n",
       "      <td>17.089151</td>\n",
       "      <td>53.2</td>\n",
       "      <td>...</td>\n",
       "      <td>0.0</td>\n",
       "      <td>9.0</td>\n",
       "      <td>Summer</td>\n",
       "      <td>27.0</td>\n",
       "      <td>40.0</td>\n",
       "      <td>Spring</td>\n",
       "      <td>0.0</td>\n",
       "      <td>0.0</td>\n",
       "      <td>Yes</td>\n",
       "      <td>train</td>\n",
       "    </tr>\n",
       "    <tr>\n",
       "      <th>26</th>\n",
       "      <td>26</td>\n",
       "      <td>012e3869</td>\n",
       "      <td>Summer</td>\n",
       "      <td>6</td>\n",
       "      <td>0</td>\n",
       "      <td>Winter</td>\n",
       "      <td>60.0</td>\n",
       "      <td>Summer</td>\n",
       "      <td>NaN</td>\n",
       "      <td>NaN</td>\n",
       "      <td>...</td>\n",
       "      <td>0.0</td>\n",
       "      <td>0.0</td>\n",
       "      <td>NaN</td>\n",
       "      <td>NaN</td>\n",
       "      <td>NaN</td>\n",
       "      <td>Summer</td>\n",
       "      <td>0.0</td>\n",
       "      <td>0.0</td>\n",
       "      <td>Yes</td>\n",
       "      <td>train</td>\n",
       "    </tr>\n",
       "  </tbody>\n",
       "</table>\n",
       "<p>3 rows × 85 columns</p>\n",
       "</div>"
      ],
      "text/plain": [
       "    Unnamed: 0        id Basic_Demos-Enroll_Season  Basic_Demos-Age  \\\n",
       "22          22  01085eb3                      Fall               12   \n",
       "25          25  012cadd8                    Spring                9   \n",
       "26          26  012e3869                    Summer                6   \n",
       "\n",
       "    Basic_Demos-Sex CGAS-Season  CGAS-CGAS_Score Physical-Season  \\\n",
       "22                0      Winter             58.0            Fall   \n",
       "25                0      Winter             60.0            Fall   \n",
       "26                0      Winter             60.0          Summer   \n",
       "\n",
       "    Physical-BMI  Physical-Height  ...  PCIAT-PCIAT_20  PCIAT-PCIAT_Total  \\\n",
       "22     34.187282             60.5  ...             0.0               30.0   \n",
       "25     17.089151             53.2  ...             0.0                9.0   \n",
       "26           NaN              NaN  ...             0.0                0.0   \n",
       "\n",
       "    SDS-Season  SDS-SDS_Total_Raw  SDS-SDS_Total_T PreInt_EduHx-Season  \\\n",
       "22        Fall               53.0             73.0                Fall   \n",
       "25      Summer               27.0             40.0              Spring   \n",
       "26         NaN                NaN              NaN              Summer   \n",
       "\n",
       "    PreInt_EduHx-computerinternet_hoursday  sii  Has_actigraphy_data  \\\n",
       "22                                     0.0  0.0                  Yes   \n",
       "25                                     0.0  0.0                  Yes   \n",
       "26                                     0.0  0.0                  Yes   \n",
       "\n",
       "   Train_Test_Label  \n",
       "22            train  \n",
       "25            train  \n",
       "26            train  \n",
       "\n",
       "[3 rows x 85 columns]"
      ]
     },
     "execution_count": 12,
     "metadata": {},
     "output_type": "execute_result"
    }
   ],
   "source": [
    "df[df['sii']==0].head(3)"
   ]
  },
  {
   "cell_type": "markdown",
   "id": "6adfb9c8",
   "metadata": {
    "papermill": {
     "duration": 0.009421,
     "end_time": "2024-11-24T00:05:43.717443",
     "exception": false,
     "start_time": "2024-11-24T00:05:43.708022",
     "status": "completed"
    },
    "tags": []
   },
   "source": [
    "# Plot functions 2"
   ]
  },
  {
   "cell_type": "code",
   "execution_count": 13,
   "id": "209bc456",
   "metadata": {
    "execution": {
     "iopub.execute_input": "2024-11-24T00:05:43.737195Z",
     "iopub.status.busy": "2024-11-24T00:05:43.736803Z",
     "iopub.status.idle": "2024-11-24T00:05:43.741953Z",
     "shell.execute_reply": "2024-11-24T00:05:43.740788Z"
    },
    "papermill": {
     "duration": 0.016337,
     "end_time": "2024-11-24T00:05:43.744254",
     "exception": false,
     "start_time": "2024-11-24T00:05:43.727917",
     "status": "completed"
    },
    "tags": []
   },
   "outputs": [],
   "source": [
    "kid_id = '71ee31f8'"
   ]
  },
  {
   "cell_type": "code",
   "execution_count": 14,
   "id": "ba6bf0ab",
   "metadata": {
    "execution": {
     "iopub.execute_input": "2024-11-24T00:05:43.761583Z",
     "iopub.status.busy": "2024-11-24T00:05:43.761152Z",
     "iopub.status.idle": "2024-11-24T00:05:43.781999Z",
     "shell.execute_reply": "2024-11-24T00:05:43.780143Z"
    },
    "papermill": {
     "duration": 0.033128,
     "end_time": "2024-11-24T00:05:43.784939",
     "exception": false,
     "start_time": "2024-11-24T00:05:43.751811",
     "status": "completed"
    },
    "tags": []
   },
   "outputs": [],
   "source": [
    "def feat_eng(df):\n",
    "\n",
    "    df['time_of_day_hours'] = (df['time_of_day'] / 1e9 / 3600)  # nanoseconds to hours\n",
    "    df['time_of_day_half_hours'] = (df['time_of_day'] / 1e9 / 1800)  # nanoseconds to half-hours\n",
    "    df['time_of_day_half_half_hours'] = (df['time_of_day'] / 1e9 / 900)  # nanoseconds to 15 minutes interval\n",
    "    df['time_of_day_fivemin_hours'] = (df['time_of_day'] / 1e9 / 300)  # nanoseconds to 5 minutes interval\n",
    "    df['day_time'] = df['relative_date_PCIAT'] + (df['time_of_day_hours'] / 24)\n",
    "    \n",
    "    # Day period assignment\n",
    "    day_start_hour = 8\n",
    "    day_end_hour = 21\n",
    "    df['day_period'] = np.where(\n",
    "            (df['time_of_day_hours'] >= day_start_hour) &\n",
    "            (df['time_of_day_hours'] < day_end_hour),\n",
    "            'day', 'night'\n",
    "        )\n",
    "    \n",
    "    # Initialize the 'which_day' column and day change detection\n",
    "    df['which_day'] = 0\n",
    "    day_change = (\n",
    "            (df['weekday'] != df['weekday'].shift(1)) |\n",
    "            (df['hour'] < df['hour'].shift(1)) |\n",
    "            ((df['hour'] == df['hour'].shift(1)) & (df['minute'] < df['minute'].shift(1))) |\n",
    "            ((df['hour'] == df['hour'].shift(1)) & (df['minute'] == df['minute'].shift(1)) & (df['second'] < df['second'].shift(1)))\n",
    "        )\n",
    "    df['which_day'] = day_change.cumsum() + 1\n",
    "    df['day_period_b'] = np.where(df['day_period'] == 'day', 1, 0)\n",
    "    df['time_of_day'] = pd.to_timedelta(df['time_of_day'], unit='ns')\n",
    "    base_date = pd.to_datetime('2024-01-01')\n",
    "    df['date'] = base_date + pd.to_timedelta(df['which_day'] - 1, unit='D')\n",
    "    df['timestamp'] = df['date'] + df['time_of_day']\n",
    "    df['timestamp'] = df['timestamp'].apply(lambda t: t.tz_localize(None))\n",
    "    df['timestamp_2'] = pd.to_datetime(df['timestamp']).apply(lambda t: t.tz_localize(None))\n",
    "    df.sort_values(['timestamp_2'], inplace=True)\n",
    "    df.set_index('timestamp_2', inplace=True)\n",
    "    \n",
    "    df[\"anglez\"] = df[\"anglez\"].astype(np.float32)\n",
    "    df[\"anglezdiffabs\"] = df[\"anglez\"].diff().abs().astype(np.float32)\n",
    "        \n",
    "    for col in ['anglezdiffabs']:\n",
    "            \n",
    "        # periods in seconds        \n",
    "        periods = [60] \n",
    "            \n",
    "        for n in periods:\n",
    "                \n",
    "            rol_args = {'window':f'{n+5}s', 'min_periods':10, 'center':True}\n",
    "                \n",
    "            for agg in ['median']:\n",
    "                df[f'{col}_{agg}_{n}'] = df[col].rolling(**rol_args).agg(agg).astype(np.float32).values\n",
    "                gc.collect()\n",
    "                \n",
    "            gc.collect()\n",
    "    \n",
    "    df.reset_index(inplace=True)\n",
    "    df.dropna(inplace=True)\n",
    "    df['large_enmo'] = df['enmo'] > 0.1509000062942505\n",
    "    df['anglezdiffabs_median_60_norm'] = (df['anglezdiffabs_median_60'] - np.min(df['anglezdiffabs_median_60'])) / (max(df['anglezdiffabs_median_60']) - min(df['anglezdiffabs_median_60']))\n",
    "\n",
    "    return df"
   ]
  },
  {
   "cell_type": "code",
   "execution_count": 15,
   "id": "e91484c9",
   "metadata": {
    "execution": {
     "iopub.execute_input": "2024-11-24T00:05:43.805559Z",
     "iopub.status.busy": "2024-11-24T00:05:43.804086Z",
     "iopub.status.idle": "2024-11-24T00:05:43.813684Z",
     "shell.execute_reply": "2024-11-24T00:05:43.812033Z"
    },
    "papermill": {
     "duration": 0.024065,
     "end_time": "2024-11-24T00:05:43.816972",
     "exception": false,
     "start_time": "2024-11-24T00:05:43.792907",
     "status": "completed"
    },
    "tags": []
   },
   "outputs": [],
   "source": [
    "def feat_eng_by_id(idx):\n",
    "    \n",
    "    from warnings import simplefilter \n",
    "    simplefilter(action=\"ignore\", category=pd.errors.PerformanceWarning)\n",
    "    \n",
    "    df = (\n",
    "        pl.scan_parquet(f'/kaggle/input/child-mind-institute-problematic-internet-use/series_train.parquet/id={idx}/part-0.parquet')\n",
    "        .with_columns(\n",
    "            (pl.col(\"time_of_day\").cast(pl.Int64) / 1_000_000_000).alias(\"total_seconds\")\n",
    "        )\n",
    "        .with_columns(\n",
    "            [\n",
    "                (pl.col(\"total_seconds\") // 3600).alias(\"hour\"),\n",
    "                ((pl.col(\"total_seconds\") % 3600) // 60).alias(\"minute\"),\n",
    "                (pl.col(\"total_seconds\") % 60).alias(\"second\"),\n",
    "            ]\n",
    "        )\n",
    "        .collect()\n",
    "        .to_pandas()\n",
    "    )\n",
    "\n",
    "    df = feat_eng(df)\n",
    "    \n",
    "    return df\n",
    "\n"
   ]
  },
  {
   "cell_type": "code",
   "execution_count": 16,
   "id": "e6fd7d28",
   "metadata": {
    "execution": {
     "iopub.execute_input": "2024-11-24T00:05:43.836221Z",
     "iopub.status.busy": "2024-11-24T00:05:43.835705Z",
     "iopub.status.idle": "2024-11-24T00:05:43.841673Z",
     "shell.execute_reply": "2024-11-24T00:05:43.840595Z"
    },
    "papermill": {
     "duration": 0.017796,
     "end_time": "2024-11-24T00:05:43.844356",
     "exception": false,
     "start_time": "2024-11-24T00:05:43.826560",
     "status": "completed"
    },
    "tags": []
   },
   "outputs": [],
   "source": [
    "from tqdm.auto import tqdm \n",
    "from joblib import Parallel, delayed\n",
    "from time import sleep, time\n",
    "from multiprocessing import cpu_count\n",
    "import gc"
   ]
  },
  {
   "cell_type": "code",
   "execution_count": 17,
   "id": "3ee7b96e",
   "metadata": {
    "execution": {
     "iopub.execute_input": "2024-11-24T00:05:43.863347Z",
     "iopub.status.busy": "2024-11-24T00:05:43.862932Z",
     "iopub.status.idle": "2024-11-24T00:05:43.869609Z",
     "shell.execute_reply": "2024-11-24T00:05:43.868300Z"
    },
    "papermill": {
     "duration": 0.017663,
     "end_time": "2024-11-24T00:05:43.872056",
     "exception": false,
     "start_time": "2024-11-24T00:05:43.854393",
     "status": "completed"
    },
    "tags": []
   },
   "outputs": [],
   "source": [
    "from pathlib import Path\n",
    "working_folder = Path(\"/kaggle/working/\")\n",
    "images_folder = working_folder/\"imagesandannotations\"\n",
    "images_folder.mkdir()\n",
    "\n",
    "window_properties_batch_file = os.path.join(images_folder, \"window_properties.json\")\n",
    "all_events_batch_file = os.path.join(images_folder, \"all_events.json\")"
   ]
  },
  {
   "cell_type": "code",
   "execution_count": 18,
   "id": "cb3ea886",
   "metadata": {
    "execution": {
     "iopub.execute_input": "2024-11-24T00:05:43.888686Z",
     "iopub.status.busy": "2024-11-24T00:05:43.888282Z",
     "iopub.status.idle": "2024-11-24T00:05:43.895924Z",
     "shell.execute_reply": "2024-11-24T00:05:43.894846Z"
    },
    "papermill": {
     "duration": 0.018219,
     "end_time": "2024-11-24T00:05:43.897988",
     "exception": false,
     "start_time": "2024-11-24T00:05:43.879769",
     "status": "completed"
    },
    "tags": []
   },
   "outputs": [
    {
     "data": {
      "text/plain": [
       "996"
      ]
     },
     "execution_count": 18,
     "metadata": {},
     "output_type": "execute_result"
    }
   ],
   "source": [
    "series_ids = df['id'].unique()\n",
    "len(series_ids)"
   ]
  },
  {
   "cell_type": "code",
   "execution_count": 19,
   "id": "0bb2c1b3",
   "metadata": {
    "execution": {
     "iopub.execute_input": "2024-11-24T00:05:43.914327Z",
     "iopub.status.busy": "2024-11-24T00:05:43.913948Z",
     "iopub.status.idle": "2024-11-24T00:05:43.921883Z",
     "shell.execute_reply": "2024-11-24T00:05:43.920633Z"
    },
    "papermill": {
     "duration": 0.018594,
     "end_time": "2024-11-24T00:05:43.923920",
     "exception": false,
     "start_time": "2024-11-24T00:05:43.905326",
     "status": "completed"
    },
    "tags": []
   },
   "outputs": [
    {
     "data": {
      "text/plain": [
       "array(['c3dde859', 'c446e1c5', 'c45068a1', 'c4c2076b', 'c5462e87',\n",
       "       'c55187b4', 'c5cfaeae', 'c6313b18', 'c6575d38', 'c6cc7467',\n",
       "       'c6d4b453', 'c6da0d4b', 'c6ead822', 'c731458f', 'c73dd2e4',\n",
       "       'c73f149c', 'c79039af', 'c7d9e964', 'c8270746', 'c829500d',\n",
       "       'c8cc2e1b', 'c8fbbc8a', 'c9600298', 'c96b9609', 'c9879365',\n",
       "       'c9902f48', 'c9dabad5', 'c9e419e7', 'ca3204b0', 'ca33a5e7',\n",
       "       'cadd4ae5', 'cb2752bc', 'cb3b7c3c', 'cb73fed9', 'cba39753',\n",
       "       'cbcf8cf2', 'cd144127', 'cd1fff5a', 'cd39e576', 'cd68643b',\n",
       "       'cd703872', 'cd89d5f1', 'cd8f3c61', 'cda90e9e', 'ce379a6a',\n",
       "       'ce6eeadf', 'cefdb7fe', 'cf1b9d44', 'cfcf9dc9', 'cfe4cf40',\n",
       "       'd05f5d71', 'd08806a2', 'd0ac4f1c', 'd19e1025', 'd28f0d44',\n",
       "       'd2d9b474', 'd3da09e8', 'd445fb74', 'd4d2f272', 'd4d9f7f9',\n",
       "       'd506f4c7', 'd57f6c9e', 'd5a8d9b0', 'd5b089a4', 'd5fde276',\n",
       "       'd6251195', 'd661ddf7', 'd6776176', 'd6cca65e', 'd74e4d7c',\n",
       "       'd77ac332', 'd791703f', 'd8037389', 'd859115e', 'd87e2d01',\n",
       "       'd9c82502', 'da09ed4b', 'da19c97e', 'da5a8921', 'dacc2f83',\n",
       "       'daf3969c', 'db23fbe4', 'db38d1f9', 'db3b1dd1', 'db746de0',\n",
       "       'db9eae59', 'dc33dcef', 'dcfcd574', 'dd689eb0', 'dd747bba',\n",
       "       'de3750cc', 'de3ecca9', 'de742c5c', 'de91310c', 'df4ab9b1',\n",
       "       'df556fd2', 'df98fbb4', 'e0283d3d', 'e0655da2', 'e072b994',\n",
       "       'e0869709', 'e0ad6550', 'e0db55b1', 'e1958a83', 'e1a4575f',\n",
       "       'e1ccc3d1', 'e1e02e28', 'e1ea8dd7', 'e21255e2', 'e23a8a0a',\n",
       "       'e243119c', 'e28c0bfa', 'e315fdd7', 'e328a032', 'e37d000b',\n",
       "       'e3bce7e1', 'e3f71f7a', 'e40319d7', 'e4614ec6', 'e46417a7',\n",
       "       'e4762a2b', 'e4ab3b12', 'e4b47411', 'e4d396d7', 'e4e58096',\n",
       "       'e51193d1', 'e5349ce2', 'e63000c5', 'e683d2c9', 'e7401605',\n",
       "       'e754411f', 'e76ad778', 'e7d08824', 'e88aa867', 'e892aec6',\n",
       "       'e8b64419', 'e8e82627', 'e9ca5586', 'e9d94c4e', 'ea4619ec',\n",
       "       'ea544af3', 'ea7277b4', 'ea7adcd6', 'eaab7a96', 'eb93a46a',\n",
       "       'ebd6f819', 'ebf2b0c9', 'ebf30e46', 'ec13a1b9', 'ec6b57b4',\n",
       "       'ec8f8f95', 'ec9195be', 'ecd25dd1', 'ed0b3906', 'ed711416',\n",
       "       'edb9d0f3', 'ee21612e', 'ee2bf575', 'ee67eb55', 'eeedcd5e',\n",
       "       'eef79620', 'ef07f833', 'ef58dd3c', 'ef9617e7', 'efa35d35',\n",
       "       'f015a18c', 'f028534c', 'f0957ca1', 'f09e7b33', 'f0d76b32',\n",
       "       'f1049268', 'f11e17c0', 'f1baae47', 'f1bd0f59', 'f285b43c',\n",
       "       'f2d4efd8', 'f3020788', 'f32a9580', 'f35b607c', 'f4114031',\n",
       "       'f420b05a', 'f44f1227', 'f47a67cc', 'f47abc42', 'f4d2f5af',\n",
       "       'f57de847', 'f584742f', 'f5ad7abc', 'f5b2acf0', 'f62b317d'],\n",
       "      dtype=object)"
      ]
     },
     "execution_count": 19,
     "metadata": {},
     "output_type": "execute_result"
    }
   ],
   "source": [
    "series_ids = series_ids[760:950]\n",
    "#series_ids = series_ids[0:2]\n",
    "series_ids"
   ]
  },
  {
   "cell_type": "code",
   "execution_count": 20,
   "id": "9c7dc48e",
   "metadata": {
    "execution": {
     "iopub.execute_input": "2024-11-24T00:05:43.940932Z",
     "iopub.status.busy": "2024-11-24T00:05:43.940508Z",
     "iopub.status.idle": "2024-11-24T00:05:43.965438Z",
     "shell.execute_reply": "2024-11-24T00:05:43.964315Z"
    },
    "papermill": {
     "duration": 0.036085,
     "end_time": "2024-11-24T00:05:43.967598",
     "exception": false,
     "start_time": "2024-11-24T00:05:43.931513",
     "status": "completed"
    },
    "tags": []
   },
   "outputs": [],
   "source": [
    "import json\n",
    "import gc\n",
    "import matplotlib.pyplot as plt\n",
    "from pathlib import Path\n",
    "from tqdm import tqdm\n",
    "import numpy as np  # Ensure np is imported for handling int64 types\n",
    "\n",
    "def process_and_plot(series_ids, images_folder):\n",
    "    \n",
    "    # Initialize main lists to hold all data\n",
    "    window_properties = []\n",
    "    all_events = []\n",
    "    \n",
    "    # Batch tracking lists\n",
    "    batch_size = 50  # Adjust batch size to your memory constraints\n",
    "    batch_window_properties = []\n",
    "    batch_all_events = []\n",
    "    \n",
    "    # Files for saving batches of data\n",
    "    window_properties_batch_file = images_folder / \"window_properties.json\"\n",
    "    all_events_batch_file = images_folder / \"all_events.json\"\n",
    "\n",
    "    # Create files if they don't exist\n",
    "    window_properties_batch_file.touch(exist_ok=True)\n",
    "    all_events_batch_file.touch(exist_ok=True)\n",
    "\n",
    "    # Process the series_ids\n",
    "    for idx in tqdm(series_ids):\n",
    "        \n",
    "        filtered_data = feat_eng_by_id(idx)\n",
    "\n",
    "        series = filtered_data.reset_index(drop=True)\n",
    "        series['color'] = [\"blue\" if large_enmo else \"green\" for large_enmo in series['large_enmo']]\n",
    "        series['timestamp'] = pd.to_datetime(series['timestamp'])\n",
    "        series['timestamp'] = series['timestamp'].apply(lambda x: x if x.tzinfo is not None else x.tz_localize('UTC'))\n",
    "        series['timestamp_utc'] = series['timestamp'].map(lambda timestamp: timestamp.astimezone(timezone.utc))\n",
    "        series['anglez_radians'] = (np.pi / 180) * series['anglez']\n",
    "        series['cos_anglez'] = np.cos(series['anglez_radians'])\n",
    "        series['enmo'] = np.clip(series['enmo'], 0, 1)\n",
    "        min_date_utc = series['timestamp_utc'].dt.date.min()\n",
    "        max_date_utc = series['timestamp_utc'].dt.date.max()\n",
    "        \n",
    "        series_24_hour_windows = {}\n",
    "        upper_bound = datetime(year=min_date_utc.year, month=min_date_utc.month, day=min_date_utc.day, hour=20, minute=30, tzinfo=timezone.utc)\n",
    "        lower_bound = upper_bound + timedelta(hours=-24) # 8:30pm UTC on the previous day.\n",
    "        while lower_bound < series['timestamp_utc'].max():\n",
    "            window_df = series.loc[(series['timestamp_utc'] >= lower_bound) & (series['timestamp_utc'] < upper_bound)].reset_index(drop=True)\n",
    "            if len(window_df) > 0:\n",
    "                series_24_hour_windows[upper_bound.isoformat()[:-6]] = window_df\n",
    "            upper_bound += timedelta(hours=24)\n",
    "            lower_bound += timedelta(hours=24)\n",
    "        \n",
    "        windows = list(series_24_hour_windows.keys())\n",
    "        num_steps_cumulative = 0\n",
    "        \n",
    "        for window_idx, window in enumerate(windows):\n",
    "            \n",
    "             if (series_24_hour_windows[window]['non-wear_flag'].mean()<0.5) & (len(series_24_hour_windows[window]) == 17280): \n",
    "\n",
    "                day = series_24_hour_windows[window]['which_day'].iloc[0]\n",
    "                 \n",
    "                fig = plt.figure(figsize=(14.4, 4))  # (width, height) in inches\n",
    "                #plt.plot(series_24_hour_windows[window]['timestamp_utc'], series_24_hour_windows[window]['cos_anglez'], color=\"red\")\n",
    "                plt.plot(series_24_hour_windows[window]['timestamp_utc'],\n",
    "                             series_24_hour_windows[window]['anglezdiffabs_median_60_norm'],\n",
    "                             color=\"red\")\n",
    "                plt.scatter(\n",
    "                        series_24_hour_windows[window]['timestamp_utc'], \n",
    "                        series_24_hour_windows[window]['enmo'], \n",
    "                        color=series_24_hour_windows[window]['color'], \n",
    "                        s=1\n",
    "                    )\n",
    "                plt.scatter(series_24_hour_windows[window]['timestamp_utc'], series_24_hour_windows[window]['non-wear_flag'], label='non_wear_flag', color='red', alpha=0.7, s=10)\n",
    "        \n",
    "                plt.fill_between(series_24_hour_windows[window]['timestamp_utc'],\n",
    "                                 0, max(1,series_24_hour_windows[window]['anglezdiffabs_median_60_norm'].max()), \n",
    "                                 where=(series_24_hour_windows[window]['non-wear_flag'] == 1), \n",
    "                                 color='red', alpha=0.1, label='Day Period')\n",
    "                 \n",
    "                plt.fill_between(series_24_hour_windows[window]['timestamp_utc'],\n",
    "                                 0, max(1,series_24_hour_windows[window]['anglezdiffabs_median_60_norm'].max()), \n",
    "                                 where=(series_24_hour_windows[window]['day_period_b'] == 1), \n",
    "                                 color='blue', alpha=0.1, label='Day Period')\n",
    "                ax = plt.gca()\n",
    "                ax.spines['top'].set_visible(False)\n",
    "                ax.spines['right'].set_visible(False)\n",
    "                ax.spines['bottom'].set_visible(False)\n",
    "                ax.spines['left'].set_visible(False)\n",
    "                ax.set_xticks([])\n",
    "                ax.set_yticks([])\n",
    "                plt.margins(0, 0)\n",
    "                plt.subplots_adjust(left=0, right=1, top=1, bottom=0)\n",
    "        \n",
    "                # Save image to images_folder\n",
    "                image_path = images_folder / f\"{idx}_{day}.jpg\"\n",
    "                plt.savefig(image_path, dpi=150, bbox_inches=\"tight\", pad_inches=0)\n",
    "                plt.close(fig)\n",
    "\n",
    "                # Store data for batch, safely converting where necessary\n",
    "                window_properties_item = {\n",
    "                        'series_id': str(idx),  # Ensure series_id is stored as string\n",
    "                        'image_name': f\"{idx}_{day}.jpg\", \n",
    "                        'idx_in_series': int(day)  # Convert 'day' to int if it's a number\n",
    "                    }\n",
    "                window_properties.append(window_properties_item)\n",
    "                batch_window_properties.append(window_properties_item)  # Add to batch\n",
    "\n",
    "                # Add to all_events batch\n",
    "                sii_label = df.loc[df['id'] == idx, 'sii'].values.item()\n",
    "\n",
    "                # Ensure sii_label is numeric before converting to int\n",
    "                if isinstance(sii_label, (int, np.integer)):\n",
    "                    sii_label = int(sii_label)\n",
    "                else:\n",
    "                    sii_label = str(sii_label)  # If it's a string, store it as string\n",
    "\n",
    "                all_events_item = {'series_id': str(idx), 'image_name': f\"{idx}_{day}.jpg\", 'label': sii_label}\n",
    "                all_events.append(all_events_item)\n",
    "                batch_all_events.append(all_events_item)  # Add to batch\n",
    "\n",
    "                # Save in batches when batch size is reached\n",
    "                if len(batch_window_properties) >= batch_size:\n",
    "                    # Save window_properties batch to JSON file\n",
    "                    with open(window_properties_batch_file, \"a\") as f:\n",
    "                        json.dump(batch_window_properties, f, indent=4)\n",
    "                    batch_window_properties.clear()  # Clear the batch\n",
    "\n",
    "                    # Save all_events batch to JSON file\n",
    "                    with open(all_events_batch_file, \"a\") as f:\n",
    "                        json.dump(batch_all_events, f, indent=4)\n",
    "                    batch_all_events.clear()  # Clear the batch\n",
    "\n",
    "                gc.collect()  # Clean up memory after each batch\n",
    "\n",
    "    # After the loop, save any remaining data if the final batch wasn't full\n",
    "    if batch_window_properties:\n",
    "        with open(window_properties_batch_file, \"a\") as f:\n",
    "            json.dump(batch_window_properties, f, indent=4)\n",
    "    if batch_all_events:\n",
    "        with open(all_events_batch_file, \"a\") as f:\n",
    "            json.dump(batch_all_events, f, indent=4)\n",
    "\n"
   ]
  },
  {
   "cell_type": "code",
   "execution_count": 21,
   "id": "76da9820",
   "metadata": {
    "execution": {
     "iopub.execute_input": "2024-11-24T00:05:43.984511Z",
     "iopub.status.busy": "2024-11-24T00:05:43.984084Z",
     "iopub.status.idle": "2024-11-24T03:22:40.313487Z",
     "shell.execute_reply": "2024-11-24T03:22:40.312389Z"
    },
    "papermill": {
     "duration": 11816.340645,
     "end_time": "2024-11-24T03:22:40.315881",
     "exception": false,
     "start_time": "2024-11-24T00:05:43.975236",
     "status": "completed"
    },
    "tags": []
   },
   "outputs": [
    {
     "name": "stderr",
     "output_type": "stream",
     "text": [
      "100%|██████████| 190/190 [3:16:56<00:00, 62.19s/it] \n"
     ]
    }
   ],
   "source": [
    "process_and_plot(series_ids,images_folder)"
   ]
  },
  {
   "cell_type": "code",
   "execution_count": 22,
   "id": "7e963f2a",
   "metadata": {
    "execution": {
     "iopub.execute_input": "2024-11-24T03:22:40.353287Z",
     "iopub.status.busy": "2024-11-24T03:22:40.352855Z",
     "iopub.status.idle": "2024-11-24T03:22:40.358468Z",
     "shell.execute_reply": "2024-11-24T03:22:40.357051Z"
    },
    "papermill": {
     "duration": 0.027234,
     "end_time": "2024-11-24T03:22:40.360900",
     "exception": false,
     "start_time": "2024-11-24T03:22:40.333666",
     "status": "completed"
    },
    "tags": []
   },
   "outputs": [],
   "source": [
    "import glob"
   ]
  },
  {
   "cell_type": "code",
   "execution_count": 23,
   "id": "c7bccd23",
   "metadata": {
    "execution": {
     "iopub.execute_input": "2024-11-24T03:22:40.401193Z",
     "iopub.status.busy": "2024-11-24T03:22:40.400379Z",
     "iopub.status.idle": "2024-11-24T03:22:40.408367Z",
     "shell.execute_reply": "2024-11-24T03:22:40.406964Z"
    },
    "papermill": {
     "duration": 0.031006,
     "end_time": "2024-11-24T03:22:40.411153",
     "exception": false,
     "start_time": "2024-11-24T03:22:40.380147",
     "status": "completed"
    },
    "tags": []
   },
   "outputs": [],
   "source": [
    "def load_all_data_from_batches(directory_path, file_prefix):\n",
    "    all_data = []\n",
    "    \n",
    "    # Get all filenames matching the prefix and pattern\n",
    "    batch_files = glob.glob(f\"{directory_path}/{file_prefix}*.json\")\n",
    "    \n",
    "    for batch_file in batch_files:\n",
    "        with open(batch_file, 'r') as f:\n",
    "            try:\n",
    "                data = json.load(f)\n",
    "                all_data.extend(data)  # Append data from this batch to the overall list\n",
    "            except json.JSONDecodeError as e:\n",
    "                print(f\"Error loading {batch_file}: {e}\")\n",
    "    \n",
    "    return all_data\n",
    "    "
   ]
  },
  {
   "cell_type": "code",
   "execution_count": 24,
   "id": "1d9f7309",
   "metadata": {
    "execution": {
     "iopub.execute_input": "2024-11-24T03:22:40.451277Z",
     "iopub.status.busy": "2024-11-24T03:22:40.450757Z",
     "iopub.status.idle": "2024-11-24T03:22:40.508609Z",
     "shell.execute_reply": "2024-11-24T03:22:40.507272Z"
    },
    "papermill": {
     "duration": 0.080256,
     "end_time": "2024-11-24T03:22:40.510801",
     "exception": false,
     "start_time": "2024-11-24T03:22:40.430545",
     "status": "completed"
    },
    "tags": []
   },
   "outputs": [
    {
     "name": "stdout",
     "output_type": "stream",
     "text": [
      "Successfully loaded /kaggle/working/imagesandannotations/window_properties.json!\n",
      "Successfully loaded /kaggle/working/imagesandannotations/all_events.json!\n",
      "Sample from window_properties:\n",
      "[{'series_id': 'c3dde859', 'image_name': 'c3dde859_2.jpg', 'idx_in_series': 2}, {'series_id': 'c3dde859', 'image_name': 'c3dde859_3.jpg', 'idx_in_series': 3}, {'series_id': 'c3dde859', 'image_name': 'c3dde859_4.jpg', 'idx_in_series': 4}]\n",
      "\n",
      "Sample from all_events:\n",
      "[{'series_id': 'c3dde859', 'image_name': 'c3dde859_2.jpg', 'label': '0.0'}, {'series_id': 'c3dde859', 'image_name': 'c3dde859_3.jpg', 'label': '0.0'}, {'series_id': 'c3dde859', 'image_name': 'c3dde859_4.jpg', 'label': '0.0'}]\n"
     ]
    }
   ],
   "source": [
    "# Path to your JSON files\n",
    "window_properties_path = '/kaggle/working/imagesandannotations/window_properties.json'\n",
    "all_events_path = '/kaggle/working/imagesandannotations/all_events.json'\n",
    "\n",
    "# Function to load and fix the JSON files if needed\n",
    "def load_json_file(file_path):\n",
    "    with open(file_path, 'r') as file:\n",
    "        content = file.read()\n",
    "\n",
    "    # Remove any invalid '][' and ensure the content is wrapped in square brackets\n",
    "    fixed_content = content.replace(\"][\", \",\")  # Fix '][' by replacing with a comma\n",
    "\n",
    "    # Wrap content in square brackets if it's not already\n",
    "    if not fixed_content.startswith('['):\n",
    "        fixed_content = f\"[{fixed_content}\"\n",
    "    if not fixed_content.endswith(']'):\n",
    "        fixed_content = f\"{fixed_content}]\"\n",
    "\n",
    "    # Try to load the corrected content\n",
    "    try:\n",
    "        data = json.loads(fixed_content)\n",
    "        print(f\"Successfully loaded {file_path}!\")\n",
    "        return data\n",
    "    except json.JSONDecodeError as e:\n",
    "        print(f\"Error decoding JSON in {file_path}: {e}\")\n",
    "        return None\n",
    "\n",
    "# Load both files\n",
    "window_properties_data = load_json_file(window_properties_path)\n",
    "all_events_data = load_json_file(all_events_path)\n",
    "\n",
    "# Print a sample from each to confirm the data is loaded correctly\n",
    "print(\"Sample from window_properties:\")\n",
    "print(window_properties_data[:3])  # Show the first 3 items as a sample\n",
    "\n",
    "print(\"\\nSample from all_events:\")\n",
    "print(all_events_data[:3])  # Show the first 3 items as a sample"
   ]
  },
  {
   "cell_type": "code",
   "execution_count": 25,
   "id": "b744d0e1",
   "metadata": {
    "execution": {
     "iopub.execute_input": "2024-11-24T03:22:40.547893Z",
     "iopub.status.busy": "2024-11-24T03:22:40.547474Z",
     "iopub.status.idle": "2024-11-24T03:22:40.563385Z",
     "shell.execute_reply": "2024-11-24T03:22:40.562200Z"
    },
    "papermill": {
     "duration": 0.037076,
     "end_time": "2024-11-24T03:22:40.565541",
     "exception": false,
     "start_time": "2024-11-24T03:22:40.528465",
     "status": "completed"
    },
    "tags": []
   },
   "outputs": [
    {
     "data": {
      "text/html": [
       "<div>\n",
       "<style scoped>\n",
       "    .dataframe tbody tr th:only-of-type {\n",
       "        vertical-align: middle;\n",
       "    }\n",
       "\n",
       "    .dataframe tbody tr th {\n",
       "        vertical-align: top;\n",
       "    }\n",
       "\n",
       "    .dataframe thead th {\n",
       "        text-align: right;\n",
       "    }\n",
       "</style>\n",
       "<table border=\"1\" class=\"dataframe\">\n",
       "  <thead>\n",
       "    <tr style=\"text-align: right;\">\n",
       "      <th></th>\n",
       "      <th>series_id</th>\n",
       "      <th>image_name</th>\n",
       "      <th>idx_in_series</th>\n",
       "    </tr>\n",
       "  </thead>\n",
       "  <tbody>\n",
       "    <tr>\n",
       "      <th>0</th>\n",
       "      <td>c3dde859</td>\n",
       "      <td>c3dde859_2.jpg</td>\n",
       "      <td>2</td>\n",
       "    </tr>\n",
       "    <tr>\n",
       "      <th>1</th>\n",
       "      <td>c3dde859</td>\n",
       "      <td>c3dde859_3.jpg</td>\n",
       "      <td>3</td>\n",
       "    </tr>\n",
       "    <tr>\n",
       "      <th>2</th>\n",
       "      <td>c3dde859</td>\n",
       "      <td>c3dde859_4.jpg</td>\n",
       "      <td>4</td>\n",
       "    </tr>\n",
       "    <tr>\n",
       "      <th>3</th>\n",
       "      <td>c3dde859</td>\n",
       "      <td>c3dde859_5.jpg</td>\n",
       "      <td>5</td>\n",
       "    </tr>\n",
       "    <tr>\n",
       "      <th>4</th>\n",
       "      <td>c3dde859</td>\n",
       "      <td>c3dde859_6.jpg</td>\n",
       "      <td>6</td>\n",
       "    </tr>\n",
       "  </tbody>\n",
       "</table>\n",
       "</div>"
      ],
      "text/plain": [
       "  series_id      image_name  idx_in_series\n",
       "0  c3dde859  c3dde859_2.jpg              2\n",
       "1  c3dde859  c3dde859_3.jpg              3\n",
       "2  c3dde859  c3dde859_4.jpg              4\n",
       "3  c3dde859  c3dde859_5.jpg              5\n",
       "4  c3dde859  c3dde859_6.jpg              6"
      ]
     },
     "execution_count": 25,
     "metadata": {},
     "output_type": "execute_result"
    }
   ],
   "source": [
    "window_properties_df = pd.DataFrame(window_properties_data)\n",
    "window_properties_df.head(5)"
   ]
  },
  {
   "cell_type": "code",
   "execution_count": 26,
   "id": "e254dfe3",
   "metadata": {
    "execution": {
     "iopub.execute_input": "2024-11-24T03:22:40.603442Z",
     "iopub.status.busy": "2024-11-24T03:22:40.602999Z",
     "iopub.status.idle": "2024-11-24T03:22:40.618927Z",
     "shell.execute_reply": "2024-11-24T03:22:40.617830Z"
    },
    "papermill": {
     "duration": 0.037376,
     "end_time": "2024-11-24T03:22:40.620982",
     "exception": false,
     "start_time": "2024-11-24T03:22:40.583606",
     "status": "completed"
    },
    "tags": []
   },
   "outputs": [
    {
     "data": {
      "text/html": [
       "<div>\n",
       "<style scoped>\n",
       "    .dataframe tbody tr th:only-of-type {\n",
       "        vertical-align: middle;\n",
       "    }\n",
       "\n",
       "    .dataframe tbody tr th {\n",
       "        vertical-align: top;\n",
       "    }\n",
       "\n",
       "    .dataframe thead th {\n",
       "        text-align: right;\n",
       "    }\n",
       "</style>\n",
       "<table border=\"1\" class=\"dataframe\">\n",
       "  <thead>\n",
       "    <tr style=\"text-align: right;\">\n",
       "      <th></th>\n",
       "      <th>series_id</th>\n",
       "      <th>image_name</th>\n",
       "      <th>label</th>\n",
       "    </tr>\n",
       "  </thead>\n",
       "  <tbody>\n",
       "    <tr>\n",
       "      <th>0</th>\n",
       "      <td>c3dde859</td>\n",
       "      <td>c3dde859_2.jpg</td>\n",
       "      <td>0.0</td>\n",
       "    </tr>\n",
       "    <tr>\n",
       "      <th>1</th>\n",
       "      <td>c3dde859</td>\n",
       "      <td>c3dde859_3.jpg</td>\n",
       "      <td>0.0</td>\n",
       "    </tr>\n",
       "    <tr>\n",
       "      <th>2</th>\n",
       "      <td>c3dde859</td>\n",
       "      <td>c3dde859_4.jpg</td>\n",
       "      <td>0.0</td>\n",
       "    </tr>\n",
       "    <tr>\n",
       "      <th>3</th>\n",
       "      <td>c3dde859</td>\n",
       "      <td>c3dde859_5.jpg</td>\n",
       "      <td>0.0</td>\n",
       "    </tr>\n",
       "    <tr>\n",
       "      <th>4</th>\n",
       "      <td>c3dde859</td>\n",
       "      <td>c3dde859_6.jpg</td>\n",
       "      <td>0.0</td>\n",
       "    </tr>\n",
       "  </tbody>\n",
       "</table>\n",
       "</div>"
      ],
      "text/plain": [
       "  series_id      image_name label\n",
       "0  c3dde859  c3dde859_2.jpg   0.0\n",
       "1  c3dde859  c3dde859_3.jpg   0.0\n",
       "2  c3dde859  c3dde859_4.jpg   0.0\n",
       "3  c3dde859  c3dde859_5.jpg   0.0\n",
       "4  c3dde859  c3dde859_6.jpg   0.0"
      ]
     },
     "execution_count": 26,
     "metadata": {},
     "output_type": "execute_result"
    }
   ],
   "source": [
    "annotations_df = pd.DataFrame(all_events_data)\n",
    "annotations_df.head(5)"
   ]
  }
 ],
 "metadata": {
  "kaggle": {
   "accelerator": "none",
   "dataSources": [
    {
     "databundleVersionId": 9643020,
     "sourceId": 81933,
     "sourceType": "competition"
    },
    {
     "datasetId": 6047696,
     "sourceId": 9925531,
     "sourceType": "datasetVersion"
    }
   ],
   "isGpuEnabled": false,
   "isInternetEnabled": true,
   "language": "python",
   "sourceType": "notebook"
  },
  "kernelspec": {
   "display_name": "Python 3",
   "language": "python",
   "name": "python3"
  },
  "language_info": {
   "codemirror_mode": {
    "name": "ipython",
    "version": 3
   },
   "file_extension": ".py",
   "mimetype": "text/x-python",
   "name": "python",
   "nbconvert_exporter": "python",
   "pygments_lexer": "ipython3",
   "version": "3.10.14"
  },
  "papermill": {
   "default_parameters": {},
   "duration": 11830.425352,
   "end_time": "2024-11-24T03:22:44.866687",
   "environment_variables": {},
   "exception": null,
   "input_path": "__notebook__.ipynb",
   "output_path": "__notebook__.ipynb",
   "parameters": {},
   "start_time": "2024-11-24T00:05:34.441335",
   "version": "2.6.0"
  },
  "widgets": {
   "application/vnd.jupyter.widget-state+json": {
    "state": {
     "0396af8454b448e5ad52013e96ceee9c": {
      "model_module": "@jupyter-widgets/controls",
      "model_module_version": "1.5.0",
      "model_name": "DescriptionStyleModel",
      "state": {
       "_model_module": "@jupyter-widgets/controls",
       "_model_module_version": "1.5.0",
       "_model_name": "DescriptionStyleModel",
       "_view_count": null,
       "_view_module": "@jupyter-widgets/base",
       "_view_module_version": "1.2.0",
       "_view_name": "StyleView",
       "description_width": ""
      }
     },
     "5066ce57b7944fbbb5ae1bb7ab211045": {
      "model_module": "@jupyter-widgets/controls",
      "model_module_version": "1.5.0",
      "model_name": "HTMLModel",
      "state": {
       "_dom_classes": [],
       "_model_module": "@jupyter-widgets/controls",
       "_model_module_version": "1.5.0",
       "_model_name": "HTMLModel",
       "_view_count": null,
       "_view_module": "@jupyter-widgets/controls",
       "_view_module_version": "1.5.0",
       "_view_name": "HTMLView",
       "description": "",
       "description_tooltip": null,
       "layout": "IPY_MODEL_bf16e21784a54b2ea174a7f4e30fc302",
       "placeholder": "​",
       "style": "IPY_MODEL_64815309b436473eb13598ba130bf662",
       "value": "100%"
      }
     },
     "60590999f75e4501bffb247261520b64": {
      "model_module": "@jupyter-widgets/controls",
      "model_module_version": "1.5.0",
      "model_name": "HTMLModel",
      "state": {
       "_dom_classes": [],
       "_model_module": "@jupyter-widgets/controls",
       "_model_module_version": "1.5.0",
       "_model_name": "HTMLModel",
       "_view_count": null,
       "_view_module": "@jupyter-widgets/controls",
       "_view_module_version": "1.5.0",
       "_view_name": "HTMLView",
       "description": "",
       "description_tooltip": null,
       "layout": "IPY_MODEL_6f5fcae5c4ba4f1bb17c71213a7d5715",
       "placeholder": "​",
       "style": "IPY_MODEL_0396af8454b448e5ad52013e96ceee9c",
       "value": " 2/2 [00:00&lt;00:00,  5.87it/s]"
      }
     },
     "64815309b436473eb13598ba130bf662": {
      "model_module": "@jupyter-widgets/controls",
      "model_module_version": "1.5.0",
      "model_name": "DescriptionStyleModel",
      "state": {
       "_model_module": "@jupyter-widgets/controls",
       "_model_module_version": "1.5.0",
       "_model_name": "DescriptionStyleModel",
       "_view_count": null,
       "_view_module": "@jupyter-widgets/base",
       "_view_module_version": "1.2.0",
       "_view_name": "StyleView",
       "description_width": ""
      }
     },
     "6b2849633aa647ff91b7cf69c824d147": {
      "model_module": "@jupyter-widgets/controls",
      "model_module_version": "1.5.0",
      "model_name": "HBoxModel",
      "state": {
       "_dom_classes": [],
       "_model_module": "@jupyter-widgets/controls",
       "_model_module_version": "1.5.0",
       "_model_name": "HBoxModel",
       "_view_count": null,
       "_view_module": "@jupyter-widgets/controls",
       "_view_module_version": "1.5.0",
       "_view_name": "HBoxView",
       "box_style": "",
       "children": [
        "IPY_MODEL_5066ce57b7944fbbb5ae1bb7ab211045",
        "IPY_MODEL_bce966485b08476188587ae35a103cae",
        "IPY_MODEL_60590999f75e4501bffb247261520b64"
       ],
       "layout": "IPY_MODEL_ca83dab1424e40d3b681894900f0eec0"
      }
     },
     "6f5fcae5c4ba4f1bb17c71213a7d5715": {
      "model_module": "@jupyter-widgets/base",
      "model_module_version": "1.2.0",
      "model_name": "LayoutModel",
      "state": {
       "_model_module": "@jupyter-widgets/base",
       "_model_module_version": "1.2.0",
       "_model_name": "LayoutModel",
       "_view_count": null,
       "_view_module": "@jupyter-widgets/base",
       "_view_module_version": "1.2.0",
       "_view_name": "LayoutView",
       "align_content": null,
       "align_items": null,
       "align_self": null,
       "border": null,
       "bottom": null,
       "display": null,
       "flex": null,
       "flex_flow": null,
       "grid_area": null,
       "grid_auto_columns": null,
       "grid_auto_flow": null,
       "grid_auto_rows": null,
       "grid_column": null,
       "grid_gap": null,
       "grid_row": null,
       "grid_template_areas": null,
       "grid_template_columns": null,
       "grid_template_rows": null,
       "height": null,
       "justify_content": null,
       "justify_items": null,
       "left": null,
       "margin": null,
       "max_height": null,
       "max_width": null,
       "min_height": null,
       "min_width": null,
       "object_fit": null,
       "object_position": null,
       "order": null,
       "overflow": null,
       "overflow_x": null,
       "overflow_y": null,
       "padding": null,
       "right": null,
       "top": null,
       "visibility": null,
       "width": null
      }
     },
     "bbb9c1deeb684247ab7e3f8facdf8eb4": {
      "model_module": "@jupyter-widgets/controls",
      "model_module_version": "1.5.0",
      "model_name": "ProgressStyleModel",
      "state": {
       "_model_module": "@jupyter-widgets/controls",
       "_model_module_version": "1.5.0",
       "_model_name": "ProgressStyleModel",
       "_view_count": null,
       "_view_module": "@jupyter-widgets/base",
       "_view_module_version": "1.2.0",
       "_view_name": "StyleView",
       "bar_color": null,
       "description_width": ""
      }
     },
     "bce966485b08476188587ae35a103cae": {
      "model_module": "@jupyter-widgets/controls",
      "model_module_version": "1.5.0",
      "model_name": "FloatProgressModel",
      "state": {
       "_dom_classes": [],
       "_model_module": "@jupyter-widgets/controls",
       "_model_module_version": "1.5.0",
       "_model_name": "FloatProgressModel",
       "_view_count": null,
       "_view_module": "@jupyter-widgets/controls",
       "_view_module_version": "1.5.0",
       "_view_name": "ProgressView",
       "bar_style": "success",
       "description": "",
       "description_tooltip": null,
       "layout": "IPY_MODEL_e15ebfef109846ae802ecb97afbe3032",
       "max": 2.0,
       "min": 0.0,
       "orientation": "horizontal",
       "style": "IPY_MODEL_bbb9c1deeb684247ab7e3f8facdf8eb4",
       "value": 2.0
      }
     },
     "bf16e21784a54b2ea174a7f4e30fc302": {
      "model_module": "@jupyter-widgets/base",
      "model_module_version": "1.2.0",
      "model_name": "LayoutModel",
      "state": {
       "_model_module": "@jupyter-widgets/base",
       "_model_module_version": "1.2.0",
       "_model_name": "LayoutModel",
       "_view_count": null,
       "_view_module": "@jupyter-widgets/base",
       "_view_module_version": "1.2.0",
       "_view_name": "LayoutView",
       "align_content": null,
       "align_items": null,
       "align_self": null,
       "border": null,
       "bottom": null,
       "display": null,
       "flex": null,
       "flex_flow": null,
       "grid_area": null,
       "grid_auto_columns": null,
       "grid_auto_flow": null,
       "grid_auto_rows": null,
       "grid_column": null,
       "grid_gap": null,
       "grid_row": null,
       "grid_template_areas": null,
       "grid_template_columns": null,
       "grid_template_rows": null,
       "height": null,
       "justify_content": null,
       "justify_items": null,
       "left": null,
       "margin": null,
       "max_height": null,
       "max_width": null,
       "min_height": null,
       "min_width": null,
       "object_fit": null,
       "object_position": null,
       "order": null,
       "overflow": null,
       "overflow_x": null,
       "overflow_y": null,
       "padding": null,
       "right": null,
       "top": null,
       "visibility": null,
       "width": null
      }
     },
     "ca83dab1424e40d3b681894900f0eec0": {
      "model_module": "@jupyter-widgets/base",
      "model_module_version": "1.2.0",
      "model_name": "LayoutModel",
      "state": {
       "_model_module": "@jupyter-widgets/base",
       "_model_module_version": "1.2.0",
       "_model_name": "LayoutModel",
       "_view_count": null,
       "_view_module": "@jupyter-widgets/base",
       "_view_module_version": "1.2.0",
       "_view_name": "LayoutView",
       "align_content": null,
       "align_items": null,
       "align_self": null,
       "border": null,
       "bottom": null,
       "display": null,
       "flex": null,
       "flex_flow": null,
       "grid_area": null,
       "grid_auto_columns": null,
       "grid_auto_flow": null,
       "grid_auto_rows": null,
       "grid_column": null,
       "grid_gap": null,
       "grid_row": null,
       "grid_template_areas": null,
       "grid_template_columns": null,
       "grid_template_rows": null,
       "height": null,
       "justify_content": null,
       "justify_items": null,
       "left": null,
       "margin": null,
       "max_height": null,
       "max_width": null,
       "min_height": null,
       "min_width": null,
       "object_fit": null,
       "object_position": null,
       "order": null,
       "overflow": null,
       "overflow_x": null,
       "overflow_y": null,
       "padding": null,
       "right": null,
       "top": null,
       "visibility": null,
       "width": null
      }
     },
     "e15ebfef109846ae802ecb97afbe3032": {
      "model_module": "@jupyter-widgets/base",
      "model_module_version": "1.2.0",
      "model_name": "LayoutModel",
      "state": {
       "_model_module": "@jupyter-widgets/base",
       "_model_module_version": "1.2.0",
       "_model_name": "LayoutModel",
       "_view_count": null,
       "_view_module": "@jupyter-widgets/base",
       "_view_module_version": "1.2.0",
       "_view_name": "LayoutView",
       "align_content": null,
       "align_items": null,
       "align_self": null,
       "border": null,
       "bottom": null,
       "display": null,
       "flex": null,
       "flex_flow": null,
       "grid_area": null,
       "grid_auto_columns": null,
       "grid_auto_flow": null,
       "grid_auto_rows": null,
       "grid_column": null,
       "grid_gap": null,
       "grid_row": null,
       "grid_template_areas": null,
       "grid_template_columns": null,
       "grid_template_rows": null,
       "height": null,
       "justify_content": null,
       "justify_items": null,
       "left": null,
       "margin": null,
       "max_height": null,
       "max_width": null,
       "min_height": null,
       "min_width": null,
       "object_fit": null,
       "object_position": null,
       "order": null,
       "overflow": null,
       "overflow_x": null,
       "overflow_y": null,
       "padding": null,
       "right": null,
       "top": null,
       "visibility": null,
       "width": null
      }
     }
    },
    "version_major": 2,
    "version_minor": 0
   }
  }
 },
 "nbformat": 4,
 "nbformat_minor": 5
}

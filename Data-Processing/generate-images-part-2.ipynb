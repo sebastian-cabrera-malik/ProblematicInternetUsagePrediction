{
 "cells": [
  {
   "cell_type": "markdown",
   "id": "c94764d4",
   "metadata": {
    "papermill": {
     "duration": 0.007527,
     "end_time": "2024-11-24T00:01:41.842723",
     "exception": false,
     "start_time": "2024-11-24T00:01:41.835196",
     "status": "completed"
    },
    "tags": []
   },
   "source": [
    "# Libraries"
   ]
  },
  {
   "cell_type": "code",
   "execution_count": 1,
   "id": "c5a822bb",
   "metadata": {
    "_cell_guid": "b1076dfc-b9ad-4769-8c92-a6c4dae69d19",
    "_uuid": "8f2839f25d086af736a60e9eeb907d3b93b6e0e5",
    "execution": {
     "iopub.execute_input": "2024-11-24T00:01:41.857125Z",
     "iopub.status.busy": "2024-11-24T00:01:41.856689Z",
     "iopub.status.idle": "2024-11-24T00:01:45.513324Z",
     "shell.execute_reply": "2024-11-24T00:01:45.512171Z"
    },
    "papermill": {
     "duration": 3.666739,
     "end_time": "2024-11-24T00:01:45.515895",
     "exception": false,
     "start_time": "2024-11-24T00:01:41.849156",
     "status": "completed"
    },
    "tags": []
   },
   "outputs": [],
   "source": [
    "import gc\n",
    "import pandas as pd\n",
    "import numpy as np\n",
    "import datetime as dt\n",
    "\n",
    "import matplotlib.pyplot as plt\n",
    "import matplotlib.cm as cm\n",
    "import seaborn as sns\n",
    "\n",
    "import plotly.graph_objects as go\n",
    "from plotly.subplots import make_subplots\n",
    "import plotly.express as px\n",
    "import plotly.offline\n",
    "\n",
    "from colorama import Fore, Style, init\n",
    "from pprint import pprint\n",
    "\n",
    "# 🚫 Suppressing warnings 🚫\n",
    "import warnings\n",
    "warnings.filterwarnings('ignore')"
   ]
  },
  {
   "cell_type": "code",
   "execution_count": 2,
   "id": "bfa8b42d",
   "metadata": {
    "execution": {
     "iopub.execute_input": "2024-11-24T00:01:45.530829Z",
     "iopub.status.busy": "2024-11-24T00:01:45.530229Z",
     "iopub.status.idle": "2024-11-24T00:01:47.843278Z",
     "shell.execute_reply": "2024-11-24T00:01:47.841988Z"
    },
    "papermill": {
     "duration": 2.323248,
     "end_time": "2024-11-24T00:01:47.845823",
     "exception": false,
     "start_time": "2024-11-24T00:01:45.522575",
     "status": "completed"
    },
    "tags": []
   },
   "outputs": [],
   "source": [
    "import numpy as np\n",
    "import pandas as pd\n",
    "import lightgbm as lgb\n",
    "import optuna\n",
    "from sklearn.metrics import cohen_kappa_score, make_scorer, confusion_matrix\n",
    "from sklearn.model_selection import StratifiedKFold, cross_val_score\n",
    "from sklearn.pipeline import Pipeline\n",
    "from sklearn.impute import SimpleImputer\n",
    "from sklearn.preprocessing import StandardScaler, OneHotEncoder\n",
    "from sklearn.compose import ColumnTransformer\n",
    "from sklearn.linear_model import LogisticRegression\n",
    "from sklearn.tree import DecisionTreeClassifier\n",
    "from sklearn.ensemble import RandomForestClassifier\n",
    "from sklearn.neural_network import MLPClassifier\n",
    "from imblearn.over_sampling import SMOTE\n",
    "import seaborn as sns\n",
    "import matplotlib.pyplot as plt\n",
    "from scipy.optimize import minimize\n",
    "import xgboost as xgb\n",
    "from sklearn.model_selection import train_test_split"
   ]
  },
  {
   "cell_type": "code",
   "execution_count": 3,
   "id": "552cd46e",
   "metadata": {
    "execution": {
     "iopub.execute_input": "2024-11-24T00:01:47.860588Z",
     "iopub.status.busy": "2024-11-24T00:01:47.859938Z",
     "iopub.status.idle": "2024-11-24T00:01:48.189687Z",
     "shell.execute_reply": "2024-11-24T00:01:48.188518Z"
    },
    "papermill": {
     "duration": 0.339901,
     "end_time": "2024-11-24T00:01:48.192226",
     "exception": false,
     "start_time": "2024-11-24T00:01:47.852325",
     "status": "completed"
    },
    "tags": []
   },
   "outputs": [],
   "source": [
    "import os\n",
    "from tqdm.auto import tqdm \n",
    "from concurrent.futures import ThreadPoolExecutor\n",
    "from joblib import Parallel, delayed\n",
    "from time import sleep, time\n",
    "from multiprocessing import cpu_count\n",
    "import polars as pl\n",
    "from sklearn.preprocessing import MinMaxScaler\n",
    "import concurrent.futures\n",
    "\n",
    "from datetime import datetime, timezone, timedelta"
   ]
  },
  {
   "cell_type": "markdown",
   "id": "820c4772",
   "metadata": {
    "papermill": {
     "duration": 0.005822,
     "end_time": "2024-11-24T00:01:48.205425",
     "exception": false,
     "start_time": "2024-11-24T00:01:48.199603",
     "status": "completed"
    },
    "tags": []
   },
   "source": [
    "# Load the data"
   ]
  },
  {
   "cell_type": "code",
   "execution_count": 4,
   "id": "10332fb3",
   "metadata": {
    "execution": {
     "iopub.execute_input": "2024-11-24T00:01:48.219944Z",
     "iopub.status.busy": "2024-11-24T00:01:48.218868Z",
     "iopub.status.idle": "2024-11-24T00:01:48.238644Z",
     "shell.execute_reply": "2024-11-24T00:01:48.237560Z"
    },
    "papermill": {
     "duration": 0.029342,
     "end_time": "2024-11-24T00:01:48.240892",
     "exception": false,
     "start_time": "2024-11-24T00:01:48.211550",
     "status": "completed"
    },
    "tags": []
   },
   "outputs": [
    {
     "data": {
      "text/plain": [
       "20"
      ]
     },
     "execution_count": 4,
     "metadata": {},
     "output_type": "execute_result"
    }
   ],
   "source": [
    "df_test = pd.read_csv('/kaggle/input/child-mind-institute-problematic-internet-use/test.csv')\n",
    "len(df_test)"
   ]
  },
  {
   "cell_type": "code",
   "execution_count": 5,
   "id": "f614cded",
   "metadata": {
    "execution": {
     "iopub.execute_input": "2024-11-24T00:01:48.255347Z",
     "iopub.status.busy": "2024-11-24T00:01:48.254968Z",
     "iopub.status.idle": "2024-11-24T00:01:48.262806Z",
     "shell.execute_reply": "2024-11-24T00:01:48.261695Z"
    },
    "papermill": {
     "duration": 0.017669,
     "end_time": "2024-11-24T00:01:48.264895",
     "exception": false,
     "start_time": "2024-11-24T00:01:48.247226",
     "status": "completed"
    },
    "tags": []
   },
   "outputs": [],
   "source": [
    "def process_file(filename, dirname):\n",
    "    df = pd.read_parquet(os.path.join(dirname, filename, 'part-0.parquet'))\n",
    "    df.drop('step', axis=1, inplace=True)\n",
    "    return df.describe().values.reshape(-1), filename.split('=')[1]\n",
    "\n",
    "def load_time_series(dirname) -> pd.DataFrame:\n",
    "    ids = os.listdir(dirname)\n",
    "    \n",
    "    with ThreadPoolExecutor() as executor:\n",
    "        results = list(tqdm(executor.map(lambda fname: process_file(fname, dirname), ids), total=len(ids)))\n",
    "    \n",
    "    stats, indexes = zip(*results)\n",
    "    \n",
    "    df = pd.DataFrame(stats, columns=[f\"stat_{i}\" for i in range(len(stats[0]))])\n",
    "    df['id'] = indexes\n",
    "    return df"
   ]
  },
  {
   "cell_type": "code",
   "execution_count": 6,
   "id": "d391a51f",
   "metadata": {
    "execution": {
     "iopub.execute_input": "2024-11-24T00:01:48.279412Z",
     "iopub.status.busy": "2024-11-24T00:01:48.279051Z",
     "iopub.status.idle": "2024-11-24T00:01:48.655426Z",
     "shell.execute_reply": "2024-11-24T00:01:48.654327Z"
    },
    "papermill": {
     "duration": 0.386846,
     "end_time": "2024-11-24T00:01:48.658140",
     "exception": false,
     "start_time": "2024-11-24T00:01:48.271294",
     "status": "completed"
    },
    "tags": []
   },
   "outputs": [
    {
     "data": {
      "application/vnd.jupyter.widget-view+json": {
       "model_id": "6492fd3c8ae34d9c8cd6b602a8663357",
       "version_major": 2,
       "version_minor": 0
      },
      "text/plain": [
       "  0%|          | 0/2 [00:00<?, ?it/s]"
      ]
     },
     "metadata": {},
     "output_type": "display_data"
    },
    {
     "data": {
      "text/plain": [
       "2"
      ]
     },
     "execution_count": 6,
     "metadata": {},
     "output_type": "execute_result"
    }
   ],
   "source": [
    "test_ts = load_time_series(\"/kaggle/input/child-mind-institute-problematic-internet-use/series_test.parquet\")\n",
    "len(test_ts)"
   ]
  },
  {
   "cell_type": "code",
   "execution_count": 7,
   "id": "85abf563",
   "metadata": {
    "execution": {
     "iopub.execute_input": "2024-11-24T00:01:48.673589Z",
     "iopub.status.busy": "2024-11-24T00:01:48.673198Z",
     "iopub.status.idle": "2024-11-24T00:01:48.686997Z",
     "shell.execute_reply": "2024-11-24T00:01:48.685705Z"
    },
    "papermill": {
     "duration": 0.02458,
     "end_time": "2024-11-24T00:01:48.689480",
     "exception": false,
     "start_time": "2024-11-24T00:01:48.664900",
     "status": "completed"
    },
    "tags": []
   },
   "outputs": [
    {
     "data": {
      "text/plain": [
       "array(['00115b9f', '001f3379'], dtype=object)"
      ]
     },
     "execution_count": 7,
     "metadata": {},
     "output_type": "execute_result"
    }
   ],
   "source": [
    "test_ts['id'].unique()"
   ]
  },
  {
   "cell_type": "code",
   "execution_count": 8,
   "id": "410e4671",
   "metadata": {
    "execution": {
     "iopub.execute_input": "2024-11-24T00:01:48.704708Z",
     "iopub.status.busy": "2024-11-24T00:01:48.704275Z",
     "iopub.status.idle": "2024-11-24T00:01:48.779214Z",
     "shell.execute_reply": "2024-11-24T00:01:48.778074Z"
    },
    "papermill": {
     "duration": 0.085539,
     "end_time": "2024-11-24T00:01:48.781756",
     "exception": false,
     "start_time": "2024-11-24T00:01:48.696217",
     "status": "completed"
    },
    "tags": []
   },
   "outputs": [
    {
     "data": {
      "text/plain": [
       "3960"
      ]
     },
     "execution_count": 8,
     "metadata": {},
     "output_type": "execute_result"
    }
   ],
   "source": [
    "df = pd.read_csv('/kaggle/input/colombian-frenchteam-problematicinternetusage/Dataset_problematic_internet_usage.csv')\n",
    "len(df)"
   ]
  },
  {
   "cell_type": "code",
   "execution_count": 9,
   "id": "0cf8c777",
   "metadata": {
    "execution": {
     "iopub.execute_input": "2024-11-24T00:01:48.797511Z",
     "iopub.status.busy": "2024-11-24T00:01:48.796512Z",
     "iopub.status.idle": "2024-11-24T00:01:48.806129Z",
     "shell.execute_reply": "2024-11-24T00:01:48.805054Z"
    },
    "papermill": {
     "duration": 0.020127,
     "end_time": "2024-11-24T00:01:48.808672",
     "exception": false,
     "start_time": "2024-11-24T00:01:48.788545",
     "status": "completed"
    },
    "tags": []
   },
   "outputs": [
    {
     "data": {
      "text/plain": [
       "Train_Test_Label\n",
       "isnotintrainset    2964\n",
       "test                200\n",
       "train               796\n",
       "dtype: int64"
      ]
     },
     "execution_count": 9,
     "metadata": {},
     "output_type": "execute_result"
    }
   ],
   "source": [
    "df.groupby('Train_Test_Label').size()"
   ]
  },
  {
   "cell_type": "code",
   "execution_count": 10,
   "id": "7dbef7bd",
   "metadata": {
    "execution": {
     "iopub.execute_input": "2024-11-24T00:01:48.824415Z",
     "iopub.status.busy": "2024-11-24T00:01:48.824011Z",
     "iopub.status.idle": "2024-11-24T00:01:48.834220Z",
     "shell.execute_reply": "2024-11-24T00:01:48.832850Z"
    },
    "papermill": {
     "duration": 0.020806,
     "end_time": "2024-11-24T00:01:48.836390",
     "exception": false,
     "start_time": "2024-11-24T00:01:48.815584",
     "status": "completed"
    },
    "tags": []
   },
   "outputs": [
    {
     "data": {
      "text/plain": [
       "996"
      ]
     },
     "execution_count": 10,
     "metadata": {},
     "output_type": "execute_result"
    }
   ],
   "source": [
    "df = df[(df['Train_Test_Label']=='test') | (df['Train_Test_Label']=='train') ]\n",
    "len(df)"
   ]
  },
  {
   "cell_type": "code",
   "execution_count": 11,
   "id": "8102154e",
   "metadata": {
    "execution": {
     "iopub.execute_input": "2024-11-24T00:01:48.852723Z",
     "iopub.status.busy": "2024-11-24T00:01:48.851729Z",
     "iopub.status.idle": "2024-11-24T00:01:48.882441Z",
     "shell.execute_reply": "2024-11-24T00:01:48.881314Z"
    },
    "papermill": {
     "duration": 0.041308,
     "end_time": "2024-11-24T00:01:48.884779",
     "exception": false,
     "start_time": "2024-11-24T00:01:48.843471",
     "status": "completed"
    },
    "tags": []
   },
   "outputs": [
    {
     "data": {
      "text/html": [
       "<div>\n",
       "<style scoped>\n",
       "    .dataframe tbody tr th:only-of-type {\n",
       "        vertical-align: middle;\n",
       "    }\n",
       "\n",
       "    .dataframe tbody tr th {\n",
       "        vertical-align: top;\n",
       "    }\n",
       "\n",
       "    .dataframe thead th {\n",
       "        text-align: right;\n",
       "    }\n",
       "</style>\n",
       "<table border=\"1\" class=\"dataframe\">\n",
       "  <thead>\n",
       "    <tr style=\"text-align: right;\">\n",
       "      <th></th>\n",
       "      <th>Unnamed: 0</th>\n",
       "      <th>id</th>\n",
       "      <th>Basic_Demos-Enroll_Season</th>\n",
       "      <th>Basic_Demos-Age</th>\n",
       "      <th>Basic_Demos-Sex</th>\n",
       "      <th>CGAS-Season</th>\n",
       "      <th>CGAS-CGAS_Score</th>\n",
       "      <th>Physical-Season</th>\n",
       "      <th>Physical-BMI</th>\n",
       "      <th>Physical-Height</th>\n",
       "      <th>...</th>\n",
       "      <th>PCIAT-PCIAT_20</th>\n",
       "      <th>PCIAT-PCIAT_Total</th>\n",
       "      <th>SDS-Season</th>\n",
       "      <th>SDS-SDS_Total_Raw</th>\n",
       "      <th>SDS-SDS_Total_T</th>\n",
       "      <th>PreInt_EduHx-Season</th>\n",
       "      <th>PreInt_EduHx-computerinternet_hoursday</th>\n",
       "      <th>sii</th>\n",
       "      <th>Has_actigraphy_data</th>\n",
       "      <th>Train_Test_Label</th>\n",
       "    </tr>\n",
       "  </thead>\n",
       "  <tbody>\n",
       "    <tr>\n",
       "      <th>894</th>\n",
       "      <td>894</td>\n",
       "      <td>35fa2ebf</td>\n",
       "      <td>Summer</td>\n",
       "      <td>13</td>\n",
       "      <td>0</td>\n",
       "      <td>Fall</td>\n",
       "      <td>70.0</td>\n",
       "      <td>Fall</td>\n",
       "      <td>20.404192</td>\n",
       "      <td>61.00</td>\n",
       "      <td>...</td>\n",
       "      <td>5.0</td>\n",
       "      <td>89.0</td>\n",
       "      <td>Fall</td>\n",
       "      <td>37.0</td>\n",
       "      <td>53.0</td>\n",
       "      <td>Summer</td>\n",
       "      <td>3.0</td>\n",
       "      <td>3.0</td>\n",
       "      <td>Yes</td>\n",
       "      <td>train</td>\n",
       "    </tr>\n",
       "    <tr>\n",
       "      <th>1502</th>\n",
       "      <td>1502</td>\n",
       "      <td>5e55e9fd</td>\n",
       "      <td>Spring</td>\n",
       "      <td>14</td>\n",
       "      <td>1</td>\n",
       "      <td>NaN</td>\n",
       "      <td>NaN</td>\n",
       "      <td>Spring</td>\n",
       "      <td>18.934295</td>\n",
       "      <td>60.75</td>\n",
       "      <td>...</td>\n",
       "      <td>5.0</td>\n",
       "      <td>81.0</td>\n",
       "      <td>Spring</td>\n",
       "      <td>44.0</td>\n",
       "      <td>62.0</td>\n",
       "      <td>Spring</td>\n",
       "      <td>3.0</td>\n",
       "      <td>3.0</td>\n",
       "      <td>Yes</td>\n",
       "      <td>train</td>\n",
       "    </tr>\n",
       "    <tr>\n",
       "      <th>2002</th>\n",
       "      <td>2002</td>\n",
       "      <td>7f44236f</td>\n",
       "      <td>Fall</td>\n",
       "      <td>13</td>\n",
       "      <td>0</td>\n",
       "      <td>Winter</td>\n",
       "      <td>70.0</td>\n",
       "      <td>Winter</td>\n",
       "      <td>25.370016</td>\n",
       "      <td>67.00</td>\n",
       "      <td>...</td>\n",
       "      <td>5.0</td>\n",
       "      <td>87.0</td>\n",
       "      <td>Winter</td>\n",
       "      <td>47.0</td>\n",
       "      <td>66.0</td>\n",
       "      <td>Fall</td>\n",
       "      <td>0.0</td>\n",
       "      <td>3.0</td>\n",
       "      <td>Yes</td>\n",
       "      <td>train</td>\n",
       "    </tr>\n",
       "  </tbody>\n",
       "</table>\n",
       "<p>3 rows × 85 columns</p>\n",
       "</div>"
      ],
      "text/plain": [
       "      Unnamed: 0        id Basic_Demos-Enroll_Season  Basic_Demos-Age  \\\n",
       "894          894  35fa2ebf                    Summer               13   \n",
       "1502        1502  5e55e9fd                    Spring               14   \n",
       "2002        2002  7f44236f                      Fall               13   \n",
       "\n",
       "      Basic_Demos-Sex CGAS-Season  CGAS-CGAS_Score Physical-Season  \\\n",
       "894                 0        Fall             70.0            Fall   \n",
       "1502                1         NaN              NaN          Spring   \n",
       "2002                0      Winter             70.0          Winter   \n",
       "\n",
       "      Physical-BMI  Physical-Height  ...  PCIAT-PCIAT_20  PCIAT-PCIAT_Total  \\\n",
       "894      20.404192            61.00  ...             5.0               89.0   \n",
       "1502     18.934295            60.75  ...             5.0               81.0   \n",
       "2002     25.370016            67.00  ...             5.0               87.0   \n",
       "\n",
       "      SDS-Season  SDS-SDS_Total_Raw  SDS-SDS_Total_T PreInt_EduHx-Season  \\\n",
       "894         Fall               37.0             53.0              Summer   \n",
       "1502      Spring               44.0             62.0              Spring   \n",
       "2002      Winter               47.0             66.0                Fall   \n",
       "\n",
       "      PreInt_EduHx-computerinternet_hoursday  sii  Has_actigraphy_data  \\\n",
       "894                                      3.0  3.0                  Yes   \n",
       "1502                                     3.0  3.0                  Yes   \n",
       "2002                                     0.0  3.0                  Yes   \n",
       "\n",
       "     Train_Test_Label  \n",
       "894             train  \n",
       "1502            train  \n",
       "2002            train  \n",
       "\n",
       "[3 rows x 85 columns]"
      ]
     },
     "execution_count": 11,
     "metadata": {},
     "output_type": "execute_result"
    }
   ],
   "source": [
    "df[df['sii']==3].head(3)"
   ]
  },
  {
   "cell_type": "code",
   "execution_count": 12,
   "id": "77a4050e",
   "metadata": {
    "execution": {
     "iopub.execute_input": "2024-11-24T00:01:48.900976Z",
     "iopub.status.busy": "2024-11-24T00:01:48.900539Z",
     "iopub.status.idle": "2024-11-24T00:01:48.923762Z",
     "shell.execute_reply": "2024-11-24T00:01:48.922698Z"
    },
    "papermill": {
     "duration": 0.034106,
     "end_time": "2024-11-24T00:01:48.926280",
     "exception": false,
     "start_time": "2024-11-24T00:01:48.892174",
     "status": "completed"
    },
    "tags": []
   },
   "outputs": [
    {
     "data": {
      "text/html": [
       "<div>\n",
       "<style scoped>\n",
       "    .dataframe tbody tr th:only-of-type {\n",
       "        vertical-align: middle;\n",
       "    }\n",
       "\n",
       "    .dataframe tbody tr th {\n",
       "        vertical-align: top;\n",
       "    }\n",
       "\n",
       "    .dataframe thead th {\n",
       "        text-align: right;\n",
       "    }\n",
       "</style>\n",
       "<table border=\"1\" class=\"dataframe\">\n",
       "  <thead>\n",
       "    <tr style=\"text-align: right;\">\n",
       "      <th></th>\n",
       "      <th>Unnamed: 0</th>\n",
       "      <th>id</th>\n",
       "      <th>Basic_Demos-Enroll_Season</th>\n",
       "      <th>Basic_Demos-Age</th>\n",
       "      <th>Basic_Demos-Sex</th>\n",
       "      <th>CGAS-Season</th>\n",
       "      <th>CGAS-CGAS_Score</th>\n",
       "      <th>Physical-Season</th>\n",
       "      <th>Physical-BMI</th>\n",
       "      <th>Physical-Height</th>\n",
       "      <th>...</th>\n",
       "      <th>PCIAT-PCIAT_20</th>\n",
       "      <th>PCIAT-PCIAT_Total</th>\n",
       "      <th>SDS-Season</th>\n",
       "      <th>SDS-SDS_Total_Raw</th>\n",
       "      <th>SDS-SDS_Total_T</th>\n",
       "      <th>PreInt_EduHx-Season</th>\n",
       "      <th>PreInt_EduHx-computerinternet_hoursday</th>\n",
       "      <th>sii</th>\n",
       "      <th>Has_actigraphy_data</th>\n",
       "      <th>Train_Test_Label</th>\n",
       "    </tr>\n",
       "  </thead>\n",
       "  <tbody>\n",
       "    <tr>\n",
       "      <th>22</th>\n",
       "      <td>22</td>\n",
       "      <td>01085eb3</td>\n",
       "      <td>Fall</td>\n",
       "      <td>12</td>\n",
       "      <td>0</td>\n",
       "      <td>Winter</td>\n",
       "      <td>58.0</td>\n",
       "      <td>Fall</td>\n",
       "      <td>34.187282</td>\n",
       "      <td>60.5</td>\n",
       "      <td>...</td>\n",
       "      <td>0.0</td>\n",
       "      <td>30.0</td>\n",
       "      <td>Fall</td>\n",
       "      <td>53.0</td>\n",
       "      <td>73.0</td>\n",
       "      <td>Fall</td>\n",
       "      <td>0.0</td>\n",
       "      <td>0.0</td>\n",
       "      <td>Yes</td>\n",
       "      <td>train</td>\n",
       "    </tr>\n",
       "    <tr>\n",
       "      <th>25</th>\n",
       "      <td>25</td>\n",
       "      <td>012cadd8</td>\n",
       "      <td>Spring</td>\n",
       "      <td>9</td>\n",
       "      <td>0</td>\n",
       "      <td>Winter</td>\n",
       "      <td>60.0</td>\n",
       "      <td>Fall</td>\n",
       "      <td>17.089151</td>\n",
       "      <td>53.2</td>\n",
       "      <td>...</td>\n",
       "      <td>0.0</td>\n",
       "      <td>9.0</td>\n",
       "      <td>Summer</td>\n",
       "      <td>27.0</td>\n",
       "      <td>40.0</td>\n",
       "      <td>Spring</td>\n",
       "      <td>0.0</td>\n",
       "      <td>0.0</td>\n",
       "      <td>Yes</td>\n",
       "      <td>train</td>\n",
       "    </tr>\n",
       "    <tr>\n",
       "      <th>26</th>\n",
       "      <td>26</td>\n",
       "      <td>012e3869</td>\n",
       "      <td>Summer</td>\n",
       "      <td>6</td>\n",
       "      <td>0</td>\n",
       "      <td>Winter</td>\n",
       "      <td>60.0</td>\n",
       "      <td>Summer</td>\n",
       "      <td>NaN</td>\n",
       "      <td>NaN</td>\n",
       "      <td>...</td>\n",
       "      <td>0.0</td>\n",
       "      <td>0.0</td>\n",
       "      <td>NaN</td>\n",
       "      <td>NaN</td>\n",
       "      <td>NaN</td>\n",
       "      <td>Summer</td>\n",
       "      <td>0.0</td>\n",
       "      <td>0.0</td>\n",
       "      <td>Yes</td>\n",
       "      <td>train</td>\n",
       "    </tr>\n",
       "  </tbody>\n",
       "</table>\n",
       "<p>3 rows × 85 columns</p>\n",
       "</div>"
      ],
      "text/plain": [
       "    Unnamed: 0        id Basic_Demos-Enroll_Season  Basic_Demos-Age  \\\n",
       "22          22  01085eb3                      Fall               12   \n",
       "25          25  012cadd8                    Spring                9   \n",
       "26          26  012e3869                    Summer                6   \n",
       "\n",
       "    Basic_Demos-Sex CGAS-Season  CGAS-CGAS_Score Physical-Season  \\\n",
       "22                0      Winter             58.0            Fall   \n",
       "25                0      Winter             60.0            Fall   \n",
       "26                0      Winter             60.0          Summer   \n",
       "\n",
       "    Physical-BMI  Physical-Height  ...  PCIAT-PCIAT_20  PCIAT-PCIAT_Total  \\\n",
       "22     34.187282             60.5  ...             0.0               30.0   \n",
       "25     17.089151             53.2  ...             0.0                9.0   \n",
       "26           NaN              NaN  ...             0.0                0.0   \n",
       "\n",
       "    SDS-Season  SDS-SDS_Total_Raw  SDS-SDS_Total_T PreInt_EduHx-Season  \\\n",
       "22        Fall               53.0             73.0                Fall   \n",
       "25      Summer               27.0             40.0              Spring   \n",
       "26         NaN                NaN              NaN              Summer   \n",
       "\n",
       "    PreInt_EduHx-computerinternet_hoursday  sii  Has_actigraphy_data  \\\n",
       "22                                     0.0  0.0                  Yes   \n",
       "25                                     0.0  0.0                  Yes   \n",
       "26                                     0.0  0.0                  Yes   \n",
       "\n",
       "   Train_Test_Label  \n",
       "22            train  \n",
       "25            train  \n",
       "26            train  \n",
       "\n",
       "[3 rows x 85 columns]"
      ]
     },
     "execution_count": 12,
     "metadata": {},
     "output_type": "execute_result"
    }
   ],
   "source": [
    "df[df['sii']==0].head(3)"
   ]
  },
  {
   "cell_type": "markdown",
   "id": "18cbd2a6",
   "metadata": {
    "papermill": {
     "duration": 0.00716,
     "end_time": "2024-11-24T00:01:48.941143",
     "exception": false,
     "start_time": "2024-11-24T00:01:48.933983",
     "status": "completed"
    },
    "tags": []
   },
   "source": [
    "# Plot functions 2"
   ]
  },
  {
   "cell_type": "code",
   "execution_count": 13,
   "id": "5084327c",
   "metadata": {
    "execution": {
     "iopub.execute_input": "2024-11-24T00:01:48.958230Z",
     "iopub.status.busy": "2024-11-24T00:01:48.957831Z",
     "iopub.status.idle": "2024-11-24T00:01:48.962806Z",
     "shell.execute_reply": "2024-11-24T00:01:48.961704Z"
    },
    "papermill": {
     "duration": 0.016455,
     "end_time": "2024-11-24T00:01:48.965050",
     "exception": false,
     "start_time": "2024-11-24T00:01:48.948595",
     "status": "completed"
    },
    "tags": []
   },
   "outputs": [],
   "source": [
    "kid_id = '71ee31f8'"
   ]
  },
  {
   "cell_type": "code",
   "execution_count": 14,
   "id": "5e8f4eeb",
   "metadata": {
    "execution": {
     "iopub.execute_input": "2024-11-24T00:01:48.983107Z",
     "iopub.status.busy": "2024-11-24T00:01:48.982694Z",
     "iopub.status.idle": "2024-11-24T00:01:48.997129Z",
     "shell.execute_reply": "2024-11-24T00:01:48.995972Z"
    },
    "papermill": {
     "duration": 0.026403,
     "end_time": "2024-11-24T00:01:48.999408",
     "exception": false,
     "start_time": "2024-11-24T00:01:48.973005",
     "status": "completed"
    },
    "tags": []
   },
   "outputs": [],
   "source": [
    "def feat_eng(df):\n",
    "\n",
    "    df['time_of_day_hours'] = (df['time_of_day'] / 1e9 / 3600)  # nanoseconds to hours\n",
    "    df['time_of_day_half_hours'] = (df['time_of_day'] / 1e9 / 1800)  # nanoseconds to half-hours\n",
    "    df['time_of_day_half_half_hours'] = (df['time_of_day'] / 1e9 / 900)  # nanoseconds to 15 minutes interval\n",
    "    df['time_of_day_fivemin_hours'] = (df['time_of_day'] / 1e9 / 300)  # nanoseconds to 5 minutes interval\n",
    "    df['day_time'] = df['relative_date_PCIAT'] + (df['time_of_day_hours'] / 24)\n",
    "    \n",
    "    # Day period assignment\n",
    "    day_start_hour = 8\n",
    "    day_end_hour = 21\n",
    "    df['day_period'] = np.where(\n",
    "            (df['time_of_day_hours'] >= day_start_hour) &\n",
    "            (df['time_of_day_hours'] < day_end_hour),\n",
    "            'day', 'night'\n",
    "        )\n",
    "    \n",
    "    # Initialize the 'which_day' column and day change detection\n",
    "    df['which_day'] = 0\n",
    "    day_change = (\n",
    "            (df['weekday'] != df['weekday'].shift(1)) |\n",
    "            (df['hour'] < df['hour'].shift(1)) |\n",
    "            ((df['hour'] == df['hour'].shift(1)) & (df['minute'] < df['minute'].shift(1))) |\n",
    "            ((df['hour'] == df['hour'].shift(1)) & (df['minute'] == df['minute'].shift(1)) & (df['second'] < df['second'].shift(1)))\n",
    "        )\n",
    "    df['which_day'] = day_change.cumsum() + 1\n",
    "    df['day_period_b'] = np.where(df['day_period'] == 'day', 1, 0)\n",
    "    df['time_of_day'] = pd.to_timedelta(df['time_of_day'], unit='ns')\n",
    "    base_date = pd.to_datetime('2024-01-01')\n",
    "    df['date'] = base_date + pd.to_timedelta(df['which_day'] - 1, unit='D')\n",
    "    df['timestamp'] = df['date'] + df['time_of_day']\n",
    "    df['timestamp'] = df['timestamp'].apply(lambda t: t.tz_localize(None))\n",
    "    df['timestamp_2'] = pd.to_datetime(df['timestamp']).apply(lambda t: t.tz_localize(None))\n",
    "    df.sort_values(['timestamp_2'], inplace=True)\n",
    "    df.set_index('timestamp_2', inplace=True)\n",
    "    \n",
    "    df[\"anglez\"] = df[\"anglez\"].astype(np.float32)\n",
    "    df[\"anglezdiffabs\"] = df[\"anglez\"].diff().abs().astype(np.float32)\n",
    "        \n",
    "    for col in ['anglezdiffabs']:\n",
    "            \n",
    "        # periods in seconds        \n",
    "        periods = [60] \n",
    "            \n",
    "        for n in periods:\n",
    "                \n",
    "            rol_args = {'window':f'{n+5}s', 'min_periods':10, 'center':True}\n",
    "                \n",
    "            for agg in ['median']:\n",
    "                df[f'{col}_{agg}_{n}'] = df[col].rolling(**rol_args).agg(agg).astype(np.float32).values\n",
    "                gc.collect()\n",
    "                \n",
    "            gc.collect()\n",
    "    \n",
    "    df.reset_index(inplace=True)\n",
    "    df.dropna(inplace=True)\n",
    "    df['large_enmo'] = df['enmo'] > 0.1509000062942505\n",
    "    df['anglezdiffabs_median_60_norm'] = (df['anglezdiffabs_median_60'] - np.min(df['anglezdiffabs_median_60'])) / (max(df['anglezdiffabs_median_60']) - min(df['anglezdiffabs_median_60']))\n",
    "\n",
    "    return df"
   ]
  },
  {
   "cell_type": "code",
   "execution_count": 15,
   "id": "84858e8a",
   "metadata": {
    "execution": {
     "iopub.execute_input": "2024-11-24T00:01:49.016415Z",
     "iopub.status.busy": "2024-11-24T00:01:49.016055Z",
     "iopub.status.idle": "2024-11-24T00:01:49.023306Z",
     "shell.execute_reply": "2024-11-24T00:01:49.022062Z"
    },
    "papermill": {
     "duration": 0.018419,
     "end_time": "2024-11-24T00:01:49.025647",
     "exception": false,
     "start_time": "2024-11-24T00:01:49.007228",
     "status": "completed"
    },
    "tags": []
   },
   "outputs": [],
   "source": [
    "def feat_eng_by_id(idx):\n",
    "    \n",
    "    from warnings import simplefilter \n",
    "    simplefilter(action=\"ignore\", category=pd.errors.PerformanceWarning)\n",
    "    \n",
    "    df = (\n",
    "        pl.scan_parquet(f'/kaggle/input/child-mind-institute-problematic-internet-use/series_train.parquet/id={idx}/part-0.parquet')\n",
    "        .with_columns(\n",
    "            (pl.col(\"time_of_day\").cast(pl.Int64) / 1_000_000_000).alias(\"total_seconds\")\n",
    "        )\n",
    "        .with_columns(\n",
    "            [\n",
    "                (pl.col(\"total_seconds\") // 3600).alias(\"hour\"),\n",
    "                ((pl.col(\"total_seconds\") % 3600) // 60).alias(\"minute\"),\n",
    "                (pl.col(\"total_seconds\") % 60).alias(\"second\"),\n",
    "            ]\n",
    "        )\n",
    "        .collect()\n",
    "        .to_pandas()\n",
    "    )\n",
    "\n",
    "    df = feat_eng(df)\n",
    "    \n",
    "    return df\n",
    "\n"
   ]
  },
  {
   "cell_type": "code",
   "execution_count": 16,
   "id": "a19b0820",
   "metadata": {
    "execution": {
     "iopub.execute_input": "2024-11-24T00:01:49.042551Z",
     "iopub.status.busy": "2024-11-24T00:01:49.042084Z",
     "iopub.status.idle": "2024-11-24T00:01:49.048237Z",
     "shell.execute_reply": "2024-11-24T00:01:49.047008Z"
    },
    "papermill": {
     "duration": 0.017477,
     "end_time": "2024-11-24T00:01:49.050680",
     "exception": false,
     "start_time": "2024-11-24T00:01:49.033203",
     "status": "completed"
    },
    "tags": []
   },
   "outputs": [],
   "source": [
    "from tqdm.auto import tqdm \n",
    "from joblib import Parallel, delayed\n",
    "from time import sleep, time\n",
    "from multiprocessing import cpu_count\n",
    "import gc"
   ]
  },
  {
   "cell_type": "code",
   "execution_count": 17,
   "id": "69322f60",
   "metadata": {
    "execution": {
     "iopub.execute_input": "2024-11-24T00:01:49.067593Z",
     "iopub.status.busy": "2024-11-24T00:01:49.067198Z",
     "iopub.status.idle": "2024-11-24T00:01:49.073385Z",
     "shell.execute_reply": "2024-11-24T00:01:49.072185Z"
    },
    "papermill": {
     "duration": 0.017233,
     "end_time": "2024-11-24T00:01:49.075560",
     "exception": false,
     "start_time": "2024-11-24T00:01:49.058327",
     "status": "completed"
    },
    "tags": []
   },
   "outputs": [],
   "source": [
    "from pathlib import Path\n",
    "working_folder = Path(\"/kaggle/working/\")\n",
    "images_folder = working_folder/\"imagesandannotations\"\n",
    "images_folder.mkdir()\n",
    "\n",
    "window_properties_batch_file = os.path.join(images_folder, \"window_properties.json\")\n",
    "all_events_batch_file = os.path.join(images_folder, \"all_events.json\")"
   ]
  },
  {
   "cell_type": "code",
   "execution_count": 18,
   "id": "f38dbe17",
   "metadata": {
    "execution": {
     "iopub.execute_input": "2024-11-24T00:01:49.092223Z",
     "iopub.status.busy": "2024-11-24T00:01:49.091818Z",
     "iopub.status.idle": "2024-11-24T00:01:49.099825Z",
     "shell.execute_reply": "2024-11-24T00:01:49.098694Z"
    },
    "papermill": {
     "duration": 0.018912,
     "end_time": "2024-11-24T00:01:49.102120",
     "exception": false,
     "start_time": "2024-11-24T00:01:49.083208",
     "status": "completed"
    },
    "tags": []
   },
   "outputs": [
    {
     "data": {
      "text/plain": [
       "996"
      ]
     },
     "execution_count": 18,
     "metadata": {},
     "output_type": "execute_result"
    }
   ],
   "source": [
    "series_ids = df['id'].unique()\n",
    "len(series_ids)"
   ]
  },
  {
   "cell_type": "code",
   "execution_count": 19,
   "id": "91bd8572",
   "metadata": {
    "execution": {
     "iopub.execute_input": "2024-11-24T00:01:49.120407Z",
     "iopub.status.busy": "2024-11-24T00:01:49.120047Z",
     "iopub.status.idle": "2024-11-24T00:01:49.127878Z",
     "shell.execute_reply": "2024-11-24T00:01:49.126533Z"
    },
    "papermill": {
     "duration": 0.019401,
     "end_time": "2024-11-24T00:01:49.130641",
     "exception": false,
     "start_time": "2024-11-24T00:01:49.111240",
     "status": "completed"
    },
    "tags": []
   },
   "outputs": [
    {
     "data": {
      "text/plain": [
       "array(['2d0bbbd3', '2da6bf6e', '2e17c497', '2e5f5207', '2ee0a1e8',\n",
       "       '2f154763', '2f16cad4', '2f1af08a', '2f8ec752', '2fba6cf4',\n",
       "       '2fef897e', '3065aa2f', '30d2fd47', '31648caa', '31b74cd4',\n",
       "       '31d61741', '31f01671', '321202d4', '3216b978', '325afd3d',\n",
       "       '3268c574', '327ef356', '32b8490d', '32dcc8ab', '331733c7',\n",
       "       '338146bd', '33d60f7d', '33fe1b04', '34362a9a', '34ec5de4',\n",
       "       '350cf38b', '350dbeba', '35198c2d', '351cd4ec', '35d2aa41',\n",
       "       '35daea65', '35fa2ebf', '36530d36', '36c060b9', '36c1f189',\n",
       "       '372a7950', '37995242', '37ae1239', '37bcfa7e', '380029ef',\n",
       "       '3826be66', '384c3f27', '3875d4de', '38cccd6d', '38d53b92',\n",
       "       '3950aa00', '397efe7a', '3983d3cd', '39fb1ad0', '3a594acf',\n",
       "       '3ab539f0', '3acb5be3', '3b091b83', '3b1b9538', '3ba48ca7',\n",
       "       '3c0aba64', '3c2cf08e', '3c620257', '3c8f474a', '3ca35642',\n",
       "       '3d36fe8b', '3d3b87db', '3d3dd3ae', '3d48430d', '3d6143f3',\n",
       "       '3d736110', '3d970ce4', '3e398bf9', '3e5d5b58', '3e5ee48c',\n",
       "       '3f1cf5ba', '3f1f23e7', '3fcef947', '40087bc5', '408bed19',\n",
       "       '40aae75f', '416b6ba2', '4177e5e5', '419d05c6', '427037b2',\n",
       "       '4280076d', '428970d4', '428c37ea', '429cc266', '4307d287',\n",
       "       '432aff11', '43629a34', '436dd613', '43720c15', '43a7386d',\n",
       "       '43f44f6c', '43f5d3c5', '440acf4f', '4442c376', '4570c8b8',\n",
       "       '464a75fb', '467c549f', '47240aa3', '47350ac6', '481a1861',\n",
       "       '4859a9f9', '48db8ecf', '48df987b', '48e69212', '4926b18a',\n",
       "       '4940a214', '4950e24c', '49a1931d', '49e4eade', '4a1440d9',\n",
       "       '4a17b463', '4a475a9f', '4a4a0f78', '4a62661a', '4a6af685',\n",
       "       '4a9f92ca', '4aa87859', '4b0f961e', '4b3c7594', '4b71830a',\n",
       "       '4bc2bee9', '4ca242ea', '4cabd7aa', '4cde1e34', '4d19854c',\n",
       "       '4d5a8ce7', '4d61a44e', '4dc4ed56', '4decbcd8', '4dfb4e1d',\n",
       "       '4e6c7a75', '4e85505f', '4f059221', '4f20b188', '4fd7e043',\n",
       "       '50707f1e', '50b2b84b', '5124169c', '5132511c', '51364c23',\n",
       "       '51f38b37', '5264bb0e', '526f719b', '52ce9b8b', '52e9e467',\n",
       "       '537dc410', '53814642', '53905a2c', '54391716', '54945f30',\n",
       "       '54fef303', '554e46e9', '55f9338e', '563ebc00', '56cb7161',\n",
       "       '56d9dead', '56ef356c', '5779f2e9', '579e50bd', '57c4f2b4',\n",
       "       '57de6095', '57f6fa6c', '58391429', '58ada72e', '58dfccdb',\n",
       "       '5985f299', '5a313293', '5af79adb', '5b2c9b83', '5b66b6f2',\n",
       "       '5b9ff85e', '5c186496', '5c22f241', '5c2c136d', '5cd83147',\n",
       "       '5d3b6ea5', '5d762840', '5d885b20', '5ddbac80', '5e359a08',\n",
       "       '5e55e9fd', '5e57bd12', '5ea2c305', '5ed5f205', '5ee595e8'],\n",
       "      dtype=object)"
      ]
     },
     "execution_count": 19,
     "metadata": {},
     "output_type": "execute_result"
    }
   ],
   "source": [
    "series_ids = series_ids[190:380]\n",
    "#series_ids = series_ids[0:2]\n",
    "series_ids"
   ]
  },
  {
   "cell_type": "code",
   "execution_count": 20,
   "id": "3c05a195",
   "metadata": {
    "execution": {
     "iopub.execute_input": "2024-11-24T00:01:49.148341Z",
     "iopub.status.busy": "2024-11-24T00:01:49.147934Z",
     "iopub.status.idle": "2024-11-24T00:01:49.173474Z",
     "shell.execute_reply": "2024-11-24T00:01:49.172401Z"
    },
    "papermill": {
     "duration": 0.03712,
     "end_time": "2024-11-24T00:01:49.175714",
     "exception": false,
     "start_time": "2024-11-24T00:01:49.138594",
     "status": "completed"
    },
    "tags": []
   },
   "outputs": [],
   "source": [
    "import json\n",
    "import gc\n",
    "import matplotlib.pyplot as plt\n",
    "from pathlib import Path\n",
    "from tqdm import tqdm\n",
    "import numpy as np  # Ensure np is imported for handling int64 types\n",
    "\n",
    "def process_and_plot(series_ids, images_folder):\n",
    "    \n",
    "    # Initialize main lists to hold all data\n",
    "    window_properties = []\n",
    "    all_events = []\n",
    "    \n",
    "    # Batch tracking lists\n",
    "    batch_size = 50  # Adjust batch size to your memory constraints\n",
    "    batch_window_properties = []\n",
    "    batch_all_events = []\n",
    "    \n",
    "    # Files for saving batches of data\n",
    "    window_properties_batch_file = images_folder / \"window_properties.json\"\n",
    "    all_events_batch_file = images_folder / \"all_events.json\"\n",
    "\n",
    "    # Create files if they don't exist\n",
    "    window_properties_batch_file.touch(exist_ok=True)\n",
    "    all_events_batch_file.touch(exist_ok=True)\n",
    "\n",
    "    # Process the series_ids\n",
    "    for idx in tqdm(series_ids):\n",
    "        \n",
    "        filtered_data = feat_eng_by_id(idx)\n",
    "\n",
    "        series = filtered_data.reset_index(drop=True)\n",
    "        series['color'] = [\"blue\" if large_enmo else \"green\" for large_enmo in series['large_enmo']]\n",
    "        series['timestamp'] = pd.to_datetime(series['timestamp'])\n",
    "        series['timestamp'] = series['timestamp'].apply(lambda x: x if x.tzinfo is not None else x.tz_localize('UTC'))\n",
    "        series['timestamp_utc'] = series['timestamp'].map(lambda timestamp: timestamp.astimezone(timezone.utc))\n",
    "        series['anglez_radians'] = (np.pi / 180) * series['anglez']\n",
    "        series['cos_anglez'] = np.cos(series['anglez_radians'])\n",
    "        series['enmo'] = np.clip(series['enmo'], 0, 1)\n",
    "        min_date_utc = series['timestamp_utc'].dt.date.min()\n",
    "        max_date_utc = series['timestamp_utc'].dt.date.max()\n",
    "        \n",
    "        series_24_hour_windows = {}\n",
    "        upper_bound = datetime(year=min_date_utc.year, month=min_date_utc.month, day=min_date_utc.day, hour=20, minute=30, tzinfo=timezone.utc)\n",
    "        lower_bound = upper_bound + timedelta(hours=-24) # 8:30pm UTC on the previous day.\n",
    "        while lower_bound < series['timestamp_utc'].max():\n",
    "            window_df = series.loc[(series['timestamp_utc'] >= lower_bound) & (series['timestamp_utc'] < upper_bound)].reset_index(drop=True)\n",
    "            if len(window_df) > 0:\n",
    "                series_24_hour_windows[upper_bound.isoformat()[:-6]] = window_df\n",
    "            upper_bound += timedelta(hours=24)\n",
    "            lower_bound += timedelta(hours=24)\n",
    "        \n",
    "        windows = list(series_24_hour_windows.keys())\n",
    "        num_steps_cumulative = 0\n",
    "        \n",
    "        for window_idx, window in enumerate(windows):\n",
    "            \n",
    "             if (series_24_hour_windows[window]['non-wear_flag'].mean()<0.5) & (len(series_24_hour_windows[window]) == 17280): \n",
    "\n",
    "                day = series_24_hour_windows[window]['which_day'].iloc[0]\n",
    "                 \n",
    "                fig = plt.figure(figsize=(14.4, 4))  # (width, height) in inches\n",
    "                #plt.plot(series_24_hour_windows[window]['timestamp_utc'], series_24_hour_windows[window]['cos_anglez'], color=\"red\")\n",
    "                plt.plot(series_24_hour_windows[window]['timestamp_utc'],\n",
    "                             series_24_hour_windows[window]['anglezdiffabs_median_60_norm'],\n",
    "                             color=\"red\")\n",
    "                plt.scatter(\n",
    "                        series_24_hour_windows[window]['timestamp_utc'], \n",
    "                        series_24_hour_windows[window]['enmo'], \n",
    "                        color=series_24_hour_windows[window]['color'], \n",
    "                        s=1\n",
    "                    )\n",
    "                plt.scatter(series_24_hour_windows[window]['timestamp_utc'], series_24_hour_windows[window]['non-wear_flag'], label='non_wear_flag', color='red', alpha=0.7, s=10)\n",
    "        \n",
    "                plt.fill_between(series_24_hour_windows[window]['timestamp_utc'],\n",
    "                                 0, max(1,series_24_hour_windows[window]['anglezdiffabs_median_60_norm'].max()), \n",
    "                                 where=(series_24_hour_windows[window]['non-wear_flag'] == 1), \n",
    "                                 color='red', alpha=0.1, label='Day Period')\n",
    "                 \n",
    "                plt.fill_between(series_24_hour_windows[window]['timestamp_utc'],\n",
    "                                 0, max(1,series_24_hour_windows[window]['anglezdiffabs_median_60_norm'].max()), \n",
    "                                 where=(series_24_hour_windows[window]['day_period_b'] == 1), \n",
    "                                 color='blue', alpha=0.1, label='Day Period')\n",
    "                ax = plt.gca()\n",
    "                ax.spines['top'].set_visible(False)\n",
    "                ax.spines['right'].set_visible(False)\n",
    "                ax.spines['bottom'].set_visible(False)\n",
    "                ax.spines['left'].set_visible(False)\n",
    "                ax.set_xticks([])\n",
    "                ax.set_yticks([])\n",
    "                plt.margins(0, 0)\n",
    "                plt.subplots_adjust(left=0, right=1, top=1, bottom=0)\n",
    "        \n",
    "                # Save image to images_folder\n",
    "                image_path = images_folder / f\"{idx}_{day}.jpg\"\n",
    "                plt.savefig(image_path, dpi=150, bbox_inches=\"tight\", pad_inches=0)\n",
    "                plt.close(fig)\n",
    "\n",
    "                # Store data for batch, safely converting where necessary\n",
    "                window_properties_item = {\n",
    "                        'series_id': str(idx),  # Ensure series_id is stored as string\n",
    "                        'image_name': f\"{idx}_{day}.jpg\", \n",
    "                        'idx_in_series': int(day)  # Convert 'day' to int if it's a number\n",
    "                    }\n",
    "                window_properties.append(window_properties_item)\n",
    "                batch_window_properties.append(window_properties_item)  # Add to batch\n",
    "\n",
    "                # Add to all_events batch\n",
    "                sii_label = df.loc[df['id'] == idx, 'sii'].values.item()\n",
    "\n",
    "                # Ensure sii_label is numeric before converting to int\n",
    "                if isinstance(sii_label, (int, np.integer)):\n",
    "                    sii_label = int(sii_label)\n",
    "                else:\n",
    "                    sii_label = str(sii_label)  # If it's a string, store it as string\n",
    "\n",
    "                all_events_item = {'series_id': str(idx), 'image_name': f\"{idx}_{day}.jpg\", 'label': sii_label}\n",
    "                all_events.append(all_events_item)\n",
    "                batch_all_events.append(all_events_item)  # Add to batch\n",
    "\n",
    "                # Save in batches when batch size is reached\n",
    "                if len(batch_window_properties) >= batch_size:\n",
    "                    # Save window_properties batch to JSON file\n",
    "                    with open(window_properties_batch_file, \"a\") as f:\n",
    "                        json.dump(batch_window_properties, f, indent=4)\n",
    "                    batch_window_properties.clear()  # Clear the batch\n",
    "\n",
    "                    # Save all_events batch to JSON file\n",
    "                    with open(all_events_batch_file, \"a\") as f:\n",
    "                        json.dump(batch_all_events, f, indent=4)\n",
    "                    batch_all_events.clear()  # Clear the batch\n",
    "\n",
    "                gc.collect()  # Clean up memory after each batch\n",
    "\n",
    "    # After the loop, save any remaining data if the final batch wasn't full\n",
    "    if batch_window_properties:\n",
    "        with open(window_properties_batch_file, \"a\") as f:\n",
    "            json.dump(batch_window_properties, f, indent=4)\n",
    "    if batch_all_events:\n",
    "        with open(all_events_batch_file, \"a\") as f:\n",
    "            json.dump(batch_all_events, f, indent=4)\n",
    "\n"
   ]
  },
  {
   "cell_type": "code",
   "execution_count": 21,
   "id": "ba298010",
   "metadata": {
    "execution": {
     "iopub.execute_input": "2024-11-24T00:01:49.193278Z",
     "iopub.status.busy": "2024-11-24T00:01:49.192906Z",
     "iopub.status.idle": "2024-11-24T02:24:27.696019Z",
     "shell.execute_reply": "2024-11-24T02:24:27.694566Z"
    },
    "papermill": {
     "duration": 8558.524024,
     "end_time": "2024-11-24T02:24:27.707763",
     "exception": false,
     "start_time": "2024-11-24T00:01:49.183739",
     "status": "completed"
    },
    "tags": []
   },
   "outputs": [
    {
     "name": "stderr",
     "output_type": "stream",
     "text": [
      "100%|██████████| 190/190 [2:22:38<00:00, 45.04s/it]\n"
     ]
    }
   ],
   "source": [
    "process_and_plot(series_ids,images_folder)"
   ]
  },
  {
   "cell_type": "code",
   "execution_count": 22,
   "id": "a4b2ba31",
   "metadata": {
    "execution": {
     "iopub.execute_input": "2024-11-24T02:24:27.746164Z",
     "iopub.status.busy": "2024-11-24T02:24:27.745660Z",
     "iopub.status.idle": "2024-11-24T02:24:27.751042Z",
     "shell.execute_reply": "2024-11-24T02:24:27.749832Z"
    },
    "papermill": {
     "duration": 0.027985,
     "end_time": "2024-11-24T02:24:27.753637",
     "exception": false,
     "start_time": "2024-11-24T02:24:27.725652",
     "status": "completed"
    },
    "tags": []
   },
   "outputs": [],
   "source": [
    "import glob"
   ]
  },
  {
   "cell_type": "code",
   "execution_count": 23,
   "id": "83ac74b2",
   "metadata": {
    "execution": {
     "iopub.execute_input": "2024-11-24T02:24:27.791283Z",
     "iopub.status.busy": "2024-11-24T02:24:27.790837Z",
     "iopub.status.idle": "2024-11-24T02:24:27.798080Z",
     "shell.execute_reply": "2024-11-24T02:24:27.796589Z"
    },
    "papermill": {
     "duration": 0.028601,
     "end_time": "2024-11-24T02:24:27.800314",
     "exception": false,
     "start_time": "2024-11-24T02:24:27.771713",
     "status": "completed"
    },
    "tags": []
   },
   "outputs": [],
   "source": [
    "def load_all_data_from_batches(directory_path, file_prefix):\n",
    "    all_data = []\n",
    "    \n",
    "    # Get all filenames matching the prefix and pattern\n",
    "    batch_files = glob.glob(f\"{directory_path}/{file_prefix}*.json\")\n",
    "    \n",
    "    for batch_file in batch_files:\n",
    "        with open(batch_file, 'r') as f:\n",
    "            try:\n",
    "                data = json.load(f)\n",
    "                all_data.extend(data)  # Append data from this batch to the overall list\n",
    "            except json.JSONDecodeError as e:\n",
    "                print(f\"Error loading {batch_file}: {e}\")\n",
    "    \n",
    "    return all_data\n",
    "    "
   ]
  },
  {
   "cell_type": "code",
   "execution_count": 24,
   "id": "5de9631f",
   "metadata": {
    "execution": {
     "iopub.execute_input": "2024-11-24T02:24:27.838015Z",
     "iopub.status.busy": "2024-11-24T02:24:27.837599Z",
     "iopub.status.idle": "2024-11-24T02:24:27.853568Z",
     "shell.execute_reply": "2024-11-24T02:24:27.852296Z"
    },
    "papermill": {
     "duration": 0.037637,
     "end_time": "2024-11-24T02:24:27.855965",
     "exception": false,
     "start_time": "2024-11-24T02:24:27.818328",
     "status": "completed"
    },
    "tags": []
   },
   "outputs": [
    {
     "name": "stdout",
     "output_type": "stream",
     "text": [
      "Successfully loaded /kaggle/working/imagesandannotations/window_properties.json!\n",
      "Successfully loaded /kaggle/working/imagesandannotations/all_events.json!\n",
      "Sample from window_properties:\n",
      "[{'series_id': '2da6bf6e', 'image_name': '2da6bf6e_2.jpg', 'idx_in_series': 2}, {'series_id': '2da6bf6e', 'image_name': '2da6bf6e_3.jpg', 'idx_in_series': 3}, {'series_id': '2da6bf6e', 'image_name': '2da6bf6e_4.jpg', 'idx_in_series': 4}]\n",
      "\n",
      "Sample from all_events:\n",
      "[{'series_id': '2da6bf6e', 'image_name': '2da6bf6e_2.jpg', 'label': '0.0'}, {'series_id': '2da6bf6e', 'image_name': '2da6bf6e_3.jpg', 'label': '0.0'}, {'series_id': '2da6bf6e', 'image_name': '2da6bf6e_4.jpg', 'label': '0.0'}]\n"
     ]
    }
   ],
   "source": [
    "# Path to your JSON files\n",
    "window_properties_path = '/kaggle/working/imagesandannotations/window_properties.json'\n",
    "all_events_path = '/kaggle/working/imagesandannotations/all_events.json'\n",
    "\n",
    "# Function to load and fix the JSON files if needed\n",
    "def load_json_file(file_path):\n",
    "    with open(file_path, 'r') as file:\n",
    "        content = file.read()\n",
    "\n",
    "    # Remove any invalid '][' and ensure the content is wrapped in square brackets\n",
    "    fixed_content = content.replace(\"][\", \",\")  # Fix '][' by replacing with a comma\n",
    "\n",
    "    # Wrap content in square brackets if it's not already\n",
    "    if not fixed_content.startswith('['):\n",
    "        fixed_content = f\"[{fixed_content}\"\n",
    "    if not fixed_content.endswith(']'):\n",
    "        fixed_content = f\"{fixed_content}]\"\n",
    "\n",
    "    # Try to load the corrected content\n",
    "    try:\n",
    "        data = json.loads(fixed_content)\n",
    "        print(f\"Successfully loaded {file_path}!\")\n",
    "        return data\n",
    "    except json.JSONDecodeError as e:\n",
    "        print(f\"Error decoding JSON in {file_path}: {e}\")\n",
    "        return None\n",
    "\n",
    "# Load both files\n",
    "window_properties_data = load_json_file(window_properties_path)\n",
    "all_events_data = load_json_file(all_events_path)\n",
    "\n",
    "# Print a sample from each to confirm the data is loaded correctly\n",
    "print(\"Sample from window_properties:\")\n",
    "print(window_properties_data[:3])  # Show the first 3 items as a sample\n",
    "\n",
    "print(\"\\nSample from all_events:\")\n",
    "print(all_events_data[:3])  # Show the first 3 items as a sample"
   ]
  },
  {
   "cell_type": "code",
   "execution_count": 25,
   "id": "ac69f74a",
   "metadata": {
    "execution": {
     "iopub.execute_input": "2024-11-24T02:24:27.894322Z",
     "iopub.status.busy": "2024-11-24T02:24:27.893802Z",
     "iopub.status.idle": "2024-11-24T02:24:27.908892Z",
     "shell.execute_reply": "2024-11-24T02:24:27.907715Z"
    },
    "papermill": {
     "duration": 0.036897,
     "end_time": "2024-11-24T02:24:27.911108",
     "exception": false,
     "start_time": "2024-11-24T02:24:27.874211",
     "status": "completed"
    },
    "tags": []
   },
   "outputs": [
    {
     "data": {
      "text/html": [
       "<div>\n",
       "<style scoped>\n",
       "    .dataframe tbody tr th:only-of-type {\n",
       "        vertical-align: middle;\n",
       "    }\n",
       "\n",
       "    .dataframe tbody tr th {\n",
       "        vertical-align: top;\n",
       "    }\n",
       "\n",
       "    .dataframe thead th {\n",
       "        text-align: right;\n",
       "    }\n",
       "</style>\n",
       "<table border=\"1\" class=\"dataframe\">\n",
       "  <thead>\n",
       "    <tr style=\"text-align: right;\">\n",
       "      <th></th>\n",
       "      <th>series_id</th>\n",
       "      <th>image_name</th>\n",
       "      <th>idx_in_series</th>\n",
       "    </tr>\n",
       "  </thead>\n",
       "  <tbody>\n",
       "    <tr>\n",
       "      <th>0</th>\n",
       "      <td>2da6bf6e</td>\n",
       "      <td>2da6bf6e_2.jpg</td>\n",
       "      <td>2</td>\n",
       "    </tr>\n",
       "    <tr>\n",
       "      <th>1</th>\n",
       "      <td>2da6bf6e</td>\n",
       "      <td>2da6bf6e_3.jpg</td>\n",
       "      <td>3</td>\n",
       "    </tr>\n",
       "    <tr>\n",
       "      <th>2</th>\n",
       "      <td>2da6bf6e</td>\n",
       "      <td>2da6bf6e_4.jpg</td>\n",
       "      <td>4</td>\n",
       "    </tr>\n",
       "    <tr>\n",
       "      <th>3</th>\n",
       "      <td>2da6bf6e</td>\n",
       "      <td>2da6bf6e_5.jpg</td>\n",
       "      <td>5</td>\n",
       "    </tr>\n",
       "    <tr>\n",
       "      <th>4</th>\n",
       "      <td>2da6bf6e</td>\n",
       "      <td>2da6bf6e_6.jpg</td>\n",
       "      <td>6</td>\n",
       "    </tr>\n",
       "  </tbody>\n",
       "</table>\n",
       "</div>"
      ],
      "text/plain": [
       "  series_id      image_name  idx_in_series\n",
       "0  2da6bf6e  2da6bf6e_2.jpg              2\n",
       "1  2da6bf6e  2da6bf6e_3.jpg              3\n",
       "2  2da6bf6e  2da6bf6e_4.jpg              4\n",
       "3  2da6bf6e  2da6bf6e_5.jpg              5\n",
       "4  2da6bf6e  2da6bf6e_6.jpg              6"
      ]
     },
     "execution_count": 25,
     "metadata": {},
     "output_type": "execute_result"
    }
   ],
   "source": [
    "window_properties_df = pd.DataFrame(window_properties_data)\n",
    "window_properties_df.head(5)"
   ]
  },
  {
   "cell_type": "code",
   "execution_count": 26,
   "id": "78606e18",
   "metadata": {
    "execution": {
     "iopub.execute_input": "2024-11-24T02:24:27.950284Z",
     "iopub.status.busy": "2024-11-24T02:24:27.949860Z",
     "iopub.status.idle": "2024-11-24T02:24:27.965326Z",
     "shell.execute_reply": "2024-11-24T02:24:27.964123Z"
    },
    "papermill": {
     "duration": 0.037403,
     "end_time": "2024-11-24T02:24:27.967360",
     "exception": false,
     "start_time": "2024-11-24T02:24:27.929957",
     "status": "completed"
    },
    "tags": []
   },
   "outputs": [
    {
     "data": {
      "text/html": [
       "<div>\n",
       "<style scoped>\n",
       "    .dataframe tbody tr th:only-of-type {\n",
       "        vertical-align: middle;\n",
       "    }\n",
       "\n",
       "    .dataframe tbody tr th {\n",
       "        vertical-align: top;\n",
       "    }\n",
       "\n",
       "    .dataframe thead th {\n",
       "        text-align: right;\n",
       "    }\n",
       "</style>\n",
       "<table border=\"1\" class=\"dataframe\">\n",
       "  <thead>\n",
       "    <tr style=\"text-align: right;\">\n",
       "      <th></th>\n",
       "      <th>series_id</th>\n",
       "      <th>image_name</th>\n",
       "      <th>label</th>\n",
       "    </tr>\n",
       "  </thead>\n",
       "  <tbody>\n",
       "    <tr>\n",
       "      <th>0</th>\n",
       "      <td>2da6bf6e</td>\n",
       "      <td>2da6bf6e_2.jpg</td>\n",
       "      <td>0.0</td>\n",
       "    </tr>\n",
       "    <tr>\n",
       "      <th>1</th>\n",
       "      <td>2da6bf6e</td>\n",
       "      <td>2da6bf6e_3.jpg</td>\n",
       "      <td>0.0</td>\n",
       "    </tr>\n",
       "    <tr>\n",
       "      <th>2</th>\n",
       "      <td>2da6bf6e</td>\n",
       "      <td>2da6bf6e_4.jpg</td>\n",
       "      <td>0.0</td>\n",
       "    </tr>\n",
       "    <tr>\n",
       "      <th>3</th>\n",
       "      <td>2da6bf6e</td>\n",
       "      <td>2da6bf6e_5.jpg</td>\n",
       "      <td>0.0</td>\n",
       "    </tr>\n",
       "    <tr>\n",
       "      <th>4</th>\n",
       "      <td>2da6bf6e</td>\n",
       "      <td>2da6bf6e_6.jpg</td>\n",
       "      <td>0.0</td>\n",
       "    </tr>\n",
       "  </tbody>\n",
       "</table>\n",
       "</div>"
      ],
      "text/plain": [
       "  series_id      image_name label\n",
       "0  2da6bf6e  2da6bf6e_2.jpg   0.0\n",
       "1  2da6bf6e  2da6bf6e_3.jpg   0.0\n",
       "2  2da6bf6e  2da6bf6e_4.jpg   0.0\n",
       "3  2da6bf6e  2da6bf6e_5.jpg   0.0\n",
       "4  2da6bf6e  2da6bf6e_6.jpg   0.0"
      ]
     },
     "execution_count": 26,
     "metadata": {},
     "output_type": "execute_result"
    }
   ],
   "source": [
    "annotations_df = pd.DataFrame(all_events_data)\n",
    "annotations_df.head(5)"
   ]
  }
 ],
 "metadata": {
  "kaggle": {
   "accelerator": "none",
   "dataSources": [
    {
     "databundleVersionId": 9643020,
     "sourceId": 81933,
     "sourceType": "competition"
    },
    {
     "datasetId": 6047696,
     "sourceId": 9925531,
     "sourceType": "datasetVersion"
    }
   ],
   "dockerImageVersionId": 30786,
   "isGpuEnabled": false,
   "isInternetEnabled": true,
   "language": "python",
   "sourceType": "notebook"
  },
  "kernelspec": {
   "display_name": "Python 3",
   "language": "python",
   "name": "python3"
  },
  "language_info": {
   "codemirror_mode": {
    "name": "ipython",
    "version": 3
   },
   "file_extension": ".py",
   "mimetype": "text/x-python",
   "name": "python",
   "nbconvert_exporter": "python",
   "pygments_lexer": "ipython3",
   "version": "3.10.14"
  },
  "papermill": {
   "default_parameters": {},
   "duration": 8573.620967,
   "end_time": "2024-11-24T02:24:32.415442",
   "environment_variables": {},
   "exception": null,
   "input_path": "__notebook__.ipynb",
   "output_path": "__notebook__.ipynb",
   "parameters": {},
   "start_time": "2024-11-24T00:01:38.794475",
   "version": "2.6.0"
  },
  "widgets": {
   "application/vnd.jupyter.widget-state+json": {
    "state": {
     "11d86109bf384a878fcff016beae4cef": {
      "model_module": "@jupyter-widgets/controls",
      "model_module_version": "1.5.0",
      "model_name": "HTMLModel",
      "state": {
       "_dom_classes": [],
       "_model_module": "@jupyter-widgets/controls",
       "_model_module_version": "1.5.0",
       "_model_name": "HTMLModel",
       "_view_count": null,
       "_view_module": "@jupyter-widgets/controls",
       "_view_module_version": "1.5.0",
       "_view_name": "HTMLView",
       "description": "",
       "description_tooltip": null,
       "layout": "IPY_MODEL_d7ead44fb85c4b5f908a08aaa60cd30c",
       "placeholder": "​",
       "style": "IPY_MODEL_5cad7ed8ae6d42da81ca709978e7cef9",
       "value": " 2/2 [00:00&lt;00:00,  5.71it/s]"
      }
     },
     "135d48b130bf41598cb8fb94743e8cab": {
      "model_module": "@jupyter-widgets/controls",
      "model_module_version": "1.5.0",
      "model_name": "FloatProgressModel",
      "state": {
       "_dom_classes": [],
       "_model_module": "@jupyter-widgets/controls",
       "_model_module_version": "1.5.0",
       "_model_name": "FloatProgressModel",
       "_view_count": null,
       "_view_module": "@jupyter-widgets/controls",
       "_view_module_version": "1.5.0",
       "_view_name": "ProgressView",
       "bar_style": "success",
       "description": "",
       "description_tooltip": null,
       "layout": "IPY_MODEL_f1ef447006f748d9815932c4e9bdbdd6",
       "max": 2.0,
       "min": 0.0,
       "orientation": "horizontal",
       "style": "IPY_MODEL_915ea0d2e76c45fc9ab20fcd32666965",
       "value": 2.0
      }
     },
     "4f0194f612ae4442989b241dd559b9a8": {
      "model_module": "@jupyter-widgets/base",
      "model_module_version": "1.2.0",
      "model_name": "LayoutModel",
      "state": {
       "_model_module": "@jupyter-widgets/base",
       "_model_module_version": "1.2.0",
       "_model_name": "LayoutModel",
       "_view_count": null,
       "_view_module": "@jupyter-widgets/base",
       "_view_module_version": "1.2.0",
       "_view_name": "LayoutView",
       "align_content": null,
       "align_items": null,
       "align_self": null,
       "border": null,
       "bottom": null,
       "display": null,
       "flex": null,
       "flex_flow": null,
       "grid_area": null,
       "grid_auto_columns": null,
       "grid_auto_flow": null,
       "grid_auto_rows": null,
       "grid_column": null,
       "grid_gap": null,
       "grid_row": null,
       "grid_template_areas": null,
       "grid_template_columns": null,
       "grid_template_rows": null,
       "height": null,
       "justify_content": null,
       "justify_items": null,
       "left": null,
       "margin": null,
       "max_height": null,
       "max_width": null,
       "min_height": null,
       "min_width": null,
       "object_fit": null,
       "object_position": null,
       "order": null,
       "overflow": null,
       "overflow_x": null,
       "overflow_y": null,
       "padding": null,
       "right": null,
       "top": null,
       "visibility": null,
       "width": null
      }
     },
     "5cad7ed8ae6d42da81ca709978e7cef9": {
      "model_module": "@jupyter-widgets/controls",
      "model_module_version": "1.5.0",
      "model_name": "DescriptionStyleModel",
      "state": {
       "_model_module": "@jupyter-widgets/controls",
       "_model_module_version": "1.5.0",
       "_model_name": "DescriptionStyleModel",
       "_view_count": null,
       "_view_module": "@jupyter-widgets/base",
       "_view_module_version": "1.2.0",
       "_view_name": "StyleView",
       "description_width": ""
      }
     },
     "6492fd3c8ae34d9c8cd6b602a8663357": {
      "model_module": "@jupyter-widgets/controls",
      "model_module_version": "1.5.0",
      "model_name": "HBoxModel",
      "state": {
       "_dom_classes": [],
       "_model_module": "@jupyter-widgets/controls",
       "_model_module_version": "1.5.0",
       "_model_name": "HBoxModel",
       "_view_count": null,
       "_view_module": "@jupyter-widgets/controls",
       "_view_module_version": "1.5.0",
       "_view_name": "HBoxView",
       "box_style": "",
       "children": [
        "IPY_MODEL_f2318cc56aa543dda42d4715989d23df",
        "IPY_MODEL_135d48b130bf41598cb8fb94743e8cab",
        "IPY_MODEL_11d86109bf384a878fcff016beae4cef"
       ],
       "layout": "IPY_MODEL_4f0194f612ae4442989b241dd559b9a8"
      }
     },
     "915ea0d2e76c45fc9ab20fcd32666965": {
      "model_module": "@jupyter-widgets/controls",
      "model_module_version": "1.5.0",
      "model_name": "ProgressStyleModel",
      "state": {
       "_model_module": "@jupyter-widgets/controls",
       "_model_module_version": "1.5.0",
       "_model_name": "ProgressStyleModel",
       "_view_count": null,
       "_view_module": "@jupyter-widgets/base",
       "_view_module_version": "1.2.0",
       "_view_name": "StyleView",
       "bar_color": null,
       "description_width": ""
      }
     },
     "a60eabe797c84bc1a1a53d525c2213ea": {
      "model_module": "@jupyter-widgets/controls",
      "model_module_version": "1.5.0",
      "model_name": "DescriptionStyleModel",
      "state": {
       "_model_module": "@jupyter-widgets/controls",
       "_model_module_version": "1.5.0",
       "_model_name": "DescriptionStyleModel",
       "_view_count": null,
       "_view_module": "@jupyter-widgets/base",
       "_view_module_version": "1.2.0",
       "_view_name": "StyleView",
       "description_width": ""
      }
     },
     "d7ead44fb85c4b5f908a08aaa60cd30c": {
      "model_module": "@jupyter-widgets/base",
      "model_module_version": "1.2.0",
      "model_name": "LayoutModel",
      "state": {
       "_model_module": "@jupyter-widgets/base",
       "_model_module_version": "1.2.0",
       "_model_name": "LayoutModel",
       "_view_count": null,
       "_view_module": "@jupyter-widgets/base",
       "_view_module_version": "1.2.0",
       "_view_name": "LayoutView",
       "align_content": null,
       "align_items": null,
       "align_self": null,
       "border": null,
       "bottom": null,
       "display": null,
       "flex": null,
       "flex_flow": null,
       "grid_area": null,
       "grid_auto_columns": null,
       "grid_auto_flow": null,
       "grid_auto_rows": null,
       "grid_column": null,
       "grid_gap": null,
       "grid_row": null,
       "grid_template_areas": null,
       "grid_template_columns": null,
       "grid_template_rows": null,
       "height": null,
       "justify_content": null,
       "justify_items": null,
       "left": null,
       "margin": null,
       "max_height": null,
       "max_width": null,
       "min_height": null,
       "min_width": null,
       "object_fit": null,
       "object_position": null,
       "order": null,
       "overflow": null,
       "overflow_x": null,
       "overflow_y": null,
       "padding": null,
       "right": null,
       "top": null,
       "visibility": null,
       "width": null
      }
     },
     "dd34c4befd894a8eaa5ebb662aeb3b94": {
      "model_module": "@jupyter-widgets/base",
      "model_module_version": "1.2.0",
      "model_name": "LayoutModel",
      "state": {
       "_model_module": "@jupyter-widgets/base",
       "_model_module_version": "1.2.0",
       "_model_name": "LayoutModel",
       "_view_count": null,
       "_view_module": "@jupyter-widgets/base",
       "_view_module_version": "1.2.0",
       "_view_name": "LayoutView",
       "align_content": null,
       "align_items": null,
       "align_self": null,
       "border": null,
       "bottom": null,
       "display": null,
       "flex": null,
       "flex_flow": null,
       "grid_area": null,
       "grid_auto_columns": null,
       "grid_auto_flow": null,
       "grid_auto_rows": null,
       "grid_column": null,
       "grid_gap": null,
       "grid_row": null,
       "grid_template_areas": null,
       "grid_template_columns": null,
       "grid_template_rows": null,
       "height": null,
       "justify_content": null,
       "justify_items": null,
       "left": null,
       "margin": null,
       "max_height": null,
       "max_width": null,
       "min_height": null,
       "min_width": null,
       "object_fit": null,
       "object_position": null,
       "order": null,
       "overflow": null,
       "overflow_x": null,
       "overflow_y": null,
       "padding": null,
       "right": null,
       "top": null,
       "visibility": null,
       "width": null
      }
     },
     "f1ef447006f748d9815932c4e9bdbdd6": {
      "model_module": "@jupyter-widgets/base",
      "model_module_version": "1.2.0",
      "model_name": "LayoutModel",
      "state": {
       "_model_module": "@jupyter-widgets/base",
       "_model_module_version": "1.2.0",
       "_model_name": "LayoutModel",
       "_view_count": null,
       "_view_module": "@jupyter-widgets/base",
       "_view_module_version": "1.2.0",
       "_view_name": "LayoutView",
       "align_content": null,
       "align_items": null,
       "align_self": null,
       "border": null,
       "bottom": null,
       "display": null,
       "flex": null,
       "flex_flow": null,
       "grid_area": null,
       "grid_auto_columns": null,
       "grid_auto_flow": null,
       "grid_auto_rows": null,
       "grid_column": null,
       "grid_gap": null,
       "grid_row": null,
       "grid_template_areas": null,
       "grid_template_columns": null,
       "grid_template_rows": null,
       "height": null,
       "justify_content": null,
       "justify_items": null,
       "left": null,
       "margin": null,
       "max_height": null,
       "max_width": null,
       "min_height": null,
       "min_width": null,
       "object_fit": null,
       "object_position": null,
       "order": null,
       "overflow": null,
       "overflow_x": null,
       "overflow_y": null,
       "padding": null,
       "right": null,
       "top": null,
       "visibility": null,
       "width": null
      }
     },
     "f2318cc56aa543dda42d4715989d23df": {
      "model_module": "@jupyter-widgets/controls",
      "model_module_version": "1.5.0",
      "model_name": "HTMLModel",
      "state": {
       "_dom_classes": [],
       "_model_module": "@jupyter-widgets/controls",
       "_model_module_version": "1.5.0",
       "_model_name": "HTMLModel",
       "_view_count": null,
       "_view_module": "@jupyter-widgets/controls",
       "_view_module_version": "1.5.0",
       "_view_name": "HTMLView",
       "description": "",
       "description_tooltip": null,
       "layout": "IPY_MODEL_dd34c4befd894a8eaa5ebb662aeb3b94",
       "placeholder": "​",
       "style": "IPY_MODEL_a60eabe797c84bc1a1a53d525c2213ea",
       "value": "100%"
      }
     }
    },
    "version_major": 2,
    "version_minor": 0
   }
  }
 },
 "nbformat": 4,
 "nbformat_minor": 5
}

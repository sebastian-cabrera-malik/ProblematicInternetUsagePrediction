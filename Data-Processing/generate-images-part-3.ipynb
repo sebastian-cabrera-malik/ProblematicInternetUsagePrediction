{
 "cells": [
  {
   "cell_type": "markdown",
   "id": "3aba8247",
   "metadata": {
    "papermill": {
     "duration": 0.007063,
     "end_time": "2024-11-24T00:02:36.331569",
     "exception": false,
     "start_time": "2024-11-24T00:02:36.324506",
     "status": "completed"
    },
    "tags": []
   },
   "source": [
    "# Libraries"
   ]
  },
  {
   "cell_type": "code",
   "execution_count": 1,
   "id": "14f0dd7e",
   "metadata": {
    "_cell_guid": "b1076dfc-b9ad-4769-8c92-a6c4dae69d19",
    "_uuid": "8f2839f25d086af736a60e9eeb907d3b93b6e0e5",
    "execution": {
     "iopub.execute_input": "2024-11-24T00:02:36.345956Z",
     "iopub.status.busy": "2024-11-24T00:02:36.345443Z",
     "iopub.status.idle": "2024-11-24T00:02:39.741311Z",
     "shell.execute_reply": "2024-11-24T00:02:39.739969Z"
    },
    "papermill": {
     "duration": 3.406065,
     "end_time": "2024-11-24T00:02:39.743976",
     "exception": false,
     "start_time": "2024-11-24T00:02:36.337911",
     "status": "completed"
    },
    "tags": []
   },
   "outputs": [],
   "source": [
    "import gc\n",
    "import pandas as pd\n",
    "import numpy as np\n",
    "import datetime as dt\n",
    "\n",
    "import matplotlib.pyplot as plt\n",
    "import matplotlib.cm as cm\n",
    "import seaborn as sns\n",
    "\n",
    "import plotly.graph_objects as go\n",
    "from plotly.subplots import make_subplots\n",
    "import plotly.express as px\n",
    "import plotly.offline\n",
    "\n",
    "from colorama import Fore, Style, init\n",
    "from pprint import pprint\n",
    "\n",
    "# 🚫 Suppressing warnings 🚫\n",
    "import warnings\n",
    "warnings.filterwarnings('ignore')"
   ]
  },
  {
   "cell_type": "code",
   "execution_count": 2,
   "id": "eacb00be",
   "metadata": {
    "execution": {
     "iopub.execute_input": "2024-11-24T00:02:39.759246Z",
     "iopub.status.busy": "2024-11-24T00:02:39.758498Z",
     "iopub.status.idle": "2024-11-24T00:02:42.022708Z",
     "shell.execute_reply": "2024-11-24T00:02:42.021352Z"
    },
    "papermill": {
     "duration": 2.275188,
     "end_time": "2024-11-24T00:02:42.025615",
     "exception": false,
     "start_time": "2024-11-24T00:02:39.750427",
     "status": "completed"
    },
    "tags": []
   },
   "outputs": [],
   "source": [
    "import numpy as np\n",
    "import pandas as pd\n",
    "import lightgbm as lgb\n",
    "import optuna\n",
    "from sklearn.metrics import cohen_kappa_score, make_scorer, confusion_matrix\n",
    "from sklearn.model_selection import StratifiedKFold, cross_val_score\n",
    "from sklearn.pipeline import Pipeline\n",
    "from sklearn.impute import SimpleImputer\n",
    "from sklearn.preprocessing import StandardScaler, OneHotEncoder\n",
    "from sklearn.compose import ColumnTransformer\n",
    "from sklearn.linear_model import LogisticRegression\n",
    "from sklearn.tree import DecisionTreeClassifier\n",
    "from sklearn.ensemble import RandomForestClassifier\n",
    "from sklearn.neural_network import MLPClassifier\n",
    "from imblearn.over_sampling import SMOTE\n",
    "import seaborn as sns\n",
    "import matplotlib.pyplot as plt\n",
    "from scipy.optimize import minimize\n",
    "import xgboost as xgb\n",
    "from sklearn.model_selection import train_test_split"
   ]
  },
  {
   "cell_type": "code",
   "execution_count": 3,
   "id": "7befea23",
   "metadata": {
    "execution": {
     "iopub.execute_input": "2024-11-24T00:02:42.042713Z",
     "iopub.status.busy": "2024-11-24T00:02:42.042101Z",
     "iopub.status.idle": "2024-11-24T00:02:42.383435Z",
     "shell.execute_reply": "2024-11-24T00:02:42.382252Z"
    },
    "papermill": {
     "duration": 0.352386,
     "end_time": "2024-11-24T00:02:42.385953",
     "exception": false,
     "start_time": "2024-11-24T00:02:42.033567",
     "status": "completed"
    },
    "tags": []
   },
   "outputs": [],
   "source": [
    "import os\n",
    "from tqdm.auto import tqdm \n",
    "from concurrent.futures import ThreadPoolExecutor\n",
    "from joblib import Parallel, delayed\n",
    "from time import sleep, time\n",
    "from multiprocessing import cpu_count\n",
    "import polars as pl\n",
    "from sklearn.preprocessing import MinMaxScaler\n",
    "import concurrent.futures\n",
    "\n",
    "from datetime import datetime, timezone, timedelta"
   ]
  },
  {
   "cell_type": "markdown",
   "id": "a5660e40",
   "metadata": {
    "papermill": {
     "duration": 0.008306,
     "end_time": "2024-11-24T00:02:42.401565",
     "exception": false,
     "start_time": "2024-11-24T00:02:42.393259",
     "status": "completed"
    },
    "tags": []
   },
   "source": [
    "# Load the data"
   ]
  },
  {
   "cell_type": "code",
   "execution_count": 4,
   "id": "369c7071",
   "metadata": {
    "execution": {
     "iopub.execute_input": "2024-11-24T00:02:42.418354Z",
     "iopub.status.busy": "2024-11-24T00:02:42.417924Z",
     "iopub.status.idle": "2024-11-24T00:02:42.441600Z",
     "shell.execute_reply": "2024-11-24T00:02:42.440427Z"
    },
    "papermill": {
     "duration": 0.034947,
     "end_time": "2024-11-24T00:02:42.444036",
     "exception": false,
     "start_time": "2024-11-24T00:02:42.409089",
     "status": "completed"
    },
    "tags": []
   },
   "outputs": [
    {
     "data": {
      "text/plain": [
       "20"
      ]
     },
     "execution_count": 4,
     "metadata": {},
     "output_type": "execute_result"
    }
   ],
   "source": [
    "df_test = pd.read_csv('/kaggle/input/child-mind-institute-problematic-internet-use/test.csv')\n",
    "len(df_test)"
   ]
  },
  {
   "cell_type": "code",
   "execution_count": 5,
   "id": "06da528c",
   "metadata": {
    "execution": {
     "iopub.execute_input": "2024-11-24T00:02:42.459041Z",
     "iopub.status.busy": "2024-11-24T00:02:42.458500Z",
     "iopub.status.idle": "2024-11-24T00:02:42.468538Z",
     "shell.execute_reply": "2024-11-24T00:02:42.467472Z"
    },
    "papermill": {
     "duration": 0.020797,
     "end_time": "2024-11-24T00:02:42.471383",
     "exception": false,
     "start_time": "2024-11-24T00:02:42.450586",
     "status": "completed"
    },
    "tags": []
   },
   "outputs": [],
   "source": [
    "def process_file(filename, dirname):\n",
    "    df = pd.read_parquet(os.path.join(dirname, filename, 'part-0.parquet'))\n",
    "    df.drop('step', axis=1, inplace=True)\n",
    "    return df.describe().values.reshape(-1), filename.split('=')[1]\n",
    "\n",
    "def load_time_series(dirname) -> pd.DataFrame:\n",
    "    ids = os.listdir(dirname)\n",
    "    \n",
    "    with ThreadPoolExecutor() as executor:\n",
    "        results = list(tqdm(executor.map(lambda fname: process_file(fname, dirname), ids), total=len(ids)))\n",
    "    \n",
    "    stats, indexes = zip(*results)\n",
    "    \n",
    "    df = pd.DataFrame(stats, columns=[f\"stat_{i}\" for i in range(len(stats[0]))])\n",
    "    df['id'] = indexes\n",
    "    return df"
   ]
  },
  {
   "cell_type": "code",
   "execution_count": 6,
   "id": "335a1252",
   "metadata": {
    "execution": {
     "iopub.execute_input": "2024-11-24T00:02:42.486490Z",
     "iopub.status.busy": "2024-11-24T00:02:42.486092Z",
     "iopub.status.idle": "2024-11-24T00:02:42.893082Z",
     "shell.execute_reply": "2024-11-24T00:02:42.892111Z"
    },
    "papermill": {
     "duration": 0.417159,
     "end_time": "2024-11-24T00:02:42.895328",
     "exception": false,
     "start_time": "2024-11-24T00:02:42.478169",
     "status": "completed"
    },
    "tags": []
   },
   "outputs": [
    {
     "data": {
      "application/vnd.jupyter.widget-view+json": {
       "model_id": "bdcb75985ef24a4d8f8e2aded857466d",
       "version_major": 2,
       "version_minor": 0
      },
      "text/plain": [
       "  0%|          | 0/2 [00:00<?, ?it/s]"
      ]
     },
     "metadata": {},
     "output_type": "display_data"
    },
    {
     "data": {
      "text/plain": [
       "2"
      ]
     },
     "execution_count": 6,
     "metadata": {},
     "output_type": "execute_result"
    }
   ],
   "source": [
    "test_ts = load_time_series(\"/kaggle/input/child-mind-institute-problematic-internet-use/series_test.parquet\")\n",
    "len(test_ts)"
   ]
  },
  {
   "cell_type": "code",
   "execution_count": 7,
   "id": "ea481d0c",
   "metadata": {
    "execution": {
     "iopub.execute_input": "2024-11-24T00:02:42.910747Z",
     "iopub.status.busy": "2024-11-24T00:02:42.910030Z",
     "iopub.status.idle": "2024-11-24T00:02:42.921179Z",
     "shell.execute_reply": "2024-11-24T00:02:42.920034Z"
    },
    "papermill": {
     "duration": 0.021385,
     "end_time": "2024-11-24T00:02:42.923417",
     "exception": false,
     "start_time": "2024-11-24T00:02:42.902032",
     "status": "completed"
    },
    "tags": []
   },
   "outputs": [
    {
     "data": {
      "text/plain": [
       "array(['00115b9f', '001f3379'], dtype=object)"
      ]
     },
     "execution_count": 7,
     "metadata": {},
     "output_type": "execute_result"
    }
   ],
   "source": [
    "test_ts['id'].unique()"
   ]
  },
  {
   "cell_type": "code",
   "execution_count": 8,
   "id": "1da10b92",
   "metadata": {
    "execution": {
     "iopub.execute_input": "2024-11-24T00:02:42.938755Z",
     "iopub.status.busy": "2024-11-24T00:02:42.938346Z",
     "iopub.status.idle": "2024-11-24T00:02:43.010233Z",
     "shell.execute_reply": "2024-11-24T00:02:43.008923Z"
    },
    "papermill": {
     "duration": 0.082372,
     "end_time": "2024-11-24T00:02:43.012688",
     "exception": false,
     "start_time": "2024-11-24T00:02:42.930316",
     "status": "completed"
    },
    "tags": []
   },
   "outputs": [
    {
     "data": {
      "text/plain": [
       "3960"
      ]
     },
     "execution_count": 8,
     "metadata": {},
     "output_type": "execute_result"
    }
   ],
   "source": [
    "df = pd.read_csv('/kaggle/input/colombian-frenchteam-problematicinternetusage/Dataset_problematic_internet_usage.csv')\n",
    "len(df)"
   ]
  },
  {
   "cell_type": "code",
   "execution_count": 9,
   "id": "f28ece10",
   "metadata": {
    "execution": {
     "iopub.execute_input": "2024-11-24T00:02:43.027680Z",
     "iopub.status.busy": "2024-11-24T00:02:43.027312Z",
     "iopub.status.idle": "2024-11-24T00:02:43.037613Z",
     "shell.execute_reply": "2024-11-24T00:02:43.036351Z"
    },
    "papermill": {
     "duration": 0.020563,
     "end_time": "2024-11-24T00:02:43.039941",
     "exception": false,
     "start_time": "2024-11-24T00:02:43.019378",
     "status": "completed"
    },
    "tags": []
   },
   "outputs": [
    {
     "data": {
      "text/plain": [
       "Train_Test_Label\n",
       "isnotintrainset    2964\n",
       "test                200\n",
       "train               796\n",
       "dtype: int64"
      ]
     },
     "execution_count": 9,
     "metadata": {},
     "output_type": "execute_result"
    }
   ],
   "source": [
    "df.groupby('Train_Test_Label').size()"
   ]
  },
  {
   "cell_type": "code",
   "execution_count": 10,
   "id": "aba904f2",
   "metadata": {
    "execution": {
     "iopub.execute_input": "2024-11-24T00:02:43.055970Z",
     "iopub.status.busy": "2024-11-24T00:02:43.054824Z",
     "iopub.status.idle": "2024-11-24T00:02:43.064732Z",
     "shell.execute_reply": "2024-11-24T00:02:43.063767Z"
    },
    "papermill": {
     "duration": 0.01991,
     "end_time": "2024-11-24T00:02:43.066825",
     "exception": false,
     "start_time": "2024-11-24T00:02:43.046915",
     "status": "completed"
    },
    "tags": []
   },
   "outputs": [
    {
     "data": {
      "text/plain": [
       "996"
      ]
     },
     "execution_count": 10,
     "metadata": {},
     "output_type": "execute_result"
    }
   ],
   "source": [
    "df = df[(df['Train_Test_Label']=='test') | (df['Train_Test_Label']=='train') ]\n",
    "len(df)"
   ]
  },
  {
   "cell_type": "code",
   "execution_count": 11,
   "id": "cb3fccc8",
   "metadata": {
    "execution": {
     "iopub.execute_input": "2024-11-24T00:02:43.082864Z",
     "iopub.status.busy": "2024-11-24T00:02:43.082476Z",
     "iopub.status.idle": "2024-11-24T00:02:43.114126Z",
     "shell.execute_reply": "2024-11-24T00:02:43.112874Z"
    },
    "papermill": {
     "duration": 0.042811,
     "end_time": "2024-11-24T00:02:43.116437",
     "exception": false,
     "start_time": "2024-11-24T00:02:43.073626",
     "status": "completed"
    },
    "tags": []
   },
   "outputs": [
    {
     "data": {
      "text/html": [
       "<div>\n",
       "<style scoped>\n",
       "    .dataframe tbody tr th:only-of-type {\n",
       "        vertical-align: middle;\n",
       "    }\n",
       "\n",
       "    .dataframe tbody tr th {\n",
       "        vertical-align: top;\n",
       "    }\n",
       "\n",
       "    .dataframe thead th {\n",
       "        text-align: right;\n",
       "    }\n",
       "</style>\n",
       "<table border=\"1\" class=\"dataframe\">\n",
       "  <thead>\n",
       "    <tr style=\"text-align: right;\">\n",
       "      <th></th>\n",
       "      <th>Unnamed: 0</th>\n",
       "      <th>id</th>\n",
       "      <th>Basic_Demos-Enroll_Season</th>\n",
       "      <th>Basic_Demos-Age</th>\n",
       "      <th>Basic_Demos-Sex</th>\n",
       "      <th>CGAS-Season</th>\n",
       "      <th>CGAS-CGAS_Score</th>\n",
       "      <th>Physical-Season</th>\n",
       "      <th>Physical-BMI</th>\n",
       "      <th>Physical-Height</th>\n",
       "      <th>...</th>\n",
       "      <th>PCIAT-PCIAT_20</th>\n",
       "      <th>PCIAT-PCIAT_Total</th>\n",
       "      <th>SDS-Season</th>\n",
       "      <th>SDS-SDS_Total_Raw</th>\n",
       "      <th>SDS-SDS_Total_T</th>\n",
       "      <th>PreInt_EduHx-Season</th>\n",
       "      <th>PreInt_EduHx-computerinternet_hoursday</th>\n",
       "      <th>sii</th>\n",
       "      <th>Has_actigraphy_data</th>\n",
       "      <th>Train_Test_Label</th>\n",
       "    </tr>\n",
       "  </thead>\n",
       "  <tbody>\n",
       "    <tr>\n",
       "      <th>894</th>\n",
       "      <td>894</td>\n",
       "      <td>35fa2ebf</td>\n",
       "      <td>Summer</td>\n",
       "      <td>13</td>\n",
       "      <td>0</td>\n",
       "      <td>Fall</td>\n",
       "      <td>70.0</td>\n",
       "      <td>Fall</td>\n",
       "      <td>20.404192</td>\n",
       "      <td>61.00</td>\n",
       "      <td>...</td>\n",
       "      <td>5.0</td>\n",
       "      <td>89.0</td>\n",
       "      <td>Fall</td>\n",
       "      <td>37.0</td>\n",
       "      <td>53.0</td>\n",
       "      <td>Summer</td>\n",
       "      <td>3.0</td>\n",
       "      <td>3.0</td>\n",
       "      <td>Yes</td>\n",
       "      <td>train</td>\n",
       "    </tr>\n",
       "    <tr>\n",
       "      <th>1502</th>\n",
       "      <td>1502</td>\n",
       "      <td>5e55e9fd</td>\n",
       "      <td>Spring</td>\n",
       "      <td>14</td>\n",
       "      <td>1</td>\n",
       "      <td>NaN</td>\n",
       "      <td>NaN</td>\n",
       "      <td>Spring</td>\n",
       "      <td>18.934295</td>\n",
       "      <td>60.75</td>\n",
       "      <td>...</td>\n",
       "      <td>5.0</td>\n",
       "      <td>81.0</td>\n",
       "      <td>Spring</td>\n",
       "      <td>44.0</td>\n",
       "      <td>62.0</td>\n",
       "      <td>Spring</td>\n",
       "      <td>3.0</td>\n",
       "      <td>3.0</td>\n",
       "      <td>Yes</td>\n",
       "      <td>train</td>\n",
       "    </tr>\n",
       "    <tr>\n",
       "      <th>2002</th>\n",
       "      <td>2002</td>\n",
       "      <td>7f44236f</td>\n",
       "      <td>Fall</td>\n",
       "      <td>13</td>\n",
       "      <td>0</td>\n",
       "      <td>Winter</td>\n",
       "      <td>70.0</td>\n",
       "      <td>Winter</td>\n",
       "      <td>25.370016</td>\n",
       "      <td>67.00</td>\n",
       "      <td>...</td>\n",
       "      <td>5.0</td>\n",
       "      <td>87.0</td>\n",
       "      <td>Winter</td>\n",
       "      <td>47.0</td>\n",
       "      <td>66.0</td>\n",
       "      <td>Fall</td>\n",
       "      <td>0.0</td>\n",
       "      <td>3.0</td>\n",
       "      <td>Yes</td>\n",
       "      <td>train</td>\n",
       "    </tr>\n",
       "  </tbody>\n",
       "</table>\n",
       "<p>3 rows × 85 columns</p>\n",
       "</div>"
      ],
      "text/plain": [
       "      Unnamed: 0        id Basic_Demos-Enroll_Season  Basic_Demos-Age  \\\n",
       "894          894  35fa2ebf                    Summer               13   \n",
       "1502        1502  5e55e9fd                    Spring               14   \n",
       "2002        2002  7f44236f                      Fall               13   \n",
       "\n",
       "      Basic_Demos-Sex CGAS-Season  CGAS-CGAS_Score Physical-Season  \\\n",
       "894                 0        Fall             70.0            Fall   \n",
       "1502                1         NaN              NaN          Spring   \n",
       "2002                0      Winter             70.0          Winter   \n",
       "\n",
       "      Physical-BMI  Physical-Height  ...  PCIAT-PCIAT_20  PCIAT-PCIAT_Total  \\\n",
       "894      20.404192            61.00  ...             5.0               89.0   \n",
       "1502     18.934295            60.75  ...             5.0               81.0   \n",
       "2002     25.370016            67.00  ...             5.0               87.0   \n",
       "\n",
       "      SDS-Season  SDS-SDS_Total_Raw  SDS-SDS_Total_T PreInt_EduHx-Season  \\\n",
       "894         Fall               37.0             53.0              Summer   \n",
       "1502      Spring               44.0             62.0              Spring   \n",
       "2002      Winter               47.0             66.0                Fall   \n",
       "\n",
       "      PreInt_EduHx-computerinternet_hoursday  sii  Has_actigraphy_data  \\\n",
       "894                                      3.0  3.0                  Yes   \n",
       "1502                                     3.0  3.0                  Yes   \n",
       "2002                                     0.0  3.0                  Yes   \n",
       "\n",
       "     Train_Test_Label  \n",
       "894             train  \n",
       "1502            train  \n",
       "2002            train  \n",
       "\n",
       "[3 rows x 85 columns]"
      ]
     },
     "execution_count": 11,
     "metadata": {},
     "output_type": "execute_result"
    }
   ],
   "source": [
    "df[df['sii']==3].head(3)"
   ]
  },
  {
   "cell_type": "code",
   "execution_count": 12,
   "id": "aca312ac",
   "metadata": {
    "execution": {
     "iopub.execute_input": "2024-11-24T00:02:43.132529Z",
     "iopub.status.busy": "2024-11-24T00:02:43.132154Z",
     "iopub.status.idle": "2024-11-24T00:02:43.156391Z",
     "shell.execute_reply": "2024-11-24T00:02:43.155272Z"
    },
    "papermill": {
     "duration": 0.034937,
     "end_time": "2024-11-24T00:02:43.158612",
     "exception": false,
     "start_time": "2024-11-24T00:02:43.123675",
     "status": "completed"
    },
    "tags": []
   },
   "outputs": [
    {
     "data": {
      "text/html": [
       "<div>\n",
       "<style scoped>\n",
       "    .dataframe tbody tr th:only-of-type {\n",
       "        vertical-align: middle;\n",
       "    }\n",
       "\n",
       "    .dataframe tbody tr th {\n",
       "        vertical-align: top;\n",
       "    }\n",
       "\n",
       "    .dataframe thead th {\n",
       "        text-align: right;\n",
       "    }\n",
       "</style>\n",
       "<table border=\"1\" class=\"dataframe\">\n",
       "  <thead>\n",
       "    <tr style=\"text-align: right;\">\n",
       "      <th></th>\n",
       "      <th>Unnamed: 0</th>\n",
       "      <th>id</th>\n",
       "      <th>Basic_Demos-Enroll_Season</th>\n",
       "      <th>Basic_Demos-Age</th>\n",
       "      <th>Basic_Demos-Sex</th>\n",
       "      <th>CGAS-Season</th>\n",
       "      <th>CGAS-CGAS_Score</th>\n",
       "      <th>Physical-Season</th>\n",
       "      <th>Physical-BMI</th>\n",
       "      <th>Physical-Height</th>\n",
       "      <th>...</th>\n",
       "      <th>PCIAT-PCIAT_20</th>\n",
       "      <th>PCIAT-PCIAT_Total</th>\n",
       "      <th>SDS-Season</th>\n",
       "      <th>SDS-SDS_Total_Raw</th>\n",
       "      <th>SDS-SDS_Total_T</th>\n",
       "      <th>PreInt_EduHx-Season</th>\n",
       "      <th>PreInt_EduHx-computerinternet_hoursday</th>\n",
       "      <th>sii</th>\n",
       "      <th>Has_actigraphy_data</th>\n",
       "      <th>Train_Test_Label</th>\n",
       "    </tr>\n",
       "  </thead>\n",
       "  <tbody>\n",
       "    <tr>\n",
       "      <th>22</th>\n",
       "      <td>22</td>\n",
       "      <td>01085eb3</td>\n",
       "      <td>Fall</td>\n",
       "      <td>12</td>\n",
       "      <td>0</td>\n",
       "      <td>Winter</td>\n",
       "      <td>58.0</td>\n",
       "      <td>Fall</td>\n",
       "      <td>34.187282</td>\n",
       "      <td>60.5</td>\n",
       "      <td>...</td>\n",
       "      <td>0.0</td>\n",
       "      <td>30.0</td>\n",
       "      <td>Fall</td>\n",
       "      <td>53.0</td>\n",
       "      <td>73.0</td>\n",
       "      <td>Fall</td>\n",
       "      <td>0.0</td>\n",
       "      <td>0.0</td>\n",
       "      <td>Yes</td>\n",
       "      <td>train</td>\n",
       "    </tr>\n",
       "    <tr>\n",
       "      <th>25</th>\n",
       "      <td>25</td>\n",
       "      <td>012cadd8</td>\n",
       "      <td>Spring</td>\n",
       "      <td>9</td>\n",
       "      <td>0</td>\n",
       "      <td>Winter</td>\n",
       "      <td>60.0</td>\n",
       "      <td>Fall</td>\n",
       "      <td>17.089151</td>\n",
       "      <td>53.2</td>\n",
       "      <td>...</td>\n",
       "      <td>0.0</td>\n",
       "      <td>9.0</td>\n",
       "      <td>Summer</td>\n",
       "      <td>27.0</td>\n",
       "      <td>40.0</td>\n",
       "      <td>Spring</td>\n",
       "      <td>0.0</td>\n",
       "      <td>0.0</td>\n",
       "      <td>Yes</td>\n",
       "      <td>train</td>\n",
       "    </tr>\n",
       "    <tr>\n",
       "      <th>26</th>\n",
       "      <td>26</td>\n",
       "      <td>012e3869</td>\n",
       "      <td>Summer</td>\n",
       "      <td>6</td>\n",
       "      <td>0</td>\n",
       "      <td>Winter</td>\n",
       "      <td>60.0</td>\n",
       "      <td>Summer</td>\n",
       "      <td>NaN</td>\n",
       "      <td>NaN</td>\n",
       "      <td>...</td>\n",
       "      <td>0.0</td>\n",
       "      <td>0.0</td>\n",
       "      <td>NaN</td>\n",
       "      <td>NaN</td>\n",
       "      <td>NaN</td>\n",
       "      <td>Summer</td>\n",
       "      <td>0.0</td>\n",
       "      <td>0.0</td>\n",
       "      <td>Yes</td>\n",
       "      <td>train</td>\n",
       "    </tr>\n",
       "  </tbody>\n",
       "</table>\n",
       "<p>3 rows × 85 columns</p>\n",
       "</div>"
      ],
      "text/plain": [
       "    Unnamed: 0        id Basic_Demos-Enroll_Season  Basic_Demos-Age  \\\n",
       "22          22  01085eb3                      Fall               12   \n",
       "25          25  012cadd8                    Spring                9   \n",
       "26          26  012e3869                    Summer                6   \n",
       "\n",
       "    Basic_Demos-Sex CGAS-Season  CGAS-CGAS_Score Physical-Season  \\\n",
       "22                0      Winter             58.0            Fall   \n",
       "25                0      Winter             60.0            Fall   \n",
       "26                0      Winter             60.0          Summer   \n",
       "\n",
       "    Physical-BMI  Physical-Height  ...  PCIAT-PCIAT_20  PCIAT-PCIAT_Total  \\\n",
       "22     34.187282             60.5  ...             0.0               30.0   \n",
       "25     17.089151             53.2  ...             0.0                9.0   \n",
       "26           NaN              NaN  ...             0.0                0.0   \n",
       "\n",
       "    SDS-Season  SDS-SDS_Total_Raw  SDS-SDS_Total_T PreInt_EduHx-Season  \\\n",
       "22        Fall               53.0             73.0                Fall   \n",
       "25      Summer               27.0             40.0              Spring   \n",
       "26         NaN                NaN              NaN              Summer   \n",
       "\n",
       "    PreInt_EduHx-computerinternet_hoursday  sii  Has_actigraphy_data  \\\n",
       "22                                     0.0  0.0                  Yes   \n",
       "25                                     0.0  0.0                  Yes   \n",
       "26                                     0.0  0.0                  Yes   \n",
       "\n",
       "   Train_Test_Label  \n",
       "22            train  \n",
       "25            train  \n",
       "26            train  \n",
       "\n",
       "[3 rows x 85 columns]"
      ]
     },
     "execution_count": 12,
     "metadata": {},
     "output_type": "execute_result"
    }
   ],
   "source": [
    "df[df['sii']==0].head(3)"
   ]
  },
  {
   "cell_type": "markdown",
   "id": "e7a76873",
   "metadata": {
    "papermill": {
     "duration": 0.007057,
     "end_time": "2024-11-24T00:02:43.173422",
     "exception": false,
     "start_time": "2024-11-24T00:02:43.166365",
     "status": "completed"
    },
    "tags": []
   },
   "source": [
    "# Plot functions 2"
   ]
  },
  {
   "cell_type": "code",
   "execution_count": 13,
   "id": "5a45f6e7",
   "metadata": {
    "execution": {
     "iopub.execute_input": "2024-11-24T00:02:43.189607Z",
     "iopub.status.busy": "2024-11-24T00:02:43.189188Z",
     "iopub.status.idle": "2024-11-24T00:02:43.194094Z",
     "shell.execute_reply": "2024-11-24T00:02:43.193132Z"
    },
    "papermill": {
     "duration": 0.015446,
     "end_time": "2024-11-24T00:02:43.196145",
     "exception": false,
     "start_time": "2024-11-24T00:02:43.180699",
     "status": "completed"
    },
    "tags": []
   },
   "outputs": [],
   "source": [
    "kid_id = '71ee31f8'"
   ]
  },
  {
   "cell_type": "code",
   "execution_count": 14,
   "id": "296d0dc4",
   "metadata": {
    "execution": {
     "iopub.execute_input": "2024-11-24T00:02:43.212518Z",
     "iopub.status.busy": "2024-11-24T00:02:43.212131Z",
     "iopub.status.idle": "2024-11-24T00:02:43.226506Z",
     "shell.execute_reply": "2024-11-24T00:02:43.225299Z"
    },
    "papermill": {
     "duration": 0.025192,
     "end_time": "2024-11-24T00:02:43.228690",
     "exception": false,
     "start_time": "2024-11-24T00:02:43.203498",
     "status": "completed"
    },
    "tags": []
   },
   "outputs": [],
   "source": [
    "def feat_eng(df):\n",
    "\n",
    "    df['time_of_day_hours'] = (df['time_of_day'] / 1e9 / 3600)  # nanoseconds to hours\n",
    "    df['time_of_day_half_hours'] = (df['time_of_day'] / 1e9 / 1800)  # nanoseconds to half-hours\n",
    "    df['time_of_day_half_half_hours'] = (df['time_of_day'] / 1e9 / 900)  # nanoseconds to 15 minutes interval\n",
    "    df['time_of_day_fivemin_hours'] = (df['time_of_day'] / 1e9 / 300)  # nanoseconds to 5 minutes interval\n",
    "    df['day_time'] = df['relative_date_PCIAT'] + (df['time_of_day_hours'] / 24)\n",
    "    \n",
    "    # Day period assignment\n",
    "    day_start_hour = 8\n",
    "    day_end_hour = 21\n",
    "    df['day_period'] = np.where(\n",
    "            (df['time_of_day_hours'] >= day_start_hour) &\n",
    "            (df['time_of_day_hours'] < day_end_hour),\n",
    "            'day', 'night'\n",
    "        )\n",
    "    \n",
    "    # Initialize the 'which_day' column and day change detection\n",
    "    df['which_day'] = 0\n",
    "    day_change = (\n",
    "            (df['weekday'] != df['weekday'].shift(1)) |\n",
    "            (df['hour'] < df['hour'].shift(1)) |\n",
    "            ((df['hour'] == df['hour'].shift(1)) & (df['minute'] < df['minute'].shift(1))) |\n",
    "            ((df['hour'] == df['hour'].shift(1)) & (df['minute'] == df['minute'].shift(1)) & (df['second'] < df['second'].shift(1)))\n",
    "        )\n",
    "    df['which_day'] = day_change.cumsum() + 1\n",
    "    df['day_period_b'] = np.where(df['day_period'] == 'day', 1, 0)\n",
    "    df['time_of_day'] = pd.to_timedelta(df['time_of_day'], unit='ns')\n",
    "    base_date = pd.to_datetime('2024-01-01')\n",
    "    df['date'] = base_date + pd.to_timedelta(df['which_day'] - 1, unit='D')\n",
    "    df['timestamp'] = df['date'] + df['time_of_day']\n",
    "    df['timestamp'] = df['timestamp'].apply(lambda t: t.tz_localize(None))\n",
    "    df['timestamp_2'] = pd.to_datetime(df['timestamp']).apply(lambda t: t.tz_localize(None))\n",
    "    df.sort_values(['timestamp_2'], inplace=True)\n",
    "    df.set_index('timestamp_2', inplace=True)\n",
    "    \n",
    "    df[\"anglez\"] = df[\"anglez\"].astype(np.float32)\n",
    "    df[\"anglezdiffabs\"] = df[\"anglez\"].diff().abs().astype(np.float32)\n",
    "        \n",
    "    for col in ['anglezdiffabs']:\n",
    "            \n",
    "        # periods in seconds        \n",
    "        periods = [60] \n",
    "            \n",
    "        for n in periods:\n",
    "                \n",
    "            rol_args = {'window':f'{n+5}s', 'min_periods':10, 'center':True}\n",
    "                \n",
    "            for agg in ['median']:\n",
    "                df[f'{col}_{agg}_{n}'] = df[col].rolling(**rol_args).agg(agg).astype(np.float32).values\n",
    "                gc.collect()\n",
    "                \n",
    "            gc.collect()\n",
    "    \n",
    "    df.reset_index(inplace=True)\n",
    "    df.dropna(inplace=True)\n",
    "    df['large_enmo'] = df['enmo'] > 0.1509000062942505\n",
    "    df['anglezdiffabs_median_60_norm'] = (df['anglezdiffabs_median_60'] - np.min(df['anglezdiffabs_median_60'])) / (max(df['anglezdiffabs_median_60']) - min(df['anglezdiffabs_median_60']))\n",
    "\n",
    "    return df"
   ]
  },
  {
   "cell_type": "code",
   "execution_count": 15,
   "id": "e4205f90",
   "metadata": {
    "execution": {
     "iopub.execute_input": "2024-11-24T00:02:43.245184Z",
     "iopub.status.busy": "2024-11-24T00:02:43.244754Z",
     "iopub.status.idle": "2024-11-24T00:02:43.251727Z",
     "shell.execute_reply": "2024-11-24T00:02:43.250357Z"
    },
    "papermill": {
     "duration": 0.01784,
     "end_time": "2024-11-24T00:02:43.253965",
     "exception": false,
     "start_time": "2024-11-24T00:02:43.236125",
     "status": "completed"
    },
    "tags": []
   },
   "outputs": [],
   "source": [
    "def feat_eng_by_id(idx):\n",
    "    \n",
    "    from warnings import simplefilter \n",
    "    simplefilter(action=\"ignore\", category=pd.errors.PerformanceWarning)\n",
    "    \n",
    "    df = (\n",
    "        pl.scan_parquet(f'/kaggle/input/child-mind-institute-problematic-internet-use/series_train.parquet/id={idx}/part-0.parquet')\n",
    "        .with_columns(\n",
    "            (pl.col(\"time_of_day\").cast(pl.Int64) / 1_000_000_000).alias(\"total_seconds\")\n",
    "        )\n",
    "        .with_columns(\n",
    "            [\n",
    "                (pl.col(\"total_seconds\") // 3600).alias(\"hour\"),\n",
    "                ((pl.col(\"total_seconds\") % 3600) // 60).alias(\"minute\"),\n",
    "                (pl.col(\"total_seconds\") % 60).alias(\"second\"),\n",
    "            ]\n",
    "        )\n",
    "        .collect()\n",
    "        .to_pandas()\n",
    "    )\n",
    "\n",
    "    df = feat_eng(df)\n",
    "    \n",
    "    return df\n",
    "\n"
   ]
  },
  {
   "cell_type": "code",
   "execution_count": 16,
   "id": "7402544a",
   "metadata": {
    "execution": {
     "iopub.execute_input": "2024-11-24T00:02:43.270726Z",
     "iopub.status.busy": "2024-11-24T00:02:43.269937Z",
     "iopub.status.idle": "2024-11-24T00:02:43.275445Z",
     "shell.execute_reply": "2024-11-24T00:02:43.274318Z"
    },
    "papermill": {
     "duration": 0.016207,
     "end_time": "2024-11-24T00:02:43.277596",
     "exception": false,
     "start_time": "2024-11-24T00:02:43.261389",
     "status": "completed"
    },
    "tags": []
   },
   "outputs": [],
   "source": [
    "from tqdm.auto import tqdm \n",
    "from joblib import Parallel, delayed\n",
    "from time import sleep, time\n",
    "from multiprocessing import cpu_count\n",
    "import gc"
   ]
  },
  {
   "cell_type": "code",
   "execution_count": 17,
   "id": "4e9b00a3",
   "metadata": {
    "execution": {
     "iopub.execute_input": "2024-11-24T00:02:43.294204Z",
     "iopub.status.busy": "2024-11-24T00:02:43.293796Z",
     "iopub.status.idle": "2024-11-24T00:02:43.300196Z",
     "shell.execute_reply": "2024-11-24T00:02:43.298835Z"
    },
    "papermill": {
     "duration": 0.01756,
     "end_time": "2024-11-24T00:02:43.302607",
     "exception": false,
     "start_time": "2024-11-24T00:02:43.285047",
     "status": "completed"
    },
    "tags": []
   },
   "outputs": [],
   "source": [
    "from pathlib import Path\n",
    "working_folder = Path(\"/kaggle/working/\")\n",
    "images_folder = working_folder/\"imagesandannotations\"\n",
    "images_folder.mkdir()\n",
    "\n",
    "window_properties_batch_file = os.path.join(images_folder, \"window_properties.json\")\n",
    "all_events_batch_file = os.path.join(images_folder, \"all_events.json\")"
   ]
  },
  {
   "cell_type": "code",
   "execution_count": 18,
   "id": "c1052548",
   "metadata": {
    "execution": {
     "iopub.execute_input": "2024-11-24T00:02:43.319693Z",
     "iopub.status.busy": "2024-11-24T00:02:43.319308Z",
     "iopub.status.idle": "2024-11-24T00:02:43.326604Z",
     "shell.execute_reply": "2024-11-24T00:02:43.325629Z"
    },
    "papermill": {
     "duration": 0.018511,
     "end_time": "2024-11-24T00:02:43.328944",
     "exception": false,
     "start_time": "2024-11-24T00:02:43.310433",
     "status": "completed"
    },
    "tags": []
   },
   "outputs": [
    {
     "data": {
      "text/plain": [
       "996"
      ]
     },
     "execution_count": 18,
     "metadata": {},
     "output_type": "execute_result"
    }
   ],
   "source": [
    "series_ids = df['id'].unique()\n",
    "len(series_ids)"
   ]
  },
  {
   "cell_type": "code",
   "execution_count": 19,
   "id": "a27bc2ab",
   "metadata": {
    "execution": {
     "iopub.execute_input": "2024-11-24T00:02:43.345908Z",
     "iopub.status.busy": "2024-11-24T00:02:43.345500Z",
     "iopub.status.idle": "2024-11-24T00:02:43.352556Z",
     "shell.execute_reply": "2024-11-24T00:02:43.351552Z"
    },
    "papermill": {
     "duration": 0.018045,
     "end_time": "2024-11-24T00:02:43.354959",
     "exception": false,
     "start_time": "2024-11-24T00:02:43.336914",
     "status": "completed"
    },
    "tags": []
   },
   "outputs": [
    {
     "data": {
      "text/plain": [
       "array(['5ef3d64e', '5f099188', '5f1b07e1', '5f37ceb1', '5f574f3d',\n",
       "       '5f7537cf', '5f78f7b9', '5f9dddb4', '60c1ff37', '613fc399',\n",
       "       '6187d0dc', '6197a2ce', '621066ff', '6247cc15', '6282e693',\n",
       "       '62b873a2', '62cd5c74', '63d4ab9a', '63fc9770', '641697e6',\n",
       "       '649ff6d9', '64b4005d', '64ed48c4', '658e66ec', '6595d479',\n",
       "       '659fec57', '65fe69c0', '6699c999', '66f619e3', '677038b5',\n",
       "       '6774ba64', '678598dd', '6795027a', '6826f0be', '685cc0f1',\n",
       "       '687c85e7', '68be3d5c', '68fa4631', '697c41d7', '69b65679',\n",
       "       '6a16089d', '6a2fd807', '6a4df6ff', '6a864b11', '6abd21d4',\n",
       "       '6ac5763a', '6ac5eaaf', '6b6467f4', '6b773506', '6c0fe935',\n",
       "       '6c2edc91', '6c6cd633', '6c737069', '6d5944a9', '6d707ac3',\n",
       "       '6dfe4a75', '6e128c6b', '6e1d28b6', '6e85a624', '6e9beaee',\n",
       "       '6ebfdc95', '6f49c8d0', '6f5677b7', '6fb28c2a', '6fcdcb2a',\n",
       "       '7015528d', '709457f3', '70de1c63', '71850348', '71852781',\n",
       "       '7187caec', '71c1b1d2', '71ee31f8', '721ea536', '7265f1e5',\n",
       "       '72a0c969', '72c9c38d', '732b2327', '7347b54e', '73ec551e',\n",
       "       '73ffa609', '745e6065', '7494989e', '75ad73ee', '75b0446f',\n",
       "       '75b53bd4', '75c13e08', '764d8b42', '76781cd8', '76fb4afb',\n",
       "       '7800a084', '7860b64c', '78704d22', '79bd36b6', '7a0136e0',\n",
       "       '7a6d26a2', '7b0a4060', '7b543871', '7b8842c3', '7bdbf66f',\n",
       "       '7c194077', '7c21ad67', '7c39c8e5', '7ce36c38', '7d8f1716',\n",
       "       '7dc65b92', '7e46b693', '7e87087b', '7f26f78c', '7f2715b4',\n",
       "       '7f44236f', '7fa51811', '7fa7ccc4', '806d877f', '8078b7de',\n",
       "       '807d8908', '80b46ffb', '812f6873', '8148c785', '81a4b826',\n",
       "       '81d3ab22', '81feecad', '82ec9747', '83379672', '836b4de3',\n",
       "       '83711ef5', '8376acc5', '83846d0c', '83912085', '83eda373',\n",
       "       '84875079', '84b7d89d', '855c6099', '857baaa6', '85d99199',\n",
       "       '85d9c915', '860f4f9c', '86335468', '863e40c7', '86a8e0d6',\n",
       "       '86bd716a', '87050a09', '87af775e', '8823b020', '8875387b',\n",
       "       '893293dd', '89739b1a', '897da2c8', '898096eb', '89a26502',\n",
       "       '8a44ea3a', '8a4e5d1a', '8a645723', '8a6b6912', '8a77c3e9',\n",
       "       '8a9e653f', '8abbbc38', '8ba98f12', '8c0ca955', '8c1f9196',\n",
       "       '8c6c52a2', '8cab7bc4', '8d8b8553', '8ddb6b8d', '8e59a69a',\n",
       "       '8e749c85', '8e80deb7', '8ec2cc63', '8f015125', '8f21c613',\n",
       "       '8f2d131f', '8f753551', '8f9c03c6', '90161e10', '9027c805',\n",
       "       '9052579b', '9061cc9c', '9105b812', '9130a22e', '913bea9f',\n",
       "       '91656d27', '92293b06', '92622443', '9271574b', '92bb8516',\n",
       "       '930c567c', '93559639', '93904b23', '93c06d4c', '93c72a97'],\n",
       "      dtype=object)"
      ]
     },
     "execution_count": 19,
     "metadata": {},
     "output_type": "execute_result"
    }
   ],
   "source": [
    "series_ids = series_ids[380:570]\n",
    "#series_ids = series_ids[0:2]\n",
    "series_ids"
   ]
  },
  {
   "cell_type": "code",
   "execution_count": 20,
   "id": "13fb426a",
   "metadata": {
    "execution": {
     "iopub.execute_input": "2024-11-24T00:02:43.372537Z",
     "iopub.status.busy": "2024-11-24T00:02:43.372112Z",
     "iopub.status.idle": "2024-11-24T00:02:43.396379Z",
     "shell.execute_reply": "2024-11-24T00:02:43.395236Z"
    },
    "papermill": {
     "duration": 0.035859,
     "end_time": "2024-11-24T00:02:43.398577",
     "exception": false,
     "start_time": "2024-11-24T00:02:43.362718",
     "status": "completed"
    },
    "tags": []
   },
   "outputs": [],
   "source": [
    "import json\n",
    "import gc\n",
    "import matplotlib.pyplot as plt\n",
    "from pathlib import Path\n",
    "from tqdm import tqdm\n",
    "import numpy as np  # Ensure np is imported for handling int64 types\n",
    "\n",
    "def process_and_plot(series_ids, images_folder):\n",
    "    \n",
    "    # Initialize main lists to hold all data\n",
    "    window_properties = []\n",
    "    all_events = []\n",
    "    \n",
    "    # Batch tracking lists\n",
    "    batch_size = 50  # Adjust batch size to your memory constraints\n",
    "    batch_window_properties = []\n",
    "    batch_all_events = []\n",
    "    \n",
    "    # Files for saving batches of data\n",
    "    window_properties_batch_file = images_folder / \"window_properties.json\"\n",
    "    all_events_batch_file = images_folder / \"all_events.json\"\n",
    "\n",
    "    # Create files if they don't exist\n",
    "    window_properties_batch_file.touch(exist_ok=True)\n",
    "    all_events_batch_file.touch(exist_ok=True)\n",
    "\n",
    "    # Process the series_ids\n",
    "    for idx in tqdm(series_ids):\n",
    "        \n",
    "        filtered_data = feat_eng_by_id(idx)\n",
    "\n",
    "        series = filtered_data.reset_index(drop=True)\n",
    "        series['color'] = [\"blue\" if large_enmo else \"green\" for large_enmo in series['large_enmo']]\n",
    "        series['timestamp'] = pd.to_datetime(series['timestamp'])\n",
    "        series['timestamp'] = series['timestamp'].apply(lambda x: x if x.tzinfo is not None else x.tz_localize('UTC'))\n",
    "        series['timestamp_utc'] = series['timestamp'].map(lambda timestamp: timestamp.astimezone(timezone.utc))\n",
    "        series['anglez_radians'] = (np.pi / 180) * series['anglez']\n",
    "        series['cos_anglez'] = np.cos(series['anglez_radians'])\n",
    "        series['enmo'] = np.clip(series['enmo'], 0, 1)\n",
    "        min_date_utc = series['timestamp_utc'].dt.date.min()\n",
    "        max_date_utc = series['timestamp_utc'].dt.date.max()\n",
    "        \n",
    "        series_24_hour_windows = {}\n",
    "        upper_bound = datetime(year=min_date_utc.year, month=min_date_utc.month, day=min_date_utc.day, hour=20, minute=30, tzinfo=timezone.utc)\n",
    "        lower_bound = upper_bound + timedelta(hours=-24) # 8:30pm UTC on the previous day.\n",
    "        while lower_bound < series['timestamp_utc'].max():\n",
    "            window_df = series.loc[(series['timestamp_utc'] >= lower_bound) & (series['timestamp_utc'] < upper_bound)].reset_index(drop=True)\n",
    "            if len(window_df) > 0:\n",
    "                series_24_hour_windows[upper_bound.isoformat()[:-6]] = window_df\n",
    "            upper_bound += timedelta(hours=24)\n",
    "            lower_bound += timedelta(hours=24)\n",
    "        \n",
    "        windows = list(series_24_hour_windows.keys())\n",
    "        num_steps_cumulative = 0\n",
    "        \n",
    "        for window_idx, window in enumerate(windows):\n",
    "            \n",
    "             if (series_24_hour_windows[window]['non-wear_flag'].mean()<0.5) & (len(series_24_hour_windows[window]) == 17280): \n",
    "\n",
    "                day = series_24_hour_windows[window]['which_day'].iloc[0]\n",
    "                 \n",
    "                fig = plt.figure(figsize=(14.4, 4))  # (width, height) in inches\n",
    "                #plt.plot(series_24_hour_windows[window]['timestamp_utc'], series_24_hour_windows[window]['cos_anglez'], color=\"red\")\n",
    "                plt.plot(series_24_hour_windows[window]['timestamp_utc'],\n",
    "                             series_24_hour_windows[window]['anglezdiffabs_median_60_norm'],\n",
    "                             color=\"red\")\n",
    "                plt.scatter(\n",
    "                        series_24_hour_windows[window]['timestamp_utc'], \n",
    "                        series_24_hour_windows[window]['enmo'], \n",
    "                        color=series_24_hour_windows[window]['color'], \n",
    "                        s=1\n",
    "                    )\n",
    "                plt.scatter(series_24_hour_windows[window]['timestamp_utc'], series_24_hour_windows[window]['non-wear_flag'], label='non_wear_flag', color='red', alpha=0.7, s=10)\n",
    "        \n",
    "                plt.fill_between(series_24_hour_windows[window]['timestamp_utc'],\n",
    "                                 0, max(1,series_24_hour_windows[window]['anglezdiffabs_median_60_norm'].max()), \n",
    "                                 where=(series_24_hour_windows[window]['non-wear_flag'] == 1), \n",
    "                                 color='red', alpha=0.1, label='Day Period')\n",
    "                 \n",
    "                plt.fill_between(series_24_hour_windows[window]['timestamp_utc'],\n",
    "                                 0, max(1,series_24_hour_windows[window]['anglezdiffabs_median_60_norm'].max()), \n",
    "                                 where=(series_24_hour_windows[window]['day_period_b'] == 1), \n",
    "                                 color='blue', alpha=0.1, label='Day Period')\n",
    "                ax = plt.gca()\n",
    "                ax.spines['top'].set_visible(False)\n",
    "                ax.spines['right'].set_visible(False)\n",
    "                ax.spines['bottom'].set_visible(False)\n",
    "                ax.spines['left'].set_visible(False)\n",
    "                ax.set_xticks([])\n",
    "                ax.set_yticks([])\n",
    "                plt.margins(0, 0)\n",
    "                plt.subplots_adjust(left=0, right=1, top=1, bottom=0)\n",
    "        \n",
    "                # Save image to images_folder\n",
    "                image_path = images_folder / f\"{idx}_{day}.jpg\"\n",
    "                plt.savefig(image_path, dpi=150, bbox_inches=\"tight\", pad_inches=0)\n",
    "                plt.close(fig)\n",
    "\n",
    "                # Store data for batch, safely converting where necessary\n",
    "                window_properties_item = {\n",
    "                        'series_id': str(idx),  # Ensure series_id is stored as string\n",
    "                        'image_name': f\"{idx}_{day}.jpg\", \n",
    "                        'idx_in_series': int(day)  # Convert 'day' to int if it's a number\n",
    "                    }\n",
    "                window_properties.append(window_properties_item)\n",
    "                batch_window_properties.append(window_properties_item)  # Add to batch\n",
    "\n",
    "                # Add to all_events batch\n",
    "                sii_label = df.loc[df['id'] == idx, 'sii'].values.item()\n",
    "\n",
    "                # Ensure sii_label is numeric before converting to int\n",
    "                if isinstance(sii_label, (int, np.integer)):\n",
    "                    sii_label = int(sii_label)\n",
    "                else:\n",
    "                    sii_label = str(sii_label)  # If it's a string, store it as string\n",
    "\n",
    "                all_events_item = {'series_id': str(idx), 'image_name': f\"{idx}_{day}.jpg\", 'label': sii_label}\n",
    "                all_events.append(all_events_item)\n",
    "                batch_all_events.append(all_events_item)  # Add to batch\n",
    "\n",
    "                # Save in batches when batch size is reached\n",
    "                if len(batch_window_properties) >= batch_size:\n",
    "                    # Save window_properties batch to JSON file\n",
    "                    with open(window_properties_batch_file, \"a\") as f:\n",
    "                        json.dump(batch_window_properties, f, indent=4)\n",
    "                    batch_window_properties.clear()  # Clear the batch\n",
    "\n",
    "                    # Save all_events batch to JSON file\n",
    "                    with open(all_events_batch_file, \"a\") as f:\n",
    "                        json.dump(batch_all_events, f, indent=4)\n",
    "                    batch_all_events.clear()  # Clear the batch\n",
    "\n",
    "                gc.collect()  # Clean up memory after each batch\n",
    "\n",
    "    # After the loop, save any remaining data if the final batch wasn't full\n",
    "    if batch_window_properties:\n",
    "        with open(window_properties_batch_file, \"a\") as f:\n",
    "            json.dump(batch_window_properties, f, indent=4)\n",
    "    if batch_all_events:\n",
    "        with open(all_events_batch_file, \"a\") as f:\n",
    "            json.dump(batch_all_events, f, indent=4)\n",
    "\n"
   ]
  },
  {
   "cell_type": "code",
   "execution_count": 21,
   "id": "169de095",
   "metadata": {
    "execution": {
     "iopub.execute_input": "2024-11-24T00:02:43.415599Z",
     "iopub.status.busy": "2024-11-24T00:02:43.415219Z",
     "iopub.status.idle": "2024-11-24T02:49:11.881722Z",
     "shell.execute_reply": "2024-11-24T02:49:11.880327Z"
    },
    "papermill": {
     "duration": 9988.477661,
     "end_time": "2024-11-24T02:49:11.884050",
     "exception": false,
     "start_time": "2024-11-24T00:02:43.406389",
     "status": "completed"
    },
    "tags": []
   },
   "outputs": [
    {
     "name": "stderr",
     "output_type": "stream",
     "text": [
      "100%|██████████| 190/190 [2:46:28<00:00, 52.57s/it]\n"
     ]
    }
   ],
   "source": [
    "process_and_plot(series_ids,images_folder)"
   ]
  },
  {
   "cell_type": "code",
   "execution_count": 22,
   "id": "3a917902",
   "metadata": {
    "execution": {
     "iopub.execute_input": "2024-11-24T02:49:11.924149Z",
     "iopub.status.busy": "2024-11-24T02:49:11.923626Z",
     "iopub.status.idle": "2024-11-24T02:49:11.929028Z",
     "shell.execute_reply": "2024-11-24T02:49:11.928106Z"
    },
    "papermill": {
     "duration": 0.027758,
     "end_time": "2024-11-24T02:49:11.931185",
     "exception": false,
     "start_time": "2024-11-24T02:49:11.903427",
     "status": "completed"
    },
    "tags": []
   },
   "outputs": [],
   "source": [
    "import glob"
   ]
  },
  {
   "cell_type": "code",
   "execution_count": 23,
   "id": "0ecdeb42",
   "metadata": {
    "execution": {
     "iopub.execute_input": "2024-11-24T02:49:11.969573Z",
     "iopub.status.busy": "2024-11-24T02:49:11.969099Z",
     "iopub.status.idle": "2024-11-24T02:49:11.976268Z",
     "shell.execute_reply": "2024-11-24T02:49:11.974689Z"
    },
    "papermill": {
     "duration": 0.02911,
     "end_time": "2024-11-24T02:49:11.978707",
     "exception": false,
     "start_time": "2024-11-24T02:49:11.949597",
     "status": "completed"
    },
    "tags": []
   },
   "outputs": [],
   "source": [
    "def load_all_data_from_batches(directory_path, file_prefix):\n",
    "    all_data = []\n",
    "    \n",
    "    # Get all filenames matching the prefix and pattern\n",
    "    batch_files = glob.glob(f\"{directory_path}/{file_prefix}*.json\")\n",
    "    \n",
    "    for batch_file in batch_files:\n",
    "        with open(batch_file, 'r') as f:\n",
    "            try:\n",
    "                data = json.load(f)\n",
    "                all_data.extend(data)  # Append data from this batch to the overall list\n",
    "            except json.JSONDecodeError as e:\n",
    "                print(f\"Error loading {batch_file}: {e}\")\n",
    "    \n",
    "    return all_data\n",
    "    "
   ]
  },
  {
   "cell_type": "code",
   "execution_count": 24,
   "id": "65180b9e",
   "metadata": {
    "execution": {
     "iopub.execute_input": "2024-11-24T02:49:12.016956Z",
     "iopub.status.busy": "2024-11-24T02:49:12.016526Z",
     "iopub.status.idle": "2024-11-24T02:49:12.034654Z",
     "shell.execute_reply": "2024-11-24T02:49:12.033377Z"
    },
    "papermill": {
     "duration": 0.040403,
     "end_time": "2024-11-24T02:49:12.036842",
     "exception": false,
     "start_time": "2024-11-24T02:49:11.996439",
     "status": "completed"
    },
    "tags": []
   },
   "outputs": [
    {
     "name": "stdout",
     "output_type": "stream",
     "text": [
      "Successfully loaded /kaggle/working/imagesandannotations/window_properties.json!\n",
      "Successfully loaded /kaggle/working/imagesandannotations/all_events.json!\n",
      "Sample from window_properties:\n",
      "[{'series_id': '5ef3d64e', 'image_name': '5ef3d64e_2.jpg', 'idx_in_series': 2}, {'series_id': '5ef3d64e', 'image_name': '5ef3d64e_3.jpg', 'idx_in_series': 3}, {'series_id': '5ef3d64e', 'image_name': '5ef3d64e_4.jpg', 'idx_in_series': 4}]\n",
      "\n",
      "Sample from all_events:\n",
      "[{'series_id': '5ef3d64e', 'image_name': '5ef3d64e_2.jpg', 'label': '2.0'}, {'series_id': '5ef3d64e', 'image_name': '5ef3d64e_3.jpg', 'label': '2.0'}, {'series_id': '5ef3d64e', 'image_name': '5ef3d64e_4.jpg', 'label': '2.0'}]\n"
     ]
    }
   ],
   "source": [
    "# Path to your JSON files\n",
    "window_properties_path = '/kaggle/working/imagesandannotations/window_properties.json'\n",
    "all_events_path = '/kaggle/working/imagesandannotations/all_events.json'\n",
    "\n",
    "# Function to load and fix the JSON files if needed\n",
    "def load_json_file(file_path):\n",
    "    with open(file_path, 'r') as file:\n",
    "        content = file.read()\n",
    "\n",
    "    # Remove any invalid '][' and ensure the content is wrapped in square brackets\n",
    "    fixed_content = content.replace(\"][\", \",\")  # Fix '][' by replacing with a comma\n",
    "\n",
    "    # Wrap content in square brackets if it's not already\n",
    "    if not fixed_content.startswith('['):\n",
    "        fixed_content = f\"[{fixed_content}\"\n",
    "    if not fixed_content.endswith(']'):\n",
    "        fixed_content = f\"{fixed_content}]\"\n",
    "\n",
    "    # Try to load the corrected content\n",
    "    try:\n",
    "        data = json.loads(fixed_content)\n",
    "        print(f\"Successfully loaded {file_path}!\")\n",
    "        return data\n",
    "    except json.JSONDecodeError as e:\n",
    "        print(f\"Error decoding JSON in {file_path}: {e}\")\n",
    "        return None\n",
    "\n",
    "# Load both files\n",
    "window_properties_data = load_json_file(window_properties_path)\n",
    "all_events_data = load_json_file(all_events_path)\n",
    "\n",
    "# Print a sample from each to confirm the data is loaded correctly\n",
    "print(\"Sample from window_properties:\")\n",
    "print(window_properties_data[:3])  # Show the first 3 items as a sample\n",
    "\n",
    "print(\"\\nSample from all_events:\")\n",
    "print(all_events_data[:3])  # Show the first 3 items as a sample"
   ]
  },
  {
   "cell_type": "code",
   "execution_count": 25,
   "id": "09f31154",
   "metadata": {
    "execution": {
     "iopub.execute_input": "2024-11-24T02:49:12.076185Z",
     "iopub.status.busy": "2024-11-24T02:49:12.075769Z",
     "iopub.status.idle": "2024-11-24T02:49:12.089691Z",
     "shell.execute_reply": "2024-11-24T02:49:12.088608Z"
    },
    "papermill": {
     "duration": 0.036814,
     "end_time": "2024-11-24T02:49:12.092201",
     "exception": false,
     "start_time": "2024-11-24T02:49:12.055387",
     "status": "completed"
    },
    "tags": []
   },
   "outputs": [
    {
     "data": {
      "text/html": [
       "<div>\n",
       "<style scoped>\n",
       "    .dataframe tbody tr th:only-of-type {\n",
       "        vertical-align: middle;\n",
       "    }\n",
       "\n",
       "    .dataframe tbody tr th {\n",
       "        vertical-align: top;\n",
       "    }\n",
       "\n",
       "    .dataframe thead th {\n",
       "        text-align: right;\n",
       "    }\n",
       "</style>\n",
       "<table border=\"1\" class=\"dataframe\">\n",
       "  <thead>\n",
       "    <tr style=\"text-align: right;\">\n",
       "      <th></th>\n",
       "      <th>series_id</th>\n",
       "      <th>image_name</th>\n",
       "      <th>idx_in_series</th>\n",
       "    </tr>\n",
       "  </thead>\n",
       "  <tbody>\n",
       "    <tr>\n",
       "      <th>0</th>\n",
       "      <td>5ef3d64e</td>\n",
       "      <td>5ef3d64e_2.jpg</td>\n",
       "      <td>2</td>\n",
       "    </tr>\n",
       "    <tr>\n",
       "      <th>1</th>\n",
       "      <td>5ef3d64e</td>\n",
       "      <td>5ef3d64e_3.jpg</td>\n",
       "      <td>3</td>\n",
       "    </tr>\n",
       "    <tr>\n",
       "      <th>2</th>\n",
       "      <td>5ef3d64e</td>\n",
       "      <td>5ef3d64e_4.jpg</td>\n",
       "      <td>4</td>\n",
       "    </tr>\n",
       "    <tr>\n",
       "      <th>3</th>\n",
       "      <td>5ef3d64e</td>\n",
       "      <td>5ef3d64e_5.jpg</td>\n",
       "      <td>5</td>\n",
       "    </tr>\n",
       "    <tr>\n",
       "      <th>4</th>\n",
       "      <td>5ef3d64e</td>\n",
       "      <td>5ef3d64e_6.jpg</td>\n",
       "      <td>6</td>\n",
       "    </tr>\n",
       "  </tbody>\n",
       "</table>\n",
       "</div>"
      ],
      "text/plain": [
       "  series_id      image_name  idx_in_series\n",
       "0  5ef3d64e  5ef3d64e_2.jpg              2\n",
       "1  5ef3d64e  5ef3d64e_3.jpg              3\n",
       "2  5ef3d64e  5ef3d64e_4.jpg              4\n",
       "3  5ef3d64e  5ef3d64e_5.jpg              5\n",
       "4  5ef3d64e  5ef3d64e_6.jpg              6"
      ]
     },
     "execution_count": 25,
     "metadata": {},
     "output_type": "execute_result"
    }
   ],
   "source": [
    "window_properties_df = pd.DataFrame(window_properties_data)\n",
    "window_properties_df.head(5)"
   ]
  },
  {
   "cell_type": "code",
   "execution_count": 26,
   "id": "d7bd25ca",
   "metadata": {
    "execution": {
     "iopub.execute_input": "2024-11-24T02:49:12.131807Z",
     "iopub.status.busy": "2024-11-24T02:49:12.130783Z",
     "iopub.status.idle": "2024-11-24T02:49:12.144583Z",
     "shell.execute_reply": "2024-11-24T02:49:12.143210Z"
    },
    "papermill": {
     "duration": 0.036094,
     "end_time": "2024-11-24T02:49:12.147118",
     "exception": false,
     "start_time": "2024-11-24T02:49:12.111024",
     "status": "completed"
    },
    "tags": []
   },
   "outputs": [
    {
     "data": {
      "text/html": [
       "<div>\n",
       "<style scoped>\n",
       "    .dataframe tbody tr th:only-of-type {\n",
       "        vertical-align: middle;\n",
       "    }\n",
       "\n",
       "    .dataframe tbody tr th {\n",
       "        vertical-align: top;\n",
       "    }\n",
       "\n",
       "    .dataframe thead th {\n",
       "        text-align: right;\n",
       "    }\n",
       "</style>\n",
       "<table border=\"1\" class=\"dataframe\">\n",
       "  <thead>\n",
       "    <tr style=\"text-align: right;\">\n",
       "      <th></th>\n",
       "      <th>series_id</th>\n",
       "      <th>image_name</th>\n",
       "      <th>label</th>\n",
       "    </tr>\n",
       "  </thead>\n",
       "  <tbody>\n",
       "    <tr>\n",
       "      <th>0</th>\n",
       "      <td>5ef3d64e</td>\n",
       "      <td>5ef3d64e_2.jpg</td>\n",
       "      <td>2.0</td>\n",
       "    </tr>\n",
       "    <tr>\n",
       "      <th>1</th>\n",
       "      <td>5ef3d64e</td>\n",
       "      <td>5ef3d64e_3.jpg</td>\n",
       "      <td>2.0</td>\n",
       "    </tr>\n",
       "    <tr>\n",
       "      <th>2</th>\n",
       "      <td>5ef3d64e</td>\n",
       "      <td>5ef3d64e_4.jpg</td>\n",
       "      <td>2.0</td>\n",
       "    </tr>\n",
       "    <tr>\n",
       "      <th>3</th>\n",
       "      <td>5ef3d64e</td>\n",
       "      <td>5ef3d64e_5.jpg</td>\n",
       "      <td>2.0</td>\n",
       "    </tr>\n",
       "    <tr>\n",
       "      <th>4</th>\n",
       "      <td>5ef3d64e</td>\n",
       "      <td>5ef3d64e_6.jpg</td>\n",
       "      <td>2.0</td>\n",
       "    </tr>\n",
       "  </tbody>\n",
       "</table>\n",
       "</div>"
      ],
      "text/plain": [
       "  series_id      image_name label\n",
       "0  5ef3d64e  5ef3d64e_2.jpg   2.0\n",
       "1  5ef3d64e  5ef3d64e_3.jpg   2.0\n",
       "2  5ef3d64e  5ef3d64e_4.jpg   2.0\n",
       "3  5ef3d64e  5ef3d64e_5.jpg   2.0\n",
       "4  5ef3d64e  5ef3d64e_6.jpg   2.0"
      ]
     },
     "execution_count": 26,
     "metadata": {},
     "output_type": "execute_result"
    }
   ],
   "source": [
    "annotations_df = pd.DataFrame(all_events_data)\n",
    "annotations_df.head(5)"
   ]
  }
 ],
 "metadata": {
  "kaggle": {
   "accelerator": "none",
   "dataSources": [
    {
     "databundleVersionId": 9643020,
     "sourceId": 81933,
     "sourceType": "competition"
    },
    {
     "datasetId": 6047696,
     "sourceId": 9925531,
     "sourceType": "datasetVersion"
    }
   ],
   "isGpuEnabled": false,
   "isInternetEnabled": true,
   "language": "python",
   "sourceType": "notebook"
  },
  "kernelspec": {
   "display_name": "Python 3",
   "language": "python",
   "name": "python3"
  },
  "language_info": {
   "codemirror_mode": {
    "name": "ipython",
    "version": 3
   },
   "file_extension": ".py",
   "mimetype": "text/x-python",
   "name": "python",
   "nbconvert_exporter": "python",
   "pygments_lexer": "ipython3",
   "version": "3.10.14"
  },
  "papermill": {
   "default_parameters": {},
   "duration": 10002.453958,
   "end_time": "2024-11-24T02:49:15.991110",
   "environment_variables": {},
   "exception": null,
   "input_path": "__notebook__.ipynb",
   "output_path": "__notebook__.ipynb",
   "parameters": {},
   "start_time": "2024-11-24T00:02:33.537152",
   "version": "2.6.0"
  },
  "widgets": {
   "application/vnd.jupyter.widget-state+json": {
    "state": {
     "007ea628eb4640a5a25d1bf3e98af950": {
      "model_module": "@jupyter-widgets/controls",
      "model_module_version": "1.5.0",
      "model_name": "DescriptionStyleModel",
      "state": {
       "_model_module": "@jupyter-widgets/controls",
       "_model_module_version": "1.5.0",
       "_model_name": "DescriptionStyleModel",
       "_view_count": null,
       "_view_module": "@jupyter-widgets/base",
       "_view_module_version": "1.2.0",
       "_view_name": "StyleView",
       "description_width": ""
      }
     },
     "02d2653c16f04ca89e40effb979cd74f": {
      "model_module": "@jupyter-widgets/base",
      "model_module_version": "1.2.0",
      "model_name": "LayoutModel",
      "state": {
       "_model_module": "@jupyter-widgets/base",
       "_model_module_version": "1.2.0",
       "_model_name": "LayoutModel",
       "_view_count": null,
       "_view_module": "@jupyter-widgets/base",
       "_view_module_version": "1.2.0",
       "_view_name": "LayoutView",
       "align_content": null,
       "align_items": null,
       "align_self": null,
       "border": null,
       "bottom": null,
       "display": null,
       "flex": null,
       "flex_flow": null,
       "grid_area": null,
       "grid_auto_columns": null,
       "grid_auto_flow": null,
       "grid_auto_rows": null,
       "grid_column": null,
       "grid_gap": null,
       "grid_row": null,
       "grid_template_areas": null,
       "grid_template_columns": null,
       "grid_template_rows": null,
       "height": null,
       "justify_content": null,
       "justify_items": null,
       "left": null,
       "margin": null,
       "max_height": null,
       "max_width": null,
       "min_height": null,
       "min_width": null,
       "object_fit": null,
       "object_position": null,
       "order": null,
       "overflow": null,
       "overflow_x": null,
       "overflow_y": null,
       "padding": null,
       "right": null,
       "top": null,
       "visibility": null,
       "width": null
      }
     },
     "35cd7b28b6fd4d14ad7ab6dd45e0b1ff": {
      "model_module": "@jupyter-widgets/controls",
      "model_module_version": "1.5.0",
      "model_name": "ProgressStyleModel",
      "state": {
       "_model_module": "@jupyter-widgets/controls",
       "_model_module_version": "1.5.0",
       "_model_name": "ProgressStyleModel",
       "_view_count": null,
       "_view_module": "@jupyter-widgets/base",
       "_view_module_version": "1.2.0",
       "_view_name": "StyleView",
       "bar_color": null,
       "description_width": ""
      }
     },
     "72a6b31aab81439b9f3a515ab2464742": {
      "model_module": "@jupyter-widgets/controls",
      "model_module_version": "1.5.0",
      "model_name": "HTMLModel",
      "state": {
       "_dom_classes": [],
       "_model_module": "@jupyter-widgets/controls",
       "_model_module_version": "1.5.0",
       "_model_name": "HTMLModel",
       "_view_count": null,
       "_view_module": "@jupyter-widgets/controls",
       "_view_module_version": "1.5.0",
       "_view_name": "HTMLView",
       "description": "",
       "description_tooltip": null,
       "layout": "IPY_MODEL_8f64cc536205479ca7e288cfe880549c",
       "placeholder": "​",
       "style": "IPY_MODEL_e647e1a773a74084acc6530936976d8e",
       "value": " 2/2 [00:00&lt;00:00,  5.22it/s]"
      }
     },
     "8f64cc536205479ca7e288cfe880549c": {
      "model_module": "@jupyter-widgets/base",
      "model_module_version": "1.2.0",
      "model_name": "LayoutModel",
      "state": {
       "_model_module": "@jupyter-widgets/base",
       "_model_module_version": "1.2.0",
       "_model_name": "LayoutModel",
       "_view_count": null,
       "_view_module": "@jupyter-widgets/base",
       "_view_module_version": "1.2.0",
       "_view_name": "LayoutView",
       "align_content": null,
       "align_items": null,
       "align_self": null,
       "border": null,
       "bottom": null,
       "display": null,
       "flex": null,
       "flex_flow": null,
       "grid_area": null,
       "grid_auto_columns": null,
       "grid_auto_flow": null,
       "grid_auto_rows": null,
       "grid_column": null,
       "grid_gap": null,
       "grid_row": null,
       "grid_template_areas": null,
       "grid_template_columns": null,
       "grid_template_rows": null,
       "height": null,
       "justify_content": null,
       "justify_items": null,
       "left": null,
       "margin": null,
       "max_height": null,
       "max_width": null,
       "min_height": null,
       "min_width": null,
       "object_fit": null,
       "object_position": null,
       "order": null,
       "overflow": null,
       "overflow_x": null,
       "overflow_y": null,
       "padding": null,
       "right": null,
       "top": null,
       "visibility": null,
       "width": null
      }
     },
     "a0c73180463c4adb81ae90f820caba63": {
      "model_module": "@jupyter-widgets/base",
      "model_module_version": "1.2.0",
      "model_name": "LayoutModel",
      "state": {
       "_model_module": "@jupyter-widgets/base",
       "_model_module_version": "1.2.0",
       "_model_name": "LayoutModel",
       "_view_count": null,
       "_view_module": "@jupyter-widgets/base",
       "_view_module_version": "1.2.0",
       "_view_name": "LayoutView",
       "align_content": null,
       "align_items": null,
       "align_self": null,
       "border": null,
       "bottom": null,
       "display": null,
       "flex": null,
       "flex_flow": null,
       "grid_area": null,
       "grid_auto_columns": null,
       "grid_auto_flow": null,
       "grid_auto_rows": null,
       "grid_column": null,
       "grid_gap": null,
       "grid_row": null,
       "grid_template_areas": null,
       "grid_template_columns": null,
       "grid_template_rows": null,
       "height": null,
       "justify_content": null,
       "justify_items": null,
       "left": null,
       "margin": null,
       "max_height": null,
       "max_width": null,
       "min_height": null,
       "min_width": null,
       "object_fit": null,
       "object_position": null,
       "order": null,
       "overflow": null,
       "overflow_x": null,
       "overflow_y": null,
       "padding": null,
       "right": null,
       "top": null,
       "visibility": null,
       "width": null
      }
     },
     "b0f622b0e72648ef8edc837ae115d399": {
      "model_module": "@jupyter-widgets/base",
      "model_module_version": "1.2.0",
      "model_name": "LayoutModel",
      "state": {
       "_model_module": "@jupyter-widgets/base",
       "_model_module_version": "1.2.0",
       "_model_name": "LayoutModel",
       "_view_count": null,
       "_view_module": "@jupyter-widgets/base",
       "_view_module_version": "1.2.0",
       "_view_name": "LayoutView",
       "align_content": null,
       "align_items": null,
       "align_self": null,
       "border": null,
       "bottom": null,
       "display": null,
       "flex": null,
       "flex_flow": null,
       "grid_area": null,
       "grid_auto_columns": null,
       "grid_auto_flow": null,
       "grid_auto_rows": null,
       "grid_column": null,
       "grid_gap": null,
       "grid_row": null,
       "grid_template_areas": null,
       "grid_template_columns": null,
       "grid_template_rows": null,
       "height": null,
       "justify_content": null,
       "justify_items": null,
       "left": null,
       "margin": null,
       "max_height": null,
       "max_width": null,
       "min_height": null,
       "min_width": null,
       "object_fit": null,
       "object_position": null,
       "order": null,
       "overflow": null,
       "overflow_x": null,
       "overflow_y": null,
       "padding": null,
       "right": null,
       "top": null,
       "visibility": null,
       "width": null
      }
     },
     "bdcb75985ef24a4d8f8e2aded857466d": {
      "model_module": "@jupyter-widgets/controls",
      "model_module_version": "1.5.0",
      "model_name": "HBoxModel",
      "state": {
       "_dom_classes": [],
       "_model_module": "@jupyter-widgets/controls",
       "_model_module_version": "1.5.0",
       "_model_name": "HBoxModel",
       "_view_count": null,
       "_view_module": "@jupyter-widgets/controls",
       "_view_module_version": "1.5.0",
       "_view_name": "HBoxView",
       "box_style": "",
       "children": [
        "IPY_MODEL_c706f92362764a38b984923ef35ce958",
        "IPY_MODEL_c81f6584ce9241bc9dfeb0dd4647961e",
        "IPY_MODEL_72a6b31aab81439b9f3a515ab2464742"
       ],
       "layout": "IPY_MODEL_b0f622b0e72648ef8edc837ae115d399"
      }
     },
     "c706f92362764a38b984923ef35ce958": {
      "model_module": "@jupyter-widgets/controls",
      "model_module_version": "1.5.0",
      "model_name": "HTMLModel",
      "state": {
       "_dom_classes": [],
       "_model_module": "@jupyter-widgets/controls",
       "_model_module_version": "1.5.0",
       "_model_name": "HTMLModel",
       "_view_count": null,
       "_view_module": "@jupyter-widgets/controls",
       "_view_module_version": "1.5.0",
       "_view_name": "HTMLView",
       "description": "",
       "description_tooltip": null,
       "layout": "IPY_MODEL_02d2653c16f04ca89e40effb979cd74f",
       "placeholder": "​",
       "style": "IPY_MODEL_007ea628eb4640a5a25d1bf3e98af950",
       "value": "100%"
      }
     },
     "c81f6584ce9241bc9dfeb0dd4647961e": {
      "model_module": "@jupyter-widgets/controls",
      "model_module_version": "1.5.0",
      "model_name": "FloatProgressModel",
      "state": {
       "_dom_classes": [],
       "_model_module": "@jupyter-widgets/controls",
       "_model_module_version": "1.5.0",
       "_model_name": "FloatProgressModel",
       "_view_count": null,
       "_view_module": "@jupyter-widgets/controls",
       "_view_module_version": "1.5.0",
       "_view_name": "ProgressView",
       "bar_style": "success",
       "description": "",
       "description_tooltip": null,
       "layout": "IPY_MODEL_a0c73180463c4adb81ae90f820caba63",
       "max": 2.0,
       "min": 0.0,
       "orientation": "horizontal",
       "style": "IPY_MODEL_35cd7b28b6fd4d14ad7ab6dd45e0b1ff",
       "value": 2.0
      }
     },
     "e647e1a773a74084acc6530936976d8e": {
      "model_module": "@jupyter-widgets/controls",
      "model_module_version": "1.5.0",
      "model_name": "DescriptionStyleModel",
      "state": {
       "_model_module": "@jupyter-widgets/controls",
       "_model_module_version": "1.5.0",
       "_model_name": "DescriptionStyleModel",
       "_view_count": null,
       "_view_module": "@jupyter-widgets/base",
       "_view_module_version": "1.2.0",
       "_view_name": "StyleView",
       "description_width": ""
      }
     }
    },
    "version_major": 2,
    "version_minor": 0
   }
  }
 },
 "nbformat": 4,
 "nbformat_minor": 5
}

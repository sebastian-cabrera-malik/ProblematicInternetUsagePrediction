{
 "cells": [
  {
   "cell_type": "markdown",
   "id": "15e69ba8",
   "metadata": {
    "papermill": {
     "duration": 0.006475,
     "end_time": "2024-11-24T00:04:05.331052",
     "exception": false,
     "start_time": "2024-11-24T00:04:05.324577",
     "status": "completed"
    },
    "tags": []
   },
   "source": [
    "# Libraries"
   ]
  },
  {
   "cell_type": "code",
   "execution_count": 1,
   "id": "1bfdc650",
   "metadata": {
    "_cell_guid": "b1076dfc-b9ad-4769-8c92-a6c4dae69d19",
    "_uuid": "8f2839f25d086af736a60e9eeb907d3b93b6e0e5",
    "execution": {
     "iopub.execute_input": "2024-11-24T00:04:05.344472Z",
     "iopub.status.busy": "2024-11-24T00:04:05.343620Z",
     "iopub.status.idle": "2024-11-24T00:04:08.138251Z",
     "shell.execute_reply": "2024-11-24T00:04:08.137414Z"
    },
    "papermill": {
     "duration": 2.80325,
     "end_time": "2024-11-24T00:04:08.140564",
     "exception": false,
     "start_time": "2024-11-24T00:04:05.337314",
     "status": "completed"
    },
    "tags": []
   },
   "outputs": [],
   "source": [
    "import gc\n",
    "import pandas as pd\n",
    "import numpy as np\n",
    "import datetime as dt\n",
    "\n",
    "import matplotlib.pyplot as plt\n",
    "import matplotlib.cm as cm\n",
    "import seaborn as sns\n",
    "\n",
    "import plotly.graph_objects as go\n",
    "from plotly.subplots import make_subplots\n",
    "import plotly.express as px\n",
    "import plotly.offline\n",
    "\n",
    "from colorama import Fore, Style, init\n",
    "from pprint import pprint\n",
    "\n",
    "# 🚫 Suppressing warnings 🚫\n",
    "import warnings\n",
    "warnings.filterwarnings('ignore')"
   ]
  },
  {
   "cell_type": "code",
   "execution_count": 2,
   "id": "c280ebca",
   "metadata": {
    "execution": {
     "iopub.execute_input": "2024-11-24T00:04:08.154829Z",
     "iopub.status.busy": "2024-11-24T00:04:08.153745Z",
     "iopub.status.idle": "2024-11-24T00:04:10.174722Z",
     "shell.execute_reply": "2024-11-24T00:04:10.173931Z"
    },
    "papermill": {
     "duration": 2.030393,
     "end_time": "2024-11-24T00:04:10.177073",
     "exception": false,
     "start_time": "2024-11-24T00:04:08.146680",
     "status": "completed"
    },
    "tags": []
   },
   "outputs": [],
   "source": [
    "import numpy as np\n",
    "import pandas as pd\n",
    "import lightgbm as lgb\n",
    "import optuna\n",
    "from sklearn.metrics import cohen_kappa_score, make_scorer, confusion_matrix\n",
    "from sklearn.model_selection import StratifiedKFold, cross_val_score\n",
    "from sklearn.pipeline import Pipeline\n",
    "from sklearn.impute import SimpleImputer\n",
    "from sklearn.preprocessing import StandardScaler, OneHotEncoder\n",
    "from sklearn.compose import ColumnTransformer\n",
    "from sklearn.linear_model import LogisticRegression\n",
    "from sklearn.tree import DecisionTreeClassifier\n",
    "from sklearn.ensemble import RandomForestClassifier\n",
    "from sklearn.neural_network import MLPClassifier\n",
    "from imblearn.over_sampling import SMOTE\n",
    "import seaborn as sns\n",
    "import matplotlib.pyplot as plt\n",
    "from scipy.optimize import minimize\n",
    "import xgboost as xgb\n",
    "from sklearn.model_selection import train_test_split"
   ]
  },
  {
   "cell_type": "code",
   "execution_count": 3,
   "id": "5dd23ff5",
   "metadata": {
    "execution": {
     "iopub.execute_input": "2024-11-24T00:04:10.190757Z",
     "iopub.status.busy": "2024-11-24T00:04:10.190146Z",
     "iopub.status.idle": "2024-11-24T00:04:10.481679Z",
     "shell.execute_reply": "2024-11-24T00:04:10.480854Z"
    },
    "papermill": {
     "duration": 0.300695,
     "end_time": "2024-11-24T00:04:10.483867",
     "exception": false,
     "start_time": "2024-11-24T00:04:10.183172",
     "status": "completed"
    },
    "tags": []
   },
   "outputs": [],
   "source": [
    "import os\n",
    "from tqdm.auto import tqdm \n",
    "from concurrent.futures import ThreadPoolExecutor\n",
    "from joblib import Parallel, delayed\n",
    "from time import sleep, time\n",
    "from multiprocessing import cpu_count\n",
    "import polars as pl\n",
    "from sklearn.preprocessing import MinMaxScaler\n",
    "import concurrent.futures\n",
    "\n",
    "from datetime import datetime, timezone, timedelta"
   ]
  },
  {
   "cell_type": "markdown",
   "id": "6377d5d1",
   "metadata": {
    "papermill": {
     "duration": 0.005507,
     "end_time": "2024-11-24T00:04:10.496623",
     "exception": false,
     "start_time": "2024-11-24T00:04:10.491116",
     "status": "completed"
    },
    "tags": []
   },
   "source": [
    "# Load the data"
   ]
  },
  {
   "cell_type": "code",
   "execution_count": 4,
   "id": "c4247ca8",
   "metadata": {
    "execution": {
     "iopub.execute_input": "2024-11-24T00:04:10.509675Z",
     "iopub.status.busy": "2024-11-24T00:04:10.508923Z",
     "iopub.status.idle": "2024-11-24T00:04:10.525740Z",
     "shell.execute_reply": "2024-11-24T00:04:10.524817Z"
    },
    "papermill": {
     "duration": 0.025263,
     "end_time": "2024-11-24T00:04:10.527532",
     "exception": false,
     "start_time": "2024-11-24T00:04:10.502269",
     "status": "completed"
    },
    "tags": []
   },
   "outputs": [
    {
     "data": {
      "text/plain": [
       "20"
      ]
     },
     "execution_count": 4,
     "metadata": {},
     "output_type": "execute_result"
    }
   ],
   "source": [
    "df_test = pd.read_csv('/kaggle/input/child-mind-institute-problematic-internet-use/test.csv')\n",
    "len(df_test)"
   ]
  },
  {
   "cell_type": "code",
   "execution_count": 5,
   "id": "b3adee20",
   "metadata": {
    "execution": {
     "iopub.execute_input": "2024-11-24T00:04:10.542861Z",
     "iopub.status.busy": "2024-11-24T00:04:10.542360Z",
     "iopub.status.idle": "2024-11-24T00:04:10.551349Z",
     "shell.execute_reply": "2024-11-24T00:04:10.550367Z"
    },
    "papermill": {
     "duration": 0.018832,
     "end_time": "2024-11-24T00:04:10.553343",
     "exception": false,
     "start_time": "2024-11-24T00:04:10.534511",
     "status": "completed"
    },
    "tags": []
   },
   "outputs": [],
   "source": [
    "def process_file(filename, dirname):\n",
    "    df = pd.read_parquet(os.path.join(dirname, filename, 'part-0.parquet'))\n",
    "    df.drop('step', axis=1, inplace=True)\n",
    "    return df.describe().values.reshape(-1), filename.split('=')[1]\n",
    "\n",
    "def load_time_series(dirname) -> pd.DataFrame:\n",
    "    ids = os.listdir(dirname)\n",
    "    \n",
    "    with ThreadPoolExecutor() as executor:\n",
    "        results = list(tqdm(executor.map(lambda fname: process_file(fname, dirname), ids), total=len(ids)))\n",
    "    \n",
    "    stats, indexes = zip(*results)\n",
    "    \n",
    "    df = pd.DataFrame(stats, columns=[f\"stat_{i}\" for i in range(len(stats[0]))])\n",
    "    df['id'] = indexes\n",
    "    return df"
   ]
  },
  {
   "cell_type": "code",
   "execution_count": 6,
   "id": "005fccd6",
   "metadata": {
    "execution": {
     "iopub.execute_input": "2024-11-24T00:04:10.568131Z",
     "iopub.status.busy": "2024-11-24T00:04:10.567756Z",
     "iopub.status.idle": "2024-11-24T00:04:11.001539Z",
     "shell.execute_reply": "2024-11-24T00:04:11.000543Z"
    },
    "papermill": {
     "duration": 0.44378,
     "end_time": "2024-11-24T00:04:11.003367",
     "exception": false,
     "start_time": "2024-11-24T00:04:10.559587",
     "status": "completed"
    },
    "tags": []
   },
   "outputs": [
    {
     "data": {
      "application/vnd.jupyter.widget-view+json": {
       "model_id": "da6b2a79b83a459c8a23d8378bd4214c",
       "version_major": 2,
       "version_minor": 0
      },
      "text/plain": [
       "  0%|          | 0/2 [00:00<?, ?it/s]"
      ]
     },
     "metadata": {},
     "output_type": "display_data"
    },
    {
     "data": {
      "text/plain": [
       "2"
      ]
     },
     "execution_count": 6,
     "metadata": {},
     "output_type": "execute_result"
    }
   ],
   "source": [
    "test_ts = load_time_series(\"/kaggle/input/child-mind-institute-problematic-internet-use/series_test.parquet\")\n",
    "len(test_ts)"
   ]
  },
  {
   "cell_type": "code",
   "execution_count": 7,
   "id": "18123988",
   "metadata": {
    "execution": {
     "iopub.execute_input": "2024-11-24T00:04:11.016592Z",
     "iopub.status.busy": "2024-11-24T00:04:11.016254Z",
     "iopub.status.idle": "2024-11-24T00:04:11.027153Z",
     "shell.execute_reply": "2024-11-24T00:04:11.026181Z"
    },
    "papermill": {
     "duration": 0.019548,
     "end_time": "2024-11-24T00:04:11.028968",
     "exception": false,
     "start_time": "2024-11-24T00:04:11.009420",
     "status": "completed"
    },
    "tags": []
   },
   "outputs": [
    {
     "data": {
      "text/plain": [
       "array(['00115b9f', '001f3379'], dtype=object)"
      ]
     },
     "execution_count": 7,
     "metadata": {},
     "output_type": "execute_result"
    }
   ],
   "source": [
    "test_ts['id'].unique()"
   ]
  },
  {
   "cell_type": "code",
   "execution_count": 8,
   "id": "cb326149",
   "metadata": {
    "execution": {
     "iopub.execute_input": "2024-11-24T00:04:11.043873Z",
     "iopub.status.busy": "2024-11-24T00:04:11.043319Z",
     "iopub.status.idle": "2024-11-24T00:04:11.138347Z",
     "shell.execute_reply": "2024-11-24T00:04:11.137328Z"
    },
    "papermill": {
     "duration": 0.105225,
     "end_time": "2024-11-24T00:04:11.140694",
     "exception": false,
     "start_time": "2024-11-24T00:04:11.035469",
     "status": "completed"
    },
    "tags": []
   },
   "outputs": [
    {
     "data": {
      "text/plain": [
       "3960"
      ]
     },
     "execution_count": 8,
     "metadata": {},
     "output_type": "execute_result"
    }
   ],
   "source": [
    "df = pd.read_csv('/kaggle/input/colombian-frenchteam-problematicinternetusage/Dataset_problematic_internet_usage.csv')\n",
    "len(df)"
   ]
  },
  {
   "cell_type": "code",
   "execution_count": 9,
   "id": "ed326b98",
   "metadata": {
    "execution": {
     "iopub.execute_input": "2024-11-24T00:04:11.158256Z",
     "iopub.status.busy": "2024-11-24T00:04:11.157334Z",
     "iopub.status.idle": "2024-11-24T00:04:11.166125Z",
     "shell.execute_reply": "2024-11-24T00:04:11.165075Z"
    },
    "papermill": {
     "duration": 0.017643,
     "end_time": "2024-11-24T00:04:11.167908",
     "exception": false,
     "start_time": "2024-11-24T00:04:11.150265",
     "status": "completed"
    },
    "tags": []
   },
   "outputs": [
    {
     "data": {
      "text/plain": [
       "Train_Test_Label\n",
       "isnotintrainset    2964\n",
       "test                200\n",
       "train               796\n",
       "dtype: int64"
      ]
     },
     "execution_count": 9,
     "metadata": {},
     "output_type": "execute_result"
    }
   ],
   "source": [
    "df.groupby('Train_Test_Label').size()"
   ]
  },
  {
   "cell_type": "code",
   "execution_count": 10,
   "id": "61ff49f3",
   "metadata": {
    "execution": {
     "iopub.execute_input": "2024-11-24T00:04:11.182098Z",
     "iopub.status.busy": "2024-11-24T00:04:11.181302Z",
     "iopub.status.idle": "2024-11-24T00:04:11.190126Z",
     "shell.execute_reply": "2024-11-24T00:04:11.189146Z"
    },
    "papermill": {
     "duration": 0.017795,
     "end_time": "2024-11-24T00:04:11.191871",
     "exception": false,
     "start_time": "2024-11-24T00:04:11.174076",
     "status": "completed"
    },
    "tags": []
   },
   "outputs": [
    {
     "data": {
      "text/plain": [
       "996"
      ]
     },
     "execution_count": 10,
     "metadata": {},
     "output_type": "execute_result"
    }
   ],
   "source": [
    "df = df[(df['Train_Test_Label']=='test') | (df['Train_Test_Label']=='train') ]\n",
    "len(df)"
   ]
  },
  {
   "cell_type": "code",
   "execution_count": 11,
   "id": "e3f84bf5",
   "metadata": {
    "execution": {
     "iopub.execute_input": "2024-11-24T00:04:11.205877Z",
     "iopub.status.busy": "2024-11-24T00:04:11.205513Z",
     "iopub.status.idle": "2024-11-24T00:04:11.230646Z",
     "shell.execute_reply": "2024-11-24T00:04:11.229713Z"
    },
    "papermill": {
     "duration": 0.034125,
     "end_time": "2024-11-24T00:04:11.232459",
     "exception": false,
     "start_time": "2024-11-24T00:04:11.198334",
     "status": "completed"
    },
    "tags": []
   },
   "outputs": [
    {
     "data": {
      "text/html": [
       "<div>\n",
       "<style scoped>\n",
       "    .dataframe tbody tr th:only-of-type {\n",
       "        vertical-align: middle;\n",
       "    }\n",
       "\n",
       "    .dataframe tbody tr th {\n",
       "        vertical-align: top;\n",
       "    }\n",
       "\n",
       "    .dataframe thead th {\n",
       "        text-align: right;\n",
       "    }\n",
       "</style>\n",
       "<table border=\"1\" class=\"dataframe\">\n",
       "  <thead>\n",
       "    <tr style=\"text-align: right;\">\n",
       "      <th></th>\n",
       "      <th>Unnamed: 0</th>\n",
       "      <th>id</th>\n",
       "      <th>Basic_Demos-Enroll_Season</th>\n",
       "      <th>Basic_Demos-Age</th>\n",
       "      <th>Basic_Demos-Sex</th>\n",
       "      <th>CGAS-Season</th>\n",
       "      <th>CGAS-CGAS_Score</th>\n",
       "      <th>Physical-Season</th>\n",
       "      <th>Physical-BMI</th>\n",
       "      <th>Physical-Height</th>\n",
       "      <th>...</th>\n",
       "      <th>PCIAT-PCIAT_20</th>\n",
       "      <th>PCIAT-PCIAT_Total</th>\n",
       "      <th>SDS-Season</th>\n",
       "      <th>SDS-SDS_Total_Raw</th>\n",
       "      <th>SDS-SDS_Total_T</th>\n",
       "      <th>PreInt_EduHx-Season</th>\n",
       "      <th>PreInt_EduHx-computerinternet_hoursday</th>\n",
       "      <th>sii</th>\n",
       "      <th>Has_actigraphy_data</th>\n",
       "      <th>Train_Test_Label</th>\n",
       "    </tr>\n",
       "  </thead>\n",
       "  <tbody>\n",
       "    <tr>\n",
       "      <th>894</th>\n",
       "      <td>894</td>\n",
       "      <td>35fa2ebf</td>\n",
       "      <td>Summer</td>\n",
       "      <td>13</td>\n",
       "      <td>0</td>\n",
       "      <td>Fall</td>\n",
       "      <td>70.0</td>\n",
       "      <td>Fall</td>\n",
       "      <td>20.404192</td>\n",
       "      <td>61.00</td>\n",
       "      <td>...</td>\n",
       "      <td>5.0</td>\n",
       "      <td>89.0</td>\n",
       "      <td>Fall</td>\n",
       "      <td>37.0</td>\n",
       "      <td>53.0</td>\n",
       "      <td>Summer</td>\n",
       "      <td>3.0</td>\n",
       "      <td>3.0</td>\n",
       "      <td>Yes</td>\n",
       "      <td>train</td>\n",
       "    </tr>\n",
       "    <tr>\n",
       "      <th>1502</th>\n",
       "      <td>1502</td>\n",
       "      <td>5e55e9fd</td>\n",
       "      <td>Spring</td>\n",
       "      <td>14</td>\n",
       "      <td>1</td>\n",
       "      <td>NaN</td>\n",
       "      <td>NaN</td>\n",
       "      <td>Spring</td>\n",
       "      <td>18.934295</td>\n",
       "      <td>60.75</td>\n",
       "      <td>...</td>\n",
       "      <td>5.0</td>\n",
       "      <td>81.0</td>\n",
       "      <td>Spring</td>\n",
       "      <td>44.0</td>\n",
       "      <td>62.0</td>\n",
       "      <td>Spring</td>\n",
       "      <td>3.0</td>\n",
       "      <td>3.0</td>\n",
       "      <td>Yes</td>\n",
       "      <td>train</td>\n",
       "    </tr>\n",
       "    <tr>\n",
       "      <th>2002</th>\n",
       "      <td>2002</td>\n",
       "      <td>7f44236f</td>\n",
       "      <td>Fall</td>\n",
       "      <td>13</td>\n",
       "      <td>0</td>\n",
       "      <td>Winter</td>\n",
       "      <td>70.0</td>\n",
       "      <td>Winter</td>\n",
       "      <td>25.370016</td>\n",
       "      <td>67.00</td>\n",
       "      <td>...</td>\n",
       "      <td>5.0</td>\n",
       "      <td>87.0</td>\n",
       "      <td>Winter</td>\n",
       "      <td>47.0</td>\n",
       "      <td>66.0</td>\n",
       "      <td>Fall</td>\n",
       "      <td>0.0</td>\n",
       "      <td>3.0</td>\n",
       "      <td>Yes</td>\n",
       "      <td>train</td>\n",
       "    </tr>\n",
       "  </tbody>\n",
       "</table>\n",
       "<p>3 rows × 85 columns</p>\n",
       "</div>"
      ],
      "text/plain": [
       "      Unnamed: 0        id Basic_Demos-Enroll_Season  Basic_Demos-Age  \\\n",
       "894          894  35fa2ebf                    Summer               13   \n",
       "1502        1502  5e55e9fd                    Spring               14   \n",
       "2002        2002  7f44236f                      Fall               13   \n",
       "\n",
       "      Basic_Demos-Sex CGAS-Season  CGAS-CGAS_Score Physical-Season  \\\n",
       "894                 0        Fall             70.0            Fall   \n",
       "1502                1         NaN              NaN          Spring   \n",
       "2002                0      Winter             70.0          Winter   \n",
       "\n",
       "      Physical-BMI  Physical-Height  ...  PCIAT-PCIAT_20  PCIAT-PCIAT_Total  \\\n",
       "894      20.404192            61.00  ...             5.0               89.0   \n",
       "1502     18.934295            60.75  ...             5.0               81.0   \n",
       "2002     25.370016            67.00  ...             5.0               87.0   \n",
       "\n",
       "      SDS-Season  SDS-SDS_Total_Raw  SDS-SDS_Total_T PreInt_EduHx-Season  \\\n",
       "894         Fall               37.0             53.0              Summer   \n",
       "1502      Spring               44.0             62.0              Spring   \n",
       "2002      Winter               47.0             66.0                Fall   \n",
       "\n",
       "      PreInt_EduHx-computerinternet_hoursday  sii  Has_actigraphy_data  \\\n",
       "894                                      3.0  3.0                  Yes   \n",
       "1502                                     3.0  3.0                  Yes   \n",
       "2002                                     0.0  3.0                  Yes   \n",
       "\n",
       "     Train_Test_Label  \n",
       "894             train  \n",
       "1502            train  \n",
       "2002            train  \n",
       "\n",
       "[3 rows x 85 columns]"
      ]
     },
     "execution_count": 11,
     "metadata": {},
     "output_type": "execute_result"
    }
   ],
   "source": [
    "df[df['sii']==3].head(3)"
   ]
  },
  {
   "cell_type": "code",
   "execution_count": 12,
   "id": "ada28586",
   "metadata": {
    "execution": {
     "iopub.execute_input": "2024-11-24T00:04:11.246213Z",
     "iopub.status.busy": "2024-11-24T00:04:11.245858Z",
     "iopub.status.idle": "2024-11-24T00:04:11.266037Z",
     "shell.execute_reply": "2024-11-24T00:04:11.265091Z"
    },
    "papermill": {
     "duration": 0.029149,
     "end_time": "2024-11-24T00:04:11.267891",
     "exception": false,
     "start_time": "2024-11-24T00:04:11.238742",
     "status": "completed"
    },
    "tags": []
   },
   "outputs": [
    {
     "data": {
      "text/html": [
       "<div>\n",
       "<style scoped>\n",
       "    .dataframe tbody tr th:only-of-type {\n",
       "        vertical-align: middle;\n",
       "    }\n",
       "\n",
       "    .dataframe tbody tr th {\n",
       "        vertical-align: top;\n",
       "    }\n",
       "\n",
       "    .dataframe thead th {\n",
       "        text-align: right;\n",
       "    }\n",
       "</style>\n",
       "<table border=\"1\" class=\"dataframe\">\n",
       "  <thead>\n",
       "    <tr style=\"text-align: right;\">\n",
       "      <th></th>\n",
       "      <th>Unnamed: 0</th>\n",
       "      <th>id</th>\n",
       "      <th>Basic_Demos-Enroll_Season</th>\n",
       "      <th>Basic_Demos-Age</th>\n",
       "      <th>Basic_Demos-Sex</th>\n",
       "      <th>CGAS-Season</th>\n",
       "      <th>CGAS-CGAS_Score</th>\n",
       "      <th>Physical-Season</th>\n",
       "      <th>Physical-BMI</th>\n",
       "      <th>Physical-Height</th>\n",
       "      <th>...</th>\n",
       "      <th>PCIAT-PCIAT_20</th>\n",
       "      <th>PCIAT-PCIAT_Total</th>\n",
       "      <th>SDS-Season</th>\n",
       "      <th>SDS-SDS_Total_Raw</th>\n",
       "      <th>SDS-SDS_Total_T</th>\n",
       "      <th>PreInt_EduHx-Season</th>\n",
       "      <th>PreInt_EduHx-computerinternet_hoursday</th>\n",
       "      <th>sii</th>\n",
       "      <th>Has_actigraphy_data</th>\n",
       "      <th>Train_Test_Label</th>\n",
       "    </tr>\n",
       "  </thead>\n",
       "  <tbody>\n",
       "    <tr>\n",
       "      <th>22</th>\n",
       "      <td>22</td>\n",
       "      <td>01085eb3</td>\n",
       "      <td>Fall</td>\n",
       "      <td>12</td>\n",
       "      <td>0</td>\n",
       "      <td>Winter</td>\n",
       "      <td>58.0</td>\n",
       "      <td>Fall</td>\n",
       "      <td>34.187282</td>\n",
       "      <td>60.5</td>\n",
       "      <td>...</td>\n",
       "      <td>0.0</td>\n",
       "      <td>30.0</td>\n",
       "      <td>Fall</td>\n",
       "      <td>53.0</td>\n",
       "      <td>73.0</td>\n",
       "      <td>Fall</td>\n",
       "      <td>0.0</td>\n",
       "      <td>0.0</td>\n",
       "      <td>Yes</td>\n",
       "      <td>train</td>\n",
       "    </tr>\n",
       "    <tr>\n",
       "      <th>25</th>\n",
       "      <td>25</td>\n",
       "      <td>012cadd8</td>\n",
       "      <td>Spring</td>\n",
       "      <td>9</td>\n",
       "      <td>0</td>\n",
       "      <td>Winter</td>\n",
       "      <td>60.0</td>\n",
       "      <td>Fall</td>\n",
       "      <td>17.089151</td>\n",
       "      <td>53.2</td>\n",
       "      <td>...</td>\n",
       "      <td>0.0</td>\n",
       "      <td>9.0</td>\n",
       "      <td>Summer</td>\n",
       "      <td>27.0</td>\n",
       "      <td>40.0</td>\n",
       "      <td>Spring</td>\n",
       "      <td>0.0</td>\n",
       "      <td>0.0</td>\n",
       "      <td>Yes</td>\n",
       "      <td>train</td>\n",
       "    </tr>\n",
       "    <tr>\n",
       "      <th>26</th>\n",
       "      <td>26</td>\n",
       "      <td>012e3869</td>\n",
       "      <td>Summer</td>\n",
       "      <td>6</td>\n",
       "      <td>0</td>\n",
       "      <td>Winter</td>\n",
       "      <td>60.0</td>\n",
       "      <td>Summer</td>\n",
       "      <td>NaN</td>\n",
       "      <td>NaN</td>\n",
       "      <td>...</td>\n",
       "      <td>0.0</td>\n",
       "      <td>0.0</td>\n",
       "      <td>NaN</td>\n",
       "      <td>NaN</td>\n",
       "      <td>NaN</td>\n",
       "      <td>Summer</td>\n",
       "      <td>0.0</td>\n",
       "      <td>0.0</td>\n",
       "      <td>Yes</td>\n",
       "      <td>train</td>\n",
       "    </tr>\n",
       "  </tbody>\n",
       "</table>\n",
       "<p>3 rows × 85 columns</p>\n",
       "</div>"
      ],
      "text/plain": [
       "    Unnamed: 0        id Basic_Demos-Enroll_Season  Basic_Demos-Age  \\\n",
       "22          22  01085eb3                      Fall               12   \n",
       "25          25  012cadd8                    Spring                9   \n",
       "26          26  012e3869                    Summer                6   \n",
       "\n",
       "    Basic_Demos-Sex CGAS-Season  CGAS-CGAS_Score Physical-Season  \\\n",
       "22                0      Winter             58.0            Fall   \n",
       "25                0      Winter             60.0            Fall   \n",
       "26                0      Winter             60.0          Summer   \n",
       "\n",
       "    Physical-BMI  Physical-Height  ...  PCIAT-PCIAT_20  PCIAT-PCIAT_Total  \\\n",
       "22     34.187282             60.5  ...             0.0               30.0   \n",
       "25     17.089151             53.2  ...             0.0                9.0   \n",
       "26           NaN              NaN  ...             0.0                0.0   \n",
       "\n",
       "    SDS-Season  SDS-SDS_Total_Raw  SDS-SDS_Total_T PreInt_EduHx-Season  \\\n",
       "22        Fall               53.0             73.0                Fall   \n",
       "25      Summer               27.0             40.0              Spring   \n",
       "26         NaN                NaN              NaN              Summer   \n",
       "\n",
       "    PreInt_EduHx-computerinternet_hoursday  sii  Has_actigraphy_data  \\\n",
       "22                                     0.0  0.0                  Yes   \n",
       "25                                     0.0  0.0                  Yes   \n",
       "26                                     0.0  0.0                  Yes   \n",
       "\n",
       "   Train_Test_Label  \n",
       "22            train  \n",
       "25            train  \n",
       "26            train  \n",
       "\n",
       "[3 rows x 85 columns]"
      ]
     },
     "execution_count": 12,
     "metadata": {},
     "output_type": "execute_result"
    }
   ],
   "source": [
    "df[df['sii']==0].head(3)"
   ]
  },
  {
   "cell_type": "markdown",
   "id": "f63cfe1d",
   "metadata": {
    "papermill": {
     "duration": 0.006396,
     "end_time": "2024-11-24T00:04:11.280916",
     "exception": false,
     "start_time": "2024-11-24T00:04:11.274520",
     "status": "completed"
    },
    "tags": []
   },
   "source": [
    "# Plot functions 2"
   ]
  },
  {
   "cell_type": "code",
   "execution_count": 13,
   "id": "60d4740c",
   "metadata": {
    "execution": {
     "iopub.execute_input": "2024-11-24T00:04:11.295417Z",
     "iopub.status.busy": "2024-11-24T00:04:11.295054Z",
     "iopub.status.idle": "2024-11-24T00:04:11.299582Z",
     "shell.execute_reply": "2024-11-24T00:04:11.298609Z"
    },
    "papermill": {
     "duration": 0.014075,
     "end_time": "2024-11-24T00:04:11.301489",
     "exception": false,
     "start_time": "2024-11-24T00:04:11.287414",
     "status": "completed"
    },
    "tags": []
   },
   "outputs": [],
   "source": [
    "kid_id = '71ee31f8'"
   ]
  },
  {
   "cell_type": "code",
   "execution_count": 14,
   "id": "29ade252",
   "metadata": {
    "execution": {
     "iopub.execute_input": "2024-11-24T00:04:11.316124Z",
     "iopub.status.busy": "2024-11-24T00:04:11.315485Z",
     "iopub.status.idle": "2024-11-24T00:04:11.327830Z",
     "shell.execute_reply": "2024-11-24T00:04:11.327049Z"
    },
    "papermill": {
     "duration": 0.021272,
     "end_time": "2024-11-24T00:04:11.329464",
     "exception": false,
     "start_time": "2024-11-24T00:04:11.308192",
     "status": "completed"
    },
    "tags": []
   },
   "outputs": [],
   "source": [
    "def feat_eng(df):\n",
    "\n",
    "    df['time_of_day_hours'] = (df['time_of_day'] / 1e9 / 3600)  # nanoseconds to hours\n",
    "    df['time_of_day_half_hours'] = (df['time_of_day'] / 1e9 / 1800)  # nanoseconds to half-hours\n",
    "    df['time_of_day_half_half_hours'] = (df['time_of_day'] / 1e9 / 900)  # nanoseconds to 15 minutes interval\n",
    "    df['time_of_day_fivemin_hours'] = (df['time_of_day'] / 1e9 / 300)  # nanoseconds to 5 minutes interval\n",
    "    df['day_time'] = df['relative_date_PCIAT'] + (df['time_of_day_hours'] / 24)\n",
    "    \n",
    "    # Day period assignment\n",
    "    day_start_hour = 8\n",
    "    day_end_hour = 21\n",
    "    df['day_period'] = np.where(\n",
    "            (df['time_of_day_hours'] >= day_start_hour) &\n",
    "            (df['time_of_day_hours'] < day_end_hour),\n",
    "            'day', 'night'\n",
    "        )\n",
    "    \n",
    "    # Initialize the 'which_day' column and day change detection\n",
    "    df['which_day'] = 0\n",
    "    day_change = (\n",
    "            (df['weekday'] != df['weekday'].shift(1)) |\n",
    "            (df['hour'] < df['hour'].shift(1)) |\n",
    "            ((df['hour'] == df['hour'].shift(1)) & (df['minute'] < df['minute'].shift(1))) |\n",
    "            ((df['hour'] == df['hour'].shift(1)) & (df['minute'] == df['minute'].shift(1)) & (df['second'] < df['second'].shift(1)))\n",
    "        )\n",
    "    df['which_day'] = day_change.cumsum() + 1\n",
    "    df['day_period_b'] = np.where(df['day_period'] == 'day', 1, 0)\n",
    "    df['time_of_day'] = pd.to_timedelta(df['time_of_day'], unit='ns')\n",
    "    base_date = pd.to_datetime('2024-01-01')\n",
    "    df['date'] = base_date + pd.to_timedelta(df['which_day'] - 1, unit='D')\n",
    "    df['timestamp'] = df['date'] + df['time_of_day']\n",
    "    df['timestamp'] = df['timestamp'].apply(lambda t: t.tz_localize(None))\n",
    "    df['timestamp_2'] = pd.to_datetime(df['timestamp']).apply(lambda t: t.tz_localize(None))\n",
    "    df.sort_values(['timestamp_2'], inplace=True)\n",
    "    df.set_index('timestamp_2', inplace=True)\n",
    "    \n",
    "    df[\"anglez\"] = df[\"anglez\"].astype(np.float32)\n",
    "    df[\"anglezdiffabs\"] = df[\"anglez\"].diff().abs().astype(np.float32)\n",
    "        \n",
    "    for col in ['anglezdiffabs']:\n",
    "            \n",
    "        # periods in seconds        \n",
    "        periods = [60] \n",
    "            \n",
    "        for n in periods:\n",
    "                \n",
    "            rol_args = {'window':f'{n+5}s', 'min_periods':10, 'center':True}\n",
    "                \n",
    "            for agg in ['median']:\n",
    "                df[f'{col}_{agg}_{n}'] = df[col].rolling(**rol_args).agg(agg).astype(np.float32).values\n",
    "                gc.collect()\n",
    "                \n",
    "            gc.collect()\n",
    "    \n",
    "    df.reset_index(inplace=True)\n",
    "    df.dropna(inplace=True)\n",
    "    df['large_enmo'] = df['enmo'] > 0.1509000062942505\n",
    "    df['anglezdiffabs_median_60_norm'] = (df['anglezdiffabs_median_60'] - np.min(df['anglezdiffabs_median_60'])) / (max(df['anglezdiffabs_median_60']) - min(df['anglezdiffabs_median_60']))\n",
    "\n",
    "    return df"
   ]
  },
  {
   "cell_type": "code",
   "execution_count": 15,
   "id": "205b408b",
   "metadata": {
    "execution": {
     "iopub.execute_input": "2024-11-24T00:04:11.343998Z",
     "iopub.status.busy": "2024-11-24T00:04:11.343653Z",
     "iopub.status.idle": "2024-11-24T00:04:11.349502Z",
     "shell.execute_reply": "2024-11-24T00:04:11.348733Z"
    },
    "papermill": {
     "duration": 0.015107,
     "end_time": "2024-11-24T00:04:11.351381",
     "exception": false,
     "start_time": "2024-11-24T00:04:11.336274",
     "status": "completed"
    },
    "tags": []
   },
   "outputs": [],
   "source": [
    "def feat_eng_by_id(idx):\n",
    "    \n",
    "    from warnings import simplefilter \n",
    "    simplefilter(action=\"ignore\", category=pd.errors.PerformanceWarning)\n",
    "    \n",
    "    df = (\n",
    "        pl.scan_parquet(f'/kaggle/input/child-mind-institute-problematic-internet-use/series_train.parquet/id={idx}/part-0.parquet')\n",
    "        .with_columns(\n",
    "            (pl.col(\"time_of_day\").cast(pl.Int64) / 1_000_000_000).alias(\"total_seconds\")\n",
    "        )\n",
    "        .with_columns(\n",
    "            [\n",
    "                (pl.col(\"total_seconds\") // 3600).alias(\"hour\"),\n",
    "                ((pl.col(\"total_seconds\") % 3600) // 60).alias(\"minute\"),\n",
    "                (pl.col(\"total_seconds\") % 60).alias(\"second\"),\n",
    "            ]\n",
    "        )\n",
    "        .collect()\n",
    "        .to_pandas()\n",
    "    )\n",
    "\n",
    "    df = feat_eng(df)\n",
    "    \n",
    "    return df\n",
    "\n"
   ]
  },
  {
   "cell_type": "code",
   "execution_count": 16,
   "id": "2cd9946b",
   "metadata": {
    "execution": {
     "iopub.execute_input": "2024-11-24T00:04:11.365960Z",
     "iopub.status.busy": "2024-11-24T00:04:11.365316Z",
     "iopub.status.idle": "2024-11-24T00:04:11.369493Z",
     "shell.execute_reply": "2024-11-24T00:04:11.368787Z"
    },
    "papermill": {
     "duration": 0.01333,
     "end_time": "2024-11-24T00:04:11.371271",
     "exception": false,
     "start_time": "2024-11-24T00:04:11.357941",
     "status": "completed"
    },
    "tags": []
   },
   "outputs": [],
   "source": [
    "from tqdm.auto import tqdm \n",
    "from joblib import Parallel, delayed\n",
    "from time import sleep, time\n",
    "from multiprocessing import cpu_count\n",
    "import gc"
   ]
  },
  {
   "cell_type": "code",
   "execution_count": 17,
   "id": "bbb42c78",
   "metadata": {
    "execution": {
     "iopub.execute_input": "2024-11-24T00:04:11.385045Z",
     "iopub.status.busy": "2024-11-24T00:04:11.384760Z",
     "iopub.status.idle": "2024-11-24T00:04:11.389572Z",
     "shell.execute_reply": "2024-11-24T00:04:11.388852Z"
    },
    "papermill": {
     "duration": 0.013605,
     "end_time": "2024-11-24T00:04:11.391375",
     "exception": false,
     "start_time": "2024-11-24T00:04:11.377770",
     "status": "completed"
    },
    "tags": []
   },
   "outputs": [],
   "source": [
    "from pathlib import Path\n",
    "working_folder = Path(\"/kaggle/working/\")\n",
    "images_folder = working_folder/\"imagesandannotations\"\n",
    "images_folder.mkdir()\n",
    "\n",
    "window_properties_batch_file = os.path.join(images_folder, \"window_properties.json\")\n",
    "all_events_batch_file = os.path.join(images_folder, \"all_events.json\")"
   ]
  },
  {
   "cell_type": "code",
   "execution_count": 18,
   "id": "8545fa4c",
   "metadata": {
    "execution": {
     "iopub.execute_input": "2024-11-24T00:04:11.405969Z",
     "iopub.status.busy": "2024-11-24T00:04:11.405615Z",
     "iopub.status.idle": "2024-11-24T00:04:11.411729Z",
     "shell.execute_reply": "2024-11-24T00:04:11.410827Z"
    },
    "papermill": {
     "duration": 0.015401,
     "end_time": "2024-11-24T00:04:11.413418",
     "exception": false,
     "start_time": "2024-11-24T00:04:11.398017",
     "status": "completed"
    },
    "tags": []
   },
   "outputs": [
    {
     "data": {
      "text/plain": [
       "996"
      ]
     },
     "execution_count": 18,
     "metadata": {},
     "output_type": "execute_result"
    }
   ],
   "source": [
    "series_ids = df['id'].unique()\n",
    "len(series_ids)"
   ]
  },
  {
   "cell_type": "code",
   "execution_count": 19,
   "id": "0dc170c0",
   "metadata": {
    "execution": {
     "iopub.execute_input": "2024-11-24T00:04:11.428121Z",
     "iopub.status.busy": "2024-11-24T00:04:11.427574Z",
     "iopub.status.idle": "2024-11-24T00:04:11.433802Z",
     "shell.execute_reply": "2024-11-24T00:04:11.432922Z"
    },
    "papermill": {
     "duration": 0.015643,
     "end_time": "2024-11-24T00:04:11.435719",
     "exception": false,
     "start_time": "2024-11-24T00:04:11.420076",
     "status": "completed"
    },
    "tags": []
   },
   "outputs": [
    {
     "data": {
      "text/plain": [
       "array(['93c93585', '93fd93c4', '93fda84a', '9402b885', '948a7025',\n",
       "       '948e1435', '949f94e5', '94a1053b', '9540fa8e', '954a4c2e',\n",
       "       '9570bfb7', '95cc96cc', '95d57ff9', '966161e7', '96de5f57',\n",
       "       '97bb0cc0', '98413061', '98ed2153', '994ee014', '99b15811',\n",
       "       '9a2082cf', '9a5aed6c', '9a7e4c38', '9aa1a2ae', '9ab4909f',\n",
       "       '9b328d6c', '9b96b0e4', '9bdd6964', '9c1ea003', '9cba0d0e',\n",
       "       '9ce139d3', '9cee3c19', '9cf04c41', '9d0670dd', '9d1b2d2c',\n",
       "       '9d65adbf', '9d6b1410', '9dc74359', '9ddb06db', '9ddfb9e6',\n",
       "       '9e027e04', '9e052412', '9e171735', '9e4385f7', '9e964060',\n",
       "       '9eb283e4', '9ebb73c7', '9f3ca269', '9f70688f', '9f9be55c',\n",
       "       '9fa5cdfd', '9fa68512', '9fb96ae3', '9ff73d95', 'a00c85e7',\n",
       "       'a0182b17', 'a0522c83', 'a08ebf6e', 'a148b46f', 'a1942b0b',\n",
       "       'a1ab89aa', 'a221c60c', 'a26c3e8f', 'a28c7891', 'a297d1b9',\n",
       "       'a2994e55', 'a302a015', 'a3391798', 'a3858c6a', 'a3b146ca',\n",
       "       'a3bd8858', 'a402c6c8', 'a40c8316', 'a4481101', 'a4530b41',\n",
       "       'a49eda7f', 'a4e0447e', 'a4f13c0d', 'a5078c62', 'a5099438',\n",
       "       'a5710c0a', 'a5974a7d', 'a5dbb00a', 'a614af1b', 'a65b2226',\n",
       "       'a6969e1a', 'a6fbb2e7', 'a774c63b', 'a7b9546a', 'a808ad0a',\n",
       "       'a814e825', 'a8926a86', 'a8b0428d', 'a8c1aab5', 'a8d9de72',\n",
       "       'a922ef3f', 'a95b4487', 'a9b84b96', 'a9c53cdb', 'aa1700c7',\n",
       "       'aae9800e', 'aaefeff0', 'ab16a20d', 'ab2ad965', 'ab36aa48',\n",
       "       'ab54c39e', 'ab987c75', 'abac67cc', 'abaf745c', 'ac1ad4a7',\n",
       "       'ac3ba541', 'ac66c144', 'ad0bbf35', 'ad380962', 'ad536dea',\n",
       "       'ad9f821d', 'adaf7461', 'adba23f0', 'adbd6839', 'adc2d620',\n",
       "       'ae712150', 'aecc7e74', 'af485add', 'af4f064e', 'b074f33b',\n",
       "       'b08423c5', 'b08f0ca4', 'b120a337', 'b1de4423', 'b1f064ac',\n",
       "       'b23b9220', 'b25abc27', 'b2987a65', 'b2b56219', 'b308c03e',\n",
       "       'b37281d5', 'b3b200af', 'b3f5c066', 'b41cee02', 'b447e66d',\n",
       "       'b452f767', 'b4e69f09', 'b69bf1f7', 'b712b69b', 'b7a61f8d',\n",
       "       'b7c410a9', 'b802aec3', 'b823508b', 'b94ec4a1', 'b95aad8d',\n",
       "       'b9b22bff', 'b9c085ab', 'b9cf3f7c', 'b9e90f7f', 'ba73bc7c',\n",
       "       'bb0d7d92', 'bb808a71', 'bba6ff20', 'bbd71a7c', 'bbe5bedd',\n",
       "       'bc4eaf77', 'bc66f41d', 'bc6bd8b2', 'bd4ccd4c', 'bd8397cb',\n",
       "       'bdbff28b', 'bdcc7d10', 'be210bc7', 'bea525dc', 'bebff291',\n",
       "       'bf31e0a7', 'bfb421f9', 'c00c663c', 'c0442863', 'c09d41cd',\n",
       "       'c0a7d046', 'c0f2a046', 'c1373df0', 'c274a243', 'c294b507',\n",
       "       'c2b40d6f', 'c2e15338', 'c3061b23', 'c308b134', 'c38585c5',\n",
       "       'c38a5c9b', 'c3a3f61e', 'c3a86e3e', 'c3adae87', 'c3d46daf'],\n",
       "      dtype=object)"
      ]
     },
     "execution_count": 19,
     "metadata": {},
     "output_type": "execute_result"
    }
   ],
   "source": [
    "series_ids = series_ids[570:760]\n",
    "#series_ids = series_ids[0:2]\n",
    "series_ids"
   ]
  },
  {
   "cell_type": "code",
   "execution_count": 20,
   "id": "40bbe9a7",
   "metadata": {
    "execution": {
     "iopub.execute_input": "2024-11-24T00:04:11.451282Z",
     "iopub.status.busy": "2024-11-24T00:04:11.450985Z",
     "iopub.status.idle": "2024-11-24T00:04:11.480569Z",
     "shell.execute_reply": "2024-11-24T00:04:11.479405Z"
    },
    "papermill": {
     "duration": 0.040704,
     "end_time": "2024-11-24T00:04:11.483332",
     "exception": false,
     "start_time": "2024-11-24T00:04:11.442628",
     "status": "completed"
    },
    "tags": []
   },
   "outputs": [],
   "source": [
    "import json\n",
    "import gc\n",
    "import matplotlib.pyplot as plt\n",
    "from pathlib import Path\n",
    "from tqdm import tqdm\n",
    "import numpy as np  # Ensure np is imported for handling int64 types\n",
    "\n",
    "def process_and_plot(series_ids, images_folder):\n",
    "    \n",
    "    # Initialize main lists to hold all data\n",
    "    window_properties = []\n",
    "    all_events = []\n",
    "    \n",
    "    # Batch tracking lists\n",
    "    batch_size = 50  # Adjust batch size to your memory constraints\n",
    "    batch_window_properties = []\n",
    "    batch_all_events = []\n",
    "    \n",
    "    # Files for saving batches of data\n",
    "    window_properties_batch_file = images_folder / \"window_properties.json\"\n",
    "    all_events_batch_file = images_folder / \"all_events.json\"\n",
    "\n",
    "    # Create files if they don't exist\n",
    "    window_properties_batch_file.touch(exist_ok=True)\n",
    "    all_events_batch_file.touch(exist_ok=True)\n",
    "\n",
    "    # Process the series_ids\n",
    "    for idx in tqdm(series_ids):\n",
    "        \n",
    "        filtered_data = feat_eng_by_id(idx)\n",
    "\n",
    "        series = filtered_data.reset_index(drop=True)\n",
    "        series['color'] = [\"blue\" if large_enmo else \"green\" for large_enmo in series['large_enmo']]\n",
    "        series['timestamp'] = pd.to_datetime(series['timestamp'])\n",
    "        series['timestamp'] = series['timestamp'].apply(lambda x: x if x.tzinfo is not None else x.tz_localize('UTC'))\n",
    "        series['timestamp_utc'] = series['timestamp'].map(lambda timestamp: timestamp.astimezone(timezone.utc))\n",
    "        series['anglez_radians'] = (np.pi / 180) * series['anglez']\n",
    "        series['cos_anglez'] = np.cos(series['anglez_radians'])\n",
    "        series['enmo'] = np.clip(series['enmo'], 0, 1)\n",
    "        min_date_utc = series['timestamp_utc'].dt.date.min()\n",
    "        max_date_utc = series['timestamp_utc'].dt.date.max()\n",
    "        \n",
    "        series_24_hour_windows = {}\n",
    "        upper_bound = datetime(year=min_date_utc.year, month=min_date_utc.month, day=min_date_utc.day, hour=20, minute=30, tzinfo=timezone.utc)\n",
    "        lower_bound = upper_bound + timedelta(hours=-24) # 8:30pm UTC on the previous day.\n",
    "        while lower_bound < series['timestamp_utc'].max():\n",
    "            window_df = series.loc[(series['timestamp_utc'] >= lower_bound) & (series['timestamp_utc'] < upper_bound)].reset_index(drop=True)\n",
    "            if len(window_df) > 0:\n",
    "                series_24_hour_windows[upper_bound.isoformat()[:-6]] = window_df\n",
    "            upper_bound += timedelta(hours=24)\n",
    "            lower_bound += timedelta(hours=24)\n",
    "        \n",
    "        windows = list(series_24_hour_windows.keys())\n",
    "        num_steps_cumulative = 0\n",
    "        \n",
    "        for window_idx, window in enumerate(windows):\n",
    "            \n",
    "             if (series_24_hour_windows[window]['non-wear_flag'].mean()<0.5) & (len(series_24_hour_windows[window]) == 17280): \n",
    "\n",
    "                day = series_24_hour_windows[window]['which_day'].iloc[0]\n",
    "                 \n",
    "                fig = plt.figure(figsize=(14.4, 4))  # (width, height) in inches\n",
    "                #plt.plot(series_24_hour_windows[window]['timestamp_utc'], series_24_hour_windows[window]['cos_anglez'], color=\"red\")\n",
    "                plt.plot(series_24_hour_windows[window]['timestamp_utc'],\n",
    "                             series_24_hour_windows[window]['anglezdiffabs_median_60_norm'],\n",
    "                             color=\"red\")\n",
    "                plt.scatter(\n",
    "                        series_24_hour_windows[window]['timestamp_utc'], \n",
    "                        series_24_hour_windows[window]['enmo'], \n",
    "                        color=series_24_hour_windows[window]['color'], \n",
    "                        s=1\n",
    "                    )\n",
    "                plt.scatter(series_24_hour_windows[window]['timestamp_utc'], series_24_hour_windows[window]['non-wear_flag'], label='non_wear_flag', color='red', alpha=0.7, s=10)\n",
    "        \n",
    "                plt.fill_between(series_24_hour_windows[window]['timestamp_utc'],\n",
    "                                 0, max(1,series_24_hour_windows[window]['anglezdiffabs_median_60_norm'].max()), \n",
    "                                 where=(series_24_hour_windows[window]['non-wear_flag'] == 1), \n",
    "                                 color='red', alpha=0.1, label='Day Period')\n",
    "                 \n",
    "                plt.fill_between(series_24_hour_windows[window]['timestamp_utc'],\n",
    "                                 0, max(1,series_24_hour_windows[window]['anglezdiffabs_median_60_norm'].max()), \n",
    "                                 where=(series_24_hour_windows[window]['day_period_b'] == 1), \n",
    "                                 color='blue', alpha=0.1, label='Day Period')\n",
    "                ax = plt.gca()\n",
    "                ax.spines['top'].set_visible(False)\n",
    "                ax.spines['right'].set_visible(False)\n",
    "                ax.spines['bottom'].set_visible(False)\n",
    "                ax.spines['left'].set_visible(False)\n",
    "                ax.set_xticks([])\n",
    "                ax.set_yticks([])\n",
    "                plt.margins(0, 0)\n",
    "                plt.subplots_adjust(left=0, right=1, top=1, bottom=0)\n",
    "        \n",
    "                # Save image to images_folder\n",
    "                image_path = images_folder / f\"{idx}_{day}.jpg\"\n",
    "                plt.savefig(image_path, dpi=150, bbox_inches=\"tight\", pad_inches=0)\n",
    "                plt.close(fig)\n",
    "\n",
    "                # Store data for batch, safely converting where necessary\n",
    "                window_properties_item = {\n",
    "                        'series_id': str(idx),  # Ensure series_id is stored as string\n",
    "                        'image_name': f\"{idx}_{day}.jpg\", \n",
    "                        'idx_in_series': int(day)  # Convert 'day' to int if it's a number\n",
    "                    }\n",
    "                window_properties.append(window_properties_item)\n",
    "                batch_window_properties.append(window_properties_item)  # Add to batch\n",
    "\n",
    "                # Add to all_events batch\n",
    "                sii_label = df.loc[df['id'] == idx, 'sii'].values.item()\n",
    "\n",
    "                # Ensure sii_label is numeric before converting to int\n",
    "                if isinstance(sii_label, (int, np.integer)):\n",
    "                    sii_label = int(sii_label)\n",
    "                else:\n",
    "                    sii_label = str(sii_label)  # If it's a string, store it as string\n",
    "\n",
    "                all_events_item = {'series_id': str(idx), 'image_name': f\"{idx}_{day}.jpg\", 'label': sii_label}\n",
    "                all_events.append(all_events_item)\n",
    "                batch_all_events.append(all_events_item)  # Add to batch\n",
    "\n",
    "                # Save in batches when batch size is reached\n",
    "                if len(batch_window_properties) >= batch_size:\n",
    "                    # Save window_properties batch to JSON file\n",
    "                    with open(window_properties_batch_file, \"a\") as f:\n",
    "                        json.dump(batch_window_properties, f, indent=4)\n",
    "                    batch_window_properties.clear()  # Clear the batch\n",
    "\n",
    "                    # Save all_events batch to JSON file\n",
    "                    with open(all_events_batch_file, \"a\") as f:\n",
    "                        json.dump(batch_all_events, f, indent=4)\n",
    "                    batch_all_events.clear()  # Clear the batch\n",
    "\n",
    "                gc.collect()  # Clean up memory after each batch\n",
    "\n",
    "    # After the loop, save any remaining data if the final batch wasn't full\n",
    "    if batch_window_properties:\n",
    "        with open(window_properties_batch_file, \"a\") as f:\n",
    "            json.dump(batch_window_properties, f, indent=4)\n",
    "    if batch_all_events:\n",
    "        with open(all_events_batch_file, \"a\") as f:\n",
    "            json.dump(batch_all_events, f, indent=4)\n",
    "\n"
   ]
  },
  {
   "cell_type": "code",
   "execution_count": 21,
   "id": "f12029af",
   "metadata": {
    "execution": {
     "iopub.execute_input": "2024-11-24T00:04:11.509447Z",
     "iopub.status.busy": "2024-11-24T00:04:11.509098Z",
     "iopub.status.idle": "2024-11-24T03:05:31.249070Z",
     "shell.execute_reply": "2024-11-24T03:05:31.247851Z"
    },
    "papermill": {
     "duration": 10879.754486,
     "end_time": "2024-11-24T03:05:31.251492",
     "exception": false,
     "start_time": "2024-11-24T00:04:11.497006",
     "status": "completed"
    },
    "tags": []
   },
   "outputs": [
    {
     "name": "stderr",
     "output_type": "stream",
     "text": [
      "100%|██████████| 190/190 [3:01:19<00:00, 57.26s/it]\n"
     ]
    }
   ],
   "source": [
    "process_and_plot(series_ids,images_folder)"
   ]
  },
  {
   "cell_type": "code",
   "execution_count": 22,
   "id": "c29b1966",
   "metadata": {
    "execution": {
     "iopub.execute_input": "2024-11-24T03:05:31.288713Z",
     "iopub.status.busy": "2024-11-24T03:05:31.288334Z",
     "iopub.status.idle": "2024-11-24T03:05:31.293319Z",
     "shell.execute_reply": "2024-11-24T03:05:31.292166Z"
    },
    "papermill": {
     "duration": 0.026116,
     "end_time": "2024-11-24T03:05:31.295303",
     "exception": false,
     "start_time": "2024-11-24T03:05:31.269187",
     "status": "completed"
    },
    "tags": []
   },
   "outputs": [],
   "source": [
    "import glob"
   ]
  },
  {
   "cell_type": "code",
   "execution_count": 23,
   "id": "848339fd",
   "metadata": {
    "execution": {
     "iopub.execute_input": "2024-11-24T03:05:31.331662Z",
     "iopub.status.busy": "2024-11-24T03:05:31.331302Z",
     "iopub.status.idle": "2024-11-24T03:05:31.337980Z",
     "shell.execute_reply": "2024-11-24T03:05:31.336941Z"
    },
    "papermill": {
     "duration": 0.027254,
     "end_time": "2024-11-24T03:05:31.339883",
     "exception": false,
     "start_time": "2024-11-24T03:05:31.312629",
     "status": "completed"
    },
    "tags": []
   },
   "outputs": [],
   "source": [
    "def load_all_data_from_batches(directory_path, file_prefix):\n",
    "    all_data = []\n",
    "    \n",
    "    # Get all filenames matching the prefix and pattern\n",
    "    batch_files = glob.glob(f\"{directory_path}/{file_prefix}*.json\")\n",
    "    \n",
    "    for batch_file in batch_files:\n",
    "        with open(batch_file, 'r') as f:\n",
    "            try:\n",
    "                data = json.load(f)\n",
    "                all_data.extend(data)  # Append data from this batch to the overall list\n",
    "            except json.JSONDecodeError as e:\n",
    "                print(f\"Error loading {batch_file}: {e}\")\n",
    "    \n",
    "    return all_data\n",
    "    "
   ]
  },
  {
   "cell_type": "code",
   "execution_count": 24,
   "id": "5d22367b",
   "metadata": {
    "execution": {
     "iopub.execute_input": "2024-11-24T03:05:31.377622Z",
     "iopub.status.busy": "2024-11-24T03:05:31.377196Z",
     "iopub.status.idle": "2024-11-24T03:05:31.393565Z",
     "shell.execute_reply": "2024-11-24T03:05:31.392563Z"
    },
    "papermill": {
     "duration": 0.036986,
     "end_time": "2024-11-24T03:05:31.395622",
     "exception": false,
     "start_time": "2024-11-24T03:05:31.358636",
     "status": "completed"
    },
    "tags": []
   },
   "outputs": [
    {
     "name": "stdout",
     "output_type": "stream",
     "text": [
      "Successfully loaded /kaggle/working/imagesandannotations/window_properties.json!\n",
      "Successfully loaded /kaggle/working/imagesandannotations/all_events.json!\n",
      "Sample from window_properties:\n",
      "[{'series_id': '9402b885', 'image_name': '9402b885_2.jpg', 'idx_in_series': 2}, {'series_id': '9402b885', 'image_name': '9402b885_3.jpg', 'idx_in_series': 3}, {'series_id': '9402b885', 'image_name': '9402b885_4.jpg', 'idx_in_series': 4}]\n",
      "\n",
      "Sample from all_events:\n",
      "[{'series_id': '9402b885', 'image_name': '9402b885_2.jpg', 'label': '0.0'}, {'series_id': '9402b885', 'image_name': '9402b885_3.jpg', 'label': '0.0'}, {'series_id': '9402b885', 'image_name': '9402b885_4.jpg', 'label': '0.0'}]\n"
     ]
    }
   ],
   "source": [
    "# Path to your JSON files\n",
    "window_properties_path = '/kaggle/working/imagesandannotations/window_properties.json'\n",
    "all_events_path = '/kaggle/working/imagesandannotations/all_events.json'\n",
    "\n",
    "# Function to load and fix the JSON files if needed\n",
    "def load_json_file(file_path):\n",
    "    with open(file_path, 'r') as file:\n",
    "        content = file.read()\n",
    "\n",
    "    # Remove any invalid '][' and ensure the content is wrapped in square brackets\n",
    "    fixed_content = content.replace(\"][\", \",\")  # Fix '][' by replacing with a comma\n",
    "\n",
    "    # Wrap content in square brackets if it's not already\n",
    "    if not fixed_content.startswith('['):\n",
    "        fixed_content = f\"[{fixed_content}\"\n",
    "    if not fixed_content.endswith(']'):\n",
    "        fixed_content = f\"{fixed_content}]\"\n",
    "\n",
    "    # Try to load the corrected content\n",
    "    try:\n",
    "        data = json.loads(fixed_content)\n",
    "        print(f\"Successfully loaded {file_path}!\")\n",
    "        return data\n",
    "    except json.JSONDecodeError as e:\n",
    "        print(f\"Error decoding JSON in {file_path}: {e}\")\n",
    "        return None\n",
    "\n",
    "# Load both files\n",
    "window_properties_data = load_json_file(window_properties_path)\n",
    "all_events_data = load_json_file(all_events_path)\n",
    "\n",
    "# Print a sample from each to confirm the data is loaded correctly\n",
    "print(\"Sample from window_properties:\")\n",
    "print(window_properties_data[:3])  # Show the first 3 items as a sample\n",
    "\n",
    "print(\"\\nSample from all_events:\")\n",
    "print(all_events_data[:3])  # Show the first 3 items as a sample"
   ]
  },
  {
   "cell_type": "code",
   "execution_count": 25,
   "id": "b8991066",
   "metadata": {
    "execution": {
     "iopub.execute_input": "2024-11-24T03:05:31.433115Z",
     "iopub.status.busy": "2024-11-24T03:05:31.432708Z",
     "iopub.status.idle": "2024-11-24T03:05:31.446813Z",
     "shell.execute_reply": "2024-11-24T03:05:31.445807Z"
    },
    "papermill": {
     "duration": 0.035795,
     "end_time": "2024-11-24T03:05:31.449211",
     "exception": false,
     "start_time": "2024-11-24T03:05:31.413416",
     "status": "completed"
    },
    "tags": []
   },
   "outputs": [
    {
     "data": {
      "text/html": [
       "<div>\n",
       "<style scoped>\n",
       "    .dataframe tbody tr th:only-of-type {\n",
       "        vertical-align: middle;\n",
       "    }\n",
       "\n",
       "    .dataframe tbody tr th {\n",
       "        vertical-align: top;\n",
       "    }\n",
       "\n",
       "    .dataframe thead th {\n",
       "        text-align: right;\n",
       "    }\n",
       "</style>\n",
       "<table border=\"1\" class=\"dataframe\">\n",
       "  <thead>\n",
       "    <tr style=\"text-align: right;\">\n",
       "      <th></th>\n",
       "      <th>series_id</th>\n",
       "      <th>image_name</th>\n",
       "      <th>idx_in_series</th>\n",
       "    </tr>\n",
       "  </thead>\n",
       "  <tbody>\n",
       "    <tr>\n",
       "      <th>0</th>\n",
       "      <td>9402b885</td>\n",
       "      <td>9402b885_2.jpg</td>\n",
       "      <td>2</td>\n",
       "    </tr>\n",
       "    <tr>\n",
       "      <th>1</th>\n",
       "      <td>9402b885</td>\n",
       "      <td>9402b885_3.jpg</td>\n",
       "      <td>3</td>\n",
       "    </tr>\n",
       "    <tr>\n",
       "      <th>2</th>\n",
       "      <td>9402b885</td>\n",
       "      <td>9402b885_4.jpg</td>\n",
       "      <td>4</td>\n",
       "    </tr>\n",
       "    <tr>\n",
       "      <th>3</th>\n",
       "      <td>9402b885</td>\n",
       "      <td>9402b885_5.jpg</td>\n",
       "      <td>5</td>\n",
       "    </tr>\n",
       "    <tr>\n",
       "      <th>4</th>\n",
       "      <td>9402b885</td>\n",
       "      <td>9402b885_6.jpg</td>\n",
       "      <td>6</td>\n",
       "    </tr>\n",
       "  </tbody>\n",
       "</table>\n",
       "</div>"
      ],
      "text/plain": [
       "  series_id      image_name  idx_in_series\n",
       "0  9402b885  9402b885_2.jpg              2\n",
       "1  9402b885  9402b885_3.jpg              3\n",
       "2  9402b885  9402b885_4.jpg              4\n",
       "3  9402b885  9402b885_5.jpg              5\n",
       "4  9402b885  9402b885_6.jpg              6"
      ]
     },
     "execution_count": 25,
     "metadata": {},
     "output_type": "execute_result"
    }
   ],
   "source": [
    "window_properties_df = pd.DataFrame(window_properties_data)\n",
    "window_properties_df.head(5)"
   ]
  },
  {
   "cell_type": "code",
   "execution_count": 26,
   "id": "e83d5ae4",
   "metadata": {
    "execution": {
     "iopub.execute_input": "2024-11-24T03:05:31.487040Z",
     "iopub.status.busy": "2024-11-24T03:05:31.486106Z",
     "iopub.status.idle": "2024-11-24T03:05:31.500971Z",
     "shell.execute_reply": "2024-11-24T03:05:31.499910Z"
    },
    "papermill": {
     "duration": 0.035973,
     "end_time": "2024-11-24T03:05:31.503019",
     "exception": false,
     "start_time": "2024-11-24T03:05:31.467046",
     "status": "completed"
    },
    "tags": []
   },
   "outputs": [
    {
     "data": {
      "text/html": [
       "<div>\n",
       "<style scoped>\n",
       "    .dataframe tbody tr th:only-of-type {\n",
       "        vertical-align: middle;\n",
       "    }\n",
       "\n",
       "    .dataframe tbody tr th {\n",
       "        vertical-align: top;\n",
       "    }\n",
       "\n",
       "    .dataframe thead th {\n",
       "        text-align: right;\n",
       "    }\n",
       "</style>\n",
       "<table border=\"1\" class=\"dataframe\">\n",
       "  <thead>\n",
       "    <tr style=\"text-align: right;\">\n",
       "      <th></th>\n",
       "      <th>series_id</th>\n",
       "      <th>image_name</th>\n",
       "      <th>label</th>\n",
       "    </tr>\n",
       "  </thead>\n",
       "  <tbody>\n",
       "    <tr>\n",
       "      <th>0</th>\n",
       "      <td>9402b885</td>\n",
       "      <td>9402b885_2.jpg</td>\n",
       "      <td>0.0</td>\n",
       "    </tr>\n",
       "    <tr>\n",
       "      <th>1</th>\n",
       "      <td>9402b885</td>\n",
       "      <td>9402b885_3.jpg</td>\n",
       "      <td>0.0</td>\n",
       "    </tr>\n",
       "    <tr>\n",
       "      <th>2</th>\n",
       "      <td>9402b885</td>\n",
       "      <td>9402b885_4.jpg</td>\n",
       "      <td>0.0</td>\n",
       "    </tr>\n",
       "    <tr>\n",
       "      <th>3</th>\n",
       "      <td>9402b885</td>\n",
       "      <td>9402b885_5.jpg</td>\n",
       "      <td>0.0</td>\n",
       "    </tr>\n",
       "    <tr>\n",
       "      <th>4</th>\n",
       "      <td>9402b885</td>\n",
       "      <td>9402b885_6.jpg</td>\n",
       "      <td>0.0</td>\n",
       "    </tr>\n",
       "  </tbody>\n",
       "</table>\n",
       "</div>"
      ],
      "text/plain": [
       "  series_id      image_name label\n",
       "0  9402b885  9402b885_2.jpg   0.0\n",
       "1  9402b885  9402b885_3.jpg   0.0\n",
       "2  9402b885  9402b885_4.jpg   0.0\n",
       "3  9402b885  9402b885_5.jpg   0.0\n",
       "4  9402b885  9402b885_6.jpg   0.0"
      ]
     },
     "execution_count": 26,
     "metadata": {},
     "output_type": "execute_result"
    }
   ],
   "source": [
    "annotations_df = pd.DataFrame(all_events_data)\n",
    "annotations_df.head(5)"
   ]
  }
 ],
 "metadata": {
  "kaggle": {
   "accelerator": "none",
   "dataSources": [
    {
     "databundleVersionId": 9643020,
     "sourceId": 81933,
     "sourceType": "competition"
    },
    {
     "datasetId": 6047696,
     "sourceId": 9925531,
     "sourceType": "datasetVersion"
    }
   ],
   "isGpuEnabled": false,
   "isInternetEnabled": true,
   "language": "python",
   "sourceType": "notebook"
  },
  "kernelspec": {
   "display_name": "Python 3",
   "language": "python",
   "name": "python3"
  },
  "language_info": {
   "codemirror_mode": {
    "name": "ipython",
    "version": 3
   },
   "file_extension": ".py",
   "mimetype": "text/x-python",
   "name": "python",
   "nbconvert_exporter": "python",
   "pygments_lexer": "ipython3",
   "version": "3.10.14"
  },
  "papermill": {
   "default_parameters": {},
   "duration": 10893.832879,
   "end_time": "2024-11-24T03:05:36.251422",
   "environment_variables": {},
   "exception": null,
   "input_path": "__notebook__.ipynb",
   "output_path": "__notebook__.ipynb",
   "parameters": {},
   "start_time": "2024-11-24T00:04:02.418543",
   "version": "2.6.0"
  },
  "widgets": {
   "application/vnd.jupyter.widget-state+json": {
    "state": {
     "222129ad9af8471e93617f18034347fd": {
      "model_module": "@jupyter-widgets/base",
      "model_module_version": "1.2.0",
      "model_name": "LayoutModel",
      "state": {
       "_model_module": "@jupyter-widgets/base",
       "_model_module_version": "1.2.0",
       "_model_name": "LayoutModel",
       "_view_count": null,
       "_view_module": "@jupyter-widgets/base",
       "_view_module_version": "1.2.0",
       "_view_name": "LayoutView",
       "align_content": null,
       "align_items": null,
       "align_self": null,
       "border": null,
       "bottom": null,
       "display": null,
       "flex": null,
       "flex_flow": null,
       "grid_area": null,
       "grid_auto_columns": null,
       "grid_auto_flow": null,
       "grid_auto_rows": null,
       "grid_column": null,
       "grid_gap": null,
       "grid_row": null,
       "grid_template_areas": null,
       "grid_template_columns": null,
       "grid_template_rows": null,
       "height": null,
       "justify_content": null,
       "justify_items": null,
       "left": null,
       "margin": null,
       "max_height": null,
       "max_width": null,
       "min_height": null,
       "min_width": null,
       "object_fit": null,
       "object_position": null,
       "order": null,
       "overflow": null,
       "overflow_x": null,
       "overflow_y": null,
       "padding": null,
       "right": null,
       "top": null,
       "visibility": null,
       "width": null
      }
     },
     "48b35b9ca0dd45d3be8be5cdbcf4acc5": {
      "model_module": "@jupyter-widgets/controls",
      "model_module_version": "1.5.0",
      "model_name": "HTMLModel",
      "state": {
       "_dom_classes": [],
       "_model_module": "@jupyter-widgets/controls",
       "_model_module_version": "1.5.0",
       "_model_name": "HTMLModel",
       "_view_count": null,
       "_view_module": "@jupyter-widgets/controls",
       "_view_module_version": "1.5.0",
       "_view_name": "HTMLView",
       "description": "",
       "description_tooltip": null,
       "layout": "IPY_MODEL_59f0bb7629984b88801d8703b0b71bff",
       "placeholder": "​",
       "style": "IPY_MODEL_7940e2eb793d43a08647499c03f0ffb6",
       "value": "100%"
      }
     },
     "59f0bb7629984b88801d8703b0b71bff": {
      "model_module": "@jupyter-widgets/base",
      "model_module_version": "1.2.0",
      "model_name": "LayoutModel",
      "state": {
       "_model_module": "@jupyter-widgets/base",
       "_model_module_version": "1.2.0",
       "_model_name": "LayoutModel",
       "_view_count": null,
       "_view_module": "@jupyter-widgets/base",
       "_view_module_version": "1.2.0",
       "_view_name": "LayoutView",
       "align_content": null,
       "align_items": null,
       "align_self": null,
       "border": null,
       "bottom": null,
       "display": null,
       "flex": null,
       "flex_flow": null,
       "grid_area": null,
       "grid_auto_columns": null,
       "grid_auto_flow": null,
       "grid_auto_rows": null,
       "grid_column": null,
       "grid_gap": null,
       "grid_row": null,
       "grid_template_areas": null,
       "grid_template_columns": null,
       "grid_template_rows": null,
       "height": null,
       "justify_content": null,
       "justify_items": null,
       "left": null,
       "margin": null,
       "max_height": null,
       "max_width": null,
       "min_height": null,
       "min_width": null,
       "object_fit": null,
       "object_position": null,
       "order": null,
       "overflow": null,
       "overflow_x": null,
       "overflow_y": null,
       "padding": null,
       "right": null,
       "top": null,
       "visibility": null,
       "width": null
      }
     },
     "5cf57c1774e845fcaf0a8ffec35e7c34": {
      "model_module": "@jupyter-widgets/controls",
      "model_module_version": "1.5.0",
      "model_name": "ProgressStyleModel",
      "state": {
       "_model_module": "@jupyter-widgets/controls",
       "_model_module_version": "1.5.0",
       "_model_name": "ProgressStyleModel",
       "_view_count": null,
       "_view_module": "@jupyter-widgets/base",
       "_view_module_version": "1.2.0",
       "_view_name": "StyleView",
       "bar_color": null,
       "description_width": ""
      }
     },
     "7940e2eb793d43a08647499c03f0ffb6": {
      "model_module": "@jupyter-widgets/controls",
      "model_module_version": "1.5.0",
      "model_name": "DescriptionStyleModel",
      "state": {
       "_model_module": "@jupyter-widgets/controls",
       "_model_module_version": "1.5.0",
       "_model_name": "DescriptionStyleModel",
       "_view_count": null,
       "_view_module": "@jupyter-widgets/base",
       "_view_module_version": "1.2.0",
       "_view_name": "StyleView",
       "description_width": ""
      }
     },
     "883f6742961f4dd8bd032ac0f9b8d9c3": {
      "model_module": "@jupyter-widgets/controls",
      "model_module_version": "1.5.0",
      "model_name": "DescriptionStyleModel",
      "state": {
       "_model_module": "@jupyter-widgets/controls",
       "_model_module_version": "1.5.0",
       "_model_name": "DescriptionStyleModel",
       "_view_count": null,
       "_view_module": "@jupyter-widgets/base",
       "_view_module_version": "1.2.0",
       "_view_name": "StyleView",
       "description_width": ""
      }
     },
     "9dfd4fe4f865422588ae69639724b02f": {
      "model_module": "@jupyter-widgets/controls",
      "model_module_version": "1.5.0",
      "model_name": "FloatProgressModel",
      "state": {
       "_dom_classes": [],
       "_model_module": "@jupyter-widgets/controls",
       "_model_module_version": "1.5.0",
       "_model_name": "FloatProgressModel",
       "_view_count": null,
       "_view_module": "@jupyter-widgets/controls",
       "_view_module_version": "1.5.0",
       "_view_name": "ProgressView",
       "bar_style": "success",
       "description": "",
       "description_tooltip": null,
       "layout": "IPY_MODEL_f3fc22d8c1f04869a2eb0b6597a82a07",
       "max": 2.0,
       "min": 0.0,
       "orientation": "horizontal",
       "style": "IPY_MODEL_5cf57c1774e845fcaf0a8ffec35e7c34",
       "value": 2.0
      }
     },
     "cd9ac1b356304db1bf4d3503ed573855": {
      "model_module": "@jupyter-widgets/base",
      "model_module_version": "1.2.0",
      "model_name": "LayoutModel",
      "state": {
       "_model_module": "@jupyter-widgets/base",
       "_model_module_version": "1.2.0",
       "_model_name": "LayoutModel",
       "_view_count": null,
       "_view_module": "@jupyter-widgets/base",
       "_view_module_version": "1.2.0",
       "_view_name": "LayoutView",
       "align_content": null,
       "align_items": null,
       "align_self": null,
       "border": null,
       "bottom": null,
       "display": null,
       "flex": null,
       "flex_flow": null,
       "grid_area": null,
       "grid_auto_columns": null,
       "grid_auto_flow": null,
       "grid_auto_rows": null,
       "grid_column": null,
       "grid_gap": null,
       "grid_row": null,
       "grid_template_areas": null,
       "grid_template_columns": null,
       "grid_template_rows": null,
       "height": null,
       "justify_content": null,
       "justify_items": null,
       "left": null,
       "margin": null,
       "max_height": null,
       "max_width": null,
       "min_height": null,
       "min_width": null,
       "object_fit": null,
       "object_position": null,
       "order": null,
       "overflow": null,
       "overflow_x": null,
       "overflow_y": null,
       "padding": null,
       "right": null,
       "top": null,
       "visibility": null,
       "width": null
      }
     },
     "da6b2a79b83a459c8a23d8378bd4214c": {
      "model_module": "@jupyter-widgets/controls",
      "model_module_version": "1.5.0",
      "model_name": "HBoxModel",
      "state": {
       "_dom_classes": [],
       "_model_module": "@jupyter-widgets/controls",
       "_model_module_version": "1.5.0",
       "_model_name": "HBoxModel",
       "_view_count": null,
       "_view_module": "@jupyter-widgets/controls",
       "_view_module_version": "1.5.0",
       "_view_name": "HBoxView",
       "box_style": "",
       "children": [
        "IPY_MODEL_48b35b9ca0dd45d3be8be5cdbcf4acc5",
        "IPY_MODEL_9dfd4fe4f865422588ae69639724b02f",
        "IPY_MODEL_deb00887285246f6b4de406be1261bf7"
       ],
       "layout": "IPY_MODEL_222129ad9af8471e93617f18034347fd"
      }
     },
     "deb00887285246f6b4de406be1261bf7": {
      "model_module": "@jupyter-widgets/controls",
      "model_module_version": "1.5.0",
      "model_name": "HTMLModel",
      "state": {
       "_dom_classes": [],
       "_model_module": "@jupyter-widgets/controls",
       "_model_module_version": "1.5.0",
       "_model_name": "HTMLModel",
       "_view_count": null,
       "_view_module": "@jupyter-widgets/controls",
       "_view_module_version": "1.5.0",
       "_view_name": "HTMLView",
       "description": "",
       "description_tooltip": null,
       "layout": "IPY_MODEL_cd9ac1b356304db1bf4d3503ed573855",
       "placeholder": "​",
       "style": "IPY_MODEL_883f6742961f4dd8bd032ac0f9b8d9c3",
       "value": " 2/2 [00:00&lt;00:00,  4.65it/s]"
      }
     },
     "f3fc22d8c1f04869a2eb0b6597a82a07": {
      "model_module": "@jupyter-widgets/base",
      "model_module_version": "1.2.0",
      "model_name": "LayoutModel",
      "state": {
       "_model_module": "@jupyter-widgets/base",
       "_model_module_version": "1.2.0",
       "_model_name": "LayoutModel",
       "_view_count": null,
       "_view_module": "@jupyter-widgets/base",
       "_view_module_version": "1.2.0",
       "_view_name": "LayoutView",
       "align_content": null,
       "align_items": null,
       "align_self": null,
       "border": null,
       "bottom": null,
       "display": null,
       "flex": null,
       "flex_flow": null,
       "grid_area": null,
       "grid_auto_columns": null,
       "grid_auto_flow": null,
       "grid_auto_rows": null,
       "grid_column": null,
       "grid_gap": null,
       "grid_row": null,
       "grid_template_areas": null,
       "grid_template_columns": null,
       "grid_template_rows": null,
       "height": null,
       "justify_content": null,
       "justify_items": null,
       "left": null,
       "margin": null,
       "max_height": null,
       "max_width": null,
       "min_height": null,
       "min_width": null,
       "object_fit": null,
       "object_position": null,
       "order": null,
       "overflow": null,
       "overflow_x": null,
       "overflow_y": null,
       "padding": null,
       "right": null,
       "top": null,
       "visibility": null,
       "width": null
      }
     }
    },
    "version_major": 2,
    "version_minor": 0
   }
  }
 },
 "nbformat": 4,
 "nbformat_minor": 5
}

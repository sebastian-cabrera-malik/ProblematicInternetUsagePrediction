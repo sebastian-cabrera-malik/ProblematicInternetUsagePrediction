{
 "cells": [
  {
   "cell_type": "code",
   "execution_count": 1,
   "id": "f718b57f",
   "metadata": {
    "_cell_guid": "b1076dfc-b9ad-4769-8c92-a6c4dae69d19",
    "_uuid": "8f2839f25d086af736a60e9eeb907d3b93b6e0e5",
    "execution": {
     "iopub.execute_input": "2024-12-04T20:40:28.448770Z",
     "iopub.status.busy": "2024-12-04T20:40:28.448203Z",
     "iopub.status.idle": "2024-12-04T20:40:31.171051Z",
     "shell.execute_reply": "2024-12-04T20:40:31.169827Z"
    },
    "papermill": {
     "duration": 2.736362,
     "end_time": "2024-12-04T20:40:31.173724",
     "exception": false,
     "start_time": "2024-12-04T20:40:28.437362",
     "status": "completed"
    },
    "tags": []
   },
   "outputs": [],
   "source": [
    "### import gc\n",
    "import pandas as pd\n",
    "import numpy as np\n",
    "import datetime as dt\n",
    "\n",
    "import matplotlib.pyplot as plt\n",
    "import matplotlib.cm as cm\n",
    "import seaborn as sns\n",
    "\n",
    "# 🚫 Suppressing warnings 🚫\n",
    "import warnings\n",
    "warnings.filterwarnings('ignore')"
   ]
  },
  {
   "cell_type": "code",
   "execution_count": 2,
   "id": "934f8bd4",
   "metadata": {
    "execution": {
     "iopub.execute_input": "2024-12-04T20:40:31.189782Z",
     "iopub.status.busy": "2024-12-04T20:40:31.189228Z",
     "iopub.status.idle": "2024-12-04T20:40:31.800777Z",
     "shell.execute_reply": "2024-12-04T20:40:31.799733Z"
    },
    "papermill": {
     "duration": 0.622067,
     "end_time": "2024-12-04T20:40:31.803097",
     "exception": false,
     "start_time": "2024-12-04T20:40:31.181030",
     "status": "completed"
    },
    "tags": []
   },
   "outputs": [],
   "source": [
    "import numpy as np\n",
    "import pandas as pd\n",
    "from sklearn.metrics import cohen_kappa_score, make_scorer, confusion_matrix\n",
    "from sklearn.model_selection import StratifiedKFold, cross_val_score\n",
    "from sklearn.pipeline import Pipeline\n",
    "from sklearn.impute import SimpleImputer\n",
    "from sklearn.preprocessing import StandardScaler, OneHotEncoder\n",
    "from sklearn.compose import ColumnTransformer\n",
    "from sklearn.linear_model import LogisticRegression\n",
    "from sklearn.tree import DecisionTreeClassifier\n",
    "from sklearn.ensemble import RandomForestClassifier\n",
    "from sklearn.neural_network import MLPClassifier\n",
    "import seaborn as sns\n",
    "import matplotlib.pyplot as plt\n",
    "from scipy.optimize import minimize\n",
    "from sklearn.model_selection import train_test_split"
   ]
  },
  {
   "cell_type": "code",
   "execution_count": 3,
   "id": "1ac4e54b",
   "metadata": {
    "execution": {
     "iopub.execute_input": "2024-12-04T20:40:31.819961Z",
     "iopub.status.busy": "2024-12-04T20:40:31.819563Z",
     "iopub.status.idle": "2024-12-04T20:40:31.835555Z",
     "shell.execute_reply": "2024-12-04T20:40:31.834390Z"
    },
    "papermill": {
     "duration": 0.026566,
     "end_time": "2024-12-04T20:40:31.838025",
     "exception": false,
     "start_time": "2024-12-04T20:40:31.811459",
     "status": "completed"
    },
    "tags": []
   },
   "outputs": [],
   "source": [
    "import os\n",
    "from tqdm.auto import tqdm \n",
    "from concurrent.futures import ThreadPoolExecutor\n",
    "from joblib import Parallel, delayed\n",
    "from time import sleep, time\n",
    "from multiprocessing import cpu_count\n",
    "from sklearn.preprocessing import MinMaxScaler\n",
    "import concurrent.futures"
   ]
  },
  {
   "cell_type": "code",
   "execution_count": 4,
   "id": "d10c52e3",
   "metadata": {
    "execution": {
     "iopub.execute_input": "2024-12-04T20:40:31.854204Z",
     "iopub.status.busy": "2024-12-04T20:40:31.853330Z",
     "iopub.status.idle": "2024-12-04T20:40:31.943830Z",
     "shell.execute_reply": "2024-12-04T20:40:31.942679Z"
    },
    "papermill": {
     "duration": 0.101265,
     "end_time": "2024-12-04T20:40:31.946351",
     "exception": false,
     "start_time": "2024-12-04T20:40:31.845086",
     "status": "completed"
    },
    "tags": []
   },
   "outputs": [
    {
     "data": {
      "text/plain": [
       "3960"
      ]
     },
     "execution_count": 4,
     "metadata": {},
     "output_type": "execute_result"
    }
   ],
   "source": [
    "df = pd.read_csv('/kaggle/input/colombian-frenchteam-problematicinternetusage/Dataset_problematic_internet_usage.csv')\n",
    "len(df)"
   ]
  },
  {
   "cell_type": "code",
   "execution_count": 5,
   "id": "b63e6f60",
   "metadata": {
    "execution": {
     "iopub.execute_input": "2024-12-04T20:40:31.963213Z",
     "iopub.status.busy": "2024-12-04T20:40:31.962822Z",
     "iopub.status.idle": "2024-12-04T20:40:31.967857Z",
     "shell.execute_reply": "2024-12-04T20:40:31.966686Z"
    },
    "papermill": {
     "duration": 0.016461,
     "end_time": "2024-12-04T20:40:31.970523",
     "exception": false,
     "start_time": "2024-12-04T20:40:31.954062",
     "status": "completed"
    },
    "tags": []
   },
   "outputs": [],
   "source": [
    "import glob\n",
    "from pathlib import Path\n",
    "import json"
   ]
  },
  {
   "cell_type": "code",
   "execution_count": 6,
   "id": "7ef89e61",
   "metadata": {
    "execution": {
     "iopub.execute_input": "2024-12-04T20:40:31.987706Z",
     "iopub.status.busy": "2024-12-04T20:40:31.987237Z",
     "iopub.status.idle": "2024-12-04T20:41:40.514511Z",
     "shell.execute_reply": "2024-12-04T20:41:40.513224Z"
    },
    "papermill": {
     "duration": 68.545851,
     "end_time": "2024-12-04T20:41:40.523560",
     "exception": false,
     "start_time": "2024-12-04T20:40:31.977709",
     "status": "completed"
    },
    "tags": []
   },
   "outputs": [
    {
     "name": "stdout",
     "output_type": "stream",
     "text": [
      "Successfully loaded /kaggle/input/colombianfrenchteam-imagesv1/imagesandannotations/window_properties.json!\n",
      "Successfully loaded /kaggle/input/colombianfrenchteam-imagesv1/imagesandannotations/all_events.json!\n",
      "Successfully loaded /kaggle/input/colombianfrenchteam-imagesv1-part2/imagesandannotations/window_properties.json!\n",
      "Successfully loaded /kaggle/input/colombianfrenchteam-imagesv1-part2/imagesandannotations/all_events.json!\n",
      "Successfully loaded /kaggle/input/colombianfrenchteam-imagesv1-part-3/imagesandannotations/window_properties.json!\n",
      "Successfully loaded /kaggle/input/colombianfrenchteam-imagesv1-part-3/imagesandannotations/all_events.json!\n",
      "Successfully loaded /kaggle/input/colombianfrenchteam-imagesv1-part-4/imagesandannotations/window_properties.json!\n",
      "Successfully loaded /kaggle/input/colombianfrenchteam-imagesv1-part-4/imagesandannotations/all_events.json!\n",
      "Successfully loaded /kaggle/input/colombianfrenchteam-imagesv1-part-5/imagesandannotations/window_properties.json!\n",
      "Successfully loaded /kaggle/input/colombianfrenchteam-imagesv1-part-5/imagesandannotations/all_events.json!\n",
      "Successfully loaded /kaggle/input/colombianfrenchteam-imagesv1-part-6/imagesandannotations/window_properties.json!\n",
      "Successfully loaded /kaggle/input/colombianfrenchteam-imagesv1-part-6/imagesandannotations/all_events.json!\n",
      "Window Properties DataFrame:\n",
      "  series_id      image_name  idx_in_series\n",
      "0  2da6bf6e  2da6bf6e_2.jpg              2\n",
      "1  2da6bf6e  2da6bf6e_3.jpg              3\n",
      "2  2da6bf6e  2da6bf6e_4.jpg              4\n",
      "3  2da6bf6e  2da6bf6e_5.jpg              5\n",
      "4  2da6bf6e  2da6bf6e_6.jpg              6\n",
      "\n",
      "All Events DataFrame:\n",
      "  series_id      image_name label\n",
      "0  2da6bf6e  2da6bf6e_2.jpg   0.0\n",
      "1  2da6bf6e  2da6bf6e_3.jpg   0.0\n",
      "2  2da6bf6e  2da6bf6e_4.jpg   0.0\n",
      "3  2da6bf6e  2da6bf6e_5.jpg   0.0\n",
      "4  2da6bf6e  2da6bf6e_6.jpg   0.0\n",
      "All images have been successfully copied to /kaggle/working/combined_images/\n"
     ]
    }
   ],
   "source": [
    "import json\n",
    "import pandas as pd\n",
    "import shutil\n",
    "import os\n",
    "\n",
    "# Define the input directories for the multiple parts\n",
    "input_dirs = [\n",
    "    '/kaggle/input/colombianfrenchteam-imagesv1/imagesandannotations/',\n",
    "    '/kaggle/input/colombianfrenchteam-imagesv1-part2/imagesandannotations/',\n",
    "    '/kaggle/input/colombianfrenchteam-imagesv1-part-3/imagesandannotations/',\n",
    "    '/kaggle/input/colombianfrenchteam-imagesv1-part-4/imagesandannotations/',\n",
    "    '/kaggle/input/colombianfrenchteam-imagesv1-part-5/imagesandannotations/',\n",
    "    '/kaggle/input/colombianfrenchteam-imagesv1-part-6/imagesandannotations/'\n",
    "]\n",
    "\n",
    "# Define the destination folder for combined images\n",
    "combined_images_dir = '/kaggle/working/combined_images/'\n",
    "\n",
    "# Ensure the destination folder exists\n",
    "os.makedirs(combined_images_dir, exist_ok=True)\n",
    "\n",
    "# Function to load and fix the JSON files if needed\n",
    "def load_json_file(file_path):\n",
    "    try:\n",
    "        with open(file_path, 'r') as file:\n",
    "            content = file.read()\n",
    "\n",
    "        # Fix invalid '][' and wrap content in square brackets if necessary\n",
    "        fixed_content = content.replace(\"][\", \",\")\n",
    "        if not fixed_content.startswith('['):\n",
    "            fixed_content = f\"[{fixed_content}\"\n",
    "        if not fixed_content.endswith(']'):\n",
    "            fixed_content = f\"{fixed_content}]\"\n",
    "        \n",
    "        data = json.loads(fixed_content)\n",
    "        print(f\"Successfully loaded {file_path}!\")\n",
    "        return data\n",
    "    except json.JSONDecodeError as e:\n",
    "        print(f\"Error decoding JSON in {file_path}: {e}\")\n",
    "        return None\n",
    "\n",
    "# Function to copy all files from source to destination\n",
    "def copy_images(source_dir):\n",
    "    for filename in os.listdir(source_dir):\n",
    "        file_path = os.path.join(source_dir, filename)\n",
    "        if os.path.isfile(file_path):\n",
    "            shutil.copy(file_path, combined_images_dir)\n",
    "\n",
    "# Data containers for all parts\n",
    "all_window_properties_data = []\n",
    "all_all_events_data = []\n",
    "\n",
    "# Load data and copy images for each input directory part\n",
    "for input_dir in input_dirs:\n",
    "    # Define the paths to the JSON files for this part\n",
    "    window_properties_path = os.path.join(input_dir, 'window_properties.json')\n",
    "    all_events_path = os.path.join(input_dir, 'all_events.json')\n",
    "\n",
    "    # Load the JSON data\n",
    "    window_properties_data = load_json_file(window_properties_path)\n",
    "    all_events_data = load_json_file(all_events_path)\n",
    "\n",
    "    # Append the data from this part\n",
    "    if window_properties_data:\n",
    "        all_window_properties_data.extend(window_properties_data)\n",
    "    if all_events_data:\n",
    "        all_all_events_data.extend(all_events_data)\n",
    "\n",
    "    # Copy images for this part\n",
    "    copy_images(input_dir)\n",
    "\n",
    "# Convert all collected window properties and events data into DataFrames\n",
    "window_properties_df = pd.DataFrame(all_window_properties_data)\n",
    "all_events_df = pd.DataFrame(all_all_events_data)\n",
    "\n",
    "# Display a sample of the DataFrames\n",
    "print(\"Window Properties DataFrame:\")\n",
    "print(window_properties_df.head())  # Show the first 5 rows as a sample\n",
    "\n",
    "print(\"\\nAll Events DataFrame:\")\n",
    "print(all_events_df.head())  # Show the first 5 rows as a sample\n",
    "\n",
    "print(f\"All images have been successfully copied to {combined_images_dir}\")"
   ]
  },
  {
   "cell_type": "code",
   "execution_count": 7,
   "id": "e194eb62",
   "metadata": {
    "execution": {
     "iopub.execute_input": "2024-12-04T20:41:40.540236Z",
     "iopub.status.busy": "2024-12-04T20:41:40.539823Z",
     "iopub.status.idle": "2024-12-04T20:41:40.560220Z",
     "shell.execute_reply": "2024-12-04T20:41:40.558881Z"
    },
    "papermill": {
     "duration": 0.032132,
     "end_time": "2024-12-04T20:41:40.563139",
     "exception": false,
     "start_time": "2024-12-04T20:41:40.531007",
     "status": "completed"
    },
    "tags": []
   },
   "outputs": [
    {
     "name": "stdout",
     "output_type": "stream",
     "text": [
      "Number of .jpg images: 9434\n"
     ]
    }
   ],
   "source": [
    "# Path to the directory\n",
    "directory_path = '/kaggle/working/combined_images/'\n",
    "\n",
    "# List all files in the directory and filter out the .jpg files\n",
    "jpg_files = [f for f in os.listdir(directory_path) if f.lower().endswith('.jpg')]\n",
    "\n",
    "# Count the number of .jpg files\n",
    "num_jpg_files = len(jpg_files)\n",
    "\n",
    "# Print the result\n",
    "print(f\"Number of .jpg images: {num_jpg_files}\")"
   ]
  },
  {
   "cell_type": "code",
   "execution_count": 8,
   "id": "b52bbd7d",
   "metadata": {
    "execution": {
     "iopub.execute_input": "2024-12-04T20:41:40.582232Z",
     "iopub.status.busy": "2024-12-04T20:41:40.581724Z",
     "iopub.status.idle": "2024-12-04T20:41:40.599674Z",
     "shell.execute_reply": "2024-12-04T20:41:40.598374Z"
    },
    "papermill": {
     "duration": 0.029631,
     "end_time": "2024-12-04T20:41:40.602086",
     "exception": false,
     "start_time": "2024-12-04T20:41:40.572455",
     "status": "completed"
    },
    "tags": []
   },
   "outputs": [
    {
     "data": {
      "text/plain": [
       "617"
      ]
     },
     "execution_count": 8,
     "metadata": {},
     "output_type": "execute_result"
    }
   ],
   "source": [
    "combined_df = all_events_df\n",
    "combined_df = combined_df.rename(columns={'series_id': 'id'})\n",
    "len(combined_df.id.unique())"
   ]
  },
  {
   "cell_type": "code",
   "execution_count": 9,
   "id": "87179c26",
   "metadata": {
    "execution": {
     "iopub.execute_input": "2024-12-04T20:41:40.619125Z",
     "iopub.status.busy": "2024-12-04T20:41:40.618743Z",
     "iopub.status.idle": "2024-12-04T20:41:40.635773Z",
     "shell.execute_reply": "2024-12-04T20:41:40.634655Z"
    },
    "papermill": {
     "duration": 0.028598,
     "end_time": "2024-12-04T20:41:40.638549",
     "exception": false,
     "start_time": "2024-12-04T20:41:40.609951",
     "status": "completed"
    },
    "tags": []
   },
   "outputs": [
    {
     "data": {
      "text/html": [
       "<div>\n",
       "<style scoped>\n",
       "    .dataframe tbody tr th:only-of-type {\n",
       "        vertical-align: middle;\n",
       "    }\n",
       "\n",
       "    .dataframe tbody tr th {\n",
       "        vertical-align: top;\n",
       "    }\n",
       "\n",
       "    .dataframe thead th {\n",
       "        text-align: right;\n",
       "    }\n",
       "</style>\n",
       "<table border=\"1\" class=\"dataframe\">\n",
       "  <thead>\n",
       "    <tr style=\"text-align: right;\">\n",
       "      <th></th>\n",
       "      <th>id</th>\n",
       "      <th>image_name</th>\n",
       "      <th>label</th>\n",
       "    </tr>\n",
       "  </thead>\n",
       "  <tbody>\n",
       "    <tr>\n",
       "      <th>0</th>\n",
       "      <td>2da6bf6e</td>\n",
       "      <td>2da6bf6e_2.jpg</td>\n",
       "      <td>0.0</td>\n",
       "    </tr>\n",
       "    <tr>\n",
       "      <th>1</th>\n",
       "      <td>2da6bf6e</td>\n",
       "      <td>2da6bf6e_3.jpg</td>\n",
       "      <td>0.0</td>\n",
       "    </tr>\n",
       "    <tr>\n",
       "      <th>2</th>\n",
       "      <td>2da6bf6e</td>\n",
       "      <td>2da6bf6e_4.jpg</td>\n",
       "      <td>0.0</td>\n",
       "    </tr>\n",
       "    <tr>\n",
       "      <th>3</th>\n",
       "      <td>2da6bf6e</td>\n",
       "      <td>2da6bf6e_5.jpg</td>\n",
       "      <td>0.0</td>\n",
       "    </tr>\n",
       "    <tr>\n",
       "      <th>4</th>\n",
       "      <td>2da6bf6e</td>\n",
       "      <td>2da6bf6e_6.jpg</td>\n",
       "      <td>0.0</td>\n",
       "    </tr>\n",
       "    <tr>\n",
       "      <th>...</th>\n",
       "      <td>...</td>\n",
       "      <td>...</td>\n",
       "      <td>...</td>\n",
       "    </tr>\n",
       "    <tr>\n",
       "      <th>9429</th>\n",
       "      <td>ffed1dd5</td>\n",
       "      <td>ffed1dd5_9.jpg</td>\n",
       "      <td>0.0</td>\n",
       "    </tr>\n",
       "    <tr>\n",
       "      <th>9430</th>\n",
       "      <td>ffed1dd5</td>\n",
       "      <td>ffed1dd5_10.jpg</td>\n",
       "      <td>0.0</td>\n",
       "    </tr>\n",
       "    <tr>\n",
       "      <th>9431</th>\n",
       "      <td>ffed1dd5</td>\n",
       "      <td>ffed1dd5_11.jpg</td>\n",
       "      <td>0.0</td>\n",
       "    </tr>\n",
       "    <tr>\n",
       "      <th>9432</th>\n",
       "      <td>ffed1dd5</td>\n",
       "      <td>ffed1dd5_13.jpg</td>\n",
       "      <td>0.0</td>\n",
       "    </tr>\n",
       "    <tr>\n",
       "      <th>9433</th>\n",
       "      <td>ffed1dd5</td>\n",
       "      <td>ffed1dd5_15.jpg</td>\n",
       "      <td>0.0</td>\n",
       "    </tr>\n",
       "  </tbody>\n",
       "</table>\n",
       "<p>9434 rows × 3 columns</p>\n",
       "</div>"
      ],
      "text/plain": [
       "            id       image_name label\n",
       "0     2da6bf6e   2da6bf6e_2.jpg   0.0\n",
       "1     2da6bf6e   2da6bf6e_3.jpg   0.0\n",
       "2     2da6bf6e   2da6bf6e_4.jpg   0.0\n",
       "3     2da6bf6e   2da6bf6e_5.jpg   0.0\n",
       "4     2da6bf6e   2da6bf6e_6.jpg   0.0\n",
       "...        ...              ...   ...\n",
       "9429  ffed1dd5   ffed1dd5_9.jpg   0.0\n",
       "9430  ffed1dd5  ffed1dd5_10.jpg   0.0\n",
       "9431  ffed1dd5  ffed1dd5_11.jpg   0.0\n",
       "9432  ffed1dd5  ffed1dd5_13.jpg   0.0\n",
       "9433  ffed1dd5  ffed1dd5_15.jpg   0.0\n",
       "\n",
       "[9434 rows x 3 columns]"
      ]
     },
     "execution_count": 9,
     "metadata": {},
     "output_type": "execute_result"
    }
   ],
   "source": [
    "combined_df"
   ]
  },
  {
   "cell_type": "code",
   "execution_count": 10,
   "id": "7a71af00",
   "metadata": {
    "execution": {
     "iopub.execute_input": "2024-12-04T20:41:40.661392Z",
     "iopub.status.busy": "2024-12-04T20:41:40.660869Z",
     "iopub.status.idle": "2024-12-04T20:41:40.668937Z",
     "shell.execute_reply": "2024-12-04T20:41:40.667661Z"
    },
    "papermill": {
     "duration": 0.019881,
     "end_time": "2024-12-04T20:41:40.671317",
     "exception": false,
     "start_time": "2024-12-04T20:41:40.651436",
     "status": "completed"
    },
    "tags": []
   },
   "outputs": [
    {
     "data": {
      "text/plain": [
       "9434"
      ]
     },
     "execution_count": 10,
     "metadata": {},
     "output_type": "execute_result"
    }
   ],
   "source": [
    "len(combined_df)"
   ]
  },
  {
   "cell_type": "code",
   "execution_count": 11,
   "id": "7823381a",
   "metadata": {
    "execution": {
     "iopub.execute_input": "2024-12-04T20:41:40.689143Z",
     "iopub.status.busy": "2024-12-04T20:41:40.688751Z",
     "iopub.status.idle": "2024-12-04T20:41:40.696808Z",
     "shell.execute_reply": "2024-12-04T20:41:40.695678Z"
    },
    "papermill": {
     "duration": 0.020115,
     "end_time": "2024-12-04T20:41:40.699572",
     "exception": false,
     "start_time": "2024-12-04T20:41:40.679457",
     "status": "completed"
    },
    "tags": []
   },
   "outputs": [
    {
     "data": {
      "text/plain": [
       "id            object\n",
       "image_name    object\n",
       "label         object\n",
       "dtype: object"
      ]
     },
     "execution_count": 11,
     "metadata": {},
     "output_type": "execute_result"
    }
   ],
   "source": [
    "combined_df.dtypes"
   ]
  },
  {
   "cell_type": "code",
   "execution_count": 12,
   "id": "26c00168",
   "metadata": {
    "execution": {
     "iopub.execute_input": "2024-12-04T20:41:40.721921Z",
     "iopub.status.busy": "2024-12-04T20:41:40.721413Z",
     "iopub.status.idle": "2024-12-04T20:41:40.742496Z",
     "shell.execute_reply": "2024-12-04T20:41:40.741255Z"
    },
    "papermill": {
     "duration": 0.033794,
     "end_time": "2024-12-04T20:41:40.745490",
     "exception": false,
     "start_time": "2024-12-04T20:41:40.711696",
     "status": "completed"
    },
    "tags": []
   },
   "outputs": [
    {
     "name": "stdout",
     "output_type": "stream",
     "text": [
      "       Count  Percentage\n",
      "label                   \n",
      "0.0     5534   58.660165\n",
      "1.0     2588   27.432690\n",
      "2.0     1258   13.334747\n",
      "3.0       54    0.572398\n"
     ]
    }
   ],
   "source": [
    "# Group by 'sii' and count occurrences, including NaN as a category\n",
    "sii_counts = combined_df['label'].value_counts(dropna=False)\n",
    "\n",
    "# Calculate percentages\n",
    "sii_percentages = (sii_counts / sii_counts.sum()) * 100\n",
    "\n",
    "# Create a DataFrame to display counts and percentages together\n",
    "sii_summary = pd.DataFrame({\n",
    "    'Count': sii_counts,\n",
    "    'Percentage': sii_percentages\n",
    "})\n",
    "\n",
    "# Display the summary\n",
    "print(sii_summary)"
   ]
  },
  {
   "cell_type": "code",
   "execution_count": 13,
   "id": "4a822ef2",
   "metadata": {
    "execution": {
     "iopub.execute_input": "2024-12-04T20:41:40.777197Z",
     "iopub.status.busy": "2024-12-04T20:41:40.776220Z",
     "iopub.status.idle": "2024-12-04T20:41:40.790448Z",
     "shell.execute_reply": "2024-12-04T20:41:40.789226Z"
    },
    "papermill": {
     "duration": 0.032692,
     "end_time": "2024-12-04T20:41:40.793037",
     "exception": false,
     "start_time": "2024-12-04T20:41:40.760345",
     "status": "completed"
    },
    "tags": []
   },
   "outputs": [
    {
     "data": {
      "text/html": [
       "<div>\n",
       "<style scoped>\n",
       "    .dataframe tbody tr th:only-of-type {\n",
       "        vertical-align: middle;\n",
       "    }\n",
       "\n",
       "    .dataframe tbody tr th {\n",
       "        vertical-align: top;\n",
       "    }\n",
       "\n",
       "    .dataframe thead th {\n",
       "        text-align: right;\n",
       "    }\n",
       "</style>\n",
       "<table border=\"1\" class=\"dataframe\">\n",
       "  <thead>\n",
       "    <tr style=\"text-align: right;\">\n",
       "      <th></th>\n",
       "      <th>id</th>\n",
       "      <th>image_name</th>\n",
       "      <th>label</th>\n",
       "    </tr>\n",
       "  </thead>\n",
       "  <tbody>\n",
       "    <tr>\n",
       "      <th>0</th>\n",
       "      <td>2da6bf6e</td>\n",
       "      <td>2da6bf6e_2.jpg</td>\n",
       "      <td>0.0</td>\n",
       "    </tr>\n",
       "    <tr>\n",
       "      <th>1</th>\n",
       "      <td>2da6bf6e</td>\n",
       "      <td>2da6bf6e_3.jpg</td>\n",
       "      <td>0.0</td>\n",
       "    </tr>\n",
       "    <tr>\n",
       "      <th>2</th>\n",
       "      <td>2da6bf6e</td>\n",
       "      <td>2da6bf6e_4.jpg</td>\n",
       "      <td>0.0</td>\n",
       "    </tr>\n",
       "    <tr>\n",
       "      <th>3</th>\n",
       "      <td>2da6bf6e</td>\n",
       "      <td>2da6bf6e_5.jpg</td>\n",
       "      <td>0.0</td>\n",
       "    </tr>\n",
       "    <tr>\n",
       "      <th>4</th>\n",
       "      <td>2da6bf6e</td>\n",
       "      <td>2da6bf6e_6.jpg</td>\n",
       "      <td>0.0</td>\n",
       "    </tr>\n",
       "  </tbody>\n",
       "</table>\n",
       "</div>"
      ],
      "text/plain": [
       "         id      image_name label\n",
       "0  2da6bf6e  2da6bf6e_2.jpg   0.0\n",
       "1  2da6bf6e  2da6bf6e_3.jpg   0.0\n",
       "2  2da6bf6e  2da6bf6e_4.jpg   0.0\n",
       "3  2da6bf6e  2da6bf6e_5.jpg   0.0\n",
       "4  2da6bf6e  2da6bf6e_6.jpg   0.0"
      ]
     },
     "execution_count": 13,
     "metadata": {},
     "output_type": "execute_result"
    }
   ],
   "source": [
    "combined_df.head(5)"
   ]
  },
  {
   "cell_type": "code",
   "execution_count": 14,
   "id": "30c0f52b",
   "metadata": {
    "execution": {
     "iopub.execute_input": "2024-12-04T20:41:40.817448Z",
     "iopub.status.busy": "2024-12-04T20:41:40.816927Z",
     "iopub.status.idle": "2024-12-04T20:41:40.831305Z",
     "shell.execute_reply": "2024-12-04T20:41:40.830156Z"
    },
    "papermill": {
     "duration": 0.027904,
     "end_time": "2024-12-04T20:41:40.834244",
     "exception": false,
     "start_time": "2024-12-04T20:41:40.806340",
     "status": "completed"
    },
    "tags": []
   },
   "outputs": [],
   "source": [
    "combined_df['sii'] = pd.to_numeric(combined_df['label'], errors='coerce')\n",
    "combined_df['sii'] = combined_df['sii'].astype(int)"
   ]
  },
  {
   "cell_type": "code",
   "execution_count": 15,
   "id": "c0beac5d",
   "metadata": {
    "execution": {
     "iopub.execute_input": "2024-12-04T20:41:40.865901Z",
     "iopub.status.busy": "2024-12-04T20:41:40.865462Z",
     "iopub.status.idle": "2024-12-04T20:41:40.876867Z",
     "shell.execute_reply": "2024-12-04T20:41:40.875574Z"
    },
    "papermill": {
     "duration": 0.030774,
     "end_time": "2024-12-04T20:41:40.879934",
     "exception": false,
     "start_time": "2024-12-04T20:41:40.849160",
     "status": "completed"
    },
    "tags": []
   },
   "outputs": [
    {
     "data": {
      "text/html": [
       "<div>\n",
       "<style scoped>\n",
       "    .dataframe tbody tr th:only-of-type {\n",
       "        vertical-align: middle;\n",
       "    }\n",
       "\n",
       "    .dataframe tbody tr th {\n",
       "        vertical-align: top;\n",
       "    }\n",
       "\n",
       "    .dataframe thead th {\n",
       "        text-align: right;\n",
       "    }\n",
       "</style>\n",
       "<table border=\"1\" class=\"dataframe\">\n",
       "  <thead>\n",
       "    <tr style=\"text-align: right;\">\n",
       "      <th></th>\n",
       "      <th>id</th>\n",
       "      <th>image_name</th>\n",
       "      <th>label</th>\n",
       "      <th>sii</th>\n",
       "    </tr>\n",
       "  </thead>\n",
       "  <tbody>\n",
       "    <tr>\n",
       "      <th>0</th>\n",
       "      <td>2da6bf6e</td>\n",
       "      <td>2da6bf6e_2.jpg</td>\n",
       "      <td>0.0</td>\n",
       "      <td>0</td>\n",
       "    </tr>\n",
       "    <tr>\n",
       "      <th>1</th>\n",
       "      <td>2da6bf6e</td>\n",
       "      <td>2da6bf6e_3.jpg</td>\n",
       "      <td>0.0</td>\n",
       "      <td>0</td>\n",
       "    </tr>\n",
       "    <tr>\n",
       "      <th>2</th>\n",
       "      <td>2da6bf6e</td>\n",
       "      <td>2da6bf6e_4.jpg</td>\n",
       "      <td>0.0</td>\n",
       "      <td>0</td>\n",
       "    </tr>\n",
       "    <tr>\n",
       "      <th>3</th>\n",
       "      <td>2da6bf6e</td>\n",
       "      <td>2da6bf6e_5.jpg</td>\n",
       "      <td>0.0</td>\n",
       "      <td>0</td>\n",
       "    </tr>\n",
       "    <tr>\n",
       "      <th>4</th>\n",
       "      <td>2da6bf6e</td>\n",
       "      <td>2da6bf6e_6.jpg</td>\n",
       "      <td>0.0</td>\n",
       "      <td>0</td>\n",
       "    </tr>\n",
       "  </tbody>\n",
       "</table>\n",
       "</div>"
      ],
      "text/plain": [
       "         id      image_name label  sii\n",
       "0  2da6bf6e  2da6bf6e_2.jpg   0.0    0\n",
       "1  2da6bf6e  2da6bf6e_3.jpg   0.0    0\n",
       "2  2da6bf6e  2da6bf6e_4.jpg   0.0    0\n",
       "3  2da6bf6e  2da6bf6e_5.jpg   0.0    0\n",
       "4  2da6bf6e  2da6bf6e_6.jpg   0.0    0"
      ]
     },
     "execution_count": 15,
     "metadata": {},
     "output_type": "execute_result"
    }
   ],
   "source": [
    "combined_df.head(5)"
   ]
  },
  {
   "cell_type": "markdown",
   "id": "b2bf41dc",
   "metadata": {
    "papermill": {
     "duration": 0.011015,
     "end_time": "2024-12-04T20:41:40.906830",
     "exception": false,
     "start_time": "2024-12-04T20:41:40.895815",
     "status": "completed"
    },
    "tags": []
   },
   "source": [
    "# Visualize the images\n"
   ]
  },
  {
   "cell_type": "code",
   "execution_count": 16,
   "id": "af4eca59",
   "metadata": {
    "execution": {
     "iopub.execute_input": "2024-12-04T20:41:40.926236Z",
     "iopub.status.busy": "2024-12-04T20:41:40.925747Z",
     "iopub.status.idle": "2024-12-04T20:41:41.304571Z",
     "shell.execute_reply": "2024-12-04T20:41:41.303449Z"
    },
    "papermill": {
     "duration": 0.392526,
     "end_time": "2024-12-04T20:41:41.307954",
     "exception": false,
     "start_time": "2024-12-04T20:41:40.915428",
     "status": "completed"
    },
    "tags": []
   },
   "outputs": [
    {
     "name": "stdout",
     "output_type": "stream",
     "text": [
      "Image: 68fa4631_9.jpg\n",
      "Dimensions: 2160x600\n"
     ]
    },
    {
     "data": {
      "image/png": "[encoded data removed]",
      "text/plain": [
       "<Figure size 640x480 with 1 Axes>"
      ]
     },
     "metadata": {},
     "output_type": "display_data"
    }
   ],
   "source": [
    "import random\n",
    "from PIL import Image\n",
    "import matplotlib.pyplot as plt\n",
    "import pandas as pd\n",
    "\n",
    "# Assuming combined_df is already loaded\n",
    "# Load a random row from the dataframe\n",
    "random_row = combined_df.sample(n=1).iloc[0]\n",
    "\n",
    "# Get the image file name from the 'image_name' column\n",
    "image_name = random_row['image_name']\n",
    "\n",
    "# Construct the full path to the image\n",
    "image_path = f'/kaggle/working/combined_images/{image_name}'\n",
    "\n",
    "# Open the image\n",
    "image = Image.open(image_path)\n",
    "\n",
    "# Get the dimensions of the image\n",
    "image_width, image_height = image.size\n",
    "\n",
    "# Print the image name and dimensions\n",
    "print(f\"Image: {image_name}\")\n",
    "print(f\"Dimensions: {image_width}x{image_height}\")\n",
    "\n",
    "# Display the image\n",
    "plt.imshow(image)\n",
    "plt.axis('off')  # Hide axes for a cleaner view\n",
    "plt.show()"
   ]
  },
  {
   "cell_type": "code",
   "execution_count": 17,
   "id": "0557c7a6",
   "metadata": {
    "execution": {
     "iopub.execute_input": "2024-12-04T20:41:41.335854Z",
     "iopub.status.busy": "2024-12-04T20:41:41.334856Z",
     "iopub.status.idle": "2024-12-04T20:41:41.457858Z",
     "shell.execute_reply": "2024-12-04T20:41:41.456389Z"
    },
    "papermill": {
     "duration": 0.141218,
     "end_time": "2024-12-04T20:41:41.464981",
     "exception": false,
     "start_time": "2024-12-04T20:41:41.323763",
     "status": "completed"
    },
    "tags": []
   },
   "outputs": [
    {
     "name": "stdout",
     "output_type": "stream",
     "text": [
      "Original Image: 537dc410_18.jpg\n",
      "Original Dimensions: 2160x600\n",
      "Resized Dimensions: 600x166\n"
     ]
    },
    {
     "data": {
      "image/png": "[encoded data removed]",
      "text/plain": [
       "<Figure size 640x480 with 1 Axes>"
      ]
     },
     "metadata": {},
     "output_type": "display_data"
    }
   ],
   "source": [
    "# Assuming combined_df is already loaded\n",
    "# Load a random row from the dataframe\n",
    "random_row = combined_df.sample(n=1).iloc[0]\n",
    "\n",
    "# Get the image file name from the 'image_name' column\n",
    "image_name = random_row['image_name']\n",
    "\n",
    "# Construct the full path to the image\n",
    "image_path = f'/kaggle/working/combined_images/{image_name}'\n",
    "\n",
    "# Open the image\n",
    "image = Image.open(image_path)\n",
    "\n",
    "# Get the original dimensions of the image\n",
    "image_width, image_height = image.size\n",
    "\n",
    "# Print the original image name and dimensions\n",
    "print(f\"Original Image: {image_name}\")\n",
    "print(f\"Original Dimensions: {image_width}x{image_height}\")\n",
    "\n",
    "# Resize the image while keeping the aspect ratio (resize width to 600px)\n",
    "target_width = 600\n",
    "aspect_ratio = image_height / image_width\n",
    "target_height = int(target_width * aspect_ratio)\n",
    "\n",
    "# Resize the image\n",
    "resized_image = image.resize((target_width, target_height))\n",
    "\n",
    "# Print the resized image dimensions\n",
    "print(f\"Resized Dimensions: {resized_image.size[0]}x{resized_image.size[1]}\")\n",
    "\n",
    "# Display the resized image\n",
    "plt.imshow(resized_image)\n",
    "plt.axis('off')  # Hide axes for a cleaner view\n",
    "plt.show()"
   ]
  },
  {
   "cell_type": "code",
   "execution_count": 18,
   "id": "635b8659",
   "metadata": {
    "execution": {
     "iopub.execute_input": "2024-12-04T20:41:41.522869Z",
     "iopub.status.busy": "2024-12-04T20:41:41.521371Z",
     "iopub.status.idle": "2024-12-04T20:41:42.745939Z",
     "shell.execute_reply": "2024-12-04T20:41:42.744806Z"
    },
    "papermill": {
     "duration": 1.256315,
     "end_time": "2024-12-04T20:41:42.748542",
     "exception": false,
     "start_time": "2024-12-04T20:41:41.492227",
     "status": "completed"
    },
    "tags": []
   },
   "outputs": [],
   "source": [
    "# Desired image dimensions\n",
    "target_width = 2160\n",
    "target_height = 600\n",
    "\n",
    "# Directory containing the images\n",
    "image_dir = '/kaggle/working/combined_images/'\n",
    "\n",
    "# Iterate through each image in the directory\n",
    "for image_name in os.listdir(image_dir):\n",
    "    image_path = os.path.join(image_dir, image_name)\n",
    "    \n",
    "    # Check if it's an image file (you can add more image formats if necessary)\n",
    "    if image_name.endswith(('.jpg', '.jpeg', '.png', '.bmp')):\n",
    "        # Open the image\n",
    "        image = Image.open(image_path)\n",
    "        \n",
    "        # Get the current dimensions of the image\n",
    "        image_width, image_height = image.size\n",
    "        \n",
    "        # Check if the dimensions match the target size\n",
    "        if image_width != target_width or image_height != target_height:\n",
    "            print(f\"Image {image_name} has dimensions {image_width}x{image_height}, \"\n",
    "                  f\"but the expected dimensions are {target_width}x{target_height}.\")"
   ]
  },
  {
   "cell_type": "code",
   "execution_count": 19,
   "id": "6b616c32",
   "metadata": {
    "execution": {
     "iopub.execute_input": "2024-12-04T20:41:42.770019Z",
     "iopub.status.busy": "2024-12-04T20:41:42.769621Z",
     "iopub.status.idle": "2024-12-04T20:41:42.780463Z",
     "shell.execute_reply": "2024-12-04T20:41:42.779254Z"
    },
    "papermill": {
     "duration": 0.024075,
     "end_time": "2024-12-04T20:41:42.782662",
     "exception": false,
     "start_time": "2024-12-04T20:41:42.758587",
     "status": "completed"
    },
    "tags": []
   },
   "outputs": [
    {
     "name": "stdout",
     "output_type": "stream",
     "text": [
      "       Count  Percentage\n",
      "label                   \n",
      "0.0     5534   58.660165\n",
      "1.0     2588   27.432690\n",
      "2.0     1258   13.334747\n",
      "3.0       54    0.572398\n"
     ]
    }
   ],
   "source": [
    "# Group by 'sii' and count occurrences, including NaN as a category\n",
    "sii_counts = combined_df['label'].value_counts(dropna=False)\n",
    "\n",
    "# Calculate percentages\n",
    "sii_percentages = (sii_counts / sii_counts.sum()) * 100\n",
    "\n",
    "# Create a DataFrame to display counts and percentages together\n",
    "sii_summary = pd.DataFrame({\n",
    "    'Count': sii_counts,\n",
    "    'Percentage': sii_percentages\n",
    "})\n",
    "\n",
    "# Display the summary\n",
    "print(sii_summary)"
   ]
  },
  {
   "cell_type": "markdown",
   "id": "cab9c04c",
   "metadata": {
    "papermill": {
     "duration": 0.009798,
     "end_time": "2024-12-04T20:41:42.802539",
     "exception": false,
     "start_time": "2024-12-04T20:41:42.792741",
     "status": "completed"
    },
    "tags": []
   },
   "source": [
    "# Leveraging a pretrained Resnet"
   ]
  },
  {
   "cell_type": "code",
   "execution_count": 20,
   "id": "cda43854",
   "metadata": {
    "execution": {
     "iopub.execute_input": "2024-12-04T20:41:42.824459Z",
     "iopub.status.busy": "2024-12-04T20:41:42.824014Z",
     "iopub.status.idle": "2024-12-04T20:41:48.157017Z",
     "shell.execute_reply": "2024-12-04T20:41:48.156024Z"
    },
    "papermill": {
     "duration": 5.347183,
     "end_time": "2024-12-04T20:41:48.159680",
     "exception": false,
     "start_time": "2024-12-04T20:41:42.812497",
     "status": "completed"
    },
    "tags": []
   },
   "outputs": [],
   "source": [
    "import torch\n",
    "import torch.nn as nn\n",
    "import torch.optim as optim\n",
    "import torch.nn.functional as F\n",
    "from torch.utils.data import DataLoader, Dataset\n",
    "from sklearn.model_selection import StratifiedKFold\n",
    "from sklearn.metrics import cohen_kappa_score\n",
    "from PIL import Image\n",
    "import numpy as np\n",
    "import pandas as pd\n",
    "import os\n",
    "from torchvision import transforms\n",
    "import torchvision.models as models\n",
    "\n",
    "# Path to the image folder\n",
    "image_dir = '/kaggle/working/combined_images/'\n",
    "\n",
    "# Load the combined_df DataFrame (assuming it's already loaded)\n",
    "# combined_df = pd.read_csv('your_dataframe.csv')  # Replace with your actual DataFrame loading\n",
    "\n",
    "# Custom Dataset class to load images from the dataframe\n",
    "class ImageDataset(Dataset):\n",
    "    def __init__(self, dataframe, image_dir, transform=None):\n",
    "        self.dataframe = dataframe\n",
    "        self.image_dir = image_dir\n",
    "        self.transform = transform\n",
    "\n",
    "    def __len__(self):\n",
    "        return len(self.dataframe)\n",
    "\n",
    "    def __getitem__(self, idx):\n",
    "        img_name = os.path.join(self.image_dir, self.dataframe.iloc[idx, 1])  # image_name column\n",
    "        image = Image.open(img_name)\n",
    "        label = self.dataframe.iloc[idx, 3]  # sii column\n",
    "        image_id = self.dataframe.iloc[idx, 0]  # id column (assuming the 'id' is in the first column)\n",
    "\n",
    "        if self.transform:\n",
    "            image = self.transform(image)\n",
    "\n",
    "        return image, label, image_id  # Return the image, label, and id\n",
    "\n",
    "class ResNetModel(nn.Module):\n",
    "    def __init__(self, num_classes=4, pretrained=True, freeze_layers=False):\n",
    "        super(ResNetModel, self).__init__()\n",
    "\n",
    "        # Load a pretrained ResNet model (e.g., ResNet18)\n",
    "        self.resnet = models.resnet18(pretrained=pretrained)  # You can change this to ResNet34, ResNet50, etc.\n",
    "\n",
    "        # Replace the final fully connected layer (classifier) to match the number of classes\n",
    "        self.resnet.fc = nn.Linear(self.resnet.fc.in_features, num_classes)\n",
    "\n",
    "        # Optionally freeze earlier layers (to avoid updating them during training)\n",
    "        if freeze_layers:\n",
    "            for param in self.resnet.parameters():\n",
    "                param.requires_grad = False\n",
    "            # Unfreeze the last fully connected layer\n",
    "            for param in self.resnet.fc.parameters():\n",
    "                param.requires_grad = True\n",
    "\n",
    "    def forward(self, x):\n",
    "        return self.resnet(x)\n",
    "\n",
    "# Function to calculate the target height maintaining the aspect ratio\n",
    "def calculate_target_height(image, target_width):\n",
    "    width, height = image.size\n",
    "    target_height = int((target_width * height) / width)\n",
    "    return target_height\n",
    "\n",
    "# Transforms for resizing while maintaining the aspect ratio and data normalization\n",
    "def get_transform():\n",
    "    def transform(image):\n",
    "        target_height = calculate_target_height(image, TARGET_WIDTH)  # Calculate target height\n",
    "        resize_transform = transforms.Resize((target_height, TARGET_WIDTH))  # Resize to maintain aspect ratio\n",
    "        image = resize_transform(image)\n",
    "        image = transforms.ToTensor()(image)\n",
    "        # Normalize using ImageNet mean and std (this is expected by ResNet)\n",
    "        image = transforms.Normalize(mean=[0.485, 0.456, 0.406], std=[0.229, 0.224, 0.225])(image)\n",
    "        return image\n",
    "    return transform"
   ]
  },
  {
   "cell_type": "code",
   "execution_count": 21,
   "id": "5dcd5563",
   "metadata": {
    "execution": {
     "iopub.execute_input": "2024-12-04T20:41:48.181597Z",
     "iopub.status.busy": "2024-12-04T20:41:48.180998Z",
     "iopub.status.idle": "2024-12-04T20:41:48.188319Z",
     "shell.execute_reply": "2024-12-04T20:41:48.187182Z"
    },
    "papermill": {
     "duration": 0.021292,
     "end_time": "2024-12-04T20:41:48.191060",
     "exception": false,
     "start_time": "2024-12-04T20:41:48.169768",
     "status": "completed"
    },
    "tags": []
   },
   "outputs": [
    {
     "data": {
      "text/plain": [
       "False"
      ]
     },
     "execution_count": 21,
     "metadata": {},
     "output_type": "execute_result"
    }
   ],
   "source": [
    "torch.cuda.is_available()"
   ]
  },
  {
   "cell_type": "code",
   "execution_count": 22,
   "id": "65195bab",
   "metadata": {
    "execution": {
     "iopub.execute_input": "2024-12-04T20:41:48.214101Z",
     "iopub.status.busy": "2024-12-04T20:41:48.213412Z",
     "iopub.status.idle": "2024-12-04T20:41:48.227938Z",
     "shell.execute_reply": "2024-12-04T20:41:48.226860Z"
    },
    "papermill": {
     "duration": 0.02859,
     "end_time": "2024-12-04T20:41:48.230170",
     "exception": false,
     "start_time": "2024-12-04T20:41:48.201580",
     "status": "completed"
    },
    "tags": []
   },
   "outputs": [
    {
     "name": "stdout",
     "output_type": "stream",
     "text": [
      "       Count  Percentage  Unique ID Count\n",
      "label                                    \n",
      "0.0     5534   58.660165              350\n",
      "1.0     2588   27.432690              171\n",
      "2.0     1258   13.334747               90\n",
      "3.0       54    0.572398                6\n"
     ]
    }
   ],
   "source": [
    "# Group by 'sii' and count occurrences, including NaN as a category\n",
    "sii_counts = combined_df['label'].value_counts(dropna=False)\n",
    "\n",
    "# Calculate percentages\n",
    "sii_percentages = (sii_counts / sii_counts.sum()) * 100\n",
    "\n",
    "# Count the unique 'id's for each 'sii' value\n",
    "sii_unique_ids_count = combined_df.groupby('label')['id'].nunique()\n",
    "\n",
    "# Create a DataFrame to display counts, percentages, and unique id count together\n",
    "sii_summary = pd.DataFrame({\n",
    "    'Count': sii_counts,\n",
    "    'Percentage': sii_percentages,\n",
    "    'Unique ID Count': sii_unique_ids_count\n",
    "})\n",
    "\n",
    "# Display the summary\n",
    "print(sii_summary)"
   ]
  },
  {
   "cell_type": "code",
   "execution_count": 23,
   "id": "6eae3ed5",
   "metadata": {
    "execution": {
     "iopub.execute_input": "2024-12-04T20:41:48.252266Z",
     "iopub.status.busy": "2024-12-04T20:41:48.251859Z",
     "iopub.status.idle": "2024-12-04T20:41:48.257790Z",
     "shell.execute_reply": "2024-12-04T20:41:48.256650Z"
    },
    "papermill": {
     "duration": 0.019751,
     "end_time": "2024-12-04T20:41:48.260120",
     "exception": false,
     "start_time": "2024-12-04T20:41:48.240369",
     "status": "completed"
    },
    "tags": []
   },
   "outputs": [
    {
     "name": "stdout",
     "output_type": "stream",
     "text": [
      "Using device: cpu\n"
     ]
    }
   ],
   "source": [
    "# Determine if CUDA is available and set the device accordingly\n",
    "device = torch.device(\"cuda:0\" if torch.cuda.is_available() else \"cpu\")  # Use GPU 0\n",
    "print(f\"Using device: {device}\")"
   ]
  },
  {
   "cell_type": "code",
   "execution_count": 24,
   "id": "33681480",
   "metadata": {
    "execution": {
     "iopub.execute_input": "2024-12-04T20:41:48.283085Z",
     "iopub.status.busy": "2024-12-04T20:41:48.282669Z",
     "iopub.status.idle": "2024-12-04T20:41:48.406129Z",
     "shell.execute_reply": "2024-12-04T20:41:48.404862Z"
    },
    "papermill": {
     "duration": 0.137472,
     "end_time": "2024-12-04T20:41:48.408558",
     "exception": false,
     "start_time": "2024-12-04T20:41:48.271086",
     "status": "completed"
    },
    "tags": []
   },
   "outputs": [
    {
     "data": {
      "text/plain": [
       "tensor([ 0.4262,  0.9113,  1.8748, 43.6759])"
      ]
     },
     "execution_count": 24,
     "metadata": {},
     "output_type": "execute_result"
    }
   ],
   "source": [
    "from sklearn.utils.class_weight import compute_class_weight\n",
    "import torch\n",
    "\n",
    "# Calculate class weights based on the label distribution\n",
    "class_weights = compute_class_weight(\n",
    "    class_weight='balanced',\n",
    "    classes=np.unique(combined_df['label']),\n",
    "    y=combined_df['label']\n",
    ")\n",
    "\n",
    "# Convert class weights to a tensor and move it to the same device (GPU or CPU)\n",
    "class_weights_tensor = torch.tensor(class_weights, dtype=torch.float).to(device)\n",
    "\n",
    "class_weights_tensor"
   ]
  },
  {
   "cell_type": "code",
   "execution_count": 25,
   "id": "5064f035",
   "metadata": {
    "execution": {
     "iopub.execute_input": "2024-12-04T20:41:48.430486Z",
     "iopub.status.busy": "2024-12-04T20:41:48.430065Z",
     "iopub.status.idle": "2024-12-04T20:41:48.435678Z",
     "shell.execute_reply": "2024-12-04T20:41:48.434365Z"
    },
    "papermill": {
     "duration": 0.019577,
     "end_time": "2024-12-04T20:41:48.438263",
     "exception": false,
     "start_time": "2024-12-04T20:41:48.418686",
     "status": "completed"
    },
    "tags": []
   },
   "outputs": [],
   "source": [
    "# Define constants\n",
    "TARGET_WIDTH = 224  # Resize to 600px width while keeping the aspect ratio for height\n",
    "NUM_CLASSES = 4  # SII values: 0, 1, 2, 3\n",
    "BATCH_SIZE = 32  # Depending on available memory, you can adjust this\n",
    "NUM_EPOCHS = 10 # just to quickly test\n",
    "LEARNING_RATE = 0.0001"
   ]
  },
  {
   "cell_type": "code",
   "execution_count": 26,
   "id": "6de16ace",
   "metadata": {
    "execution": {
     "iopub.execute_input": "2024-12-04T20:41:48.461464Z",
     "iopub.status.busy": "2024-12-04T20:41:48.460315Z",
     "iopub.status.idle": "2024-12-05T02:18:54.037336Z",
     "shell.execute_reply": "2024-12-05T02:18:54.036099Z"
    },
    "papermill": {
     "duration": 20225.604806,
     "end_time": "2024-12-05T02:18:54.053296",
     "exception": false,
     "start_time": "2024-12-04T20:41:48.448490",
     "status": "completed"
    },
    "tags": []
   },
   "outputs": [
    {
     "name": "stdout",
     "output_type": "stream",
     "text": [
      "Training fold 1/5...\n"
     ]
    },
    {
     "name": "stderr",
     "output_type": "stream",
     "text": [
      "Downloading: \"https://download.pytorch.org/models/resnet18-f37072fd.pth\" to /root/.cache/torch/hub/checkpoints/resnet18-f37072fd.pth\n",
      "100%|██████████| 44.7M/44.7M [00:00<00:00, 165MB/s]\n"
     ]
    },
    {
     "name": "stdout",
     "output_type": "stream",
     "text": [
      "Epoch 1/10, Loss: 1.3021\n",
      "Epoch 2/10, Loss: 1.0448\n",
      "Epoch 3/10, Loss: 0.8979\n",
      "Epoch 4/10, Loss: 0.7767\n",
      "Epoch 5/10, Loss: 0.6723\n",
      "Epoch 6/10, Loss: 0.5621\n",
      "Epoch 7/10, Loss: 0.4582\n",
      "Epoch 8/10, Loss: 0.3740\n",
      "Epoch 9/10, Loss: 0.2898\n",
      "Epoch 10/10, Loss: 0.2227\n",
      "Fold 1 Image-level Kappa: 0.1273\n",
      "Fold 1 ID-level No `argmax` Kappa: 0.2174\n",
      "Fold 1 ID-level Custom Logic Kappa: -0.0178\n",
      "Training fold 2/5...\n",
      "Epoch 1/10, Loss: 1.3639\n",
      "Epoch 2/10, Loss: 1.0696\n",
      "Epoch 3/10, Loss: 0.9182\n",
      "Epoch 4/10, Loss: 0.7825\n",
      "Epoch 5/10, Loss: 0.6647\n",
      "Epoch 6/10, Loss: 0.5569\n",
      "Epoch 7/10, Loss: 0.4577\n",
      "Epoch 8/10, Loss: 0.3647\n",
      "Epoch 9/10, Loss: 0.2770\n",
      "Epoch 10/10, Loss: 0.2112\n",
      "Fold 2 Image-level Kappa: 0.2078\n",
      "Fold 2 ID-level No `argmax` Kappa: 0.0816\n",
      "Fold 2 ID-level Custom Logic Kappa: 0.1601\n",
      "Training fold 3/5...\n",
      "Epoch 1/10, Loss: 1.3999\n",
      "Epoch 2/10, Loss: 1.0980\n",
      "Epoch 3/10, Loss: 0.9348\n",
      "Epoch 4/10, Loss: 0.8205\n",
      "Epoch 5/10, Loss: 0.6972\n",
      "Epoch 6/10, Loss: 0.5985\n",
      "Epoch 7/10, Loss: 0.4844\n",
      "Epoch 8/10, Loss: 0.3896\n",
      "Epoch 9/10, Loss: 0.3057\n",
      "Epoch 10/10, Loss: 0.2344\n",
      "Fold 3 Image-level Kappa: 0.1464\n",
      "Fold 3 ID-level No `argmax` Kappa: 0.1603\n",
      "Fold 3 ID-level Custom Logic Kappa: 0.0025\n",
      "Training fold 4/5...\n",
      "Epoch 1/10, Loss: 1.3228\n",
      "Epoch 2/10, Loss: 1.0592\n",
      "Epoch 3/10, Loss: 0.9095\n",
      "Epoch 4/10, Loss: 0.7824\n",
      "Epoch 5/10, Loss: 0.6687\n",
      "Epoch 6/10, Loss: 0.5704\n",
      "Epoch 7/10, Loss: 0.4663\n",
      "Epoch 8/10, Loss: 0.3743\n",
      "Epoch 9/10, Loss: 0.2916\n",
      "Epoch 10/10, Loss: 0.2308\n",
      "Fold 4 Image-level Kappa: 0.1838\n",
      "Fold 4 ID-level No `argmax` Kappa: 0.3179\n",
      "Fold 4 ID-level Custom Logic Kappa: 0.0545\n",
      "Training fold 5/5...\n",
      "Epoch 1/10, Loss: 1.3708\n",
      "Epoch 2/10, Loss: 1.0594\n",
      "Epoch 3/10, Loss: 0.8999\n",
      "Epoch 4/10, Loss: 0.7730\n",
      "Epoch 5/10, Loss: 0.6530\n",
      "Epoch 6/10, Loss: 0.5429\n",
      "Epoch 7/10, Loss: 0.4382\n",
      "Epoch 8/10, Loss: 0.3470\n",
      "Epoch 9/10, Loss: 0.2687\n",
      "Epoch 10/10, Loss: 0.2052\n",
      "Fold 5 Image-level Kappa: 0.1354\n",
      "Fold 5 ID-level No `argmax` Kappa: 0.1445\n",
      "Fold 5 ID-level Custom Logic Kappa: 0.0633\n",
      "\n",
      "Average Image-level Kappa: 0.1601\n",
      "Average ID-level No `argmax` Kappa: 0.1844\n",
      "Average ID-level Custom Logic Kappa: 0.0525\n",
      "\n",
      "Confusion Matrix (Image-level):\n",
      "[[3694 1295  542    3]\n",
      " [1355  856  375    2]\n",
      " [ 605  428  220    5]\n",
      " [  16   24   14    0]]\n",
      "\n",
      "Confusion Matrix (ID-level No `argmax`):\n",
      "[[293  49   8   0]\n",
      " [116  48   7   0]\n",
      " [ 58  23   9   0]\n",
      " [  2   3   1   0]]\n",
      "\n",
      "Confusion Matrix (ID-level Custom Logic):\n",
      "[[ 23 101 223   3]\n",
      " [  8  37 124   2]\n",
      " [  6  15  66   3]\n",
      " [  0   0   6   0]]\n"
     ]
    }
   ],
   "source": [
    "from collections import defaultdict\n",
    "from sklearn.metrics import confusion_matrix, cohen_kappa_score\n",
    "import numpy as np\n",
    "from sklearn.model_selection import StratifiedKFold\n",
    "\n",
    "# Arrays to store results for each case\n",
    "kappa_scores_image_level = []\n",
    "kappa_scores_id_level_no_argmax = []\n",
    "kappa_scores_id_level_custom_logic = []\n",
    "\n",
    "all_true_labels_image = []\n",
    "all_pred_labels_image = []\n",
    "\n",
    "all_true_labels_id_no_argmax = []\n",
    "all_pred_labels_id_no_argmax = []\n",
    "\n",
    "all_true_labels_id_custom = []\n",
    "all_pred_labels_id_custom = []\n",
    "\n",
    "matrices_image_level = []\n",
    "matrices_id_no_argmax = []\n",
    "matrices_id_custom_logic = []\n",
    "\n",
    "# First, split the data based on the unique IDs\n",
    "ids = combined_df['id'].unique()\n",
    "n_splits = 5  # Number of CV splits\n",
    "kf = StratifiedKFold(n_splits=n_splits, shuffle=True, random_state=42)\n",
    "\n",
    "# For each fold in cross-validation\n",
    "for fold, (train_idx, val_idx) in enumerate(kf.split(ids, combined_df.groupby('id')['label'].first().loc[ids])):\n",
    "    print(f\"Training fold {fold + 1}/{n_splits}...\")\n",
    "\n",
    "    # Get the corresponding data for training and validation based on the split IDs\n",
    "    train_ids = ids[train_idx]\n",
    "    val_ids = ids[val_idx]\n",
    "    train_df = combined_df[combined_df['id'].isin(train_ids)]\n",
    "    val_df = combined_df[combined_df['id'].isin(val_ids)]\n",
    "\n",
    "    # Prepare datasets for this fold\n",
    "    train_dataset = ImageDataset(train_df, image_dir, transform=get_transform())\n",
    "    val_dataset = ImageDataset(val_df, image_dir, transform=get_transform())\n",
    "\n",
    "    # Create DataLoader for training and validation\n",
    "    train_loader = DataLoader(train_dataset, batch_size=BATCH_SIZE, shuffle=True)\n",
    "    val_loader = DataLoader(val_dataset, batch_size=BATCH_SIZE, shuffle=False)\n",
    "\n",
    "    # Initialize the model, loss function, and optimizer\n",
    "    model = ResNetModel(num_classes=NUM_CLASSES, pretrained=True, freeze_layers=False).to(device)\n",
    "    criterion = nn.CrossEntropyLoss(weight=class_weights_tensor)\n",
    "    optimizer = optim.Adam(model.parameters(), lr=LEARNING_RATE * 0.1)\n",
    "\n",
    "    # Train the model for the specified number of epochs\n",
    "    for epoch in range(NUM_EPOCHS):\n",
    "        model.train()\n",
    "        running_loss = 0.0\n",
    "        for inputs, labels, img_ids in train_loader:\n",
    "            inputs, labels = inputs.to(device), labels.to(device)\n",
    "            optimizer.zero_grad()\n",
    "            outputs = model(inputs)\n",
    "            loss = criterion(outputs, labels)\n",
    "            loss.backward()\n",
    "            optimizer.step()\n",
    "            running_loss += loss.item()\n",
    "\n",
    "        print(f\"Epoch {epoch + 1}/{NUM_EPOCHS}, Loss: {running_loss / len(train_loader):.4f}\")\n",
    "\n",
    "    # Evaluate the model on the validation set\n",
    "    model.eval()\n",
    "\n",
    "    # Dictionaries to hold true and predicted labels for each ID\n",
    "    id_true_labels_no_argmax = defaultdict(list)\n",
    "    id_pred_labels_no_argmax = defaultdict(list)\n",
    "    \n",
    "    id_true_labels_custom = defaultdict(list)\n",
    "    id_pred_labels_custom = defaultdict(list)\n",
    "\n",
    "    # For image-level confusion matrix\n",
    "    true_labels_image = []\n",
    "    pred_labels_image = []\n",
    "\n",
    "    with torch.no_grad():\n",
    "        for batch_idx, (inputs, labels, image_ids) in enumerate(val_loader):  # We now also get 'ids'\n",
    "            inputs, labels = inputs.to(device), labels.to(device)\n",
    "            outputs = model(inputs)\n",
    "            _, predicted = torch.max(outputs, 1)\n",
    "    \n",
    "            # For image-level confusion matrix and Kappa\n",
    "            true_labels_image.extend(labels.cpu().numpy())\n",
    "            pred_labels_image.extend(predicted.cpu().numpy())\n",
    "    \n",
    "            # For collecting labels by ID for both strategies\n",
    "            for i in range(len(image_ids)):  # Iterate over each image in the batch\n",
    "                image_id = image_ids[i]  # Use the image_id from the batch\n",
    "    \n",
    "                # For No `argmax` ID-level confusion matrix: Collect labels\n",
    "                id_true_labels_no_argmax[image_id].append(labels[i].cpu().numpy())\n",
    "                id_pred_labels_no_argmax[image_id].append(predicted[i].cpu().numpy())\n",
    "    \n",
    "                # For Custom Logic ID-level confusion matrix: Collect labels\n",
    "                id_true_labels_custom[image_id].append(labels[i].cpu().numpy())\n",
    "                id_pred_labels_custom[image_id].append(predicted[i].cpu().numpy())\n",
    "\n",
    "    # Calculate Kappa for Image-level\n",
    "    kappa_image = cohen_kappa_score(true_labels_image, pred_labels_image, weights='quadratic')\n",
    "    kappa_scores_image_level.append(kappa_image)\n",
    "\n",
    "    # Calculate Kappa for ID-level (No `argmax`)\n",
    "    id_true_labels_aggregated_no_argmax = []\n",
    "    id_pred_labels_aggregated_no_argmax = []\n",
    "    for image_id in id_true_labels_no_argmax:\n",
    "        # Most frequent label for each ID\n",
    "        most_frequent_true_label = np.bincount(id_true_labels_no_argmax[image_id]).argmax()\n",
    "        most_frequent_pred_label = np.bincount(id_pred_labels_no_argmax[image_id]).argmax()\n",
    "\n",
    "        id_true_labels_aggregated_no_argmax.append(most_frequent_true_label)\n",
    "        id_pred_labels_aggregated_no_argmax.append(most_frequent_pred_label)\n",
    "\n",
    "    kappa_no_argmax = cohen_kappa_score(id_true_labels_aggregated_no_argmax, id_pred_labels_aggregated_no_argmax, weights='quadratic')\n",
    "    kappa_scores_id_level_no_argmax.append(kappa_no_argmax)\n",
    "\n",
    "    # Calculate Kappa for ID-level (Custom Logic)\n",
    "    # After collecting true and predicted labels per ID, we apply custom logic\n",
    "    id_true_labels_custom_aggregated = []\n",
    "    id_pred_labels_custom_aggregated = []\n",
    "    \n",
    "    for image_id in id_true_labels_custom:\n",
    "        true_labels = id_true_labels_custom[image_id]\n",
    "        pred_labels = id_pred_labels_custom[image_id]\n",
    "    \n",
    "        # Apply custom logic:\n",
    "        # Priority: if the ID has at least one image labeled as 3.0, then it is 3.0, and so on\n",
    "        if 3 in pred_labels:\n",
    "            pred_label = 3\n",
    "        elif 2 in pred_labels:\n",
    "            pred_label = 2\n",
    "        elif 1 in pred_labels:\n",
    "            pred_label = 1\n",
    "        else:\n",
    "            pred_label = 0\n",
    "    \n",
    "        if 3 in true_labels:\n",
    "            true_label = 3\n",
    "        elif 2 in true_labels:\n",
    "            true_label = 2\n",
    "        elif 1 in true_labels:\n",
    "            true_label = 1\n",
    "        else:\n",
    "            true_label = 0\n",
    "    \n",
    "        id_true_labels_custom_aggregated.append(true_label)\n",
    "        id_pred_labels_custom_aggregated.append(pred_label)\n",
    "\n",
    "    kappa_custom_logic = cohen_kappa_score(id_true_labels_custom_aggregated, id_pred_labels_custom_aggregated, weights='quadratic')\n",
    "    kappa_scores_id_level_custom_logic.append(kappa_custom_logic)\n",
    "\n",
    "    print(f\"Fold {fold + 1} Image-level Kappa: {kappa_image:.4f}\")\n",
    "    print(f\"Fold {fold + 1} ID-level No `argmax` Kappa: {kappa_no_argmax:.4f}\")\n",
    "    print(f\"Fold {fold + 1} ID-level Custom Logic Kappa: {kappa_custom_logic:.4f}\")\n",
    "\n",
    "    # Calculate confusion matrix for each case (Image-level, ID-level No `argmax`, ID-level Custom Logic)\n",
    "    cm_image_level = confusion_matrix(true_labels_image, pred_labels_image)\n",
    "    cm_id_no_argmax = confusion_matrix(id_true_labels_aggregated_no_argmax, id_pred_labels_aggregated_no_argmax)\n",
    "    cm_id_custom_logic = confusion_matrix(id_true_labels_custom_aggregated, id_pred_labels_custom_aggregated)\n",
    "\n",
    "    matrices_image_level.append(cm_image_level)\n",
    "    matrices_id_no_argmax.append(cm_id_no_argmax)\n",
    "    matrices_id_custom_logic.append(cm_id_custom_logic)\n",
    "\n",
    "# Calculate the average Kappa scores for all folds\n",
    "average_kappa_image = np.mean(kappa_scores_image_level)\n",
    "average_kappa_no_argmax = np.mean(kappa_scores_id_level_no_argmax)\n",
    "average_kappa_custom_logic = np.mean(kappa_scores_id_level_custom_logic)\n",
    "\n",
    "print(f\"\\nAverage Image-level Kappa: {average_kappa_image:.4f}\")\n",
    "print(f\"Average ID-level No `argmax` Kappa: {average_kappa_no_argmax:.4f}\")\n",
    "print(f\"Average ID-level Custom Logic Kappa: {average_kappa_custom_logic:.4f}\")\n",
    "\n",
    "total_image_level = np.sum(matrices_image_level, axis=0).astype(int)\n",
    "total_id_no_argmax = np.sum(matrices_id_no_argmax, axis=0).astype(int)\n",
    "total_id_custom_logic = np.sum(matrices_id_custom_logic, axis=0).astype(int)\n",
    "\n",
    "# Display confusion matrices\n",
    "print(\"\\nConfusion Matrix (Image-level):\")\n",
    "print(total_image_level)\n",
    "print(\"\\nConfusion Matrix (ID-level No `argmax`):\")\n",
    "print(total_id_no_argmax)\n",
    "print(\"\\nConfusion Matrix (ID-level Custom Logic):\")\n",
    "print(total_id_custom_logic)"
   ]
  },
  {
   "cell_type": "code",
   "execution_count": 27,
   "id": "0eb9ea91",
   "metadata": {
    "execution": {
     "iopub.execute_input": "2024-12-05T02:18:54.082204Z",
     "iopub.status.busy": "2024-12-05T02:18:54.081830Z",
     "iopub.status.idle": "2024-12-05T02:18:54.696423Z",
     "shell.execute_reply": "2024-12-05T02:18:54.695185Z"
    },
    "papermill": {
     "duration": 0.632103,
     "end_time": "2024-12-05T02:18:54.698591",
     "exception": false,
     "start_time": "2024-12-05T02:18:54.066488",
     "status": "completed"
    },
    "tags": []
   },
   "outputs": [
    {
     "data": {
      "image/png": "[encoded data removed]",
      "text/plain": [
       "<Figure size 1400x300 with 4 Axes>"
      ]
     },
     "metadata": {},
     "output_type": "display_data"
    }
   ],
   "source": [
    "total_confusion_matrix = total_image_level\n",
    "\n",
    "# Calculate the percentage confusion matrix by row\n",
    "row_sums = np.sum(total_confusion_matrix, axis=1, keepdims=True)  # Sum of each row\n",
    "percentage_confusion_matrix_by_row = total_confusion_matrix / row_sums * 100  # Normalize by row\n",
    "\n",
    "# Manually format the percentages by adding '%' to each label\n",
    "formatted_percentage_matrix = np.array([['{:.2f}%'.format(val) for val in row] for row in percentage_confusion_matrix_by_row])\n",
    "\n",
    "# Create a figure with two subplots: one for the counts and one for percentages\n",
    "fig, axes = plt.subplots(1, 2, figsize=(14, 3))\n",
    "\n",
    "# Plot the confusion matrix with counts\n",
    "sns.heatmap(total_confusion_matrix, annot=True, fmt=\"d\", cmap=\"Blues\", xticklabels=[0, 1, 2, 3], yticklabels=[0, 1, 2, 3], ax=axes[0], annot_kws={\"size\": 14})\n",
    "axes[0].set_title(\"Confusion Matrix - Counts\", fontsize=16)\n",
    "axes[0].set_xlabel(\"Predicted\", fontsize=14)\n",
    "axes[0].set_ylabel(\"Actual\", fontsize=14)\n",
    "\n",
    "# Increase font size for ticks\n",
    "axes[0].tick_params(axis='x', labelsize=12)\n",
    "axes[0].tick_params(axis='y', labelsize=12)\n",
    "\n",
    "# Plot the confusion matrix with formatted percentages by row\n",
    "sns.heatmap(percentage_confusion_matrix_by_row, annot=formatted_percentage_matrix, fmt=\"s\", cmap=\"Blues\", xticklabels=[0, 1, 2, 3], yticklabels=[0, 1, 2, 3], ax=axes[1], annot_kws={\"size\": 14})\n",
    "axes[1].set_title(\"Confusion Matrix - Percentages (by Row)\", fontsize=16)\n",
    "axes[1].set_xlabel(\"Predicted\", fontsize=14)\n",
    "axes[1].set_ylabel(\"Actual\", fontsize=14)\n",
    "\n",
    "# Increase font size for ticks\n",
    "axes[1].tick_params(axis='x', labelsize=12)\n",
    "axes[1].tick_params(axis='y', labelsize=12)\n",
    "\n",
    "# Adjust layout for better spacing\n",
    "plt.tight_layout()\n",
    "plt.show()"
   ]
  },
  {
   "cell_type": "code",
   "execution_count": 28,
   "id": "e2c2fc0a",
   "metadata": {
    "execution": {
     "iopub.execute_input": "2024-12-05T02:18:54.730696Z",
     "iopub.status.busy": "2024-12-05T02:18:54.730303Z",
     "iopub.status.idle": "2024-12-05T02:18:55.409758Z",
     "shell.execute_reply": "2024-12-05T02:18:55.408670Z"
    },
    "papermill": {
     "duration": 0.697818,
     "end_time": "2024-12-05T02:18:55.411927",
     "exception": false,
     "start_time": "2024-12-05T02:18:54.714109",
     "status": "completed"
    },
    "tags": []
   },
   "outputs": [
    {
     "data": {
      "image/png": "[encoded data removed]",
      "text/plain": [
       "<Figure size 1400x300 with 4 Axes>"
      ]
     },
     "metadata": {},
     "output_type": "display_data"
    }
   ],
   "source": [
    "total_confusion_matrix = total_id_no_argmax\n",
    "\n",
    "# Calculate the percentage confusion matrix by row\n",
    "row_sums = np.sum(total_confusion_matrix, axis=1, keepdims=True)  # Sum of each row\n",
    "percentage_confusion_matrix_by_row = total_confusion_matrix / row_sums * 100  # Normalize by row\n",
    "\n",
    "# Manually format the percentages by adding '%' to each label\n",
    "formatted_percentage_matrix = np.array([['{:.2f}%'.format(val) for val in row] for row in percentage_confusion_matrix_by_row])\n",
    "\n",
    "# Create a figure with two subplots: one for the counts and one for percentages\n",
    "fig, axes = plt.subplots(1, 2, figsize=(14, 3))\n",
    "\n",
    "# Plot the confusion matrix with counts\n",
    "sns.heatmap(total_confusion_matrix, annot=True, fmt=\"d\", cmap=\"Blues\", xticklabels=[0, 1, 2, 3], yticklabels=[0, 1, 2, 3], ax=axes[0], annot_kws={\"size\": 14})\n",
    "axes[0].set_title(\"Confusion Matrix - Counts\", fontsize=16)\n",
    "axes[0].set_xlabel(\"Predicted\", fontsize=14)\n",
    "axes[0].set_ylabel(\"Actual\", fontsize=14)\n",
    "\n",
    "# Increase font size for ticks\n",
    "axes[0].tick_params(axis='x', labelsize=12)\n",
    "axes[0].tick_params(axis='y', labelsize=12)\n",
    "\n",
    "# Plot the confusion matrix with formatted percentages by row\n",
    "sns.heatmap(percentage_confusion_matrix_by_row, annot=formatted_percentage_matrix, fmt=\"s\", cmap=\"Blues\", xticklabels=[0, 1, 2, 3], yticklabels=[0, 1, 2, 3], ax=axes[1], annot_kws={\"size\": 14})\n",
    "axes[1].set_title(\"Confusion Matrix - Percentages (by Row)\", fontsize=16)\n",
    "axes[1].set_xlabel(\"Predicted\", fontsize=14)\n",
    "axes[1].set_ylabel(\"Actual\", fontsize=14)\n",
    "\n",
    "# Increase font size for ticks\n",
    "axes[1].tick_params(axis='x', labelsize=12)\n",
    "axes[1].tick_params(axis='y', labelsize=12)\n",
    "\n",
    "# Adjust layout for better spacing\n",
    "plt.tight_layout()\n",
    "plt.show()"
   ]
  },
  {
   "cell_type": "code",
   "execution_count": 29,
   "id": "ffbd0048",
   "metadata": {
    "execution": {
     "iopub.execute_input": "2024-12-05T02:18:55.448623Z",
     "iopub.status.busy": "2024-12-05T02:18:55.448201Z",
     "iopub.status.idle": "2024-12-05T02:18:56.145424Z",
     "shell.execute_reply": "2024-12-05T02:18:56.144318Z"
    },
    "papermill": {
     "duration": 0.718958,
     "end_time": "2024-12-05T02:18:56.147777",
     "exception": false,
     "start_time": "2024-12-05T02:18:55.428819",
     "status": "completed"
    },
    "tags": []
   },
   "outputs": [
    {
     "data": {
      "image/png": "[encoded data removed]",
      "text/plain": [
       "<Figure size 1400x300 with 4 Axes>"
      ]
     },
     "metadata": {},
     "output_type": "display_data"
    }
   ],
   "source": [
    "total_confusion_matrix = total_id_custom_logic\n",
    "\n",
    "# Calculate the percentage confusion matrix by row\n",
    "row_sums = np.sum(total_confusion_matrix, axis=1, keepdims=True)  # Sum of each row\n",
    "percentage_confusion_matrix_by_row = total_confusion_matrix / row_sums * 100  # Normalize by row\n",
    "\n",
    "# Manually format the percentages by adding '%' to each label\n",
    "formatted_percentage_matrix = np.array([['{:.2f}%'.format(val) for val in row] for row in percentage_confusion_matrix_by_row])\n",
    "\n",
    "# Create a figure with two subplots: one for the counts and one for percentages\n",
    "fig, axes = plt.subplots(1, 2, figsize=(14, 3))\n",
    "\n",
    "# Plot the confusion matrix with counts\n",
    "sns.heatmap(total_confusion_matrix, annot=True, fmt=\"d\", cmap=\"Blues\", xticklabels=[0, 1, 2, 3], yticklabels=[0, 1, 2, 3], ax=axes[0], annot_kws={\"size\": 14})\n",
    "axes[0].set_title(\"Confusion Matrix - Counts\", fontsize=16)\n",
    "axes[0].set_xlabel(\"Predicted\", fontsize=14)\n",
    "axes[0].set_ylabel(\"Actual\", fontsize=14)\n",
    "\n",
    "# Increase font size for ticks\n",
    "axes[0].tick_params(axis='x', labelsize=12)\n",
    "axes[0].tick_params(axis='y', labelsize=12)\n",
    "\n",
    "# Plot the confusion matrix with formatted percentages by row\n",
    "sns.heatmap(percentage_confusion_matrix_by_row, annot=formatted_percentage_matrix, fmt=\"s\", cmap=\"Blues\", xticklabels=[0, 1, 2, 3], yticklabels=[0, 1, 2, 3], ax=axes[1], annot_kws={\"size\": 14})\n",
    "axes[1].set_title(\"Confusion Matrix - Percentages (by Row)\", fontsize=16)\n",
    "axes[1].set_xlabel(\"Predicted\", fontsize=14)\n",
    "axes[1].set_ylabel(\"Actual\", fontsize=14)\n",
    "\n",
    "# Increase font size for ticks\n",
    "axes[1].tick_params(axis='x', labelsize=12)\n",
    "axes[1].tick_params(axis='y', labelsize=12)\n",
    "\n",
    "# Adjust layout for better spacing\n",
    "plt.tight_layout()\n",
    "plt.show()"
   ]
  }
 ],
 "metadata": {
  "kaggle": {
   "accelerator": "none",
   "dataSources": [
    {
     "databundleVersionId": 9643020,
     "sourceId": 81933,
     "sourceType": "competition"
    },
    {
     "datasetId": 6151344,
     "sourceId": 10000068,
     "sourceType": "datasetVersion"
    },
    {
     "datasetId": 6151337,
     "sourceId": 10000072,
     "sourceType": "datasetVersion"
    },
    {
     "datasetId": 6155220,
     "sourceId": 10000083,
     "sourceType": "datasetVersion"
    },
    {
     "datasetId": 6155222,
     "sourceId": 10000089,
     "sourceType": "datasetVersion"
    },
    {
     "datasetId": 6155225,
     "sourceId": 10000093,
     "sourceType": "datasetVersion"
    },
    {
     "datasetId": 6155482,
     "sourceId": 10000465,
     "sourceType": "datasetVersion"
    },
    {
     "datasetId": 6047696,
     "sourceId": 10019991,
     "sourceType": "datasetVersion"
    }
   ],
   "dockerImageVersionId": 30804,
   "isGpuEnabled": false,
   "isInternetEnabled": true,
   "language": "python",
   "sourceType": "notebook"
  },
  "kernelspec": {
   "display_name": "Python 3",
   "language": "python",
   "name": "python3"
  },
  "language_info": {
   "codemirror_mode": {
    "name": "ipython",
    "version": 3
   },
   "file_extension": ".py",
   "mimetype": "text/x-python",
   "name": "python",
   "nbconvert_exporter": "python",
   "pygments_lexer": "ipython3",
   "version": "3.10.14"
  },
  "papermill": {
   "default_parameters": {},
   "duration": 20312.196684,
   "end_time": "2024-12-05T02:18:57.794496",
   "environment_variables": {},
   "exception": null,
   "input_path": "__notebook__.ipynb",
   "output_path": "__notebook__.ipynb",
   "parameters": {},
   "start_time": "2024-12-04T20:40:25.597812",
   "version": "2.6.0"
  }
 },
 "nbformat": 4,
 "nbformat_minor": 5
}

{
 "cells": [
  {
   "cell_type": "markdown",
   "id": "09fe68cb",
   "metadata": {
    "papermill": {
     "duration": 0.014697,
     "end_time": "2024-11-13T21:50:12.053861",
     "exception": false,
     "start_time": "2024-11-13T21:50:12.039164",
     "status": "completed"
    },
    "tags": []
   },
   "source": [
    "# Libraries"
   ]
  },
  {
   "cell_type": "code",
   "execution_count": 1,
   "id": "8271c6a1",
   "metadata": {
    "execution": {
     "iopub.execute_input": "2024-11-13T21:50:12.080004Z",
     "iopub.status.busy": "2024-11-13T21:50:12.078840Z",
     "iopub.status.idle": "2024-11-13T21:50:15.526929Z",
     "shell.execute_reply": "2024-11-13T21:50:15.525722Z"
    },
    "papermill": {
     "duration": 3.464866,
     "end_time": "2024-11-13T21:50:15.529753",
     "exception": false,
     "start_time": "2024-11-13T21:50:12.064887",
     "status": "completed"
    },
    "tags": []
   },
   "outputs": [],
   "source": [
    "import gc\n",
    "import pandas as pd\n",
    "import numpy as np\n",
    "import datetime as dt\n",
    "\n",
    "import matplotlib.pyplot as plt\n",
    "import matplotlib.cm as cm\n",
    "import seaborn as sns\n",
    "\n",
    "import plotly.graph_objects as go\n",
    "from plotly.subplots import make_subplots\n",
    "import plotly.express as px\n",
    "import plotly.offline\n",
    "\n",
    "from colorama import Fore, Style, init\n",
    "from pprint import pprint\n",
    "\n",
    "# 🚫 Suppressing warnings 🚫\n",
    "import warnings\n",
    "warnings.filterwarnings('ignore')"
   ]
  },
  {
   "cell_type": "code",
   "execution_count": 2,
   "id": "16d8599e",
   "metadata": {
    "execution": {
     "iopub.execute_input": "2024-11-13T21:50:15.554190Z",
     "iopub.status.busy": "2024-11-13T21:50:15.553566Z",
     "iopub.status.idle": "2024-11-13T21:50:17.887273Z",
     "shell.execute_reply": "2024-11-13T21:50:17.886112Z"
    },
    "papermill": {
     "duration": 2.348845,
     "end_time": "2024-11-13T21:50:17.890025",
     "exception": false,
     "start_time": "2024-11-13T21:50:15.541180",
     "status": "completed"
    },
    "tags": []
   },
   "outputs": [],
   "source": [
    "import numpy as np\n",
    "import pandas as pd\n",
    "import lightgbm as lgb\n",
    "import optuna\n",
    "from sklearn.metrics import cohen_kappa_score, make_scorer, confusion_matrix\n",
    "from sklearn.model_selection import StratifiedKFold, cross_val_score\n",
    "from sklearn.pipeline import Pipeline\n",
    "from sklearn.impute import SimpleImputer\n",
    "from sklearn.preprocessing import StandardScaler, OneHotEncoder\n",
    "from sklearn.compose import ColumnTransformer\n",
    "from sklearn.linear_model import LogisticRegression\n",
    "from sklearn.tree import DecisionTreeClassifier\n",
    "from sklearn.ensemble import RandomForestClassifier\n",
    "from sklearn.neural_network import MLPClassifier\n",
    "from imblearn.over_sampling import SMOTE\n",
    "import seaborn as sns\n",
    "import matplotlib.pyplot as plt\n",
    "from scipy.optimize import minimize\n",
    "import xgboost as xgb"
   ]
  },
  {
   "cell_type": "code",
   "execution_count": 3,
   "id": "185cf8f5",
   "metadata": {
    "execution": {
     "iopub.execute_input": "2024-11-13T21:50:17.914062Z",
     "iopub.status.busy": "2024-11-13T21:50:17.913361Z",
     "iopub.status.idle": "2024-11-13T21:50:17.919003Z",
     "shell.execute_reply": "2024-11-13T21:50:17.917796Z"
    },
    "papermill": {
     "duration": 0.020099,
     "end_time": "2024-11-13T21:50:17.921256",
     "exception": false,
     "start_time": "2024-11-13T21:50:17.901157",
     "status": "completed"
    },
    "tags": []
   },
   "outputs": [],
   "source": [
    "SEED = 42\n",
    "n_splits = 5"
   ]
  },
  {
   "cell_type": "markdown",
   "id": "b7bedcdd",
   "metadata": {
    "papermill": {
     "duration": 0.010582,
     "end_time": "2024-11-13T21:50:17.942809",
     "exception": false,
     "start_time": "2024-11-13T21:50:17.932227",
     "status": "completed"
    },
    "tags": []
   },
   "source": [
    "# Load data"
   ]
  },
  {
   "cell_type": "code",
   "execution_count": 4,
   "id": "a02d2ed5",
   "metadata": {
    "execution": {
     "iopub.execute_input": "2024-11-13T21:50:17.966441Z",
     "iopub.status.busy": "2024-11-13T21:50:17.965578Z",
     "iopub.status.idle": "2024-11-13T21:50:17.990530Z",
     "shell.execute_reply": "2024-11-13T21:50:17.989234Z"
    },
    "papermill": {
     "duration": 0.039686,
     "end_time": "2024-11-13T21:50:17.993134",
     "exception": false,
     "start_time": "2024-11-13T21:50:17.953448",
     "status": "completed"
    },
    "tags": []
   },
   "outputs": [
    {
     "data": {
      "text/plain": [
       "20"
      ]
     },
     "execution_count": 4,
     "metadata": {},
     "output_type": "execute_result"
    }
   ],
   "source": [
    "test = pd.read_csv('/kaggle/input/child-mind-institute-problematic-internet-use/test.csv')\n",
    "len(test)"
   ]
  },
  {
   "cell_type": "code",
   "execution_count": 5,
   "id": "801be11d",
   "metadata": {
    "execution": {
     "iopub.execute_input": "2024-11-13T21:50:18.017398Z",
     "iopub.status.busy": "2024-11-13T21:50:18.016996Z",
     "iopub.status.idle": "2024-11-13T21:50:18.057971Z",
     "shell.execute_reply": "2024-11-13T21:50:18.056705Z"
    },
    "papermill": {
     "duration": 0.055699,
     "end_time": "2024-11-13T21:50:18.060377",
     "exception": false,
     "start_time": "2024-11-13T21:50:18.004678",
     "status": "completed"
    },
    "tags": []
   },
   "outputs": [
    {
     "data": {
      "text/html": [
       "<div>\n",
       "<style scoped>\n",
       "    .dataframe tbody tr th:only-of-type {\n",
       "        vertical-align: middle;\n",
       "    }\n",
       "\n",
       "    .dataframe tbody tr th {\n",
       "        vertical-align: top;\n",
       "    }\n",
       "\n",
       "    .dataframe thead th {\n",
       "        text-align: right;\n",
       "    }\n",
       "</style>\n",
       "<table border=\"1\" class=\"dataframe\">\n",
       "  <thead>\n",
       "    <tr style=\"text-align: right;\">\n",
       "      <th></th>\n",
       "      <th>id</th>\n",
       "      <th>Basic_Demos-Enroll_Season</th>\n",
       "      <th>Basic_Demos-Age</th>\n",
       "      <th>Basic_Demos-Sex</th>\n",
       "      <th>CGAS-Season</th>\n",
       "      <th>CGAS-CGAS_Score</th>\n",
       "      <th>Physical-Season</th>\n",
       "      <th>Physical-BMI</th>\n",
       "      <th>Physical-Height</th>\n",
       "      <th>Physical-Weight</th>\n",
       "      <th>...</th>\n",
       "      <th>BIA-BIA_TBW</th>\n",
       "      <th>PAQ_A-Season</th>\n",
       "      <th>PAQ_A-PAQ_A_Total</th>\n",
       "      <th>PAQ_C-Season</th>\n",
       "      <th>PAQ_C-PAQ_C_Total</th>\n",
       "      <th>SDS-Season</th>\n",
       "      <th>SDS-SDS_Total_Raw</th>\n",
       "      <th>SDS-SDS_Total_T</th>\n",
       "      <th>PreInt_EduHx-Season</th>\n",
       "      <th>PreInt_EduHx-computerinternet_hoursday</th>\n",
       "    </tr>\n",
       "  </thead>\n",
       "  <tbody>\n",
       "    <tr>\n",
       "      <th>0</th>\n",
       "      <td>00008ff9</td>\n",
       "      <td>Fall</td>\n",
       "      <td>5</td>\n",
       "      <td>0</td>\n",
       "      <td>Winter</td>\n",
       "      <td>51.0</td>\n",
       "      <td>Fall</td>\n",
       "      <td>16.877316</td>\n",
       "      <td>46.0</td>\n",
       "      <td>50.8</td>\n",
       "      <td>...</td>\n",
       "      <td>32.6909</td>\n",
       "      <td>NaN</td>\n",
       "      <td>NaN</td>\n",
       "      <td>NaN</td>\n",
       "      <td>NaN</td>\n",
       "      <td>NaN</td>\n",
       "      <td>NaN</td>\n",
       "      <td>NaN</td>\n",
       "      <td>Fall</td>\n",
       "      <td>3.0</td>\n",
       "    </tr>\n",
       "    <tr>\n",
       "      <th>1</th>\n",
       "      <td>000fd460</td>\n",
       "      <td>Summer</td>\n",
       "      <td>9</td>\n",
       "      <td>0</td>\n",
       "      <td>NaN</td>\n",
       "      <td>NaN</td>\n",
       "      <td>Fall</td>\n",
       "      <td>14.035590</td>\n",
       "      <td>48.0</td>\n",
       "      <td>46.0</td>\n",
       "      <td>...</td>\n",
       "      <td>27.0552</td>\n",
       "      <td>NaN</td>\n",
       "      <td>NaN</td>\n",
       "      <td>Fall</td>\n",
       "      <td>2.340</td>\n",
       "      <td>Fall</td>\n",
       "      <td>46.0</td>\n",
       "      <td>64.0</td>\n",
       "      <td>Summer</td>\n",
       "      <td>0.0</td>\n",
       "    </tr>\n",
       "    <tr>\n",
       "      <th>2</th>\n",
       "      <td>00105258</td>\n",
       "      <td>Summer</td>\n",
       "      <td>10</td>\n",
       "      <td>1</td>\n",
       "      <td>Fall</td>\n",
       "      <td>71.0</td>\n",
       "      <td>Fall</td>\n",
       "      <td>16.648696</td>\n",
       "      <td>56.5</td>\n",
       "      <td>75.6</td>\n",
       "      <td>...</td>\n",
       "      <td>NaN</td>\n",
       "      <td>NaN</td>\n",
       "      <td>NaN</td>\n",
       "      <td>Summer</td>\n",
       "      <td>2.170</td>\n",
       "      <td>Fall</td>\n",
       "      <td>38.0</td>\n",
       "      <td>54.0</td>\n",
       "      <td>Summer</td>\n",
       "      <td>2.0</td>\n",
       "    </tr>\n",
       "    <tr>\n",
       "      <th>3</th>\n",
       "      <td>00115b9f</td>\n",
       "      <td>Winter</td>\n",
       "      <td>9</td>\n",
       "      <td>0</td>\n",
       "      <td>Fall</td>\n",
       "      <td>71.0</td>\n",
       "      <td>Summer</td>\n",
       "      <td>18.292347</td>\n",
       "      <td>56.0</td>\n",
       "      <td>81.6</td>\n",
       "      <td>...</td>\n",
       "      <td>45.9966</td>\n",
       "      <td>NaN</td>\n",
       "      <td>NaN</td>\n",
       "      <td>Winter</td>\n",
       "      <td>2.451</td>\n",
       "      <td>Summer</td>\n",
       "      <td>31.0</td>\n",
       "      <td>45.0</td>\n",
       "      <td>Winter</td>\n",
       "      <td>0.0</td>\n",
       "    </tr>\n",
       "    <tr>\n",
       "      <th>4</th>\n",
       "      <td>0016bb22</td>\n",
       "      <td>Spring</td>\n",
       "      <td>18</td>\n",
       "      <td>1</td>\n",
       "      <td>Summer</td>\n",
       "      <td>NaN</td>\n",
       "      <td>NaN</td>\n",
       "      <td>NaN</td>\n",
       "      <td>NaN</td>\n",
       "      <td>NaN</td>\n",
       "      <td>...</td>\n",
       "      <td>NaN</td>\n",
       "      <td>Summer</td>\n",
       "      <td>1.04</td>\n",
       "      <td>NaN</td>\n",
       "      <td>NaN</td>\n",
       "      <td>NaN</td>\n",
       "      <td>NaN</td>\n",
       "      <td>NaN</td>\n",
       "      <td>NaN</td>\n",
       "      <td>NaN</td>\n",
       "    </tr>\n",
       "  </tbody>\n",
       "</table>\n",
       "<p>5 rows × 59 columns</p>\n",
       "</div>"
      ],
      "text/plain": [
       "         id Basic_Demos-Enroll_Season  Basic_Demos-Age  Basic_Demos-Sex  \\\n",
       "0  00008ff9                      Fall                5                0   \n",
       "1  000fd460                    Summer                9                0   \n",
       "2  00105258                    Summer               10                1   \n",
       "3  00115b9f                    Winter                9                0   \n",
       "4  0016bb22                    Spring               18                1   \n",
       "\n",
       "  CGAS-Season  CGAS-CGAS_Score Physical-Season  Physical-BMI  Physical-Height  \\\n",
       "0      Winter             51.0            Fall     16.877316             46.0   \n",
       "1         NaN              NaN            Fall     14.035590             48.0   \n",
       "2        Fall             71.0            Fall     16.648696             56.5   \n",
       "3        Fall             71.0          Summer     18.292347             56.0   \n",
       "4      Summer              NaN             NaN           NaN              NaN   \n",
       "\n",
       "   Physical-Weight  ...  BIA-BIA_TBW  PAQ_A-Season  PAQ_A-PAQ_A_Total  \\\n",
       "0             50.8  ...      32.6909           NaN                NaN   \n",
       "1             46.0  ...      27.0552           NaN                NaN   \n",
       "2             75.6  ...          NaN           NaN                NaN   \n",
       "3             81.6  ...      45.9966           NaN                NaN   \n",
       "4              NaN  ...          NaN        Summer               1.04   \n",
       "\n",
       "   PAQ_C-Season PAQ_C-PAQ_C_Total  SDS-Season  SDS-SDS_Total_Raw  \\\n",
       "0           NaN               NaN         NaN                NaN   \n",
       "1          Fall             2.340        Fall               46.0   \n",
       "2        Summer             2.170        Fall               38.0   \n",
       "3        Winter             2.451      Summer               31.0   \n",
       "4           NaN               NaN         NaN                NaN   \n",
       "\n",
       "   SDS-SDS_Total_T PreInt_EduHx-Season  PreInt_EduHx-computerinternet_hoursday  \n",
       "0              NaN                Fall                                     3.0  \n",
       "1             64.0              Summer                                     0.0  \n",
       "2             54.0              Summer                                     2.0  \n",
       "3             45.0              Winter                                     0.0  \n",
       "4              NaN                 NaN                                     NaN  \n",
       "\n",
       "[5 rows x 59 columns]"
      ]
     },
     "execution_count": 5,
     "metadata": {},
     "output_type": "execute_result"
    }
   ],
   "source": [
    "test.head(5)"
   ]
  },
  {
   "cell_type": "code",
   "execution_count": 6,
   "id": "677cfd11",
   "metadata": {
    "execution": {
     "iopub.execute_input": "2024-11-13T21:50:18.084531Z",
     "iopub.status.busy": "2024-11-13T21:50:18.084149Z",
     "iopub.status.idle": "2024-11-13T21:50:18.162980Z",
     "shell.execute_reply": "2024-11-13T21:50:18.161678Z"
    },
    "papermill": {
     "duration": 0.093752,
     "end_time": "2024-11-13T21:50:18.165365",
     "exception": false,
     "start_time": "2024-11-13T21:50:18.071613",
     "status": "completed"
    },
    "tags": []
   },
   "outputs": [
    {
     "data": {
      "text/plain": [
       "3960"
      ]
     },
     "execution_count": 6,
     "metadata": {},
     "output_type": "execute_result"
    }
   ],
   "source": [
    "df = pd.read_csv('/kaggle/input/colombian-frenchteam-problematicinternetusage/Dataset_problematic_internet_usage.csv')\n",
    "len(df)"
   ]
  },
  {
   "cell_type": "code",
   "execution_count": 7,
   "id": "ec8b1c6f",
   "metadata": {
    "execution": {
     "iopub.execute_input": "2024-11-13T21:50:18.190246Z",
     "iopub.status.busy": "2024-11-13T21:50:18.189491Z",
     "iopub.status.idle": "2024-11-13T21:50:18.216288Z",
     "shell.execute_reply": "2024-11-13T21:50:18.214804Z"
    },
    "papermill": {
     "duration": 0.042021,
     "end_time": "2024-11-13T21:50:18.218798",
     "exception": false,
     "start_time": "2024-11-13T21:50:18.176777",
     "status": "completed"
    },
    "tags": []
   },
   "outputs": [
    {
     "data": {
      "text/html": [
       "<div>\n",
       "<style scoped>\n",
       "    .dataframe tbody tr th:only-of-type {\n",
       "        vertical-align: middle;\n",
       "    }\n",
       "\n",
       "    .dataframe tbody tr th {\n",
       "        vertical-align: top;\n",
       "    }\n",
       "\n",
       "    .dataframe thead th {\n",
       "        text-align: right;\n",
       "    }\n",
       "</style>\n",
       "<table border=\"1\" class=\"dataframe\">\n",
       "  <thead>\n",
       "    <tr style=\"text-align: right;\">\n",
       "      <th></th>\n",
       "      <th>Unnamed: 0</th>\n",
       "      <th>id</th>\n",
       "      <th>Basic_Demos-Enroll_Season</th>\n",
       "      <th>Basic_Demos-Age</th>\n",
       "      <th>Basic_Demos-Sex</th>\n",
       "      <th>CGAS-Season</th>\n",
       "      <th>CGAS-CGAS_Score</th>\n",
       "      <th>Physical-Season</th>\n",
       "      <th>Physical-BMI</th>\n",
       "      <th>Physical-Height</th>\n",
       "      <th>...</th>\n",
       "      <th>PCIAT-PCIAT_20</th>\n",
       "      <th>PCIAT-PCIAT_Total</th>\n",
       "      <th>SDS-Season</th>\n",
       "      <th>SDS-SDS_Total_Raw</th>\n",
       "      <th>SDS-SDS_Total_T</th>\n",
       "      <th>PreInt_EduHx-Season</th>\n",
       "      <th>PreInt_EduHx-computerinternet_hoursday</th>\n",
       "      <th>sii</th>\n",
       "      <th>Has_actigraphy_data</th>\n",
       "      <th>Train_Test_Label</th>\n",
       "    </tr>\n",
       "  </thead>\n",
       "  <tbody>\n",
       "    <tr>\n",
       "      <th>0</th>\n",
       "      <td>0</td>\n",
       "      <td>00008ff9</td>\n",
       "      <td>Fall</td>\n",
       "      <td>5</td>\n",
       "      <td>0</td>\n",
       "      <td>Winter</td>\n",
       "      <td>51.0</td>\n",
       "      <td>Fall</td>\n",
       "      <td>16.877316</td>\n",
       "      <td>46.0</td>\n",
       "      <td>...</td>\n",
       "      <td>4.0</td>\n",
       "      <td>55.0</td>\n",
       "      <td>NaN</td>\n",
       "      <td>NaN</td>\n",
       "      <td>NaN</td>\n",
       "      <td>Fall</td>\n",
       "      <td>3.0</td>\n",
       "      <td>2.0</td>\n",
       "      <td>No</td>\n",
       "      <td>isnotintrainset</td>\n",
       "    </tr>\n",
       "    <tr>\n",
       "      <th>1</th>\n",
       "      <td>1</td>\n",
       "      <td>000fd460</td>\n",
       "      <td>Summer</td>\n",
       "      <td>9</td>\n",
       "      <td>0</td>\n",
       "      <td>NaN</td>\n",
       "      <td>NaN</td>\n",
       "      <td>Fall</td>\n",
       "      <td>14.035590</td>\n",
       "      <td>48.0</td>\n",
       "      <td>...</td>\n",
       "      <td>0.0</td>\n",
       "      <td>0.0</td>\n",
       "      <td>Fall</td>\n",
       "      <td>46.0</td>\n",
       "      <td>64.0</td>\n",
       "      <td>Summer</td>\n",
       "      <td>0.0</td>\n",
       "      <td>0.0</td>\n",
       "      <td>No</td>\n",
       "      <td>isnotintrainset</td>\n",
       "    </tr>\n",
       "    <tr>\n",
       "      <th>2</th>\n",
       "      <td>2</td>\n",
       "      <td>00105258</td>\n",
       "      <td>Summer</td>\n",
       "      <td>10</td>\n",
       "      <td>1</td>\n",
       "      <td>Fall</td>\n",
       "      <td>71.0</td>\n",
       "      <td>Fall</td>\n",
       "      <td>16.648696</td>\n",
       "      <td>56.5</td>\n",
       "      <td>...</td>\n",
       "      <td>1.0</td>\n",
       "      <td>28.0</td>\n",
       "      <td>Fall</td>\n",
       "      <td>38.0</td>\n",
       "      <td>54.0</td>\n",
       "      <td>Summer</td>\n",
       "      <td>2.0</td>\n",
       "      <td>0.0</td>\n",
       "      <td>No</td>\n",
       "      <td>isnotintrainset</td>\n",
       "    </tr>\n",
       "    <tr>\n",
       "      <th>3</th>\n",
       "      <td>3</td>\n",
       "      <td>00115b9f</td>\n",
       "      <td>Winter</td>\n",
       "      <td>9</td>\n",
       "      <td>0</td>\n",
       "      <td>Fall</td>\n",
       "      <td>71.0</td>\n",
       "      <td>Summer</td>\n",
       "      <td>18.292347</td>\n",
       "      <td>56.0</td>\n",
       "      <td>...</td>\n",
       "      <td>1.0</td>\n",
       "      <td>44.0</td>\n",
       "      <td>Summer</td>\n",
       "      <td>31.0</td>\n",
       "      <td>45.0</td>\n",
       "      <td>Winter</td>\n",
       "      <td>0.0</td>\n",
       "      <td>1.0</td>\n",
       "      <td>Yes</td>\n",
       "      <td>train</td>\n",
       "    </tr>\n",
       "    <tr>\n",
       "      <th>4</th>\n",
       "      <td>4</td>\n",
       "      <td>0016bb22</td>\n",
       "      <td>Spring</td>\n",
       "      <td>18</td>\n",
       "      <td>1</td>\n",
       "      <td>Summer</td>\n",
       "      <td>NaN</td>\n",
       "      <td>NaN</td>\n",
       "      <td>NaN</td>\n",
       "      <td>NaN</td>\n",
       "      <td>...</td>\n",
       "      <td>NaN</td>\n",
       "      <td>NaN</td>\n",
       "      <td>NaN</td>\n",
       "      <td>NaN</td>\n",
       "      <td>NaN</td>\n",
       "      <td>NaN</td>\n",
       "      <td>NaN</td>\n",
       "      <td>NaN</td>\n",
       "      <td>No</td>\n",
       "      <td>isnotintrainset</td>\n",
       "    </tr>\n",
       "  </tbody>\n",
       "</table>\n",
       "<p>5 rows × 85 columns</p>\n",
       "</div>"
      ],
      "text/plain": [
       "   Unnamed: 0        id Basic_Demos-Enroll_Season  Basic_Demos-Age  \\\n",
       "0           0  00008ff9                      Fall                5   \n",
       "1           1  000fd460                    Summer                9   \n",
       "2           2  00105258                    Summer               10   \n",
       "3           3  00115b9f                    Winter                9   \n",
       "4           4  0016bb22                    Spring               18   \n",
       "\n",
       "   Basic_Demos-Sex CGAS-Season  CGAS-CGAS_Score Physical-Season  Physical-BMI  \\\n",
       "0                0      Winter             51.0            Fall     16.877316   \n",
       "1                0         NaN              NaN            Fall     14.035590   \n",
       "2                1        Fall             71.0            Fall     16.648696   \n",
       "3                0        Fall             71.0          Summer     18.292347   \n",
       "4                1      Summer              NaN             NaN           NaN   \n",
       "\n",
       "   Physical-Height  ...  PCIAT-PCIAT_20  PCIAT-PCIAT_Total  SDS-Season  \\\n",
       "0             46.0  ...             4.0               55.0         NaN   \n",
       "1             48.0  ...             0.0                0.0        Fall   \n",
       "2             56.5  ...             1.0               28.0        Fall   \n",
       "3             56.0  ...             1.0               44.0      Summer   \n",
       "4              NaN  ...             NaN                NaN         NaN   \n",
       "\n",
       "   SDS-SDS_Total_Raw  SDS-SDS_Total_T PreInt_EduHx-Season  \\\n",
       "0                NaN              NaN                Fall   \n",
       "1               46.0             64.0              Summer   \n",
       "2               38.0             54.0              Summer   \n",
       "3               31.0             45.0              Winter   \n",
       "4                NaN              NaN                 NaN   \n",
       "\n",
       "   PreInt_EduHx-computerinternet_hoursday  sii  Has_actigraphy_data  \\\n",
       "0                                     3.0  2.0                   No   \n",
       "1                                     0.0  0.0                   No   \n",
       "2                                     2.0  0.0                   No   \n",
       "3                                     0.0  1.0                  Yes   \n",
       "4                                     NaN  NaN                   No   \n",
       "\n",
       "  Train_Test_Label  \n",
       "0  isnotintrainset  \n",
       "1  isnotintrainset  \n",
       "2  isnotintrainset  \n",
       "3            train  \n",
       "4  isnotintrainset  \n",
       "\n",
       "[5 rows x 85 columns]"
      ]
     },
     "execution_count": 7,
     "metadata": {},
     "output_type": "execute_result"
    }
   ],
   "source": [
    "df.head(5)"
   ]
  },
  {
   "cell_type": "code",
   "execution_count": 8,
   "id": "f53a6829",
   "metadata": {
    "execution": {
     "iopub.execute_input": "2024-11-13T21:50:18.246218Z",
     "iopub.status.busy": "2024-11-13T21:50:18.245742Z",
     "iopub.status.idle": "2024-11-13T21:50:18.263611Z",
     "shell.execute_reply": "2024-11-13T21:50:18.262135Z"
    },
    "papermill": {
     "duration": 0.034881,
     "end_time": "2024-11-13T21:50:18.266336",
     "exception": false,
     "start_time": "2024-11-13T21:50:18.231455",
     "status": "completed"
    },
    "tags": []
   },
   "outputs": [
    {
     "name": "stdout",
     "output_type": "stream",
     "text": [
      "     Count  Percentage\n",
      "sii                   \n",
      "0.0   1594   40.252525\n",
      "NaN   1224   30.909091\n",
      "1.0    730   18.434343\n",
      "2.0    378    9.545455\n",
      "3.0     34    0.858586\n"
     ]
    }
   ],
   "source": [
    "sii_counts = df['sii'].value_counts(dropna=False)\n",
    "sii_percentages = (sii_counts / sii_counts.sum()) * 100\n",
    "sii_summary = pd.DataFrame({'Count': sii_counts,'Percentage': sii_percentages})\n",
    "\n",
    "print(sii_summary)"
   ]
  },
  {
   "cell_type": "markdown",
   "id": "f243b839",
   "metadata": {
    "papermill": {
     "duration": 0.012907,
     "end_time": "2024-11-13T21:50:18.292190",
     "exception": false,
     "start_time": "2024-11-13T21:50:18.279283",
     "status": "completed"
    },
    "tags": []
   },
   "source": [
    "# Processing the data"
   ]
  },
  {
   "cell_type": "code",
   "execution_count": 9,
   "id": "7f2353a6",
   "metadata": {
    "execution": {
     "iopub.execute_input": "2024-11-13T21:50:18.319605Z",
     "iopub.status.busy": "2024-11-13T21:50:18.318650Z",
     "iopub.status.idle": "2024-11-13T21:50:18.325715Z",
     "shell.execute_reply": "2024-11-13T21:50:18.324578Z"
    },
    "papermill": {
     "duration": 0.02303,
     "end_time": "2024-11-13T21:50:18.328203",
     "exception": false,
     "start_time": "2024-11-13T21:50:18.305173",
     "status": "completed"
    },
    "tags": []
   },
   "outputs": [],
   "source": [
    "featuresCols = ['Basic_Demos-Enroll_Season', 'Basic_Demos-Age', 'Basic_Demos-Sex',\n",
    "                'CGAS-Season', 'CGAS-CGAS_Score', 'Physical-Season', 'Physical-BMI',\n",
    "                'Physical-Height', 'Physical-Weight', 'Physical-Waist_Circumference',\n",
    "                'Physical-Diastolic_BP', 'Physical-HeartRate', 'Physical-Systolic_BP',\n",
    "                'Fitness_Endurance-Season', 'Fitness_Endurance-Max_Stage',\n",
    "                'Fitness_Endurance-Time_Mins', 'Fitness_Endurance-Time_Sec',\n",
    "                'FGC-Season', 'FGC-FGC_CU', 'FGC-FGC_CU_Zone', 'FGC-FGC_GSND',\n",
    "                'FGC-FGC_GSND_Zone', 'FGC-FGC_GSD', 'FGC-FGC_GSD_Zone', 'FGC-FGC_PU',\n",
    "                'FGC-FGC_PU_Zone', 'FGC-FGC_SRL', 'FGC-FGC_SRL_Zone', 'FGC-FGC_SRR',\n",
    "                'FGC-FGC_SRR_Zone', 'FGC-FGC_TL', 'FGC-FGC_TL_Zone', 'BIA-Season',\n",
    "                'BIA-BIA_Activity_Level_num', 'BIA-BIA_BMC', 'BIA-BIA_BMI',\n",
    "                'BIA-BIA_BMR', 'BIA-BIA_DEE', 'BIA-BIA_ECW', 'BIA-BIA_FFM',\n",
    "                'BIA-BIA_FFMI', 'BIA-BIA_FMI', 'BIA-BIA_Fat', 'BIA-BIA_Frame_num',\n",
    "                'BIA-BIA_ICW', 'BIA-BIA_LDM', 'BIA-BIA_LST', 'BIA-BIA_SMM',\n",
    "                'BIA-BIA_TBW', 'PAQ_A-Season', 'PAQ_A-PAQ_A_Total', 'PAQ_C-Season',\n",
    "                'PAQ_C-PAQ_C_Total', 'SDS-Season', 'SDS-SDS_Total_Raw',\n",
    "                'SDS-SDS_Total_T', 'PreInt_EduHx-Season',\n",
    "                'PreInt_EduHx-computerinternet_hoursday', 'sii']"
   ]
  },
  {
   "cell_type": "code",
   "execution_count": 10,
   "id": "cc31027d",
   "metadata": {
    "execution": {
     "iopub.execute_input": "2024-11-13T21:50:18.354467Z",
     "iopub.status.busy": "2024-11-13T21:50:18.353687Z",
     "iopub.status.idle": "2024-11-13T21:50:18.370098Z",
     "shell.execute_reply": "2024-11-13T21:50:18.368806Z"
    },
    "papermill": {
     "duration": 0.032303,
     "end_time": "2024-11-13T21:50:18.372747",
     "exception": false,
     "start_time": "2024-11-13T21:50:18.340444",
     "status": "completed"
    },
    "tags": []
   },
   "outputs": [
    {
     "data": {
      "text/plain": [
       "2736"
      ]
     },
     "execution_count": 10,
     "metadata": {},
     "output_type": "execute_result"
    }
   ],
   "source": [
    "df = df[featuresCols]\n",
    "df = df.dropna(subset='sii')\n",
    "len(df)"
   ]
  },
  {
   "cell_type": "code",
   "execution_count": 11,
   "id": "bc25a661",
   "metadata": {
    "execution": {
     "iopub.execute_input": "2024-11-13T21:50:18.398868Z",
     "iopub.status.busy": "2024-11-13T21:50:18.397945Z",
     "iopub.status.idle": "2024-11-13T21:50:18.404389Z",
     "shell.execute_reply": "2024-11-13T21:50:18.402845Z"
    },
    "papermill": {
     "duration": 0.02271,
     "end_time": "2024-11-13T21:50:18.407442",
     "exception": false,
     "start_time": "2024-11-13T21:50:18.384732",
     "status": "completed"
    },
    "tags": []
   },
   "outputs": [],
   "source": [
    "df_unchanged = df.copy()"
   ]
  },
  {
   "cell_type": "code",
   "execution_count": 12,
   "id": "4056b073",
   "metadata": {
    "execution": {
     "iopub.execute_input": "2024-11-13T21:50:18.434859Z",
     "iopub.status.busy": "2024-11-13T21:50:18.434410Z",
     "iopub.status.idle": "2024-11-13T21:50:18.444634Z",
     "shell.execute_reply": "2024-11-13T21:50:18.443436Z"
    },
    "papermill": {
     "duration": 0.026975,
     "end_time": "2024-11-13T21:50:18.447029",
     "exception": false,
     "start_time": "2024-11-13T21:50:18.420054",
     "status": "completed"
    },
    "tags": []
   },
   "outputs": [
    {
     "name": "stdout",
     "output_type": "stream",
     "text": [
      "     Count  Percentage\n",
      "sii                   \n",
      "0.0   1594   58.260234\n",
      "1.0    730   26.681287\n",
      "2.0    378   13.815789\n",
      "3.0     34    1.242690\n"
     ]
    }
   ],
   "source": [
    "sii_counts = df['sii'].value_counts(dropna=False)\n",
    "sii_percentages = (sii_counts / sii_counts.sum()) * 100\n",
    "sii_summary = pd.DataFrame({'Count': sii_counts,'Percentage': sii_percentages})\n",
    "\n",
    "print(sii_summary)"
   ]
  },
  {
   "cell_type": "code",
   "execution_count": 13,
   "id": "d0221115",
   "metadata": {
    "execution": {
     "iopub.execute_input": "2024-11-13T21:50:18.473455Z",
     "iopub.status.busy": "2024-11-13T21:50:18.472467Z",
     "iopub.status.idle": "2024-11-13T21:50:18.478391Z",
     "shell.execute_reply": "2024-11-13T21:50:18.477299Z"
    },
    "papermill": {
     "duration": 0.021597,
     "end_time": "2024-11-13T21:50:18.480688",
     "exception": false,
     "start_time": "2024-11-13T21:50:18.459091",
     "status": "completed"
    },
    "tags": []
   },
   "outputs": [],
   "source": [
    "def update(df):\n",
    "    for c in cat_c: \n",
    "        df[c] = df[c].fillna('Missing')\n",
    "        df[c] = df[c].astype('category')\n",
    "    return df"
   ]
  },
  {
   "cell_type": "code",
   "execution_count": 14,
   "id": "02fd1517",
   "metadata": {
    "execution": {
     "iopub.execute_input": "2024-11-13T21:50:18.506657Z",
     "iopub.status.busy": "2024-11-13T21:50:18.505912Z",
     "iopub.status.idle": "2024-11-13T21:50:18.530305Z",
     "shell.execute_reply": "2024-11-13T21:50:18.529128Z"
    },
    "papermill": {
     "duration": 0.040434,
     "end_time": "2024-11-13T21:50:18.533043",
     "exception": false,
     "start_time": "2024-11-13T21:50:18.492609",
     "status": "completed"
    },
    "tags": []
   },
   "outputs": [],
   "source": [
    "cat_c = ['Basic_Demos-Enroll_Season', 'CGAS-Season', 'Physical-Season', 'Fitness_Endurance-Season', \n",
    "          'FGC-Season', 'BIA-Season', 'PAQ_A-Season', 'PAQ_C-Season', 'SDS-Season', 'PreInt_EduHx-Season']\n",
    "\n",
    "df = update(df)"
   ]
  },
  {
   "cell_type": "code",
   "execution_count": 15,
   "id": "0176ce9a",
   "metadata": {
    "execution": {
     "iopub.execute_input": "2024-11-13T21:50:18.558721Z",
     "iopub.status.busy": "2024-11-13T21:50:18.558335Z",
     "iopub.status.idle": "2024-11-13T21:50:18.563989Z",
     "shell.execute_reply": "2024-11-13T21:50:18.562739Z"
    },
    "papermill": {
     "duration": 0.021595,
     "end_time": "2024-11-13T21:50:18.566655",
     "exception": false,
     "start_time": "2024-11-13T21:50:18.545060",
     "status": "completed"
    },
    "tags": []
   },
   "outputs": [],
   "source": [
    "def create_mapping(column, dataset):\n",
    "    unique_values = dataset[column].unique()\n",
    "    return {value: idx for idx, value in enumerate(unique_values)}"
   ]
  },
  {
   "cell_type": "code",
   "execution_count": 16,
   "id": "c82cb859",
   "metadata": {
    "execution": {
     "iopub.execute_input": "2024-11-13T21:50:18.593600Z",
     "iopub.status.busy": "2024-11-13T21:50:18.592886Z",
     "iopub.status.idle": "2024-11-13T21:50:18.625546Z",
     "shell.execute_reply": "2024-11-13T21:50:18.624395Z"
    },
    "papermill": {
     "duration": 0.049217,
     "end_time": "2024-11-13T21:50:18.628117",
     "exception": false,
     "start_time": "2024-11-13T21:50:18.578900",
     "status": "completed"
    },
    "tags": []
   },
   "outputs": [
    {
     "name": "stdout",
     "output_type": "stream",
     "text": [
      "df Shape : (2736, 59)\n"
     ]
    }
   ],
   "source": [
    "for col in cat_c:\n",
    "    mapping_df = create_mapping(col, df)\n",
    "    df[col] = df[col].replace(mapping_df).astype(int)\n",
    "\n",
    "print(f'df Shape : {df.shape}')"
   ]
  },
  {
   "cell_type": "code",
   "execution_count": 17,
   "id": "5dc53229",
   "metadata": {
    "execution": {
     "iopub.execute_input": "2024-11-13T21:50:18.654058Z",
     "iopub.status.busy": "2024-11-13T21:50:18.653595Z",
     "iopub.status.idle": "2024-11-13T21:50:18.678842Z",
     "shell.execute_reply": "2024-11-13T21:50:18.677677Z"
    },
    "papermill": {
     "duration": 0.041316,
     "end_time": "2024-11-13T21:50:18.681574",
     "exception": false,
     "start_time": "2024-11-13T21:50:18.640258",
     "status": "completed"
    },
    "tags": []
   },
   "outputs": [],
   "source": [
    "from sklearn.impute import SimpleImputer\n",
    "\n",
    "imputer = SimpleImputer(strategy='mean')\n",
    "numeric_columns = df.select_dtypes(include=['float64', 'int64']).columns\n",
    "df[numeric_columns] = imputer.fit_transform(df[numeric_columns])"
   ]
  },
  {
   "cell_type": "code",
   "execution_count": 18,
   "id": "d07ad9bb",
   "metadata": {
    "execution": {
     "iopub.execute_input": "2024-11-13T21:50:18.707597Z",
     "iopub.status.busy": "2024-11-13T21:50:18.707177Z",
     "iopub.status.idle": "2024-11-13T21:50:18.738267Z",
     "shell.execute_reply": "2024-11-13T21:50:18.737107Z"
    },
    "papermill": {
     "duration": 0.047145,
     "end_time": "2024-11-13T21:50:18.740800",
     "exception": false,
     "start_time": "2024-11-13T21:50:18.693655",
     "status": "completed"
    },
    "tags": []
   },
   "outputs": [
    {
     "data": {
      "text/html": [
       "<div>\n",
       "<style scoped>\n",
       "    .dataframe tbody tr th:only-of-type {\n",
       "        vertical-align: middle;\n",
       "    }\n",
       "\n",
       "    .dataframe tbody tr th {\n",
       "        vertical-align: top;\n",
       "    }\n",
       "\n",
       "    .dataframe thead th {\n",
       "        text-align: right;\n",
       "    }\n",
       "</style>\n",
       "<table border=\"1\" class=\"dataframe\">\n",
       "  <thead>\n",
       "    <tr style=\"text-align: right;\">\n",
       "      <th></th>\n",
       "      <th>Basic_Demos-Enroll_Season</th>\n",
       "      <th>Basic_Demos-Age</th>\n",
       "      <th>Basic_Demos-Sex</th>\n",
       "      <th>CGAS-Season</th>\n",
       "      <th>CGAS-CGAS_Score</th>\n",
       "      <th>Physical-Season</th>\n",
       "      <th>Physical-BMI</th>\n",
       "      <th>Physical-Height</th>\n",
       "      <th>Physical-Weight</th>\n",
       "      <th>Physical-Waist_Circumference</th>\n",
       "      <th>...</th>\n",
       "      <th>PAQ_A-Season</th>\n",
       "      <th>PAQ_A-PAQ_A_Total</th>\n",
       "      <th>PAQ_C-Season</th>\n",
       "      <th>PAQ_C-PAQ_C_Total</th>\n",
       "      <th>SDS-Season</th>\n",
       "      <th>SDS-SDS_Total_Raw</th>\n",
       "      <th>SDS-SDS_Total_T</th>\n",
       "      <th>PreInt_EduHx-Season</th>\n",
       "      <th>PreInt_EduHx-computerinternet_hoursday</th>\n",
       "      <th>sii</th>\n",
       "    </tr>\n",
       "  </thead>\n",
       "  <tbody>\n",
       "    <tr>\n",
       "      <th>0</th>\n",
       "      <td>0.0</td>\n",
       "      <td>5.0</td>\n",
       "      <td>0.0</td>\n",
       "      <td>0.0</td>\n",
       "      <td>51.000000</td>\n",
       "      <td>0.0</td>\n",
       "      <td>16.877316</td>\n",
       "      <td>46.0</td>\n",
       "      <td>50.8</td>\n",
       "      <td>26.625259</td>\n",
       "      <td>...</td>\n",
       "      <td>0.0</td>\n",
       "      <td>2.185758</td>\n",
       "      <td>0.0</td>\n",
       "      <td>2.590608</td>\n",
       "      <td>0.0</td>\n",
       "      <td>40.977839</td>\n",
       "      <td>57.647525</td>\n",
       "      <td>0.0</td>\n",
       "      <td>3.0</td>\n",
       "      <td>2.0</td>\n",
       "    </tr>\n",
       "    <tr>\n",
       "      <th>1</th>\n",
       "      <td>1.0</td>\n",
       "      <td>9.0</td>\n",
       "      <td>0.0</td>\n",
       "      <td>1.0</td>\n",
       "      <td>65.159266</td>\n",
       "      <td>0.0</td>\n",
       "      <td>14.035590</td>\n",
       "      <td>48.0</td>\n",
       "      <td>46.0</td>\n",
       "      <td>22.000000</td>\n",
       "      <td>...</td>\n",
       "      <td>0.0</td>\n",
       "      <td>2.185758</td>\n",
       "      <td>1.0</td>\n",
       "      <td>2.340000</td>\n",
       "      <td>1.0</td>\n",
       "      <td>46.000000</td>\n",
       "      <td>64.000000</td>\n",
       "      <td>1.0</td>\n",
       "      <td>0.0</td>\n",
       "      <td>0.0</td>\n",
       "    </tr>\n",
       "    <tr>\n",
       "      <th>2</th>\n",
       "      <td>1.0</td>\n",
       "      <td>10.0</td>\n",
       "      <td>1.0</td>\n",
       "      <td>2.0</td>\n",
       "      <td>71.000000</td>\n",
       "      <td>0.0</td>\n",
       "      <td>16.648696</td>\n",
       "      <td>56.5</td>\n",
       "      <td>75.6</td>\n",
       "      <td>26.625259</td>\n",
       "      <td>...</td>\n",
       "      <td>0.0</td>\n",
       "      <td>2.185758</td>\n",
       "      <td>2.0</td>\n",
       "      <td>2.170000</td>\n",
       "      <td>1.0</td>\n",
       "      <td>38.000000</td>\n",
       "      <td>54.000000</td>\n",
       "      <td>1.0</td>\n",
       "      <td>2.0</td>\n",
       "      <td>0.0</td>\n",
       "    </tr>\n",
       "    <tr>\n",
       "      <th>3</th>\n",
       "      <td>2.0</td>\n",
       "      <td>9.0</td>\n",
       "      <td>0.0</td>\n",
       "      <td>2.0</td>\n",
       "      <td>71.000000</td>\n",
       "      <td>1.0</td>\n",
       "      <td>18.292347</td>\n",
       "      <td>56.0</td>\n",
       "      <td>81.6</td>\n",
       "      <td>26.625259</td>\n",
       "      <td>...</td>\n",
       "      <td>0.0</td>\n",
       "      <td>2.185758</td>\n",
       "      <td>3.0</td>\n",
       "      <td>2.451000</td>\n",
       "      <td>2.0</td>\n",
       "      <td>31.000000</td>\n",
       "      <td>45.000000</td>\n",
       "      <td>2.0</td>\n",
       "      <td>0.0</td>\n",
       "      <td>1.0</td>\n",
       "    </tr>\n",
       "    <tr>\n",
       "      <th>5</th>\n",
       "      <td>3.0</td>\n",
       "      <td>13.0</td>\n",
       "      <td>1.0</td>\n",
       "      <td>0.0</td>\n",
       "      <td>50.000000</td>\n",
       "      <td>1.0</td>\n",
       "      <td>22.279952</td>\n",
       "      <td>59.5</td>\n",
       "      <td>112.2</td>\n",
       "      <td>26.625259</td>\n",
       "      <td>...</td>\n",
       "      <td>0.0</td>\n",
       "      <td>2.185758</td>\n",
       "      <td>4.0</td>\n",
       "      <td>4.110000</td>\n",
       "      <td>2.0</td>\n",
       "      <td>40.000000</td>\n",
       "      <td>56.000000</td>\n",
       "      <td>3.0</td>\n",
       "      <td>0.0</td>\n",
       "      <td>1.0</td>\n",
       "    </tr>\n",
       "  </tbody>\n",
       "</table>\n",
       "<p>5 rows × 59 columns</p>\n",
       "</div>"
      ],
      "text/plain": [
       "   Basic_Demos-Enroll_Season  Basic_Demos-Age  Basic_Demos-Sex  CGAS-Season  \\\n",
       "0                        0.0              5.0              0.0          0.0   \n",
       "1                        1.0              9.0              0.0          1.0   \n",
       "2                        1.0             10.0              1.0          2.0   \n",
       "3                        2.0              9.0              0.0          2.0   \n",
       "5                        3.0             13.0              1.0          0.0   \n",
       "\n",
       "   CGAS-CGAS_Score  Physical-Season  Physical-BMI  Physical-Height  \\\n",
       "0        51.000000              0.0     16.877316             46.0   \n",
       "1        65.159266              0.0     14.035590             48.0   \n",
       "2        71.000000              0.0     16.648696             56.5   \n",
       "3        71.000000              1.0     18.292347             56.0   \n",
       "5        50.000000              1.0     22.279952             59.5   \n",
       "\n",
       "   Physical-Weight  Physical-Waist_Circumference  ...  PAQ_A-Season  \\\n",
       "0             50.8                     26.625259  ...           0.0   \n",
       "1             46.0                     22.000000  ...           0.0   \n",
       "2             75.6                     26.625259  ...           0.0   \n",
       "3             81.6                     26.625259  ...           0.0   \n",
       "5            112.2                     26.625259  ...           0.0   \n",
       "\n",
       "   PAQ_A-PAQ_A_Total  PAQ_C-Season  PAQ_C-PAQ_C_Total  SDS-Season  \\\n",
       "0           2.185758           0.0           2.590608         0.0   \n",
       "1           2.185758           1.0           2.340000         1.0   \n",
       "2           2.185758           2.0           2.170000         1.0   \n",
       "3           2.185758           3.0           2.451000         2.0   \n",
       "5           2.185758           4.0           4.110000         2.0   \n",
       "\n",
       "   SDS-SDS_Total_Raw  SDS-SDS_Total_T  PreInt_EduHx-Season  \\\n",
       "0          40.977839        57.647525                  0.0   \n",
       "1          46.000000        64.000000                  1.0   \n",
       "2          38.000000        54.000000                  1.0   \n",
       "3          31.000000        45.000000                  2.0   \n",
       "5          40.000000        56.000000                  3.0   \n",
       "\n",
       "   PreInt_EduHx-computerinternet_hoursday  sii  \n",
       "0                                     3.0  2.0  \n",
       "1                                     0.0  0.0  \n",
       "2                                     2.0  0.0  \n",
       "3                                     0.0  1.0  \n",
       "5                                     0.0  1.0  \n",
       "\n",
       "[5 rows x 59 columns]"
      ]
     },
     "execution_count": 18,
     "metadata": {},
     "output_type": "execute_result"
    }
   ],
   "source": [
    "df.head()"
   ]
  },
  {
   "cell_type": "code",
   "execution_count": 19,
   "id": "c5d35350",
   "metadata": {
    "execution": {
     "iopub.execute_input": "2024-11-13T21:50:18.767804Z",
     "iopub.status.busy": "2024-11-13T21:50:18.767372Z",
     "iopub.status.idle": "2024-11-13T21:50:18.794856Z",
     "shell.execute_reply": "2024-11-13T21:50:18.793385Z"
    },
    "papermill": {
     "duration": 0.044024,
     "end_time": "2024-11-13T21:50:18.797564",
     "exception": false,
     "start_time": "2024-11-13T21:50:18.753540",
     "status": "completed"
    },
    "tags": []
   },
   "outputs": [
    {
     "data": {
      "text/html": [
       "<div>\n",
       "<style scoped>\n",
       "    .dataframe tbody tr th:only-of-type {\n",
       "        vertical-align: middle;\n",
       "    }\n",
       "\n",
       "    .dataframe tbody tr th {\n",
       "        vertical-align: top;\n",
       "    }\n",
       "\n",
       "    .dataframe thead th {\n",
       "        text-align: right;\n",
       "    }\n",
       "</style>\n",
       "<table border=\"1\" class=\"dataframe\">\n",
       "  <thead>\n",
       "    <tr style=\"text-align: right;\">\n",
       "      <th></th>\n",
       "      <th>Basic_Demos-Enroll_Season</th>\n",
       "      <th>Basic_Demos-Age</th>\n",
       "      <th>Basic_Demos-Sex</th>\n",
       "      <th>CGAS-Season</th>\n",
       "      <th>CGAS-CGAS_Score</th>\n",
       "      <th>Physical-Season</th>\n",
       "      <th>Physical-BMI</th>\n",
       "      <th>Physical-Height</th>\n",
       "      <th>Physical-Weight</th>\n",
       "      <th>Physical-Waist_Circumference</th>\n",
       "      <th>...</th>\n",
       "      <th>PAQ_A-Season</th>\n",
       "      <th>PAQ_A-PAQ_A_Total</th>\n",
       "      <th>PAQ_C-Season</th>\n",
       "      <th>PAQ_C-PAQ_C_Total</th>\n",
       "      <th>SDS-Season</th>\n",
       "      <th>SDS-SDS_Total_Raw</th>\n",
       "      <th>SDS-SDS_Total_T</th>\n",
       "      <th>PreInt_EduHx-Season</th>\n",
       "      <th>PreInt_EduHx-computerinternet_hoursday</th>\n",
       "      <th>sii</th>\n",
       "    </tr>\n",
       "  </thead>\n",
       "  <tbody>\n",
       "    <tr>\n",
       "      <th>0</th>\n",
       "      <td>Fall</td>\n",
       "      <td>5</td>\n",
       "      <td>0</td>\n",
       "      <td>Winter</td>\n",
       "      <td>51.0</td>\n",
       "      <td>Fall</td>\n",
       "      <td>16.877316</td>\n",
       "      <td>46.0</td>\n",
       "      <td>50.8</td>\n",
       "      <td>NaN</td>\n",
       "      <td>...</td>\n",
       "      <td>NaN</td>\n",
       "      <td>NaN</td>\n",
       "      <td>NaN</td>\n",
       "      <td>NaN</td>\n",
       "      <td>NaN</td>\n",
       "      <td>NaN</td>\n",
       "      <td>NaN</td>\n",
       "      <td>Fall</td>\n",
       "      <td>3.0</td>\n",
       "      <td>2.0</td>\n",
       "    </tr>\n",
       "    <tr>\n",
       "      <th>1</th>\n",
       "      <td>Summer</td>\n",
       "      <td>9</td>\n",
       "      <td>0</td>\n",
       "      <td>NaN</td>\n",
       "      <td>NaN</td>\n",
       "      <td>Fall</td>\n",
       "      <td>14.035590</td>\n",
       "      <td>48.0</td>\n",
       "      <td>46.0</td>\n",
       "      <td>22.0</td>\n",
       "      <td>...</td>\n",
       "      <td>NaN</td>\n",
       "      <td>NaN</td>\n",
       "      <td>Fall</td>\n",
       "      <td>2.340</td>\n",
       "      <td>Fall</td>\n",
       "      <td>46.0</td>\n",
       "      <td>64.0</td>\n",
       "      <td>Summer</td>\n",
       "      <td>0.0</td>\n",
       "      <td>0.0</td>\n",
       "    </tr>\n",
       "    <tr>\n",
       "      <th>2</th>\n",
       "      <td>Summer</td>\n",
       "      <td>10</td>\n",
       "      <td>1</td>\n",
       "      <td>Fall</td>\n",
       "      <td>71.0</td>\n",
       "      <td>Fall</td>\n",
       "      <td>16.648696</td>\n",
       "      <td>56.5</td>\n",
       "      <td>75.6</td>\n",
       "      <td>NaN</td>\n",
       "      <td>...</td>\n",
       "      <td>NaN</td>\n",
       "      <td>NaN</td>\n",
       "      <td>Summer</td>\n",
       "      <td>2.170</td>\n",
       "      <td>Fall</td>\n",
       "      <td>38.0</td>\n",
       "      <td>54.0</td>\n",
       "      <td>Summer</td>\n",
       "      <td>2.0</td>\n",
       "      <td>0.0</td>\n",
       "    </tr>\n",
       "    <tr>\n",
       "      <th>3</th>\n",
       "      <td>Winter</td>\n",
       "      <td>9</td>\n",
       "      <td>0</td>\n",
       "      <td>Fall</td>\n",
       "      <td>71.0</td>\n",
       "      <td>Summer</td>\n",
       "      <td>18.292347</td>\n",
       "      <td>56.0</td>\n",
       "      <td>81.6</td>\n",
       "      <td>NaN</td>\n",
       "      <td>...</td>\n",
       "      <td>NaN</td>\n",
       "      <td>NaN</td>\n",
       "      <td>Winter</td>\n",
       "      <td>2.451</td>\n",
       "      <td>Summer</td>\n",
       "      <td>31.0</td>\n",
       "      <td>45.0</td>\n",
       "      <td>Winter</td>\n",
       "      <td>0.0</td>\n",
       "      <td>1.0</td>\n",
       "    </tr>\n",
       "    <tr>\n",
       "      <th>5</th>\n",
       "      <td>Spring</td>\n",
       "      <td>13</td>\n",
       "      <td>1</td>\n",
       "      <td>Winter</td>\n",
       "      <td>50.0</td>\n",
       "      <td>Summer</td>\n",
       "      <td>22.279952</td>\n",
       "      <td>59.5</td>\n",
       "      <td>112.2</td>\n",
       "      <td>NaN</td>\n",
       "      <td>...</td>\n",
       "      <td>NaN</td>\n",
       "      <td>NaN</td>\n",
       "      <td>Spring</td>\n",
       "      <td>4.110</td>\n",
       "      <td>Summer</td>\n",
       "      <td>40.0</td>\n",
       "      <td>56.0</td>\n",
       "      <td>Spring</td>\n",
       "      <td>0.0</td>\n",
       "      <td>1.0</td>\n",
       "    </tr>\n",
       "  </tbody>\n",
       "</table>\n",
       "<p>5 rows × 59 columns</p>\n",
       "</div>"
      ],
      "text/plain": [
       "  Basic_Demos-Enroll_Season  Basic_Demos-Age  Basic_Demos-Sex CGAS-Season  \\\n",
       "0                      Fall                5                0      Winter   \n",
       "1                    Summer                9                0         NaN   \n",
       "2                    Summer               10                1        Fall   \n",
       "3                    Winter                9                0        Fall   \n",
       "5                    Spring               13                1      Winter   \n",
       "\n",
       "   CGAS-CGAS_Score Physical-Season  Physical-BMI  Physical-Height  \\\n",
       "0             51.0            Fall     16.877316             46.0   \n",
       "1              NaN            Fall     14.035590             48.0   \n",
       "2             71.0            Fall     16.648696             56.5   \n",
       "3             71.0          Summer     18.292347             56.0   \n",
       "5             50.0          Summer     22.279952             59.5   \n",
       "\n",
       "   Physical-Weight  Physical-Waist_Circumference  ...  PAQ_A-Season  \\\n",
       "0             50.8                           NaN  ...           NaN   \n",
       "1             46.0                          22.0  ...           NaN   \n",
       "2             75.6                           NaN  ...           NaN   \n",
       "3             81.6                           NaN  ...           NaN   \n",
       "5            112.2                           NaN  ...           NaN   \n",
       "\n",
       "   PAQ_A-PAQ_A_Total  PAQ_C-Season PAQ_C-PAQ_C_Total  SDS-Season  \\\n",
       "0                NaN           NaN               NaN         NaN   \n",
       "1                NaN          Fall             2.340        Fall   \n",
       "2                NaN        Summer             2.170        Fall   \n",
       "3                NaN        Winter             2.451      Summer   \n",
       "5                NaN        Spring             4.110      Summer   \n",
       "\n",
       "   SDS-SDS_Total_Raw  SDS-SDS_Total_T PreInt_EduHx-Season  \\\n",
       "0                NaN              NaN                Fall   \n",
       "1               46.0             64.0              Summer   \n",
       "2               38.0             54.0              Summer   \n",
       "3               31.0             45.0              Winter   \n",
       "5               40.0             56.0              Spring   \n",
       "\n",
       "   PreInt_EduHx-computerinternet_hoursday  sii  \n",
       "0                                     3.0  2.0  \n",
       "1                                     0.0  0.0  \n",
       "2                                     2.0  0.0  \n",
       "3                                     0.0  1.0  \n",
       "5                                     0.0  1.0  \n",
       "\n",
       "[5 rows x 59 columns]"
      ]
     },
     "execution_count": 19,
     "metadata": {},
     "output_type": "execute_result"
    }
   ],
   "source": [
    "df_unchanged.head()"
   ]
  },
  {
   "cell_type": "markdown",
   "id": "4dbdee47",
   "metadata": {
    "papermill": {
     "duration": 0.012423,
     "end_time": "2024-11-13T21:50:18.822935",
     "exception": false,
     "start_time": "2024-11-13T21:50:18.810512",
     "status": "completed"
    },
    "tags": []
   },
   "source": [
    "# Modelling "
   ]
  },
  {
   "cell_type": "code",
   "execution_count": 20,
   "id": "b8d59d65",
   "metadata": {
    "execution": {
     "iopub.execute_input": "2024-11-13T21:50:18.851648Z",
     "iopub.status.busy": "2024-11-13T21:50:18.850605Z",
     "iopub.status.idle": "2024-11-13T21:50:18.858492Z",
     "shell.execute_reply": "2024-11-13T21:50:18.857313Z"
    },
    "papermill": {
     "duration": 0.024299,
     "end_time": "2024-11-13T21:50:18.860831",
     "exception": false,
     "start_time": "2024-11-13T21:50:18.836532",
     "status": "completed"
    },
    "tags": []
   },
   "outputs": [],
   "source": [
    "import numpy as np\n",
    "import pandas as pd\n",
    "import lightgbm as lgb\n",
    "import optuna\n",
    "from sklearn.metrics import cohen_kappa_score, make_scorer, confusion_matrix\n",
    "from sklearn.model_selection import StratifiedKFold, cross_val_score\n",
    "from sklearn.pipeline import Pipeline\n",
    "from sklearn.impute import SimpleImputer\n",
    "from sklearn.preprocessing import StandardScaler, OneHotEncoder\n",
    "from sklearn.compose import ColumnTransformer\n",
    "from sklearn.linear_model import LogisticRegression\n",
    "from sklearn.tree import DecisionTreeClassifier\n",
    "from sklearn.ensemble import RandomForestClassifier\n",
    "from sklearn.neural_network import MLPClassifier\n",
    "from imblearn.over_sampling import SMOTE\n",
    "import seaborn as sns\n",
    "import matplotlib.pyplot as plt\n",
    "from scipy.optimize import minimize"
   ]
  },
  {
   "cell_type": "code",
   "execution_count": 21,
   "id": "a8de18e5",
   "metadata": {
    "execution": {
     "iopub.execute_input": "2024-11-13T21:50:18.887988Z",
     "iopub.status.busy": "2024-11-13T21:50:18.887550Z",
     "iopub.status.idle": "2024-11-13T21:50:18.893330Z",
     "shell.execute_reply": "2024-11-13T21:50:18.892315Z"
    },
    "papermill": {
     "duration": 0.022216,
     "end_time": "2024-11-13T21:50:18.895810",
     "exception": false,
     "start_time": "2024-11-13T21:50:18.873594",
     "status": "completed"
    },
    "tags": []
   },
   "outputs": [],
   "source": [
    "from sklearn.ensemble import RandomForestRegressor\n",
    "from xgboost import XGBRegressor\n",
    "from sklearn.neural_network import MLPRegressor\n",
    "import lightgbm as lgb\n",
    "from scipy.optimize import minimize\n",
    "from sklearn.metrics import mean_squared_error"
   ]
  },
  {
   "cell_type": "code",
   "execution_count": 22,
   "id": "95853286",
   "metadata": {
    "execution": {
     "iopub.execute_input": "2024-11-13T21:50:18.923150Z",
     "iopub.status.busy": "2024-11-13T21:50:18.922662Z",
     "iopub.status.idle": "2024-11-13T21:50:18.938586Z",
     "shell.execute_reply": "2024-11-13T21:50:18.937376Z"
    },
    "papermill": {
     "duration": 0.032537,
     "end_time": "2024-11-13T21:50:18.941074",
     "exception": false,
     "start_time": "2024-11-13T21:50:18.908537",
     "status": "completed"
    },
    "tags": []
   },
   "outputs": [],
   "source": [
    "# Custom Kappa scorer\n",
    "KAPPA_SCORER = make_scorer(\n",
    "    cohen_kappa_score, \n",
    "    greater_is_better=True, \n",
    "    weights='quadratic'\n",
    ")\n",
    "\n",
    "# Custom LGBM Regressor with threshold optimization\n",
    "class CustomLGBMRegressor(lgb.LGBMRegressor):\n",
    "    '''\n",
    "    Custom LightGBM Regressor\n",
    "    \n",
    "    It optimizes threshold values during fitting.\n",
    "    Main goal is preventing overfit on validation data.\n",
    "    '''\n",
    "    def fit(self, X, y, **kwargs):\n",
    "        super().fit(X, y, **kwargs)\n",
    "        y_pred = super().predict(X, **kwargs)\n",
    "        \n",
    "        self.optimizer = minimize(\n",
    "            eval_preds, \n",
    "            x0=[0.5, 1.5, 2.5], \n",
    "            args=(y, y_pred), \n",
    "            method='Nelder-Mead',\n",
    "        )\n",
    "        \n",
    "    def predict(self, X, **kwargs):\n",
    "        y_pred = super().predict(X, **kwargs)\n",
    "        y_pred = threshold_Rounder(y_pred, self.optimizer.x)\n",
    "        return y_pred\n",
    "\n",
    "class CustomXGBRegressor(XGBRegressor):\n",
    "    def fit(self, X, y, **kwargs):\n",
    "        super().fit(X, y, **kwargs)\n",
    "        y_pred = super().predict(X, **kwargs)\n",
    "        self.optimizer = minimize(\n",
    "            eval_preds, \n",
    "            x0=[0.5, 1.5, 2.5], \n",
    "            args=(y, y_pred), \n",
    "            method='Nelder-Mead',\n",
    "        )\n",
    "        \n",
    "    def predict(self, X, **kwargs):\n",
    "        y_pred = super().predict(X, **kwargs)\n",
    "        y_pred = threshold_Rounder(y_pred, self.optimizer.x)\n",
    "        return y_pred\n",
    "\n",
    "class CustomRFRegressor(RandomForestRegressor):\n",
    "    def fit(self, X, y, **kwargs):\n",
    "        super().fit(X, y, **kwargs)\n",
    "        y_pred = super().predict(X, **kwargs)\n",
    "        self.optimizer = minimize(\n",
    "            eval_preds, \n",
    "            x0=[0.5, 1.5, 2.5], \n",
    "            args=(y, y_pred), \n",
    "            method='Nelder-Mead',\n",
    "        )\n",
    "        \n",
    "    def predict(self, X, **kwargs):\n",
    "        y_pred = super().predict(X, **kwargs)\n",
    "        y_pred = threshold_Rounder(y_pred, self.optimizer.x)\n",
    "        return y_pred\n",
    "\n",
    "class CustomMLPRegressor(MLPRegressor):\n",
    "    def fit(self, X, y, **kwargs):\n",
    "        super().fit(X, y, **kwargs)\n",
    "        y_pred = super().predict(X, **kwargs)\n",
    "        self.optimizer = minimize(\n",
    "            eval_preds, \n",
    "            x0=[0.5, 1.5, 2.5], \n",
    "            args=(y, y_pred), \n",
    "            method='Nelder-Mead',\n",
    "        )\n",
    "        \n",
    "    def predict(self, X, **kwargs):\n",
    "        y_pred = super().predict(X, **kwargs)\n",
    "        y_pred = threshold_Rounder(y_pred, self.optimizer.x)\n",
    "        return y_pred"
   ]
  },
  {
   "cell_type": "code",
   "execution_count": 23,
   "id": "1f39e481",
   "metadata": {
    "execution": {
     "iopub.execute_input": "2024-11-13T21:50:18.968501Z",
     "iopub.status.busy": "2024-11-13T21:50:18.968074Z",
     "iopub.status.idle": "2024-11-13T21:50:18.975842Z",
     "shell.execute_reply": "2024-11-13T21:50:18.974540Z"
    },
    "papermill": {
     "duration": 0.024635,
     "end_time": "2024-11-13T21:50:18.978426",
     "exception": false,
     "start_time": "2024-11-13T21:50:18.953791",
     "status": "completed"
    },
    "tags": []
   },
   "outputs": [],
   "source": [
    "# Helper functions\n",
    "def quadratic_weighted_kappa(y_true, y_pred):\n",
    "    return cohen_kappa_score(y_true, y_pred, weights='quadratic')\n",
    "\n",
    "def threshold_Rounder(oof_non_rounded, thresholds):\n",
    "    return np.where(oof_non_rounded < thresholds[0], 0,\n",
    "                    np.where(oof_non_rounded < thresholds[1], 1,\n",
    "                             np.where(oof_non_rounded < thresholds[2], 2, 3)))\n",
    "\n",
    "def evaluate_predictions(thresholds, y_true, oof_non_rounded):\n",
    "    rounded_p = threshold_Rounder(oof_non_rounded, thresholds)\n",
    "    return -quadratic_weighted_kappa(y_true, rounded_p)\n",
    "\n",
    "def eval_preds(thresholds, y_true, y_pred):\n",
    "    y_pred = threshold_Rounder(y_pred, thresholds)\n",
    "    score = cohen_kappa_score(y_true, y_pred, weights='quadratic')\n",
    "    return -score"
   ]
  },
  {
   "cell_type": "code",
   "execution_count": 24,
   "id": "4df52837",
   "metadata": {
    "execution": {
     "iopub.execute_input": "2024-11-13T21:50:19.006638Z",
     "iopub.status.busy": "2024-11-13T21:50:19.006187Z",
     "iopub.status.idle": "2024-11-13T21:50:19.027438Z",
     "shell.execute_reply": "2024-11-13T21:50:19.026260Z"
    },
    "papermill": {
     "duration": 0.038657,
     "end_time": "2024-11-13T21:50:19.030072",
     "exception": false,
     "start_time": "2024-11-13T21:50:18.991415",
     "status": "completed"
    },
    "tags": []
   },
   "outputs": [],
   "source": [
    "# Custom LGBM Objective with SMOTE\n",
    "def lgb_objective(trial):\n",
    "    params = {\n",
    "        'objective': 'l2',\n",
    "        'verbosity': -1,\n",
    "        'n_iter': 200,\n",
    "        'random_state': SEED,\n",
    "        'boosting_type': 'gbdt',\n",
    "        'lambda_l1': trial.suggest_float('lambda_l1', 1e-3, 10.0, log=True),\n",
    "        'lambda_l2': trial.suggest_float('lambda_l2', 1e-3, 10.0, log=True),\n",
    "        'learning_rate': trial.suggest_float('learning_rate', 1e-2, 1e-1, log=True),\n",
    "        'max_depth': trial.suggest_int('max_depth', 4, 8),\n",
    "        'num_leaves': trial.suggest_int('num_leaves', 16, 256),\n",
    "        'colsample_bytree': trial.suggest_float('colsample_bytree', 0.4, 1.0),\n",
    "        'colsample_bynode': trial.suggest_float('colsample_bynode', 0.4, 1.0),\n",
    "        'bagging_fraction': trial.suggest_float('bagging_fraction', 0.4, 1.0),\n",
    "        'bagging_freq': trial.suggest_int('bagging_freq', 1, 7),\n",
    "        'min_data_in_leaf': trial.suggest_int('min_data_in_leaf', 5, 100),\n",
    "    }\n",
    "\n",
    "    X = df.drop(['sii'], axis=1)\n",
    "    y = df['sii']\n",
    "    \n",
    "    # Apply SMOTE to the data\n",
    "    smote = SMOTE(random_state=SEED)\n",
    "    X_res, y_res = smote.fit_resample(X, y)\n",
    "    \n",
    "    cv = StratifiedKFold(5, shuffle=True, random_state=SEED)\n",
    "    estimator = CustomLGBMRegressor(**params)\n",
    "\n",
    "    val_scores = cross_val_score(\n",
    "        estimator=estimator, \n",
    "        X=X_res, y=y_res, \n",
    "        cv=cv, \n",
    "        scoring=KAPPA_SCORER,\n",
    "    )\n",
    "\n",
    "    return np.mean(val_scores)\n",
    "\n",
    "# Modify for XGB\n",
    "def xgb_objective(trial):\n",
    "    params = {\n",
    "        'objective': 'reg:squarederror',\n",
    "        'verbosity': 0,\n",
    "        'n_estimators': 200,\n",
    "        'random_state': SEED,\n",
    "        'lambda': trial.suggest_float('lambda', 1e-3, 10.0, log=True),\n",
    "        'alpha': trial.suggest_float('alpha', 1e-3, 10.0, log=True),\n",
    "        'learning_rate': trial.suggest_float('learning_rate', 1e-2, 1e-1, log=True),\n",
    "        'max_depth': trial.suggest_int('max_depth', 4, 8),\n",
    "        'subsample': trial.suggest_float('subsample', 0.5, 1.0),\n",
    "        'colsample_bytree': trial.suggest_float('colsample_bytree', 0.4, 1.0),\n",
    "        'colsample_bylevel': trial.suggest_float('colsample_bylevel', 0.4, 1.0),\n",
    "        'min_child_weight': trial.suggest_int('min_child_weight', 1, 10),\n",
    "    }\n",
    "\n",
    "    X = df.drop(['sii'], axis=1)\n",
    "    y = df['sii']\n",
    "    \n",
    "    # Apply SMOTE to the data\n",
    "    smote = SMOTE(random_state=SEED)\n",
    "    X_res, y_res = smote.fit_resample(X, y)\n",
    "    \n",
    "    cv = StratifiedKFold(5, shuffle=True, random_state=SEED)\n",
    "    estimator = CustomXGBRegressor(**params)\n",
    "\n",
    "    val_scores = cross_val_score(\n",
    "        estimator=estimator, \n",
    "        X=X_res, y=y_res, \n",
    "        cv=cv, \n",
    "        scoring=KAPPA_SCORER,\n",
    "    )\n",
    "\n",
    "    return np.mean(val_scores)\n",
    "\n",
    "# Modify for RF\n",
    "def rf_objective(trial):\n",
    "    params = {\n",
    "        'n_estimators': 200,\n",
    "        'random_state': SEED,\n",
    "        'max_depth': trial.suggest_int('max_depth', 4, 8),\n",
    "        'min_samples_split': trial.suggest_int('min_samples_split', 2, 10),\n",
    "        'min_samples_leaf': trial.suggest_int('min_samples_leaf', 1, 10),\n",
    "        'max_features': trial.suggest_float('max_features', 0.5, 1.0),\n",
    "        'bootstrap': trial.suggest_categorical('bootstrap', [True, False]),\n",
    "    }\n",
    "\n",
    "    X = df.drop(['sii'], axis=1)\n",
    "    y = df['sii']\n",
    "    \n",
    "    # Apply SMOTE to the data\n",
    "    smote = SMOTE(random_state=SEED)\n",
    "    X_res, y_res = smote.fit_resample(X, y)\n",
    "    \n",
    "    cv = StratifiedKFold(5, shuffle=True, random_state=SEED)\n",
    "    estimator = CustomRFRegressor(**params)\n",
    "\n",
    "    val_scores = cross_val_score(\n",
    "        estimator=estimator, \n",
    "        X=X_res, y=y_res, \n",
    "        cv=cv, \n",
    "        scoring=KAPPA_SCORER,\n",
    "    )\n",
    "\n",
    "    return np.mean(val_scores)\n",
    "\n",
    "# Modify for MLP\n",
    "def mlp_objective(trial):\n",
    "    params = {\n",
    "        'hidden_layer_sizes': trial.suggest_categorical('hidden_layer_sizes', [(50,), (100,), (200,), (100, 50)]),\n",
    "        'activation': trial.suggest_categorical('activation', ['relu', 'tanh', 'logistic']),\n",
    "        'solver': trial.suggest_categorical('solver', ['adam', 'sgd']),\n",
    "        'alpha': trial.suggest_float('alpha', 1e-5, 1e-1, log=True),\n",
    "        'learning_rate': trial.suggest_categorical('learning_rate', ['constant', 'invscaling', 'adaptive']),\n",
    "        'random_state': SEED,\n",
    "        'max_iter': 200,\n",
    "    }\n",
    "\n",
    "    X = df.drop(['sii'], axis=1)\n",
    "    y = df['sii']\n",
    "    \n",
    "    # Apply SMOTE to the data\n",
    "    smote = SMOTE(random_state=SEED)\n",
    "    X_res, y_res = smote.fit_resample(X, y)\n",
    "    \n",
    "    cv = StratifiedKFold(5, shuffle=True, random_state=SEED)\n",
    "    estimator = CustomMLPRegressor(**params)\n",
    "\n",
    "    val_scores = cross_val_score(\n",
    "        estimator=estimator, \n",
    "        X=X_res, y=y_res, \n",
    "        cv=cv, \n",
    "        scoring=KAPPA_SCORER,\n",
    "    )\n",
    "\n",
    "    return np.mean(val_scores)"
   ]
  },
  {
   "cell_type": "code",
   "execution_count": 25,
   "id": "c9f1a50c",
   "metadata": {
    "execution": {
     "iopub.execute_input": "2024-11-13T21:50:19.057350Z",
     "iopub.status.busy": "2024-11-13T21:50:19.056934Z",
     "iopub.status.idle": "2024-11-13T21:50:19.062374Z",
     "shell.execute_reply": "2024-11-13T21:50:19.061199Z"
    },
    "papermill": {
     "duration": 0.022011,
     "end_time": "2024-11-13T21:50:19.064792",
     "exception": false,
     "start_time": "2024-11-13T21:50:19.042781",
     "status": "completed"
    },
    "tags": []
   },
   "outputs": [],
   "source": [
    "# Create a study for each model and optimize\n",
    "#def optimize_model(objective, study_name):\n",
    "#    study = optuna.create_study(direction='maximize', study_name=study_name)\n",
    "#    study.optimize(objective, n_trials=30, show_progress_bar=True)\n",
    "#    return study.best_trial.params\n",
    "\n",
    "# Optimizing for each model\n",
    "#best_params_lgb = optimize_model(lgb_objective, 'LGBM_Regressor')\n",
    "#best_params_xgb = optimize_model(xgb_objective, 'XGB_Regressor')\n",
    "#best_params_rf = optimize_model(rf_objective, 'RF_Regressor')\n",
    "#best_params_mlp = optimize_model(mlp_objective, 'MLP_Regressor')\n",
    "\n",
    "# Print the best parameters for each model\n",
    "#print(\"Best parameters for LGBM:\", best_params_lgb)\n",
    "#print(\"Best parameters for XGB:\", best_params_xgb)\n",
    "#print(\"Best parameters for RF:\", best_params_rf)\n",
    "#print(\"Best parameters for MLP:\", best_params_mlp)"
   ]
  },
  {
   "cell_type": "code",
   "execution_count": 26,
   "id": "a0a59cee",
   "metadata": {
    "execution": {
     "iopub.execute_input": "2024-11-13T21:50:19.092504Z",
     "iopub.status.busy": "2024-11-13T21:50:19.091671Z",
     "iopub.status.idle": "2024-11-13T21:50:19.099221Z",
     "shell.execute_reply": "2024-11-13T21:50:19.098012Z"
    },
    "papermill": {
     "duration": 0.023962,
     "end_time": "2024-11-13T21:50:19.101468",
     "exception": false,
     "start_time": "2024-11-13T21:50:19.077506",
     "status": "completed"
    },
    "tags": []
   },
   "outputs": [],
   "source": [
    "best_params_lgb = {'lambda_l1': 2.579402984154109, 'lambda_l2': 0.966337187970675, 'learning_rate': 0.07634780231724438, 'max_depth': 8, 'num_leaves': 215, 'colsample_bytree': 0.5128196184058356, 'colsample_bynode': 0.5118288317492637, 'bagging_fraction': 0.9249047823132005, 'bagging_freq': 2, 'min_data_in_leaf': 18}\n",
    "best_params_xgb = {'lambda': 1.515523424629609, 'alpha': 0.1573807955436052, 'learning_rate': 0.06786761631770998, 'max_depth': 8, 'subsample': 0.9040820789652597, 'colsample_bytree': 0.5072241031673306, 'colsample_bylevel': 0.9660029907148966, 'min_child_weight': 3}\n",
    "best_params_rf = {'max_depth': 8, 'min_samples_split': 4, 'min_samples_leaf': 1, 'max_features': 0.6449273837823946, 'bootstrap': True}\n",
    "best_params_mlp = {'hidden_layer_sizes': (200,), 'activation': 'logistic', 'solver': 'adam', 'alpha': 0.0001635693635047117, 'learning_rate': 'adaptive'}"
   ]
  },
  {
   "cell_type": "code",
   "execution_count": 27,
   "id": "563ac290",
   "metadata": {
    "execution": {
     "iopub.execute_input": "2024-11-13T21:50:19.129999Z",
     "iopub.status.busy": "2024-11-13T21:50:19.129042Z",
     "iopub.status.idle": "2024-11-13T21:50:19.138098Z",
     "shell.execute_reply": "2024-11-13T21:50:19.136867Z"
    },
    "papermill": {
     "duration": 0.025731,
     "end_time": "2024-11-13T21:50:19.140436",
     "exception": false,
     "start_time": "2024-11-13T21:50:19.114705",
     "status": "completed"
    },
    "tags": []
   },
   "outputs": [],
   "source": [
    "params_lgb = {\n",
    "    'objective': 'l2',\n",
    "    'verbosity': -1,\n",
    "    'n_iter': 200,\n",
    "    'random_state': SEED,\n",
    "    'lambda_l1': 8.906831645766042,\n",
    "     'lambda_l2': 0.004591584170840488,\n",
    "     'learning_rate': 0.04874811806004515,\n",
    "     'max_depth': 6,\n",
    "     'num_leaves': 82,\n",
    "     'colsample_bytree': 0.6403876590762936,\n",
    "     'colsample_bynode': 0.49845692241164663,\n",
    "     'bagging_fraction': 0.55635165528929,\n",
    "     'bagging_freq': 1,\n",
    "     'min_data_in_leaf': 70,\n",
    "}\n",
    "\n",
    "params_xgb = {\n",
    "        'objective': 'reg:squarederror',\n",
    "        'verbosity': 0,\n",
    "        'n_estimators': 200,\n",
    "        'random_state': SEED,\n",
    "        'lambda': 1e-3,\n",
    "        'alpha': 1e-3,\n",
    "        'learning_rate': 1e-2,\n",
    "        'max_depth': 4,\n",
    "        'subsample': 0.5,\n",
    "        'colsample_bytree': 0.4,\n",
    "        'colsample_bylevel': 0.4,\n",
    "        'min_child_weight': 1,\n",
    "}\n",
    "\n",
    "params_rf= {\n",
    "        'n_estimators': 200,\n",
    "        'random_state': SEED,\n",
    "        'max_depth': 4,\n",
    "        'min_samples_split': 2,\n",
    "        'min_samples_leaf': 1,\n",
    "        'max_features': 0.5,\n",
    "        'bootstrap': True,\n",
    "}\n",
    "\n",
    "params_mlp = {\n",
    "        'hidden_layer_sizes': (100, 50), \n",
    "        'activation': 'relu',\n",
    "        'solver': 'adam',\n",
    "        'alpha': 0.053958855282467966,\n",
    "        'learning_rate': 'adaptive',\n",
    "        'random_state': SEED,\n",
    "        'max_iter': 200,\n",
    "}\n",
    "\n",
    "params_lgb.update(best_params_lgb)\n",
    "params_xgb.update(best_params_xgb)\n",
    "params_rf.update(best_params_rf)\n",
    "params_mlp.update(best_params_mlp)"
   ]
  },
  {
   "cell_type": "code",
   "execution_count": 28,
   "id": "3acee709",
   "metadata": {
    "execution": {
     "iopub.execute_input": "2024-11-13T21:50:19.167475Z",
     "iopub.status.busy": "2024-11-13T21:50:19.167051Z",
     "iopub.status.idle": "2024-11-13T21:50:19.177260Z",
     "shell.execute_reply": "2024-11-13T21:50:19.176107Z"
    },
    "papermill": {
     "duration": 0.02644,
     "end_time": "2024-11-13T21:50:19.179589",
     "exception": false,
     "start_time": "2024-11-13T21:50:19.153149",
     "status": "completed"
    },
    "tags": []
   },
   "outputs": [],
   "source": [
    "X = df.drop(['sii'], axis=1)\n",
    "y = df['sii']\n",
    "cv = StratifiedKFold(5, shuffle=True, random_state=SEED)"
   ]
  },
  {
   "cell_type": "code",
   "execution_count": 29,
   "id": "22b9f97b",
   "metadata": {
    "execution": {
     "iopub.execute_input": "2024-11-13T21:50:19.208416Z",
     "iopub.status.busy": "2024-11-13T21:50:19.208025Z",
     "iopub.status.idle": "2024-11-13T21:50:19.214084Z",
     "shell.execute_reply": "2024-11-13T21:50:19.212913Z"
    },
    "papermill": {
     "duration": 0.02339,
     "end_time": "2024-11-13T21:50:19.216470",
     "exception": false,
     "start_time": "2024-11-13T21:50:19.193080",
     "status": "completed"
    },
    "tags": []
   },
   "outputs": [],
   "source": [
    "model_lgb = CustomLGBMRegressor(**params_lgb)\n",
    "model_xgb = CustomXGBRegressor(**params_xgb)\n",
    "model_rf = CustomRFRegressor(**params_rf)\n",
    "model_mlp = CustomMLPRegressor(**params_mlp)"
   ]
  },
  {
   "cell_type": "code",
   "execution_count": 30,
   "id": "75bf9772",
   "metadata": {
    "execution": {
     "iopub.execute_input": "2024-11-13T21:50:19.243771Z",
     "iopub.status.busy": "2024-11-13T21:50:19.243323Z",
     "iopub.status.idle": "2024-11-13T21:51:07.976778Z",
     "shell.execute_reply": "2024-11-13T21:51:07.975312Z"
    },
    "papermill": {
     "duration": 48.776031,
     "end_time": "2024-11-13T21:51:08.005325",
     "exception": false,
     "start_time": "2024-11-13T21:50:19.229294",
     "status": "completed"
    },
    "tags": []
   },
   "outputs": [
    {
     "name": "stdout",
     "output_type": "stream",
     "text": [
      "LGBM Kappa score: 0.3989\n",
      "XGB Kappa score: 0.4058\n",
      "RF Kappa score: 0.4254\n",
      "MLP Kappa score: 0.3314\n"
     ]
    }
   ],
   "source": [
    "val_scores_lgb = cross_val_score(model_lgb, X, y, cv=cv, scoring=KAPPA_SCORER,)\n",
    "val_scores_xgb = cross_val_score(model_xgb, X, y, cv=cv, scoring=KAPPA_SCORER,)\n",
    "val_scores_rf = cross_val_score(model_rf, X, y, cv=cv, scoring=KAPPA_SCORER,)\n",
    "val_scores_mlp = cross_val_score(model_mlp, X, y, cv=cv, scoring=KAPPA_SCORER,)\n",
    "\n",
    "kappa_scores = {\n",
    "    'LGBM': np.mean(val_scores_lgb),\n",
    "    'XGB': np.mean(val_scores_xgb),\n",
    "    'RF': np.mean(val_scores_rf),\n",
    "    'MLP': np.mean(val_scores_mlp),\n",
    "}\n",
    "\n",
    "# Print all Kappa scores at once\n",
    "for model_name, kappa_score in kappa_scores.items():\n",
    "    print(f'{model_name} Kappa score: {kappa_score:.4f}')"
   ]
  },
  {
   "cell_type": "code",
   "execution_count": 31,
   "id": "3618b369",
   "metadata": {
    "execution": {
     "iopub.execute_input": "2024-11-13T21:51:08.072166Z",
     "iopub.status.busy": "2024-11-13T21:51:08.071594Z",
     "iopub.status.idle": "2024-11-13T21:51:17.799633Z",
     "shell.execute_reply": "2024-11-13T21:51:17.798149Z"
    },
    "papermill": {
     "duration": 9.752877,
     "end_time": "2024-11-13T21:51:17.802465",
     "exception": false,
     "start_time": "2024-11-13T21:51:08.049588",
     "status": "completed"
    },
    "tags": []
   },
   "outputs": [],
   "source": [
    "model_lgb.fit(X, y)\n",
    "model_xgb.fit(X, y)\n",
    "model_rf.fit(X, y)\n",
    "model_mlp.fit(X, y)"
   ]
  },
  {
   "cell_type": "code",
   "execution_count": 32,
   "id": "e13711dd",
   "metadata": {
    "execution": {
     "iopub.execute_input": "2024-11-13T21:51:17.830293Z",
     "iopub.status.busy": "2024-11-13T21:51:17.829883Z",
     "iopub.status.idle": "2024-11-13T21:51:17.993787Z",
     "shell.execute_reply": "2024-11-13T21:51:17.992512Z"
    },
    "papermill": {
     "duration": 0.182087,
     "end_time": "2024-11-13T21:51:17.997430",
     "exception": false,
     "start_time": "2024-11-13T21:51:17.815343",
     "status": "completed"
    },
    "tags": []
   },
   "outputs": [
    {
     "name": "stdout",
     "output_type": "stream",
     "text": [
      "LGBM predictions: [1 0 0 1 1 0 0 1 2 0]\n",
      "XGB predictions: [2 0 0 1 1 0 0 1 2 0]\n",
      "RF predictions: [1 0 0 0 1 0 0 1 1 0]\n",
      "MLP predictions: [0 0 0 0 1 0 0 1 1 0]\n"
     ]
    }
   ],
   "source": [
    "# Check individual model predictions\n",
    "y_pred_lgb = model_lgb.predict(X)\n",
    "y_pred_xgb = model_xgb.predict(X)\n",
    "y_pred_rf = model_rf.predict(X)\n",
    "y_pred_mlp = model_mlp.predict(X)\n",
    "\n",
    "# Print the first few predictions for each model to check for variance\n",
    "print(\"LGBM predictions:\", y_pred_lgb[:10])\n",
    "print(\"XGB predictions:\", y_pred_xgb[:10])\n",
    "print(\"RF predictions:\", y_pred_rf[:10])\n",
    "print(\"MLP predictions:\", y_pred_mlp[:10])"
   ]
  },
  {
   "cell_type": "code",
   "execution_count": 33,
   "id": "00936c92",
   "metadata": {
    "execution": {
     "iopub.execute_input": "2024-11-13T21:51:18.042546Z",
     "iopub.status.busy": "2024-11-13T21:51:18.041959Z",
     "iopub.status.idle": "2024-11-13T21:51:18.073872Z",
     "shell.execute_reply": "2024-11-13T21:51:18.072748Z"
    },
    "papermill": {
     "duration": 0.058243,
     "end_time": "2024-11-13T21:51:18.077254",
     "exception": false,
     "start_time": "2024-11-13T21:51:18.019011",
     "status": "completed"
    },
    "tags": []
   },
   "outputs": [
    {
     "name": "stdout",
     "output_type": "stream",
     "text": [
      "Majority Voting Kappa score: 0.7361\n"
     ]
    }
   ],
   "source": [
    "all_preds = np.array([y_pred_lgb, y_pred_xgb, y_pred_rf, y_pred_mlp])\n",
    "voted_preds = np.apply_along_axis(lambda x: np.bincount(x.astype(int)).argmax(), axis=0, arr=all_preds)\n",
    "kappa_score = cohen_kappa_score(y, voted_preds)\n",
    "print(f'Majority Voting Kappa score: {kappa_score:.4f}')"
   ]
  },
  {
   "cell_type": "markdown",
   "id": "932f0325",
   "metadata": {
    "papermill": {
     "duration": 0.017461,
     "end_time": "2024-11-13T21:51:18.116195",
     "exception": false,
     "start_time": "2024-11-13T21:51:18.098734",
     "status": "completed"
    },
    "tags": []
   },
   "source": [
    "# Seems the best model is the LGBM so far with a predicted score of 0.4719"
   ]
  },
  {
   "cell_type": "code",
   "execution_count": 34,
   "id": "ec2a8a2e",
   "metadata": {
    "execution": {
     "iopub.execute_input": "2024-11-13T21:51:18.143388Z",
     "iopub.status.busy": "2024-11-13T21:51:18.142985Z",
     "iopub.status.idle": "2024-11-13T21:51:18.147877Z",
     "shell.execute_reply": "2024-11-13T21:51:18.146580Z"
    },
    "papermill": {
     "duration": 0.021024,
     "end_time": "2024-11-13T21:51:18.150149",
     "exception": false,
     "start_time": "2024-11-13T21:51:18.129125",
     "status": "completed"
    },
    "tags": []
   },
   "outputs": [],
   "source": [
    "#model = model_lgb"
   ]
  },
  {
   "cell_type": "markdown",
   "id": "433a65ce",
   "metadata": {
    "papermill": {
     "duration": 0.01254,
     "end_time": "2024-11-13T21:51:18.175621",
     "exception": false,
     "start_time": "2024-11-13T21:51:18.163081",
     "status": "completed"
    },
    "tags": []
   },
   "source": [
    "# Submission "
   ]
  },
  {
   "cell_type": "code",
   "execution_count": 35,
   "id": "55c6bb10",
   "metadata": {
    "execution": {
     "iopub.execute_input": "2024-11-13T21:51:18.204349Z",
     "iopub.status.busy": "2024-11-13T21:51:18.203948Z",
     "iopub.status.idle": "2024-11-13T21:51:18.243472Z",
     "shell.execute_reply": "2024-11-13T21:51:18.242019Z"
    },
    "papermill": {
     "duration": 0.056975,
     "end_time": "2024-11-13T21:51:18.246587",
     "exception": false,
     "start_time": "2024-11-13T21:51:18.189612",
     "status": "completed"
    },
    "tags": []
   },
   "outputs": [
    {
     "name": "stdout",
     "output_type": "stream",
     "text": [
      "Test Shape : (20, 59)\n"
     ]
    }
   ],
   "source": [
    "test = update(test)\n",
    "\n",
    "for col in cat_c:\n",
    "    mapping_test = create_mapping(col, test)\n",
    "    test[col] = test[col].replace(mapping_test).astype(int)\n",
    "\n",
    "print(f'Test Shape : {test.shape}')"
   ]
  },
  {
   "cell_type": "code",
   "execution_count": 36,
   "id": "ffdda244",
   "metadata": {
    "execution": {
     "iopub.execute_input": "2024-11-13T21:51:18.274991Z",
     "iopub.status.busy": "2024-11-13T21:51:18.274550Z",
     "iopub.status.idle": "2024-11-13T21:51:18.294019Z",
     "shell.execute_reply": "2024-11-13T21:51:18.292849Z"
    },
    "papermill": {
     "duration": 0.036608,
     "end_time": "2024-11-13T21:51:18.296810",
     "exception": false,
     "start_time": "2024-11-13T21:51:18.260202",
     "status": "completed"
    },
    "tags": []
   },
   "outputs": [],
   "source": [
    "numeric_columns = test.select_dtypes(include=['float64', 'int64']).columns\n",
    "test[numeric_columns] = imputer.fit_transform(test[numeric_columns])"
   ]
  },
  {
   "cell_type": "code",
   "execution_count": 37,
   "id": "a69de71c",
   "metadata": {
    "execution": {
     "iopub.execute_input": "2024-11-13T21:51:18.325450Z",
     "iopub.status.busy": "2024-11-13T21:51:18.324851Z",
     "iopub.status.idle": "2024-11-13T21:51:18.334663Z",
     "shell.execute_reply": "2024-11-13T21:51:18.333646Z"
    },
    "papermill": {
     "duration": 0.026896,
     "end_time": "2024-11-13T21:51:18.337331",
     "exception": false,
     "start_time": "2024-11-13T21:51:18.310435",
     "status": "completed"
    },
    "tags": []
   },
   "outputs": [],
   "source": [
    "Submission = test[['id']]\n",
    "test = test.drop('id', axis=1)"
   ]
  },
  {
   "cell_type": "code",
   "execution_count": 38,
   "id": "ca449ee7",
   "metadata": {
    "execution": {
     "iopub.execute_input": "2024-11-13T21:51:18.366078Z",
     "iopub.status.busy": "2024-11-13T21:51:18.365618Z",
     "iopub.status.idle": "2024-11-13T21:51:18.399907Z",
     "shell.execute_reply": "2024-11-13T21:51:18.398874Z"
    },
    "papermill": {
     "duration": 0.05245,
     "end_time": "2024-11-13T21:51:18.402918",
     "exception": false,
     "start_time": "2024-11-13T21:51:18.350468",
     "status": "completed"
    },
    "tags": []
   },
   "outputs": [],
   "source": [
    "y_pred_lgb = model_lgb.predict(test)\n",
    "y_pred_xgb = model_xgb.predict(test)\n",
    "y_pred_rf = model_rf.predict(test)\n",
    "y_pred_mlp = model_mlp.predict(test)"
   ]
  },
  {
   "cell_type": "code",
   "execution_count": 39,
   "id": "89d4543f",
   "metadata": {
    "execution": {
     "iopub.execute_input": "2024-11-13T21:51:18.431599Z",
     "iopub.status.busy": "2024-11-13T21:51:18.431198Z",
     "iopub.status.idle": "2024-11-13T21:51:18.437833Z",
     "shell.execute_reply": "2024-11-13T21:51:18.436679Z"
    },
    "papermill": {
     "duration": 0.023784,
     "end_time": "2024-11-13T21:51:18.440183",
     "exception": false,
     "start_time": "2024-11-13T21:51:18.416399",
     "status": "completed"
    },
    "tags": []
   },
   "outputs": [],
   "source": [
    "all_preds = np.array([y_pred_lgb, y_pred_xgb, y_pred_rf, y_pred_mlp])\n",
    "voted_preds = np.apply_along_axis(lambda x: np.bincount(x.astype(int)).argmax(), axis=0, arr=all_preds)"
   ]
  },
  {
   "cell_type": "code",
   "execution_count": 40,
   "id": "89c47720",
   "metadata": {
    "execution": {
     "iopub.execute_input": "2024-11-13T21:51:18.469696Z",
     "iopub.status.busy": "2024-11-13T21:51:18.469305Z",
     "iopub.status.idle": "2024-11-13T21:51:18.476955Z",
     "shell.execute_reply": "2024-11-13T21:51:18.475594Z"
    },
    "papermill": {
     "duration": 0.025627,
     "end_time": "2024-11-13T21:51:18.479411",
     "exception": false,
     "start_time": "2024-11-13T21:51:18.453784",
     "status": "completed"
    },
    "tags": []
   },
   "outputs": [
    {
     "data": {
      "text/plain": [
       "array([1, 0, 0, 0, 0, 1, 0, 0, 1, 0, 0, 0, 1, 1, 0, 1, 0, 0, 0, 0])"
      ]
     },
     "execution_count": 40,
     "metadata": {},
     "output_type": "execute_result"
    }
   ],
   "source": [
    "voted_preds"
   ]
  },
  {
   "cell_type": "code",
   "execution_count": 41,
   "id": "d267c88c",
   "metadata": {
    "execution": {
     "iopub.execute_input": "2024-11-13T21:51:18.508680Z",
     "iopub.status.busy": "2024-11-13T21:51:18.508258Z",
     "iopub.status.idle": "2024-11-13T21:51:18.515609Z",
     "shell.execute_reply": "2024-11-13T21:51:18.514071Z"
    },
    "papermill": {
     "duration": 0.025143,
     "end_time": "2024-11-13T21:51:18.518532",
     "exception": false,
     "start_time": "2024-11-13T21:51:18.493389",
     "status": "completed"
    },
    "tags": []
   },
   "outputs": [],
   "source": [
    "#Submission['sii'] = model.predict(test)\n",
    "Submission['sii'] = voted_preds"
   ]
  },
  {
   "cell_type": "code",
   "execution_count": 42,
   "id": "36eff432",
   "metadata": {
    "execution": {
     "iopub.execute_input": "2024-11-13T21:51:18.549528Z",
     "iopub.status.busy": "2024-11-13T21:51:18.549066Z",
     "iopub.status.idle": "2024-11-13T21:51:18.561159Z",
     "shell.execute_reply": "2024-11-13T21:51:18.559830Z"
    },
    "papermill": {
     "duration": 0.029528,
     "end_time": "2024-11-13T21:51:18.563630",
     "exception": false,
     "start_time": "2024-11-13T21:51:18.534102",
     "status": "completed"
    },
    "tags": []
   },
   "outputs": [
    {
     "data": {
      "text/html": [
       "<div>\n",
       "<style scoped>\n",
       "    .dataframe tbody tr th:only-of-type {\n",
       "        vertical-align: middle;\n",
       "    }\n",
       "\n",
       "    .dataframe tbody tr th {\n",
       "        vertical-align: top;\n",
       "    }\n",
       "\n",
       "    .dataframe thead th {\n",
       "        text-align: right;\n",
       "    }\n",
       "</style>\n",
       "<table border=\"1\" class=\"dataframe\">\n",
       "  <thead>\n",
       "    <tr style=\"text-align: right;\">\n",
       "      <th></th>\n",
       "      <th>id</th>\n",
       "      <th>sii</th>\n",
       "    </tr>\n",
       "  </thead>\n",
       "  <tbody>\n",
       "    <tr>\n",
       "      <th>0</th>\n",
       "      <td>00008ff9</td>\n",
       "      <td>1</td>\n",
       "    </tr>\n",
       "    <tr>\n",
       "      <th>1</th>\n",
       "      <td>000fd460</td>\n",
       "      <td>0</td>\n",
       "    </tr>\n",
       "    <tr>\n",
       "      <th>2</th>\n",
       "      <td>00105258</td>\n",
       "      <td>0</td>\n",
       "    </tr>\n",
       "    <tr>\n",
       "      <th>3</th>\n",
       "      <td>00115b9f</td>\n",
       "      <td>0</td>\n",
       "    </tr>\n",
       "    <tr>\n",
       "      <th>4</th>\n",
       "      <td>0016bb22</td>\n",
       "      <td>0</td>\n",
       "    </tr>\n",
       "    <tr>\n",
       "      <th>5</th>\n",
       "      <td>001f3379</td>\n",
       "      <td>1</td>\n",
       "    </tr>\n",
       "    <tr>\n",
       "      <th>6</th>\n",
       "      <td>0038ba98</td>\n",
       "      <td>0</td>\n",
       "    </tr>\n",
       "    <tr>\n",
       "      <th>7</th>\n",
       "      <td>0068a485</td>\n",
       "      <td>0</td>\n",
       "    </tr>\n",
       "    <tr>\n",
       "      <th>8</th>\n",
       "      <td>0069fbed</td>\n",
       "      <td>1</td>\n",
       "    </tr>\n",
       "    <tr>\n",
       "      <th>9</th>\n",
       "      <td>0083e397</td>\n",
       "      <td>0</td>\n",
       "    </tr>\n",
       "    <tr>\n",
       "      <th>10</th>\n",
       "      <td>0087dd65</td>\n",
       "      <td>0</td>\n",
       "    </tr>\n",
       "    <tr>\n",
       "      <th>11</th>\n",
       "      <td>00abe655</td>\n",
       "      <td>0</td>\n",
       "    </tr>\n",
       "    <tr>\n",
       "      <th>12</th>\n",
       "      <td>00ae59c9</td>\n",
       "      <td>1</td>\n",
       "    </tr>\n",
       "    <tr>\n",
       "      <th>13</th>\n",
       "      <td>00af6387</td>\n",
       "      <td>1</td>\n",
       "    </tr>\n",
       "    <tr>\n",
       "      <th>14</th>\n",
       "      <td>00bd4359</td>\n",
       "      <td>0</td>\n",
       "    </tr>\n",
       "    <tr>\n",
       "      <th>15</th>\n",
       "      <td>00c0cd71</td>\n",
       "      <td>1</td>\n",
       "    </tr>\n",
       "    <tr>\n",
       "      <th>16</th>\n",
       "      <td>00d56d4b</td>\n",
       "      <td>0</td>\n",
       "    </tr>\n",
       "    <tr>\n",
       "      <th>17</th>\n",
       "      <td>00d9913d</td>\n",
       "      <td>0</td>\n",
       "    </tr>\n",
       "    <tr>\n",
       "      <th>18</th>\n",
       "      <td>00e6167c</td>\n",
       "      <td>0</td>\n",
       "    </tr>\n",
       "    <tr>\n",
       "      <th>19</th>\n",
       "      <td>00ebc35d</td>\n",
       "      <td>0</td>\n",
       "    </tr>\n",
       "  </tbody>\n",
       "</table>\n",
       "</div>"
      ],
      "text/plain": [
       "          id  sii\n",
       "0   00008ff9    1\n",
       "1   000fd460    0\n",
       "2   00105258    0\n",
       "3   00115b9f    0\n",
       "4   0016bb22    0\n",
       "5   001f3379    1\n",
       "6   0038ba98    0\n",
       "7   0068a485    0\n",
       "8   0069fbed    1\n",
       "9   0083e397    0\n",
       "10  0087dd65    0\n",
       "11  00abe655    0\n",
       "12  00ae59c9    1\n",
       "13  00af6387    1\n",
       "14  00bd4359    0\n",
       "15  00c0cd71    1\n",
       "16  00d56d4b    0\n",
       "17  00d9913d    0\n",
       "18  00e6167c    0\n",
       "19  00ebc35d    0"
      ]
     },
     "execution_count": 42,
     "metadata": {},
     "output_type": "execute_result"
    }
   ],
   "source": [
    "Submission"
   ]
  },
  {
   "cell_type": "code",
   "execution_count": 43,
   "id": "daf6d4d5",
   "metadata": {
    "execution": {
     "iopub.execute_input": "2024-11-13T21:51:18.593597Z",
     "iopub.status.busy": "2024-11-13T21:51:18.593169Z",
     "iopub.status.idle": "2024-11-13T21:51:18.606753Z",
     "shell.execute_reply": "2024-11-13T21:51:18.604890Z"
    },
    "papermill": {
     "duration": 0.032375,
     "end_time": "2024-11-13T21:51:18.609808",
     "exception": false,
     "start_time": "2024-11-13T21:51:18.577433",
     "status": "completed"
    },
    "tags": []
   },
   "outputs": [
    {
     "name": "stdout",
     "output_type": "stream",
     "text": [
      "sii\n",
      "0    14\n",
      "1     6\n",
      "Name: count, dtype: int64\n"
     ]
    }
   ],
   "source": [
    "Submission.to_csv('submission.csv', index=False)\n",
    "print(Submission['sii'].value_counts())"
   ]
  }
 ],
 "metadata": {
  "kaggle": {
   "accelerator": "none",
   "dataSources": [
    {
     "databundleVersionId": 9643020,
     "sourceId": 81933,
     "sourceType": "competition"
    },
    {
     "datasetId": 6047696,
     "sourceId": 9855098,
     "sourceType": "datasetVersion"
    }
   ],
   "dockerImageVersionId": 30786,
   "isGpuEnabled": false,
   "isInternetEnabled": false,
   "language": "python",
   "sourceType": "notebook"
  },
  "kernelspec": {
   "display_name": "Python 3",
   "language": "python",
   "name": "python3"
  },
  "language_info": {
   "codemirror_mode": {
    "name": "ipython",
    "version": 3
   },
   "file_extension": ".py",
   "mimetype": "text/x-python",
   "name": "python",
   "nbconvert_exporter": "python",
   "pygments_lexer": "ipython3",
   "version": "3.10.14"
  },
  "papermill": {
   "default_parameters": {},
   "duration": 70.370265,
   "end_time": "2024-11-13T21:51:19.448941",
   "environment_variables": {},
   "exception": null,
   "input_path": "__notebook__.ipynb",
   "output_path": "__notebook__.ipynb",
   "parameters": {},
   "start_time": "2024-11-13T21:50:09.078676",
   "version": "2.6.0"
  }
 },
 "nbformat": 4,
 "nbformat_minor": 5
}
